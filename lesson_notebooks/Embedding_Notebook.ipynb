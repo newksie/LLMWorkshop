{
 "cells": [
  {
   "cell_type": "markdown",
   "metadata": {},
   "source": [
    "Embeddings"
   ]
  },
  {
   "cell_type": "code",
   "execution_count": null,
   "metadata": {},
   "outputs": [],
   "source": [
    "# !python -m spacy download en_core_web_lg"
   ]
  },
  {
   "cell_type": "code",
   "execution_count": 1,
   "metadata": {},
   "outputs": [
    {
     "name": "stderr",
     "output_type": "stream",
     "text": [
      "/Users/olinewcombe/Documents/GitHub/LLMWorkshop/.venv/lib/python3.12/site-packages/tqdm/auto.py:21: TqdmWarning: IProgress not found. Please update jupyter and ipywidgets. See https://ipywidgets.readthedocs.io/en/stable/user_install.html\n",
      "  from .autonotebook import tqdm as notebook_tqdm\n"
     ]
    }
   ],
   "source": [
    "from embedding_utils import *"
   ]
  },
  {
   "cell_type": "code",
   "execution_count": 2,
   "metadata": {},
   "outputs": [
    {
     "data": {
      "text/html": [
       "<div>\n",
       "<style scoped>\n",
       "    .dataframe tbody tr th:only-of-type {\n",
       "        vertical-align: middle;\n",
       "    }\n",
       "\n",
       "    .dataframe tbody tr th {\n",
       "        vertical-align: top;\n",
       "    }\n",
       "\n",
       "    .dataframe thead th {\n",
       "        text-align: right;\n",
       "    }\n",
       "</style>\n",
       "<table border=\"1\" class=\"dataframe\">\n",
       "  <thead>\n",
       "    <tr style=\"text-align: right;\">\n",
       "      <th></th>\n",
       "      <th>Dog</th>\n",
       "      <th>Cat</th>\n",
       "      <th>Banana</th>\n",
       "      <th>Apple</th>\n",
       "    </tr>\n",
       "  </thead>\n",
       "  <tbody>\n",
       "    <tr>\n",
       "      <th>Dog</th>\n",
       "      <td>1.000000</td>\n",
       "      <td>0.822082</td>\n",
       "      <td>0.209090</td>\n",
       "      <td>0.228810</td>\n",
       "    </tr>\n",
       "    <tr>\n",
       "      <th>Cat</th>\n",
       "      <td>0.822082</td>\n",
       "      <td>1.000000</td>\n",
       "      <td>0.223588</td>\n",
       "      <td>0.203681</td>\n",
       "    </tr>\n",
       "    <tr>\n",
       "      <th>Banana</th>\n",
       "      <td>0.209090</td>\n",
       "      <td>0.223588</td>\n",
       "      <td>1.000000</td>\n",
       "      <td>0.664670</td>\n",
       "    </tr>\n",
       "    <tr>\n",
       "      <th>Apple</th>\n",
       "      <td>0.228810</td>\n",
       "      <td>0.203681</td>\n",
       "      <td>0.664670</td>\n",
       "      <td>1.000000</td>\n",
       "    </tr>\n",
       "  </tbody>\n",
       "</table>\n",
       "</div>"
      ],
      "text/plain": [
       "             Dog       Cat    Banana     Apple\n",
       "Dog     1.000000  0.822082  0.209090  0.228810\n",
       "Cat     0.822082  1.000000  0.223588  0.203681\n",
       "Banana  0.209090  0.223588  1.000000  0.664670\n",
       "Apple   0.228810  0.203681  0.664670  1.000000"
      ]
     },
     "execution_count": 2,
     "metadata": {},
     "output_type": "execute_result"
    }
   ],
   "source": [
    "doc = nlp(\"dog cat banana apple\")\n",
    "\n",
    "similarities = np.zeros((4, 4))\n",
    "\n",
    "for i, token1 in enumerate(doc):\n",
    "    for j, token2 in enumerate(doc):\n",
    "        similarities[i, j] = token1.similarity(\n",
    "            token2\n",
    "        )  # computes the cosine similarity\n",
    "\n",
    "pd.DataFrame(\n",
    "    similarities,\n",
    "    index=[\"Dog\", \"Cat\", \"Banana\", \"Apple\"],\n",
    "    columns=[\"Dog\", \"Cat\", \"Banana\", \"Apple\"],\n",
    ")"
   ]
  },
  {
   "cell_type": "code",
   "execution_count": 3,
   "metadata": {},
   "outputs": [
    {
     "data": {
      "text/html": [
       "        <script type=\"text/javascript\">\n",
       "        window.PlotlyConfig = {MathJaxConfig: 'local'};\n",
       "        if (window.MathJax && window.MathJax.Hub && window.MathJax.Hub.Config) {window.MathJax.Hub.Config({SVG: {font: \"STIX-Web\"}});}\n",
       "        if (typeof require !== 'undefined') {\n",
       "        require.undef(\"plotly\");\n",
       "        requirejs.config({\n",
       "            paths: {\n",
       "                'plotly': ['https://cdn.plot.ly/plotly-2.35.2.min']\n",
       "            }\n",
       "        });\n",
       "        require(['plotly'], function(Plotly) {\n",
       "            window._Plotly = Plotly;\n",
       "        });\n",
       "        }\n",
       "        </script>\n",
       "        "
      ]
     },
     "metadata": {},
     "output_type": "display_data"
    },
    {
     "data": {
      "application/vnd.plotly.v1+json": {
       "config": {
        "displayModeBar": false,
        "linkText": "Export to plot.ly",
        "plotlyServerURL": "https://plot.ly",
        "showLink": false
       },
       "data": [
        {
         "marker": {
          "line": {
           "color": "white",
           "width": 0.5
          },
          "size": 15
         },
         "mode": "markers",
         "name": "tweet",
         "opacity": 0.7,
         "text": [
          "tweet"
         ],
         "type": "scatter",
         "x": [
          29.33083152770996
         ],
         "y": [
          33.30270004272461
         ]
        },
        {
         "marker": {
          "line": {
           "color": "white",
           "width": 0.5
          },
          "size": 15
         },
         "mode": "markers",
         "name": "meow",
         "opacity": 0.7,
         "text": [
          "meow"
         ],
         "type": "scatter",
         "x": [
          10.335344314575195
         ],
         "y": [
          4.749476909637451
         ]
        },
        {
         "marker": {
          "line": {
           "color": "white",
           "width": 0.5
          },
          "size": 15
         },
         "mode": "markers",
         "name": "dog",
         "opacity": 0.7,
         "text": [
          "dog"
         ],
         "type": "scatter",
         "x": [
          -50.488792419433594
         ],
         "y": [
          13.08315658569336
         ]
        },
        {
         "marker": {
          "line": {
           "color": "white",
           "width": 0.5
          },
          "size": 15
         },
         "mode": "markers",
         "name": "woof",
         "opacity": 0.7,
         "text": [
          "woof"
         ],
         "type": "scatter",
         "x": [
          15.963226318359375
         ],
         "y": [
          5.895839691162109
         ]
        },
        {
         "marker": {
          "line": {
           "color": "white",
           "width": 0.5
          },
          "size": 15
         },
         "mode": "markers",
         "name": "neigh",
         "opacity": 0.7,
         "text": [
          "neigh"
         ],
         "type": "scatter",
         "x": [
          12.04957389831543
         ],
         "y": [
          3.63761043548584
         ]
        },
        {
         "marker": {
          "line": {
           "color": "white",
           "width": 0.5
          },
          "size": 15
         },
         "mode": "markers",
         "name": "lion",
         "opacity": 0.7,
         "text": [
          "lion"
         ],
         "type": "scatter",
         "x": [
          5.079667568206787
         ],
         "y": [
          -33.65717697143555
         ]
        },
        {
         "marker": {
          "line": {
           "color": "white",
           "width": 0.5
          },
          "size": 15
         },
         "mode": "markers",
         "name": "horse",
         "opacity": 0.7,
         "text": [
          "horse"
         ],
         "type": "scatter",
         "x": [
          -3.859805107116699
         ],
         "y": [
          -8.646032333374023
         ]
        },
        {
         "marker": {
          "line": {
           "color": "white",
           "width": 0.5
          },
          "size": 15
         },
         "mode": "markers",
         "name": "roar",
         "opacity": 0.7,
         "text": [
          "roar"
         ],
         "type": "scatter",
         "x": [
          23.90964698791504
         ],
         "y": [
          -10.255681991577148
         ]
        },
        {
         "marker": {
          "line": {
           "color": "white",
           "width": 0.5
          },
          "size": 15
         },
         "mode": "markers",
         "name": "bird",
         "opacity": 0.7,
         "text": [
          "bird"
         ],
         "type": "scatter",
         "x": [
          -7.2083353996276855
         ],
         "y": [
          -14.522554397583008
         ]
        },
        {
         "marker": {
          "line": {
           "color": "white",
           "width": 0.5
          },
          "size": 15
         },
         "mode": "markers",
         "name": "cat",
         "opacity": 0.7,
         "text": [
          "cat"
         ],
         "type": "scatter",
         "x": [
          -35.11137390136719
         ],
         "y": [
          6.412666320800781
         ]
        }
       ],
       "layout": {
        "hovermode": "closest",
        "template": {
         "data": {
          "bar": [
           {
            "error_x": {
             "color": "#2a3f5f"
            },
            "error_y": {
             "color": "#2a3f5f"
            },
            "marker": {
             "line": {
              "color": "#E5ECF6",
              "width": 0.5
             },
             "pattern": {
              "fillmode": "overlay",
              "size": 10,
              "solidity": 0.2
             }
            },
            "type": "bar"
           }
          ],
          "barpolar": [
           {
            "marker": {
             "line": {
              "color": "#E5ECF6",
              "width": 0.5
             },
             "pattern": {
              "fillmode": "overlay",
              "size": 10,
              "solidity": 0.2
             }
            },
            "type": "barpolar"
           }
          ],
          "carpet": [
           {
            "aaxis": {
             "endlinecolor": "#2a3f5f",
             "gridcolor": "white",
             "linecolor": "white",
             "minorgridcolor": "white",
             "startlinecolor": "#2a3f5f"
            },
            "baxis": {
             "endlinecolor": "#2a3f5f",
             "gridcolor": "white",
             "linecolor": "white",
             "minorgridcolor": "white",
             "startlinecolor": "#2a3f5f"
            },
            "type": "carpet"
           }
          ],
          "choropleth": [
           {
            "colorbar": {
             "outlinewidth": 0,
             "ticks": ""
            },
            "type": "choropleth"
           }
          ],
          "contour": [
           {
            "colorbar": {
             "outlinewidth": 0,
             "ticks": ""
            },
            "colorscale": [
             [
              0,
              "#0d0887"
             ],
             [
              0.1111111111111111,
              "#46039f"
             ],
             [
              0.2222222222222222,
              "#7201a8"
             ],
             [
              0.3333333333333333,
              "#9c179e"
             ],
             [
              0.4444444444444444,
              "#bd3786"
             ],
             [
              0.5555555555555556,
              "#d8576b"
             ],
             [
              0.6666666666666666,
              "#ed7953"
             ],
             [
              0.7777777777777778,
              "#fb9f3a"
             ],
             [
              0.8888888888888888,
              "#fdca26"
             ],
             [
              1,
              "#f0f921"
             ]
            ],
            "type": "contour"
           }
          ],
          "contourcarpet": [
           {
            "colorbar": {
             "outlinewidth": 0,
             "ticks": ""
            },
            "type": "contourcarpet"
           }
          ],
          "heatmap": [
           {
            "colorbar": {
             "outlinewidth": 0,
             "ticks": ""
            },
            "colorscale": [
             [
              0,
              "#0d0887"
             ],
             [
              0.1111111111111111,
              "#46039f"
             ],
             [
              0.2222222222222222,
              "#7201a8"
             ],
             [
              0.3333333333333333,
              "#9c179e"
             ],
             [
              0.4444444444444444,
              "#bd3786"
             ],
             [
              0.5555555555555556,
              "#d8576b"
             ],
             [
              0.6666666666666666,
              "#ed7953"
             ],
             [
              0.7777777777777778,
              "#fb9f3a"
             ],
             [
              0.8888888888888888,
              "#fdca26"
             ],
             [
              1,
              "#f0f921"
             ]
            ],
            "type": "heatmap"
           }
          ],
          "heatmapgl": [
           {
            "colorbar": {
             "outlinewidth": 0,
             "ticks": ""
            },
            "colorscale": [
             [
              0,
              "#0d0887"
             ],
             [
              0.1111111111111111,
              "#46039f"
             ],
             [
              0.2222222222222222,
              "#7201a8"
             ],
             [
              0.3333333333333333,
              "#9c179e"
             ],
             [
              0.4444444444444444,
              "#bd3786"
             ],
             [
              0.5555555555555556,
              "#d8576b"
             ],
             [
              0.6666666666666666,
              "#ed7953"
             ],
             [
              0.7777777777777778,
              "#fb9f3a"
             ],
             [
              0.8888888888888888,
              "#fdca26"
             ],
             [
              1,
              "#f0f921"
             ]
            ],
            "type": "heatmapgl"
           }
          ],
          "histogram": [
           {
            "marker": {
             "pattern": {
              "fillmode": "overlay",
              "size": 10,
              "solidity": 0.2
             }
            },
            "type": "histogram"
           }
          ],
          "histogram2d": [
           {
            "colorbar": {
             "outlinewidth": 0,
             "ticks": ""
            },
            "colorscale": [
             [
              0,
              "#0d0887"
             ],
             [
              0.1111111111111111,
              "#46039f"
             ],
             [
              0.2222222222222222,
              "#7201a8"
             ],
             [
              0.3333333333333333,
              "#9c179e"
             ],
             [
              0.4444444444444444,
              "#bd3786"
             ],
             [
              0.5555555555555556,
              "#d8576b"
             ],
             [
              0.6666666666666666,
              "#ed7953"
             ],
             [
              0.7777777777777778,
              "#fb9f3a"
             ],
             [
              0.8888888888888888,
              "#fdca26"
             ],
             [
              1,
              "#f0f921"
             ]
            ],
            "type": "histogram2d"
           }
          ],
          "histogram2dcontour": [
           {
            "colorbar": {
             "outlinewidth": 0,
             "ticks": ""
            },
            "colorscale": [
             [
              0,
              "#0d0887"
             ],
             [
              0.1111111111111111,
              "#46039f"
             ],
             [
              0.2222222222222222,
              "#7201a8"
             ],
             [
              0.3333333333333333,
              "#9c179e"
             ],
             [
              0.4444444444444444,
              "#bd3786"
             ],
             [
              0.5555555555555556,
              "#d8576b"
             ],
             [
              0.6666666666666666,
              "#ed7953"
             ],
             [
              0.7777777777777778,
              "#fb9f3a"
             ],
             [
              0.8888888888888888,
              "#fdca26"
             ],
             [
              1,
              "#f0f921"
             ]
            ],
            "type": "histogram2dcontour"
           }
          ],
          "mesh3d": [
           {
            "colorbar": {
             "outlinewidth": 0,
             "ticks": ""
            },
            "type": "mesh3d"
           }
          ],
          "parcoords": [
           {
            "line": {
             "colorbar": {
              "outlinewidth": 0,
              "ticks": ""
             }
            },
            "type": "parcoords"
           }
          ],
          "pie": [
           {
            "automargin": true,
            "type": "pie"
           }
          ],
          "scatter": [
           {
            "fillpattern": {
             "fillmode": "overlay",
             "size": 10,
             "solidity": 0.2
            },
            "type": "scatter"
           }
          ],
          "scatter3d": [
           {
            "line": {
             "colorbar": {
              "outlinewidth": 0,
              "ticks": ""
             }
            },
            "marker": {
             "colorbar": {
              "outlinewidth": 0,
              "ticks": ""
             }
            },
            "type": "scatter3d"
           }
          ],
          "scattercarpet": [
           {
            "marker": {
             "colorbar": {
              "outlinewidth": 0,
              "ticks": ""
             }
            },
            "type": "scattercarpet"
           }
          ],
          "scattergeo": [
           {
            "marker": {
             "colorbar": {
              "outlinewidth": 0,
              "ticks": ""
             }
            },
            "type": "scattergeo"
           }
          ],
          "scattergl": [
           {
            "marker": {
             "colorbar": {
              "outlinewidth": 0,
              "ticks": ""
             }
            },
            "type": "scattergl"
           }
          ],
          "scattermapbox": [
           {
            "marker": {
             "colorbar": {
              "outlinewidth": 0,
              "ticks": ""
             }
            },
            "type": "scattermapbox"
           }
          ],
          "scatterpolar": [
           {
            "marker": {
             "colorbar": {
              "outlinewidth": 0,
              "ticks": ""
             }
            },
            "type": "scatterpolar"
           }
          ],
          "scatterpolargl": [
           {
            "marker": {
             "colorbar": {
              "outlinewidth": 0,
              "ticks": ""
             }
            },
            "type": "scatterpolargl"
           }
          ],
          "scatterternary": [
           {
            "marker": {
             "colorbar": {
              "outlinewidth": 0,
              "ticks": ""
             }
            },
            "type": "scatterternary"
           }
          ],
          "surface": [
           {
            "colorbar": {
             "outlinewidth": 0,
             "ticks": ""
            },
            "colorscale": [
             [
              0,
              "#0d0887"
             ],
             [
              0.1111111111111111,
              "#46039f"
             ],
             [
              0.2222222222222222,
              "#7201a8"
             ],
             [
              0.3333333333333333,
              "#9c179e"
             ],
             [
              0.4444444444444444,
              "#bd3786"
             ],
             [
              0.5555555555555556,
              "#d8576b"
             ],
             [
              0.6666666666666666,
              "#ed7953"
             ],
             [
              0.7777777777777778,
              "#fb9f3a"
             ],
             [
              0.8888888888888888,
              "#fdca26"
             ],
             [
              1,
              "#f0f921"
             ]
            ],
            "type": "surface"
           }
          ],
          "table": [
           {
            "cells": {
             "fill": {
              "color": "#EBF0F8"
             },
             "line": {
              "color": "white"
             }
            },
            "header": {
             "fill": {
              "color": "#C8D4E3"
             },
             "line": {
              "color": "white"
             }
            },
            "type": "table"
           }
          ]
         },
         "layout": {
          "annotationdefaults": {
           "arrowcolor": "#2a3f5f",
           "arrowhead": 0,
           "arrowwidth": 1
          },
          "autotypenumbers": "strict",
          "coloraxis": {
           "colorbar": {
            "outlinewidth": 0,
            "ticks": ""
           }
          },
          "colorscale": {
           "diverging": [
            [
             0,
             "#8e0152"
            ],
            [
             0.1,
             "#c51b7d"
            ],
            [
             0.2,
             "#de77ae"
            ],
            [
             0.3,
             "#f1b6da"
            ],
            [
             0.4,
             "#fde0ef"
            ],
            [
             0.5,
             "#f7f7f7"
            ],
            [
             0.6,
             "#e6f5d0"
            ],
            [
             0.7,
             "#b8e186"
            ],
            [
             0.8,
             "#7fbc41"
            ],
            [
             0.9,
             "#4d9221"
            ],
            [
             1,
             "#276419"
            ]
           ],
           "sequential": [
            [
             0,
             "#0d0887"
            ],
            [
             0.1111111111111111,
             "#46039f"
            ],
            [
             0.2222222222222222,
             "#7201a8"
            ],
            [
             0.3333333333333333,
             "#9c179e"
            ],
            [
             0.4444444444444444,
             "#bd3786"
            ],
            [
             0.5555555555555556,
             "#d8576b"
            ],
            [
             0.6666666666666666,
             "#ed7953"
            ],
            [
             0.7777777777777778,
             "#fb9f3a"
            ],
            [
             0.8888888888888888,
             "#fdca26"
            ],
            [
             1,
             "#f0f921"
            ]
           ],
           "sequentialminus": [
            [
             0,
             "#0d0887"
            ],
            [
             0.1111111111111111,
             "#46039f"
            ],
            [
             0.2222222222222222,
             "#7201a8"
            ],
            [
             0.3333333333333333,
             "#9c179e"
            ],
            [
             0.4444444444444444,
             "#bd3786"
            ],
            [
             0.5555555555555556,
             "#d8576b"
            ],
            [
             0.6666666666666666,
             "#ed7953"
            ],
            [
             0.7777777777777778,
             "#fb9f3a"
            ],
            [
             0.8888888888888888,
             "#fdca26"
            ],
            [
             1,
             "#f0f921"
            ]
           ]
          },
          "colorway": [
           "#636efa",
           "#EF553B",
           "#00cc96",
           "#ab63fa",
           "#FFA15A",
           "#19d3f3",
           "#FF6692",
           "#B6E880",
           "#FF97FF",
           "#FECB52"
          ],
          "font": {
           "color": "#2a3f5f"
          },
          "geo": {
           "bgcolor": "white",
           "lakecolor": "white",
           "landcolor": "#E5ECF6",
           "showlakes": true,
           "showland": true,
           "subunitcolor": "white"
          },
          "hoverlabel": {
           "align": "left"
          },
          "hovermode": "closest",
          "mapbox": {
           "style": "light"
          },
          "paper_bgcolor": "white",
          "plot_bgcolor": "#E5ECF6",
          "polar": {
           "angularaxis": {
            "gridcolor": "white",
            "linecolor": "white",
            "ticks": ""
           },
           "bgcolor": "#E5ECF6",
           "radialaxis": {
            "gridcolor": "white",
            "linecolor": "white",
            "ticks": ""
           }
          },
          "scene": {
           "xaxis": {
            "backgroundcolor": "#E5ECF6",
            "gridcolor": "white",
            "gridwidth": 2,
            "linecolor": "white",
            "showbackground": true,
            "ticks": "",
            "zerolinecolor": "white"
           },
           "yaxis": {
            "backgroundcolor": "#E5ECF6",
            "gridcolor": "white",
            "gridwidth": 2,
            "linecolor": "white",
            "showbackground": true,
            "ticks": "",
            "zerolinecolor": "white"
           },
           "zaxis": {
            "backgroundcolor": "#E5ECF6",
            "gridcolor": "white",
            "gridwidth": 2,
            "linecolor": "white",
            "showbackground": true,
            "ticks": "",
            "zerolinecolor": "white"
           }
          },
          "shapedefaults": {
           "line": {
            "color": "#2a3f5f"
           }
          },
          "ternary": {
           "aaxis": {
            "gridcolor": "white",
            "linecolor": "white",
            "ticks": ""
           },
           "baxis": {
            "gridcolor": "white",
            "linecolor": "white",
            "ticks": ""
           },
           "bgcolor": "#E5ECF6",
           "caxis": {
            "gridcolor": "white",
            "linecolor": "white",
            "ticks": ""
           }
          },
          "title": {
           "x": 0.05
          },
          "xaxis": {
           "automargin": true,
           "gridcolor": "white",
           "linecolor": "white",
           "ticks": "",
           "title": {
            "standoff": 15
           },
           "zerolinecolor": "white",
           "zerolinewidth": 2
          },
          "yaxis": {
           "automargin": true,
           "gridcolor": "white",
           "linecolor": "white",
           "ticks": "",
           "title": {
            "standoff": 15
           },
           "zerolinecolor": "white",
           "zerolinewidth": 2
          }
         }
        },
        "xaxis": {
         "showgrid": false,
         "showticklabels": false,
         "zeroline": false
        },
        "yaxis": {
         "showgrid": false,
         "showticklabels": false,
         "zeroline": false
        }
       }
      },
      "text/html": [
       "<div>                            <div id=\"4d113a5e-570f-46ba-afde-a8c9abc650b7\" class=\"plotly-graph-div\" style=\"height:525px; width:100%;\"></div>            <script type=\"text/javascript\">                require([\"plotly\"], function(Plotly) {                    window.PLOTLYENV=window.PLOTLYENV || {};                                    if (document.getElementById(\"4d113a5e-570f-46ba-afde-a8c9abc650b7\")) {                    Plotly.newPlot(                        \"4d113a5e-570f-46ba-afde-a8c9abc650b7\",                        [{\"marker\":{\"line\":{\"color\":\"white\",\"width\":0.5},\"size\":15},\"mode\":\"markers\",\"name\":\"tweet\",\"opacity\":0.7,\"text\":[\"tweet\"],\"x\":[29.33083152770996],\"y\":[33.30270004272461],\"type\":\"scatter\"},{\"marker\":{\"line\":{\"color\":\"white\",\"width\":0.5},\"size\":15},\"mode\":\"markers\",\"name\":\"meow\",\"opacity\":0.7,\"text\":[\"meow\"],\"x\":[10.335344314575195],\"y\":[4.749476909637451],\"type\":\"scatter\"},{\"marker\":{\"line\":{\"color\":\"white\",\"width\":0.5},\"size\":15},\"mode\":\"markers\",\"name\":\"dog\",\"opacity\":0.7,\"text\":[\"dog\"],\"x\":[-50.488792419433594],\"y\":[13.08315658569336],\"type\":\"scatter\"},{\"marker\":{\"line\":{\"color\":\"white\",\"width\":0.5},\"size\":15},\"mode\":\"markers\",\"name\":\"woof\",\"opacity\":0.7,\"text\":[\"woof\"],\"x\":[15.963226318359375],\"y\":[5.895839691162109],\"type\":\"scatter\"},{\"marker\":{\"line\":{\"color\":\"white\",\"width\":0.5},\"size\":15},\"mode\":\"markers\",\"name\":\"neigh\",\"opacity\":0.7,\"text\":[\"neigh\"],\"x\":[12.04957389831543],\"y\":[3.63761043548584],\"type\":\"scatter\"},{\"marker\":{\"line\":{\"color\":\"white\",\"width\":0.5},\"size\":15},\"mode\":\"markers\",\"name\":\"lion\",\"opacity\":0.7,\"text\":[\"lion\"],\"x\":[5.079667568206787],\"y\":[-33.65717697143555],\"type\":\"scatter\"},{\"marker\":{\"line\":{\"color\":\"white\",\"width\":0.5},\"size\":15},\"mode\":\"markers\",\"name\":\"horse\",\"opacity\":0.7,\"text\":[\"horse\"],\"x\":[-3.859805107116699],\"y\":[-8.646032333374023],\"type\":\"scatter\"},{\"marker\":{\"line\":{\"color\":\"white\",\"width\":0.5},\"size\":15},\"mode\":\"markers\",\"name\":\"roar\",\"opacity\":0.7,\"text\":[\"roar\"],\"x\":[23.90964698791504],\"y\":[-10.255681991577148],\"type\":\"scatter\"},{\"marker\":{\"line\":{\"color\":\"white\",\"width\":0.5},\"size\":15},\"mode\":\"markers\",\"name\":\"bird\",\"opacity\":0.7,\"text\":[\"bird\"],\"x\":[-7.2083353996276855],\"y\":[-14.522554397583008],\"type\":\"scatter\"},{\"marker\":{\"line\":{\"color\":\"white\",\"width\":0.5},\"size\":15},\"mode\":\"markers\",\"name\":\"cat\",\"opacity\":0.7,\"text\":[\"cat\"],\"x\":[-35.11137390136719],\"y\":[6.412666320800781],\"type\":\"scatter\"}],                        {\"hovermode\":\"closest\",\"template\":{\"data\":{\"barpolar\":[{\"marker\":{\"line\":{\"color\":\"#E5ECF6\",\"width\":0.5},\"pattern\":{\"fillmode\":\"overlay\",\"size\":10,\"solidity\":0.2}},\"type\":\"barpolar\"}],\"bar\":[{\"error_x\":{\"color\":\"#2a3f5f\"},\"error_y\":{\"color\":\"#2a3f5f\"},\"marker\":{\"line\":{\"color\":\"#E5ECF6\",\"width\":0.5},\"pattern\":{\"fillmode\":\"overlay\",\"size\":10,\"solidity\":0.2}},\"type\":\"bar\"}],\"carpet\":[{\"aaxis\":{\"endlinecolor\":\"#2a3f5f\",\"gridcolor\":\"white\",\"linecolor\":\"white\",\"minorgridcolor\":\"white\",\"startlinecolor\":\"#2a3f5f\"},\"baxis\":{\"endlinecolor\":\"#2a3f5f\",\"gridcolor\":\"white\",\"linecolor\":\"white\",\"minorgridcolor\":\"white\",\"startlinecolor\":\"#2a3f5f\"},\"type\":\"carpet\"}],\"choropleth\":[{\"colorbar\":{\"outlinewidth\":0,\"ticks\":\"\"},\"type\":\"choropleth\"}],\"contourcarpet\":[{\"colorbar\":{\"outlinewidth\":0,\"ticks\":\"\"},\"type\":\"contourcarpet\"}],\"contour\":[{\"colorbar\":{\"outlinewidth\":0,\"ticks\":\"\"},\"colorscale\":[[0.0,\"#0d0887\"],[0.1111111111111111,\"#46039f\"],[0.2222222222222222,\"#7201a8\"],[0.3333333333333333,\"#9c179e\"],[0.4444444444444444,\"#bd3786\"],[0.5555555555555556,\"#d8576b\"],[0.6666666666666666,\"#ed7953\"],[0.7777777777777778,\"#fb9f3a\"],[0.8888888888888888,\"#fdca26\"],[1.0,\"#f0f921\"]],\"type\":\"contour\"}],\"heatmapgl\":[{\"colorbar\":{\"outlinewidth\":0,\"ticks\":\"\"},\"colorscale\":[[0.0,\"#0d0887\"],[0.1111111111111111,\"#46039f\"],[0.2222222222222222,\"#7201a8\"],[0.3333333333333333,\"#9c179e\"],[0.4444444444444444,\"#bd3786\"],[0.5555555555555556,\"#d8576b\"],[0.6666666666666666,\"#ed7953\"],[0.7777777777777778,\"#fb9f3a\"],[0.8888888888888888,\"#fdca26\"],[1.0,\"#f0f921\"]],\"type\":\"heatmapgl\"}],\"heatmap\":[{\"colorbar\":{\"outlinewidth\":0,\"ticks\":\"\"},\"colorscale\":[[0.0,\"#0d0887\"],[0.1111111111111111,\"#46039f\"],[0.2222222222222222,\"#7201a8\"],[0.3333333333333333,\"#9c179e\"],[0.4444444444444444,\"#bd3786\"],[0.5555555555555556,\"#d8576b\"],[0.6666666666666666,\"#ed7953\"],[0.7777777777777778,\"#fb9f3a\"],[0.8888888888888888,\"#fdca26\"],[1.0,\"#f0f921\"]],\"type\":\"heatmap\"}],\"histogram2dcontour\":[{\"colorbar\":{\"outlinewidth\":0,\"ticks\":\"\"},\"colorscale\":[[0.0,\"#0d0887\"],[0.1111111111111111,\"#46039f\"],[0.2222222222222222,\"#7201a8\"],[0.3333333333333333,\"#9c179e\"],[0.4444444444444444,\"#bd3786\"],[0.5555555555555556,\"#d8576b\"],[0.6666666666666666,\"#ed7953\"],[0.7777777777777778,\"#fb9f3a\"],[0.8888888888888888,\"#fdca26\"],[1.0,\"#f0f921\"]],\"type\":\"histogram2dcontour\"}],\"histogram2d\":[{\"colorbar\":{\"outlinewidth\":0,\"ticks\":\"\"},\"colorscale\":[[0.0,\"#0d0887\"],[0.1111111111111111,\"#46039f\"],[0.2222222222222222,\"#7201a8\"],[0.3333333333333333,\"#9c179e\"],[0.4444444444444444,\"#bd3786\"],[0.5555555555555556,\"#d8576b\"],[0.6666666666666666,\"#ed7953\"],[0.7777777777777778,\"#fb9f3a\"],[0.8888888888888888,\"#fdca26\"],[1.0,\"#f0f921\"]],\"type\":\"histogram2d\"}],\"histogram\":[{\"marker\":{\"pattern\":{\"fillmode\":\"overlay\",\"size\":10,\"solidity\":0.2}},\"type\":\"histogram\"}],\"mesh3d\":[{\"colorbar\":{\"outlinewidth\":0,\"ticks\":\"\"},\"type\":\"mesh3d\"}],\"parcoords\":[{\"line\":{\"colorbar\":{\"outlinewidth\":0,\"ticks\":\"\"}},\"type\":\"parcoords\"}],\"pie\":[{\"automargin\":true,\"type\":\"pie\"}],\"scatter3d\":[{\"line\":{\"colorbar\":{\"outlinewidth\":0,\"ticks\":\"\"}},\"marker\":{\"colorbar\":{\"outlinewidth\":0,\"ticks\":\"\"}},\"type\":\"scatter3d\"}],\"scattercarpet\":[{\"marker\":{\"colorbar\":{\"outlinewidth\":0,\"ticks\":\"\"}},\"type\":\"scattercarpet\"}],\"scattergeo\":[{\"marker\":{\"colorbar\":{\"outlinewidth\":0,\"ticks\":\"\"}},\"type\":\"scattergeo\"}],\"scattergl\":[{\"marker\":{\"colorbar\":{\"outlinewidth\":0,\"ticks\":\"\"}},\"type\":\"scattergl\"}],\"scattermapbox\":[{\"marker\":{\"colorbar\":{\"outlinewidth\":0,\"ticks\":\"\"}},\"type\":\"scattermapbox\"}],\"scatterpolargl\":[{\"marker\":{\"colorbar\":{\"outlinewidth\":0,\"ticks\":\"\"}},\"type\":\"scatterpolargl\"}],\"scatterpolar\":[{\"marker\":{\"colorbar\":{\"outlinewidth\":0,\"ticks\":\"\"}},\"type\":\"scatterpolar\"}],\"scatter\":[{\"fillpattern\":{\"fillmode\":\"overlay\",\"size\":10,\"solidity\":0.2},\"type\":\"scatter\"}],\"scatterternary\":[{\"marker\":{\"colorbar\":{\"outlinewidth\":0,\"ticks\":\"\"}},\"type\":\"scatterternary\"}],\"surface\":[{\"colorbar\":{\"outlinewidth\":0,\"ticks\":\"\"},\"colorscale\":[[0.0,\"#0d0887\"],[0.1111111111111111,\"#46039f\"],[0.2222222222222222,\"#7201a8\"],[0.3333333333333333,\"#9c179e\"],[0.4444444444444444,\"#bd3786\"],[0.5555555555555556,\"#d8576b\"],[0.6666666666666666,\"#ed7953\"],[0.7777777777777778,\"#fb9f3a\"],[0.8888888888888888,\"#fdca26\"],[1.0,\"#f0f921\"]],\"type\":\"surface\"}],\"table\":[{\"cells\":{\"fill\":{\"color\":\"#EBF0F8\"},\"line\":{\"color\":\"white\"}},\"header\":{\"fill\":{\"color\":\"#C8D4E3\"},\"line\":{\"color\":\"white\"}},\"type\":\"table\"}]},\"layout\":{\"annotationdefaults\":{\"arrowcolor\":\"#2a3f5f\",\"arrowhead\":0,\"arrowwidth\":1},\"autotypenumbers\":\"strict\",\"coloraxis\":{\"colorbar\":{\"outlinewidth\":0,\"ticks\":\"\"}},\"colorscale\":{\"diverging\":[[0,\"#8e0152\"],[0.1,\"#c51b7d\"],[0.2,\"#de77ae\"],[0.3,\"#f1b6da\"],[0.4,\"#fde0ef\"],[0.5,\"#f7f7f7\"],[0.6,\"#e6f5d0\"],[0.7,\"#b8e186\"],[0.8,\"#7fbc41\"],[0.9,\"#4d9221\"],[1,\"#276419\"]],\"sequential\":[[0.0,\"#0d0887\"],[0.1111111111111111,\"#46039f\"],[0.2222222222222222,\"#7201a8\"],[0.3333333333333333,\"#9c179e\"],[0.4444444444444444,\"#bd3786\"],[0.5555555555555556,\"#d8576b\"],[0.6666666666666666,\"#ed7953\"],[0.7777777777777778,\"#fb9f3a\"],[0.8888888888888888,\"#fdca26\"],[1.0,\"#f0f921\"]],\"sequentialminus\":[[0.0,\"#0d0887\"],[0.1111111111111111,\"#46039f\"],[0.2222222222222222,\"#7201a8\"],[0.3333333333333333,\"#9c179e\"],[0.4444444444444444,\"#bd3786\"],[0.5555555555555556,\"#d8576b\"],[0.6666666666666666,\"#ed7953\"],[0.7777777777777778,\"#fb9f3a\"],[0.8888888888888888,\"#fdca26\"],[1.0,\"#f0f921\"]]},\"colorway\":[\"#636efa\",\"#EF553B\",\"#00cc96\",\"#ab63fa\",\"#FFA15A\",\"#19d3f3\",\"#FF6692\",\"#B6E880\",\"#FF97FF\",\"#FECB52\"],\"font\":{\"color\":\"#2a3f5f\"},\"geo\":{\"bgcolor\":\"white\",\"lakecolor\":\"white\",\"landcolor\":\"#E5ECF6\",\"showlakes\":true,\"showland\":true,\"subunitcolor\":\"white\"},\"hoverlabel\":{\"align\":\"left\"},\"hovermode\":\"closest\",\"mapbox\":{\"style\":\"light\"},\"paper_bgcolor\":\"white\",\"plot_bgcolor\":\"#E5ECF6\",\"polar\":{\"angularaxis\":{\"gridcolor\":\"white\",\"linecolor\":\"white\",\"ticks\":\"\"},\"bgcolor\":\"#E5ECF6\",\"radialaxis\":{\"gridcolor\":\"white\",\"linecolor\":\"white\",\"ticks\":\"\"}},\"scene\":{\"xaxis\":{\"backgroundcolor\":\"#E5ECF6\",\"gridcolor\":\"white\",\"gridwidth\":2,\"linecolor\":\"white\",\"showbackground\":true,\"ticks\":\"\",\"zerolinecolor\":\"white\"},\"yaxis\":{\"backgroundcolor\":\"#E5ECF6\",\"gridcolor\":\"white\",\"gridwidth\":2,\"linecolor\":\"white\",\"showbackground\":true,\"ticks\":\"\",\"zerolinecolor\":\"white\"},\"zaxis\":{\"backgroundcolor\":\"#E5ECF6\",\"gridcolor\":\"white\",\"gridwidth\":2,\"linecolor\":\"white\",\"showbackground\":true,\"ticks\":\"\",\"zerolinecolor\":\"white\"}},\"shapedefaults\":{\"line\":{\"color\":\"#2a3f5f\"}},\"ternary\":{\"aaxis\":{\"gridcolor\":\"white\",\"linecolor\":\"white\",\"ticks\":\"\"},\"baxis\":{\"gridcolor\":\"white\",\"linecolor\":\"white\",\"ticks\":\"\"},\"bgcolor\":\"#E5ECF6\",\"caxis\":{\"gridcolor\":\"white\",\"linecolor\":\"white\",\"ticks\":\"\"}},\"title\":{\"x\":0.05},\"xaxis\":{\"automargin\":true,\"gridcolor\":\"white\",\"linecolor\":\"white\",\"ticks\":\"\",\"title\":{\"standoff\":15},\"zerolinecolor\":\"white\",\"zerolinewidth\":2},\"yaxis\":{\"automargin\":true,\"gridcolor\":\"white\",\"linecolor\":\"white\",\"ticks\":\"\",\"title\":{\"standoff\":15},\"zerolinecolor\":\"white\",\"zerolinewidth\":2}}},\"xaxis\":{\"showgrid\":false,\"showticklabels\":false,\"zeroline\":false},\"yaxis\":{\"showgrid\":false,\"showticklabels\":false,\"zeroline\":false}},                        {\"displayModeBar\": false, \"responsive\": true}                    ).then(function(){\n",
       "                            \n",
       "var gd = document.getElementById('4d113a5e-570f-46ba-afde-a8c9abc650b7');\n",
       "var x = new MutationObserver(function (mutations, observer) {{\n",
       "        var display = window.getComputedStyle(gd).display;\n",
       "        if (!display || display === 'none') {{\n",
       "            console.log([gd, 'removed!']);\n",
       "            Plotly.purge(gd);\n",
       "            observer.disconnect();\n",
       "        }}\n",
       "}});\n",
       "\n",
       "// Listen for the removal of the full notebook cells\n",
       "var notebookContainer = gd.closest('#notebook-container');\n",
       "if (notebookContainer) {{\n",
       "    x.observe(notebookContainer, {childList: true});\n",
       "}}\n",
       "\n",
       "// Listen for the clearing of the current output cell\n",
       "var outputEl = gd.closest('.output');\n",
       "if (outputEl) {{\n",
       "    x.observe(outputEl, {childList: true});\n",
       "}}\n",
       "\n",
       "                        })                };                });            </script>        </div>"
      ]
     },
     "metadata": {},
     "output_type": "display_data"
    }
   ],
   "source": [
    "init_notebook_mode(connected=True)\n",
    "words = [\"cat\", \"meow\", \"dog\", \"woof\", \"bird\", \"tweet\", \"lion\", \"roar\", \"horse\", \"neigh\", ]\n",
    "\n",
    "pca = PCA()\n",
    "\n",
    "glove_vectors = np.concatenate(\n",
    "    [nlp(word).vector.reshape(1, 300) for word in words]\n",
    ")\n",
    "\n",
    "glove_pca = pca.fit_transform(glove_vectors)\n",
    "scatter(glove_pca[:, 0], glove_pca[:, 1], np.array(words), np.array(words))"
   ]
  },
  {
   "cell_type": "markdown",
   "metadata": {},
   "source": [
    "## Exercises\n",
    "1) Think about why these relationships aren't exact (here it isn't exactly king - man + woman = queen). I can think of two main ones. For one - why may tweet be a bit of an outlier here?\n",
    "2) Play around yourself and find some relationships - really try and think about whats going on here - what are the dimensions each representing? "
   ]
  },
  {
   "cell_type": "markdown",
   "metadata": {},
   "source": [
    "As a note, investigating what it is AI 'understands' is a hard problem, but there are ways to gain intuition. I suggest Semantle (https://semantle.com/). They use a different embedding: word2vec, brilliantly visualised by TensorFlow (https://projector.tensorflow.org/)."
   ]
  },
  {
   "cell_type": "markdown",
   "metadata": {},
   "source": [
    "# Case Study - Newspost Data"
   ]
  },
  {
   "cell_type": "code",
   "execution_count": 4,
   "metadata": {},
   "outputs": [
    {
     "data": {
      "text/html": [
       "<div>\n",
       "<style scoped>\n",
       "    .dataframe tbody tr th:only-of-type {\n",
       "        vertical-align: middle;\n",
       "    }\n",
       "\n",
       "    .dataframe tbody tr th {\n",
       "        vertical-align: top;\n",
       "    }\n",
       "\n",
       "    .dataframe thead th {\n",
       "        text-align: right;\n",
       "    }\n",
       "</style>\n",
       "<table border=\"1\" class=\"dataframe\">\n",
       "  <thead>\n",
       "    <tr style=\"text-align: right;\">\n",
       "      <th></th>\n",
       "      <th>Text</th>\n",
       "      <th>Class Name</th>\n",
       "    </tr>\n",
       "  </thead>\n",
       "  <tbody>\n",
       "    <tr>\n",
       "      <th>0</th>\n",
       "      <td>(Graham Toal)Re: Do we need the clipper for c...</td>\n",
       "      <td>sci.crypt</td>\n",
       "    </tr>\n",
       "    <tr>\n",
       "      <th>1</th>\n",
       "      <td>(Graham Toal)Let's build software cryptophone...</td>\n",
       "      <td>sci.crypt</td>\n",
       "    </tr>\n",
       "    <tr>\n",
       "      <th>2</th>\n",
       "      <td>(technopagan priest)Re: Would \"clipper\" make ...</td>\n",
       "      <td>sci.crypt</td>\n",
       "    </tr>\n",
       "    <tr>\n",
       "      <th>3</th>\n",
       "      <td>(Vesselin Bontchev)Re: Once tapped, your code...</td>\n",
       "      <td>sci.crypt</td>\n",
       "    </tr>\n",
       "    <tr>\n",
       "      <th>4</th>\n",
       "      <td>(Phil G. Fraering)Re: Once tapped, your code ...</td>\n",
       "      <td>sci.crypt</td>\n",
       "    </tr>\n",
       "  </tbody>\n",
       "</table>\n",
       "</div>"
      ],
      "text/plain": [
       "                                                Text Class Name\n",
       "0   (Graham Toal)Re: Do we need the clipper for c...  sci.crypt\n",
       "1   (Graham Toal)Let's build software cryptophone...  sci.crypt\n",
       "2   (technopagan priest)Re: Would \"clipper\" make ...  sci.crypt\n",
       "3   (Vesselin Bontchev)Re: Once tapped, your code...  sci.crypt\n",
       "4   (Phil G. Fraering)Re: Once tapped, your code ...  sci.crypt"
      ]
     },
     "execution_count": 4,
     "metadata": {},
     "output_type": "execute_result"
    }
   ],
   "source": [
    "df = pd.read_csv('data/newsposts/newsposts_science.csv', index_col=0)\n",
    "labels = df['Class Name'].astype('category').values.unique().tolist()\n",
    "df.head()"
   ]
  },
  {
   "cell_type": "code",
   "execution_count": 5,
   "metadata": {},
   "outputs": [],
   "source": [
    "df['glove_embedding'] = df['Text'].apply(get_embedding_glove)"
   ]
  },
  {
   "cell_type": "code",
   "execution_count": 7,
   "metadata": {},
   "outputs": [
    {
     "data": {
      "text/html": [
       "        <script type=\"text/javascript\">\n",
       "        window.PlotlyConfig = {MathJaxConfig: 'local'};\n",
       "        if (window.MathJax && window.MathJax.Hub && window.MathJax.Hub.Config) {window.MathJax.Hub.Config({SVG: {font: \"STIX-Web\"}});}\n",
       "        if (typeof require !== 'undefined') {\n",
       "        require.undef(\"plotly\");\n",
       "        requirejs.config({\n",
       "            paths: {\n",
       "                'plotly': ['https://cdn.plot.ly/plotly-2.35.2.min']\n",
       "            }\n",
       "        });\n",
       "        require(['plotly'], function(Plotly) {\n",
       "            window._Plotly = Plotly;\n",
       "        });\n",
       "        }\n",
       "        </script>\n",
       "        "
      ]
     },
     "metadata": {},
     "output_type": "display_data"
    },
    {
     "data": {
      "application/vnd.plotly.v1+json": {
       "config": {
        "displayModeBar": false,
        "linkText": "Export to plot.ly",
        "plotlyServerURL": "https://plot.ly",
        "showLink": false
       },
       "data": [
        {
         "hoverinfo": "text",
         "marker": {
          "line": {
           "color": "white",
           "width": 0.5
          },
          "size": 15
         },
         "mode": "markers",
         "name": "Class sci.crypt",
         "opacity": 0.7,
         "text": [
          " security? Lines: 24  \t (Graham Toal) writes: \t> \t>In the UK, it's impossible to get approval to att...",
          "r over the internet... Lines: 92  Well, after a lot of trawling through archives, I found the post I...",
          "od cover for other encryption method? Nntp-Posting-Host: rac2.wam.umd.edu Organization: University o...",
          "no good any more. Reply-To:  Organization: Virus Test Center, University of Hamburg Distribution: na...",
          "o good any more. Organization: Univ. of Southwestern Louisiana Lines: 52   (David Sternlight) writes...",
          "r Chip and crypto key-escrow] Reply-To:  Organization: Chaos Lines: 76 X-Newsreader: Archimedes Read...",
          "-core hackers & spooks only Organization: C-Set/2 Development, IBM Canada Lab. Disclaimer: This post...",
          "no good any more. Nntp-Posting-Host: lonestar.utsa.edu Organization: University of Texas at San Anto...",
          "on: Turing Police Lines: 22   > (Carl Ellison) writes: >For example, if I had a program on my disk w...",
          "each machine (Was: Re: Corporate acceptance of the wiretap chip) Organization: AT&T Bell Laboratorie...",
          "s Online Communications, Greenbelt, MD USA Lines: 13 NNTP-Posting-Host: access.digex.net   > Second ...",
          "ic packages In-Reply-To: 's message of 20 Apr 1993 16: 47:03 GMT Organization: York U. Student Infor...",
          "bution: world Organization: Thibault & Friends Lines: 34  In article <1qg8m2$>  (Edward Vielmetti) w...",
          "ive Organization: Silicon Graphics, Inc.  Mountain View, CA Lines: 20  In article <>,  (David Sternl...",
          "rgraph's Name? Organization: NETCOM On-line Communication Services (408 241-9760 guest) X-Newsreader...",
          "o good any more. Organization: Univ. of Southwestern Louisiana Distribution: na Lines: 25   (douglas...",
          "e Summary: Ways to fight it  Organization: Climate and Global Dynamics Division/NCAR, Boulder, CO Li...",
          "ip and crypto key-escrow] Summary: Whatever... Keywords: Hmm... Organization:  George Mason Universi...",
          "gow University Computing Science Dept. Distribution: net Lines: 7  I am a PhD student. Can I get the...",
          "was: Re: More technical details) Reply-To:  Organization: New Technology, Inc. Lines: 53  ( Below is...",
          " Organization: Harvey Mudd College, Claremont, CA 91711 Lines: 23  In article <>  (Robert Lewis Glen...",
          "law enforcement blocks? Organization: Loral Rolm Mil-Spec Computers Lines: 43  The M code stream  mi...",
          "ization: Swiss Federal Institute of Technology (ETH), Zurich, CH Lines: 120  Hmm, followup on my own...",
          "ors (large state) Organization: UTexas Mail-to-News Gateway Lines: 171 NNTP-Posting-Host: cs.utexas....",
          " \t  The points raised about checking what is actually -in- the chip, as \topposed to what is allegedl...",
          " drive security) Nntp-Posting-Host: servo.qualcomm.com Reply-To:  Organization: Qualcomm, Inc Lines:...",
          "p, subvert or replace it ! Organization: Netcom - Online Communication Services (408 241-9760 guest)...",
          "ent and Q&As on clipper chip encryption Distribution: na Organization: ClariNet Communications Corp....",
          "ganization: Express Access Online Communications, Greenbelt, MD USA Lines: 25 NNTP-Posting-Host: acc...",
          " machine (Was: Re: Corporate acceptance of the wiretap chip) Lines: 16  : At the company I worked fo...",
          "ent and Q&As on clipper chip encryption Organization: ClariNet Communications Corp. Distribution: na...",
          "rganization: Sun Microsystems, Inc. Lines: 70 Nntp-Posting-Host: sunspot.ece.clarkson.edu Cc: tuinst...",
          "y-To:  (Jim McCoy) Organization: The University of Texas - Austin Lines: 53 NNTP-Posting-Host: tramp...",
          " 7  :    I've been thinking about how difficult it would be to make PGP available : in some form on ...",
          "D.: ole.1993Apr20.173039.4722 Organization: Cascade Design Automation Lines: 17       Notwithstandin...",
          "phy Patents) Organization: Oce Graphics USA X-Newsreader: TIN [version 1.1 PL7] Lines: 41  Charles K...",
          "tion: Cold Media  Lines: 13   (Ze'ev Wurman) writes:  >But do we really believe that the various gov...",
          "ative Organization: Metatron Press / Human Systems Performance Group, Austin, TX X-Newsreader: rusne...",
          "P: A TECHNICAL SUMMARY Organization: Brought to you by the numbers 2, 3, and 7 In-Reply-To: 's messa...",
          "r? Organization: Kaleida Labs, Inc. Lines: 10 Distribution: world NNTP-Posting-Host: jfenton.kaleida...",
          "anization: AT&T Bell Laboratories Lines: 55  I'd *desparately* prefer it if we didn't rehash the sam...",
          "ormation Sheet Keywords: Big Bubba Is Watching. Organization: NASA Science Internet Project Office L...",
          " and Q&As on clipper chip encryption Lines: 16  \t (Brad Templeton)  \tLet's assume, for the moment, t...",
          "s for over the internet... Lines: 27  I forwarded an old posting about CELP speech compression:  \tIn...",
          "secret Organization: Panix, (New Yawk City) Lines: 29  In <>  (John R. Levine) writes: (quoting some...",
          " security? Lines: 25  : There are chips which perform the voice compression/expansion.  They can't :...",
          " any more. Nntp-Posting-Host: spot.colorado.edu Organization: University of Colorado, Boulder Distri...",
          "osting-Host: spot.colorado.edu Organization: University of Colorado, Boulder Distribution: na Lines:...",
          "ion: Express Access Online Communications, Greenbelt, MD USA Lines: 10 NNTP-Posting-Host: access.dig...",
          "e Organization: Express Access Online Communications, Greenbelt, MD USA Lines: 7 NNTP-Posting-Host: ...",
          "e is no good any more. Originator:  Nntp-Posting-Host: qualcom.qualcomm.com Organization: Qualcomm, ...",
          "ver for other encryption method? Organization: Optilink Corporation, Petaluma, CA Lines: 19  In arti...",
          "g-Host: wardibm2.med.yale.edu Organization: Yale U. - Genetics Lines: 30  In article <>,  (Vesselin ...",
          "od any more. Organization: Little to None Distribution: na Lines: 13  >>\tWith E-Mail, if they can't ...",
          ")  (Tal Kubo) Distribution: inet Organization: Dept. of Math, Harvard Univ. Nntp-Posting-Host: zaris...",
          "machine (Was: Re: Corporate acceptance of the wiretap chip) In-Reply-To: 's message of Wed, 21 Apr 1...",
          "uncement Organization: capriccioso X-Newsreader: TIN [version 1.1 PL6] Lines: 35  I guess the crypto...",
          "tails Organization: AT&T Bell Laboratories Lines: 20  In article <>,  (D. J. Bernstein) writes: > Sh...",
          " is no good any more. Distribution: na Nntp-Posting-Host: beethoven.cs.colostate.edu Organization: C...",
          "ets Originator:  Keywords: entropy Nntp-Posting-Host: pizzabox.demon.co.uk Reply-To: Graham Toal <> ...",
          "y Patents)  (Arthur Rubin) Organization: Beckman Instruments, Inc. Nntp-Posting-Host: dsg4.dse.beckm...",
          "ood any more. Organization: TRW Systems Division, Fairfax VA Distribution: na Lines: 65   (Timothy C...",
          "nnouncement Organization: Department of Mathematical Sciences Lines: 29 Distribution: inet NNTP-Post...",
          "Chip and crypto key-escrow] Organization: InterCon Systems Corporation - Herndon, VA  USA Lines: 30 ...",
          "s Organization: Swiss Federal Institute of Technology (ETH), Zurich, CH Lines: 28  In article <1qv83...",
          " Kubo) Organization: Dept. of Math, Harvard Univ. Nntp-Posting-Host: zariski.harvard.edu Lines: 55  ...",
          "uncement Lines: 19  \tEven more interesting: the SMTP server at csrc.ncsl.nist.gov no longer \trecogni...",
          "hine (Was: Re: Corporate acceptance of the wiretap chip) Organization: CSRI, University of Toronto L...",
          "no good any more. Organization: ITC/UVA Community Access UNIX/Internet Project Lines: 16  In article...",
          "ap security? Organization: InterCon Systems Corporation - Herndon, VA  USA Lines: 68 Distribution: w...",
          " Organization: Center For High Perf. Computing of WPI; Marlboro Ma Lines: 35  In article <1qn1ic$>  ...",
          "cademic Computer Center <>Re: Clipper -- some new thoughts Lines: 7  The cryptographic algorythm MUS...",
          " any more. Summary: But, for all its flaws, the domino theory was right... Organization: Chinet - Pu...",
          "d any more. Organization: Center For High Perf. Computing of WPI; Marlboro Ma Distribution: na Lines...",
          " any more. Distribution: na Organization: VisiCom Laboratories, Inc., San Diego, California Lines: 1...",
          "and crypto key-escrow] Keywords: encryption, wiretap, clipper, key-escrow, Mykotronx Organization: B...",
          "plementations Reply-To:  Organization: Virus Test Center, University of Hamburg Lines: 23   (David S...",
          "f that announcement Organization: Stanford University Lines: 22  In article <> Rick Miller <> writes...",
          "on: Partnership for an America Free Drug Lines: 77  Here is a disturbing thought.  Now, we no longer...",
          "p security? Organization: CSIR, South AFrica Lines: 27 NNTP-Posting-Host: nuustak.csir.co.za X-Discl...",
          " ask for? (Re: Clipper) Lines: 19 Organization: Curtin University of Technology  In article <>,  (St...",
          " and Q&As on clipper chip encryption Organization: capriccioso X-Newsreader: TIN [version 1.1 PL6] D...",
          "tive Organization: DSI/USCRPAC Lines: 32  In article <1r0nov$>  (Steve Brinich) writes:   > > 1. Ame...",
          "bution: usa Reply-To:  Disclaimer: This posting represents the poster's views, not necessarily those...",
          " machine (Was: Re: Corporate acceptance of the wiretap chip) Organization: Computing Research Lab Li...",
          "d any more. Organization: University of Nebraska at Omaha Distribution: na Lines: 18   (Geoffrey Kue...",
          "re hackers & spooks only Summary: (We need privacy chips for phones, not computer-bound station)_ Ar...",
          "(Tal Kubo) Distribution: inet Organization: Dept. of Math, Harvard Univ. Nntp-Posting-Host: zariski....",
          "id it Originator:  Keywords: Big Bubba Is Watching! Nntp-Posting-Host: qualcom.qualcomm.com Organiza...",
          "ard-core hackers & spooks only Nntp-Posting-Host: bistromath.mitre.org Organization: The MITRE Corpo...",
          "ood any more. Organization: Express Access Online Communications, Greenbelt, MD USA Lines: 6 Distrib...",
          "tribution: world Organization: boring Reply-To:  X-Mailer: Simple NEWS 1.90 (ka9q DIS 1.19) Lines: 2...",
          " is no good any more. Organization: Society for the conservation of momentum Distribution: na Lines:...",
          "ganization: Mail to News Gateway at Wang Labs Distribution: na Lines: 47   (Jerry Han) writes: > The...",
          "tography Organization: Yale University Lines: 21 Distribution: inet Reply-To:  NNTP-Posting-Host: mi...",
          "ata Lines: 46  \t (Marc Anderson)  \t>Also.. how about a box that you plug your phone into, which woul...",
          "each machine (Was: Re: Corporate acceptance of the wiretap chip) Organization: AT&T Bell Laboratorie...",
          "Clipper Chip and crypto key-escrow] Nntp-Posting-Host: beethoven.cs.colostate.edu Organization: Colo...",
          "oso X-Newsreader: TIN [version 1.1 PL6] Lines: 11  I am testing IDEA block cipher implementations fo...",
          "r Chip and crypto key-escrow] Keywords: encryption, wiretap, clipper, key-escrow, Mykotronx Nntp-Pos...",
          " Distribution: sci Lines: 12 Organization: Networked Systems Architecture   \tI have a bunch of quest...",
          "ood any more. Organization: Express Access Online Communications, Greenbelt, MD USA Lines: 5 Distrib...",
          "tography Patents) Nntp-Posting-Host: next4.cs.umr.edu Organization: University of Missouri - Rolla, ...",
          "for other encryption method? Originator:  Nntp-Posting-Host: eff.org Organization: The Electronic Fr...",
          "no good any more. Nntp-Posting-Host: ogmore.cs.ucla.edu Organization: UCLA, Computer Science Departm...",
          "ment and Q&As on clipper chip encryption Organization: Engineering Computer Network Distribution: na...",
          " any Nntp-Posting-Host: tidss2.asic.sc.ti.com Reply-To:  Organization: Design Automaton Div., Texas ...",
          " is us Organization: Minnesota Supercomputer Center, Minneapolis, MN Lines: 18  I agree that notifyi...",
          "tion: NETCOM On-line Communication Services (408 241-9760 guest) X-Newsreader: Tin 1.1 PL5 Lines: 41...",
          "ilable  Organization: capriccioso X-Newsreader: TIN [version 1.1 PL6] Lines: 84  *** SOURCE code to ...",
          " for hard-core hackers & spooks only Organization: DSI/USCRPAC Lines: 39  In article <>  (Derek Atki...",
          "agement Fact Sheet News-Software: VAX/VMS VNEWS 1.41     Organization: Mission Operations and Data S...",
          "p-Posting-Host: bistromath.mitre.org Organization: The MITRE Corporation Lines: 67  In article <>  (...",
          "bilities Article-I.D.: usenet.C4qoH8.CHE Expires: Thu, 20 May 1993 00:00:00 GMT Organization: Comput...",
          "swer Organization: Michigan State University Lines: 21 NNTP-Posting-Host: scss3.cl.msu.edu X-Newsrea...",
          "ood any more. Organization: InterCon Systems Corporation - Herndon, VA  USA Lines: 35 Distribution: ...",
          "mmary: Buckets of blood pouring from peoples' heads! Organization: Kubota Pacific Computer, Inc. Lin...",
          ": Harvey Mudd College, Claremont, CA 91711 Lines: 13  In article <>  (Phil Karn) writes: >It looks l...",
          ": world Organization: Georgetown University Lines: 139  The following document summarizes the Clippe...",
          "ement and Q&As on clipper chip encryption Organization: Partnership for an America Free Drug Distrib...",
          "anization: Private Computer, Totowa, NJ Lines: 21  In article <:  (Peter Trei) writes: :Judge: \"I gr...",
          "ood any more. Distribution: na Organization: Kendall Square Research Corp. Lines: 20   (Steve Johnso...",
          " more.  (Arthur Rubin)  <> <> Distribution: na Organization: Beckman Instruments, Inc. Nntp-Posting-...",
          "tion: The Crypt Cabal Lines: 187 Expires: 22 May 1993 04:00:07 GMT Reply-To:  NNTP-Posting-Host: pad...",
          "ative Organization: University of Iowa, Iowa City, IA, USA Lines: 43   (Philip Zimmermann) writes:  ...",
          "s Reply-To:  Organization: University of Chicago Lines: 23  In article <>  (Kenneth Ng) writes: >In ...",
          "ert or replace it ! Reply-To:  Distribution: na Organization: Thibault & Friends Lines: 10  In artic...",
          " Organization: is a nice thing... Lines: 28  Having read the various \"Clipper\" announcements on the ...",
          "machine (Was: Re: Corporate acceptance of the wiretap chip) Organization: Harvey Mudd College, Clare...",
          "aphy Organization: University of Illinois, Dept. of Comp. Sci., Urbana, IL Lines: 18   (Tal Kubo) wr...",
          "n: The Crypt Cabal Lines: 92 Expires: 22 May 1993 04:00:07 GMT Reply-To:  NNTP-Posting-Host: pad-tha...",
          "s us X-Xxmessage-Id: <> X-Xxdate: Wed, 21 Apr 93 17:40:17 GMT Nntp-Posting-Host: l-b-johnson.eff.org...",
          "heap security? Organization: Swiss Federal Institute of Technology (ETH), Zurich, CH Lines: 19  In a...",
          "o good any more. Organization: DSI/USCRPAC Distribution: na Lines: 26  In article <>  (Karl Barrus) ...",
          "ecrecy Reply-To:  Organization: Sun Microsystems, Inc. Lines: 38 Nntp-Posting-Host: signal.ece.clark...",
          "e Crypt Cabal Lines: 138 Expires: 22 May 1993 04:00:07 GMT Reply-To:  NNTP-Posting-Host: pad-thai.ak...",
          "aphy Reply-To:  (Paul Crowley) Organization: Edinburgh University Distribution: inet Lines: 12  Quot...",
          "rganization: University of Illinois, Dept. of Comp. Sci., Urbana, IL Lines: 42   (Andrew S Hall) wri...",
          "d any more. Organization: University of Houston Lines: 27 Distribution: na \t<> NNTP-Posting-Host: me...",
          "any more. Article-I.D.: rwing.2091 Distribution: na Organization: Totally Unorganized Lines: 17  In ...",
          "al number, possibly fixed S1 and S2 Organization: Universitaetsrechenzentrum, Heinrich-Heine-Univers...",
          "Costs/Benefits Organization: Netcom - Online Communication Services (408 241-9760 guest) Lines: 61  ...",
          "nization: Totally Unorganized Lines: 48  In article <>  writes: < (David Sternlight) writes: < <> He...",
          "ral comments Nntp-Posting-Host: bloch.informatik.uni-kl.de Organization: University of Kaiserslauter...",
          ": Citicorp Lines: 15 NNTP-Posting-Host: charon.cto.citicorp.com X-Newsreader: TIN [version 1.1 PL6] ...",
          "st: castor.se.houston.geoquest.slb.com Organization: GeoQuest System, Inc. Houston Lines: 17  In art...",
          "Data Research Associates, St. Louis MO Lines: 22  In article <>,  (Vernon Schryver) writes: > In art...",
          "Chip and crypto key-escrow] Organization: InterCon Systems Corporation - Herndon, VA  USA Lines: 34 ...",
          "otes.cus.cam.ac.uk Organization: U of Cambridge, England Lines: 25  -----BEGIN PGP SIGNED MESSAGE---...",
          "n: Stratus Computer, Software Engineering Lines: 18 NNTP-Posting-Host: ellisun.sw.stratus.com Keywor..."
         ],
         "type": "scatter",
         "x": [
          -6.371477127075195,
          7.281041145324707,
          3.8705217838287354,
          -3.7672555446624756,
          -7.497379779815674,
          -4.081960201263428,
          -12.185263633728027,
          1.0549373626708984,
          -3.7142579555511475,
          -10.16545581817627,
          -0.41146349906921387,
          4.573678493499756,
          3.0583579540252686,
          4.193465709686279,
          -0.33888357877731323,
          -3.7109532356262207,
          -9.967942237854004,
          -13.034004211425781,
          -5.018332004547119,
          -6.18639612197876,
          -1.3223069906234741,
          0.1081266701221466,
          -6.911440849304199,
          22.426555633544922,
          -8.831418991088867,
          -7.648535251617432,
          -9.722661018371582,
          -6.109520435333252,
          -6.484234809875488,
          -1.4610651731491089,
          -12.66378116607666,
          12.726988792419434,
          -1.5805245637893677,
          -1.0348167419433594,
          -7.7577805519104,
          -6.3386993408203125,
          -0.3793152868747711,
          3.259742259979248,
          1.804187536239624,
          -2.73684024810791,
          -12.198250770568848,
          0.929965078830719,
          -7.739589214324951,
          -5.334108352661133,
          13.046183586120605,
          -9.10236930847168,
          -8.22145938873291,
          0.3058723211288452,
          -4.6075544357299805,
          3.1014115810394287,
          1.4943506717681885,
          -3.87023663520813,
          -0.7029208540916443,
          -2.3155601024627686,
          -2.044569253921509,
          -3.1963486671447754,
          -7.631384372711182,
          -0.3443463146686554,
          -4.337053298950195,
          3.0227062702178955,
          0.2669687271118164,
          -1.0669777393341064,
          -5.515503406524658,
          -3.3791677951812744,
          -2.7927210330963135,
          -5.537732124328613,
          -0.4016668498516083,
          1.649195671081543,
          1.6596323251724243,
          -7.636520862579346,
          -2.538630247116089,
          -4.087672233581543,
          -1.6714240312576294,
          -0.5137391686439514,
          -0.22751790285110474,
          -6.285351276397705,
          1.055164098739624,
          3.710298776626587,
          -13.10965633392334,
          -1.127294898033142,
          -1.342061161994934,
          -7.767343044281006,
          -3.0278429985046387,
          5.21565580368042,
          -2.9227194786071777,
          -7.336706161499023,
          -7.196026802062988,
          -1.6814745664596558,
          -4.29845666885376,
          -6.9611711502075195,
          -0.37336888909339905,
          3.118140935897827,
          -7.5873308181762695,
          -6.192947864532471,
          1.8936409950256348,
          -9.461933135986328,
          -3.4348955154418945,
          -5.050510883331299,
          -0.6486374735832214,
          -0.012103057466447353,
          0.9763663411140442,
          -0.20289836823940277,
          -2.2347729206085205,
          -3.9109914302825928,
          -6.456881046295166,
          1.0369813442230225,
          -7.945911407470703,
          -2.027517795562744,
          0.35822048783302307,
          5.364564895629883,
          -7.200325012207031,
          -4.016526699066162,
          -4.264943599700928,
          -8.234500885009766,
          -0.9872984290122986,
          -4.982011795043945,
          -0.9254936575889587,
          -4.130031585693359,
          -4.0996551513671875,
          -6.907631874084473,
          -1.670091986656189,
          -4.698272705078125,
          8.011749267578125,
          -5.970941066741943,
          0.36306264996528625,
          2.327479839324951,
          3.9960336685180664,
          -5.066354274749756,
          0.5464942455291748,
          3.3135995864868164,
          -7.762915134429932,
          -6.376988410949707,
          -1.4721524715423584,
          -8.101391792297363,
          21.939998626708984,
          -1.4492108821868896,
          2.600886106491089,
          -7.408192157745361,
          9.39412784576416,
          2.7545034885406494,
          -3.319930076599121,
          -1.9609755277633667,
          -1.3690969944000244,
          -7.89821720123291,
          -6.029400825500488,
          -7.143909931182861,
          2.101247549057007,
          -2.5881779193878174,
          5.043267250061035,
          -0.2774738371372223
         ],
         "y": [
          4.241264820098877,
          -6.479180812835693,
          -2.4178528785705566,
          -0.5203485488891602,
          3.8733551502227783,
          3.305650472640991,
          3.073030710220337,
          -3.004995107650757,
          1.3475728034973145,
          4.043187141418457,
          -0.7843022346496582,
          -3.9052298069000244,
          -0.9318550825119019,
          -2.319589614868164,
          -4.667741298675537,
          1.7957584857940674,
          1.3317598104476929,
          2.971092939376831,
          0.2801571190357208,
          -0.21452130377292633,
          1.1047519445419312,
          6.2505388259887695,
          1.3853445053100586,
          3.350353479385376,
          2.169306516647339,
          2.2967824935913086,
          2.9691946506500244,
          0.4072303771972656,
          -0.36206433176994324,
          -2.0261433124542236,
          2.9081063270568848,
          11.93289566040039,
          2.6349964141845703,
          -0.8052463531494141,
          -0.3214356601238251,
          1.4047377109527588,
          -0.8532742857933044,
          0.07262098789215088,
          -0.7198469042778015,
          1.2669113874435425,
          3.2458040714263916,
          -1.0528757572174072,
          -0.3215344548225403,
          -0.5293673276901245,
          10.739927291870117,
          2.120278835296631,
          1.0879863500595093,
          0.8920155167579651,
          -2.4096665382385254,
          -3.0902645587921143,
          -2.5400760173797607,
          1.7102869749069214,
          1.3033130168914795,
          3.5641231536865234,
          2.3580803871154785,
          2.7752697467803955,
          1.722652554512024,
          1.7653740644454956,
          4.932464122772217,
          1.5189038515090942,
          0.49110880494117737,
          1.9086469411849976,
          3.4403562545776367,
          -0.48332735896110535,
          1.936693549156189,
          0.6439700126647949,
          -1.152262806892395,
          2.5407164096832275,
          -0.33423537015914917,
          3.5544865131378174,
          4.079375267028809,
          0.7182443141937256,
          -0.8870507478713989,
          -0.096428282558918,
          -0.7716556191444397,
          1.0996198654174805,
          -2.1800196170806885,
          2.2962775230407715,
          2.9738571643829346,
          2.455007314682007,
          1.761515498161316,
          0.7239862084388733,
          -0.8223605155944824,
          -2.591568946838379,
          0.7923367023468018,
          1.442308783531189,
          1.2439112663269043,
          1.1672006845474243,
          -1.1831793785095215,
          3.4075591564178467,
          -2.1161136627197266,
          -0.5652227401733398,
          3.7599332332611084,
          2.3200817108154297,
          -0.9926006197929382,
          2.708247423171997,
          1.1722493171691895,
          5.115880966186523,
          -0.2576134204864502,
          0.4870997369289398,
          -1.1470739841461182,
          1.0365146398544312,
          2.2072129249572754,
          1.0721226930618286,
          2.2446932792663574,
          -1.33353590965271,
          0.5077623724937439,
          -2.553771734237671,
          -3.1149866580963135,
          -3.07426381111145,
          2.9645307064056396,
          0.5260823965072632,
          3.178266763687134,
          1.1734628677368164,
          -2.0439493656158447,
          2.192247152328491,
          1.157371997833252,
          0.007190893869847059,
          -0.6910539269447327,
          -1.5579832792282104,
          -1.1295702457427979,
          -0.1788126826286316,
          0.07745750993490219,
          0.6190353035926819,
          8.649664878845215,
          -1.4293829202651978,
          -0.5065271854400635,
          -0.4200320541858673,
          -0.2189519703388214,
          -3.246973991394043,
          1.7066134214401245,
          2.7551815509796143,
          2.0985655784606934,
          2.0102481842041016,
          18.18479347229004,
          1.1440314054489136,
          -0.44584885239601135,
          3.181711435317993,
          -3.4751040935516357,
          1.7255499362945557,
          0.971503496170044,
          2.481048345565796,
          3.9894490242004395,
          3.5472142696380615,
          0.6634587645530701,
          2.3619823455810547,
          -1.5822234153747559,
          -1.1864114999771118,
          -2.751600503921509,
          0.3900996148586273
         ]
        },
        {
         "hoverinfo": "text",
         "marker": {
          "line": {
           "color": "white",
           "width": 0.5
          },
          "size": 15
         },
         "mode": "markers",
         "name": "Class sci.electronics",
         "opacity": 0.7,
         "text": [
          "Used BMW Question ..... ???) Organization: University of Minnesota, Duluth Lines: 28 NNTP-Posting-Ho...",
          "ale:was $200, sell for $150 Organization: Case Western Reserve University, Cleveland, Ohio (USA) Lin...",
          "ization: Netcom Online Communications Services (408-241-9760 login: guest) Lines: 25   (Neal Patrick...",
          "exer for digital signals? Organization: University of Illinois at Urbana Lines: 14  As the subject s...",
          ":  () Organization: Materials Research Lab Lines: 17    I would like to be able to amplify a voltage...",
          "hpfcmgw.fc.hp.com Organization: Hewlett-Packard Fort Collins Site X-Newsreader: TIN [version 1.1 PL8...",
          "tlist examples Originator:  Keywords: ACS,SPICE,simulation Organization: Harris Controls Lines: 18  ...",
          "hat is [a] \"Storage scope\" Distribution: na Organization: Medical Informatics, Pittsburgh, PA USA Li...",
          "i channel receiver system? Keywords: telemetry, receiver system Organization: National Hospitals, Ic...",
          ",  Has anyone used the Requirements Analsys methodology Hatley & Pirbhai ? I am a British final year...",
          "d. Nntp-Posting-Host: silene Organization: Institut Imag, Grenoble, France Lines: 38  In article <>,...",
          "on card Organization: University at Buffalo Lines: 8 News-Software: VAX/VMS VNEWS 1.41 Nntp-Posting-...",
          "s Freeway traffic reports Organization: Michigan Technological University X-Newsreader: TIN [version...",
          "p-Posting-Host: cec1 Organization: Washington University, St. Louis MO Lines: 88  In article <>  (St...",
          " Organization: University of Auckland, New Zealand. Keywords: pattern Summary: MDA/EGA/VGA pat. gen....",
          "work?? Reply-To:  Organization: Intergraph Corporation, Huntsville AL Lines: 25  In article <>,  (Mi...",
          "e-Help! Organization: /etc/organization Lines: 26  We have a setup with with 13 polaroid transducers...",
          "m Modules Organization: HP Lake Stevens, WA Lines: 12   (Ronald W. Butts, Jr.) writes:  >I am lookin...",
          "C50 Keywords: Motorola, FPU, 68882, 68030, 33/50 MHz, problems (FPU exception) Nntp-Posting-Host: pr...",
          "et wiring.. Organization: Eastman Kodak Lines: 29  In article <>  writes: >In article <>,  (Russ Cri...",
          "anization: The Software Engineering Institute Lines: 10   In article <>, Joseph Chiu writes:  > The ...",
          " Organization: Netcom Online Communications Services (408-241-9760 login: guest) Lines: 32  Sci.E(E)...",
          "et wiring.. Nntp-Posting-Host: techmac10.tech.mtu.edu Organization: Michigan Technological Universit...",
          "Organization: University of Cape Town X-Newsreader: TIN [version 1.1 PL8] Lines: 15   Hi there  Does...",
          ": AT&T Bell Laboratories Distribution: na Lines: 14  Can anybody recommend a good, application-orien...",
          "anization: Boston Computer Society / ISIG Lines: 10  Does any one know if the 6551 is timing/pin com...",
          "32  AllMartin MccormickWhat's Exactly in a Flour  MM> (Martin McCormick) MM>Organization: Oklahoma S...",
          "gital Nntp-Posting-Host: hacke9.dtek.chalmers.se Organization: Chalmers University of Technology, Go...",
          "ntp-Posting-Host: hprtnyc.cup.hp.com Organization: Hewlett-Packard X-Newsreader: TIN [version 1.1 PL...",
          " Organization: ACSYS, Inc. Lines: 19   For all people that are interested in every aspect of the 260...",
          "ut number to a phone Organization:  Wright State University  Lines: 12  Since I have seen various di...",
          "Organization: Megatest Corporation Lines: 23  In article <>  (Billy Quinn) writes: >I built a little...",
          "I.D.: larc.babb-060493164354 Distribution: usa Organization: SDSU - LARC Lines: 16 NNTP-Posting-Host...",
          "from two 0.047 in series?! Organization: U of Toronto Zoology Lines: 13  In article <>  (Michael Gol...",
          "c Modems, RF Modem, etc -- Best Offer Distribution: na Organization: APG-Edgewood, MD, USA Lines: 26...",
          "(Robert Ganter) Organization: Institut fuer Informatik Nntp-Posting-Host: schroeder.ifi.unibas.ch Li...",
          "OM POWERED Nntp-Posting-Host: liu.cns.nyu.edu Reply-To:  Organization: New York University Lines: 13...",
          "anization: Performance Technologies, Incorporated Lines: 12  Any info on modern 20MHZ or better dual...",
          "r Bar Needed Organization: Netcom - Online Communication Services (408 241-9760 guest) Lines: 25   I...",
          "rce? Nntp-Posting-Host: chip Reply-To:  (David Vanderbyl) Organization: MPR Teltech Ltd. Lines: 30  ...",
          "on: Boston University, Boston, MA, USA Lines: 19  In article <>  (Stephe Lewis Foskett) writes: > >I...",
          " Coordinates  (Weston R Beal) Distribution: world Organization: Utah State Univ. EE Nntp-Posting-Hos...",
          "r chip Organization: NETCOM On-line Communication Services (408 241-9760 guest) Distribution: usa Li...",
          "rade Nntp-Posting-Host: cec1 Organization: Washington University, St. Louis MO Lines: 32  In article...",
          "ntp-Posting-Host: aisun3.ai.uga.edu Organization: AI Programs, University of Georgia, Athens Lines: ...",
          "Austrailia  (BYRNES,Graham) Organization: La Trobe University In-Reply-To: 's message of Mon, 19 Apr...",
          "ur service Lines: 10 Distribution: usa NNTP-Posting-Host: hpctdkz.col.hp.com  >   Does anybody out t...",
          "cted. Lines: 31 Nntp-Posting-Host: hengill.rhi.hi.is  In <>  (Ketil Albertsen,TIH) writes:  >May we ...",
          "? Organization: Computer Science Department at Rose-Hulman Lines: 14 NNTP-Posting-Host: g222-26.next...",
          "hie) Organization: DSG Development Eng Beckman Instruments Inc. Nntp-Posting-Host: 134.217.245.87 Li...",
          "erlin, Germany Lines: 7  Have anyone some idea about how to build a cheap, low resolution (or high :...",
          " M2321K, M2322K, Fujitsu, Microdisk (-: Organization: University of Wales, Aberystwyth Lines: 23  I ...",
          "Article-I.D.: reed.1993Apr20.230749.12821 Organization: Reed College, Portland, Oregon Lines: 36  In...",
          "55.11 Organization: Motorola Western MCU Design Center, Chandler Arizona Lines: 17  In article <>,  ...",
          "ware Nntp-Posting-Host: flux.isr.alaska.edu Organization: Geophysical Institute, Fairbanks, AK Lines...",
          "1pli7gINNi6b Organization: California Institute of Technology, Pasadena Lines: 8 NNTP-Posting-Host: ...",
          "Reply-To:  Organization: Intergraph Corporation, Huntsville AL Lines: 41  In article <>,  (Mark Zeni...",
          "GS AND JUMPER SETTINGS FOR 386SX MOTHERBOARD Keywords: JUMPER SETTINGS DIP-SWITCH SETTINGS, HELP, CO...",
          "ndustrial Research Ltd., New Zealand. NNTP-Posting-Host: grv.grace.cri.nz Lines: 37  From:\tMX%\"\"  6-...",
          "rticle-I.D.: hippo.1993Apr16.105738.20864 Organization: Rhodes University, Grahamstown, South Africa...",
          "To:  Organization: Universitaet Hannover, Theoretische Nachrichtentechnik Lines: 41  This is for a f...",
          " (for Easter? Keywords: xmas Organization: AT&T Lines: 54   Yes, I know it's nowhere near Christmas ...",
          "cle-I.D.: shelley.1r4cucINNham Distribution: na Organization: University of Washington, Seattle Line...",
          "tlet wiring.. (the truth) Keywords: outlet Reply-To:  Organization: Univ. of Lowell CS Dept. Lines: ...",
          "nization: U of Toronto Zoology Lines: 17  In article <>  (Wayne Smith) writes: >>No restriction was ...",
          "-fi) Organization: NASA Langley Research Center and Reptile Farm Lines: 20 NNTP-Posting-Host: grisso...",
          "eo amp chip Nntp-Posting-Host: cns9.cns.ucalgary.ca Organization: University of Calgary Lines: 13  L...",
          "y Mountain Computer Organization: Case Western Reserve University, Cleveland, Ohio (USA) Lines: 25 N...",
          "o a phone line Organization: Chalmers University of Technology Lines: 11  In article <>  (Sean Olive...",
          "ticle-I.D.: shelley.1pr91aINNikg Distribution: world Organization: University of Washington, Seattle...",
          ".19930406.072523.946 Lines: 7  If you can find a copy of \"8088 Assembler Language Programming: The I...",
          "ne line Organization: The University of Western Australia Lines: 14 NNTP-Posting-Host: mackerel.gu.u...",
          " Nacional de I+D Lines: 24  In article <>,  (John Thomson) writes: > Joseph Chiu () wrote: >  > : An...",
          "93828.1 Organization: Lawrence Livermore National Laboratory Lines: 15 NNTP-Posting-Host: travis.lln...",
          "icle-I.D.: spk.C52I89.GEq Distribution: na Organization: Hewlett-Packard Lines: 31 X-Newsreader: TIN...",
          "sticks Organization: University of Stellenbosch, SA Lines: 8  In article <>  (David F. Newman) write...",
          " circuit ~ Organization: Helsinki University of Technology, Finland Lines: 17 \t<> \t<1ptolq$> NNTP-Po...",
          "ost: v9001.ntu.ac.sg Organization: Nanyang Technological University - Singapore   currently I am usi...",
          " filter ICs wanted. Organization: University of Orleans, France. Lines: 9      Hi All!     I would l...",
          "or Organization: The Inquiring Mind BBS  1 204 488-1607 Lines: 43   (Bob Myers) writes:  > > I am lo...",
          "Towers do? Organization: NRK Clinic for habitual NetNews abusers - Beltway Annex Lines: 19 Reply-To:...",
          "Posting-Host: fenian.dell.com Reply-To:  Organization: SLAMDANZ CYBRNETX Lines: 13  Anyone know a re...",
          "m a schematic -> PCB? Organization: Comp.Center (RUS), U of Stuttgart, FRG Lines: 38 NNTP-Posting-Ho...",
          "bopper2.phx.mcd.mot.com Organization: Motorola Computer Group, Tempe, Az. Distribution: usa Lines: 9...",
          " Article-I.D.: nic.1993Apr5.213718.4721 Distribution: usa Organization: Triacus Inc. Lines: 26 Nntp-...",
          "ilt battery for 3rd grade sci report Keywords: 3rd grade science report Distribution: usa Organizati...",
          "e with MC68HC16 Keywords: DRAM, HC16 Nntp-Posting-Host: wu2.wl.aecl.ca Organization: AECL Research, ...",
          "ntrollers ? Article-I.D.: stellenb.mabbot.30.0 Organization: CSIR Lines: 15 NNTP-Posting-Host: 146.6...",
          "NRK Clinic for habitual NetNews abusers - Beltway Annex Lines: 24 Reply-To:  (David Lesher) NNTP-Pos...",
          "tion: Humber College Technology Dept. Lines: 29   According to my TI databook, the pinouts for the T...",
          ".ca:735344986:trsvax:288200082:000:164 Nf-trsvax.tandy.com!pauls    Apr 21 09:31:00 1993 Lines: 6   ...",
          " Department of Computer Science, University of Toronto Distribution: na Lines: 11  The subject line ...",
          "munications Systems, Melbourne, AustraliaRe: RAMs &ROMs with ALE latches (for 8051's) Lines: 28   (S...",
          "ation: Digital Equipment Corporation Lines: 31 Nntp-Posting-Host: cimill  In article <>,  (Peter Try...",
          " Organization: Northeastern Ohio Universities College of Medicine Lines: 19  If the set is direct li...",
          "rganization: Megatest Corporation Lines: 26  In article <>  (G. Stewart Beal) writes: >In article <>...",
          " world Nntp-Posting-Host: verdi.eng.unipr.it Lines: 19  Hi, I've got a PACE MODEM , Series Four 2400...",
          " book Article-I.D.: toontown.627 Reply-To:  (Craig S. Williamson) Organization: NCR E&M Columbia, SC...",
          " Nntp-Posting-Host: storm.cfnr.colostate.edu Organization:  Colorado Concert Sound Lines: 25  In art...",
          "siemens-austria Organization: Siemens AG Oesterreich Lines: 15  Hi !!!  Is there somebody using a 56...",
          "s? Organization: Computer Science Department at Rose-Hulman Lines: 11 NNTP-Posting-Host: g222-26.nex...",
          "ganization: School of MPCE, Macquarie University, Australia. Lines: 19 Distribution: world NNTP-Post...",
          "ion: University of Washington, Seattle Lines: 2 Distribution: na NNTP-Posting-Host: hardy.u.washingt...",
          " phone line Reply-To:  <Paula Stockholm> Organization: The Northern Lights BBS, Portland, ME  * 207-...",
          "one line Organization: NASA Langley Research Center and Reptile Farm Lines: 16 NNTP-Posting-Host: gr...",
          ": catv cable television tvi Organization: NCR Corporation Wichita, KS Lines: 14   (Victor Laking) wr...",
          " System 6626 BBS, Winnipeg Manitoba Canada Lines: 21            On an A/D board I've got, I'm using ...",
          "tp-Posting-Host: eigen.ee.ualberta.ca Organization: University Of Alberta, Edmonton Canada Lines: 28...",
          "n: The Inquiring Mind BBS  1 204 488-1607 Lines: 41   (Joel Kolstad) writes:  > In article <>  > > >...",
          "ion: De Montfort University, Leicester, UK Lines: 26 X-Newsreader: TIN [version 1.1 PL8]  Frank Hiel...",
          "Host: dexter.psych.umn.edu Organization: University of Minnesota Lines: 18  I have a stereo compress...",
          "n: Netcom - Online Communication Services (408 241-9760 guest) Lines: 20  In article <>  (Brian Day)...",
          "  X-Posted-InterNews  Organization: Dartmouth College, Hanover, NH Lines: 12  We are Dartmouth engin...",
          "A Langley Research Center and Reptile Farm Lines: 9 Distribution: world NNTP-Posting-Host: grissom.l...",
          "0 Organization: University of Houston Lines: 17 Distribution: world NNTP-Posting-Host: rosie.uh.edu ...",
          "Decoders  Organization: University of Canberra Lines: 9  Could someone please tell me if a 1/4 decod...",
          "S work??? Organization: Capital Area Central Texas UNIX Society, Austin, Tx Lines: 15    I understan...",
          " it work?? X-Disclaimer: Nyx is a public access Unix system run by the University \tof Denver for the...",
          "ibution: na Nntp-Posting-Host: sun_shine.mentorg.com Organization: Mentor Graphics Keywords:  Lines:...",
          "'s Cooling Towers do? Nntp-Posting-Host: levy.fnal.gov Organization: Fermilab Computing Division Lin...",
          "Week in Toronto. Organization: S Lines: 10   Does anybody know if there is a mailing list or newsgro...",
          "nd. Nntp-Posting-Host: 211.2.1.197 Organization: Texaco Lines: 16  I had a catalog with membrane key...",
          "Lehigh University Lines: 12  Well, I'm not too sure if this would be the right place to post this, b...",
          "ds: fluorescent bulb starter neon Nntp-Posting-Host: turbo_f.seas.smu.edu Organization: SMU - School...",
          "8051's) X-Xxdate: Wed, 21 Apr 93 03:04:18 GMT Nntp-Posting-Host: dialup-slip-1-88.gw.umn.edu Organiz...",
          "ion: TRIUMF: Tri-University Meson Facility Lines: 24 Distribution: world NNTP-Posting-Host: reg.triu...",
          "rganization: NASA Langley Research Center and Reptile Farm Lines: 9 NNTP-Posting-Host: grissom.larc....",
          "s: Used BMW Question ..... ???) Organization: Netcom Online Communications Services (408-241-9760 lo...",
          "Nntp-Posting-Host: aisun1.ai.uga.edu Organization: AI Programs, University of Georgia, Athens Lines:...",
          "ization: The World Public Access UNIX, Brookline, MA Lines: 27   (Mike Donahue) writes:   >I do NOT ...",
          " many electronics Questions Organization: Michigan Technological University X-Newsreader: TIN [versi...",
          "ie University Lines: 54 Distribution: world NNTP-Posting-Host: macadam.mpce.mq.edu.au  In article <>...",
          " two 0.047 in series?! Originator:  Nntp-Posting-Host: elan.princeton.edu Organization: Princeton Un...",
          "on: The Portal System (TM) Distribution: usa Lines: 6  Sounds like the picture tube lost vacuum.  Th...",
          "n: Horizon Research, Inc. Lines: 7 Distribution: world Reply-To:  NNTP-Posting-Host: sparc28.hri.com...",
          "ply Article-I.D.: jato.1993Apr15.225326.22831 Organization: JPL Pasadena CA Lines: 25 Nntp-Posting-H...",
          "ster Polytechnic Institute Lines: 11 NNTP-Posting-Host: wpi.wpi.edu  Hey everyone, I'm new to this  ...",
          "uestion about 120VAC outlet wiring. Nntp-Posting-Host: aisun3.ai.uga.edu Organization: AI Programs, ...",
          "nization: PANIX Public Access Unix, NYC Lines: 11  There are also a couple or three places on West 4...",
          "e line Nntp-Posting-Host: churchill.columbiasc.ncr.com Organization: NCR Corp., Columbia SC Lines: 3...",
          "UT? That's a joke. Lines: 24 NNTP-Posting-Host: thing1.cc.utexas.edu  It is illegal to use anything ...",
          "ly-To: 's message of 15 Apr 93 15:02:28 Lines: 38 Organization: University of Oulu, Dept. of EE, Fin...",
          " Philosophical Question Summary: How do we preferentially amplify holes instead of electrons? Keywor...",
          "t........Nanaimo Campus)Re: Suggestions  on Audio relays ??? Organization: Malaspina College Lines: ...",
          "930406.131941.134 Lines: 3   They detect the oscillator operating in the detector. Saw a story about...",
          "ersity of Kansas Academic Computing Services Lines: 33  Thanks for the resposes as they were all goo...",
          " IR detector cards..??? Keywords: IR card  Organization: Monash University, Melb., Australia. Lines:...",
          "mputer, Marlboro Ma. Lines: 22 NNTP-Posting-Host: m21.eng.stratus.com  In article <>  (Roger A Willi...",
          "8051's) Organization: Harris Allied Broadcast Div., Quincy, IL Lines: 22   Intel also makes some nea...",
          "n: world Organization: Ozone Online Operations, Inc. - New Orleans, LA Reply-To:  (Gerald Belton)  L..."
         ],
         "type": "scatter",
         "x": [
          14.756913185119629,
          11.09183406829834,
          17.5086669921875,
          16.757549285888672,
          -6.843396186828613,
          8.256108283996582,
          -0.3428197205066681,
          -2.814535617828369,
          -7.056631565093994,
          -6.608814239501953,
          2.6996142864227295,
          2.7056825160980225,
          -3.50870943069458,
          7.506647109985352,
          -1.7690197229385376,
          11.803325653076172,
          -2.717240571975708,
          2.909280300140381,
          -1.2785531282424927,
          2.357208251953125,
          5.052272796630859,
          -4.999520778656006,
          -2.7722432613372803,
          3.649397373199463,
          -1.7825971841812134,
          5.604950428009033,
          -3.779221296310425,
          7.589869022369385,
          1.7824370861053467,
          4.7018513679504395,
          -10.790972709655762,
          -2.5204014778137207,
          0.5046486258506775,
          3.3429062366485596,
          -0.41379737854003906,
          13.113783836364746,
          3.857235908508301,
          1.3702760934829712,
          -5.447855472564697,
          1.1161922216415405,
          -4.431580543518066,
          4.3844475746154785,
          4.055734157562256,
          13.638303756713867,
          10.632450103759766,
          3.2856357097625732,
          -6.025925636291504,
          -8.087347984313965,
          6.6508049964904785,
          11.188573837280273,
          4.574666976928711,
          6.874814987182617,
          -8.145563125610352,
          0.811947762966156,
          -1.6516485214233398,
          -1.917647123336792,
          12.958558082580566,
          -9.123437881469727,
          10.387784957885742,
          5.709957599639893,
          4.9029083251953125,
          -3.558523654937744,
          3.6801605224609375,
          5.6342926025390625,
          4.363586902618408,
          6.817723751068115,
          3.3578317165374756,
          -3.7076339721679688,
          2.7672722339630127,
          6.629438400268555,
          -4.048977851867676,
          21.9386043548584,
          3.7273261547088623,
          4.773252964019775,
          9.010175704956055,
          5.979356288909912,
          4.9945878982543945,
          -3.1271634101867676,
          1.7942496538162231,
          -2.998270034790039,
          -0.9721259474754333,
          10.257306098937988,
          5.377969264984131,
          -7.696623802185059,
          -4.75938081741333,
          3.9339139461517334,
          -0.4776609241962433,
          3.6008670330047607,
          -1.2183372974395752,
          8.30757999420166,
          6.027104377746582,
          9.391949653625488,
          3.737298011779785,
          3.586343765258789,
          -4.18123722076416,
          1.4152326583862305,
          7.001298904418945,
          3.4759180545806885,
          2.810676097869873,
          -1.1192423105239868,
          1.1270618438720703,
          -0.033312663435935974,
          6.6113481521606445,
          24.41718864440918,
          -4.519208908081055,
          8.62348461151123,
          6.306774616241455,
          -6.401729106903076,
          -3.2987911701202393,
          -0.6260180473327637,
          -4.0162458419799805,
          16.188838958740234,
          -3.296381711959839,
          -5.978865623474121,
          -1.0437896251678467,
          -5.398059368133545,
          0.4684930443763733,
          -1.6093318462371826,
          3.064044237136841,
          40.8061637878418,
          6.712313175201416,
          -7.150939464569092,
          -8.93588924407959,
          -0.05145052447915077,
          0.31786614656448364,
          -2.6347906589508057,
          1.662350058555603,
          7.573196887969971,
          13.755778312683105,
          0.11102627217769623,
          0.9598296284675598,
          1.7391645908355713,
          7.085093021392822,
          -0.5231472849845886,
          6.010867595672607,
          -3.787691831588745,
          -8.1271333694458,
          7.828789710998535,
          7.905920028686523,
          1.8091338872909546,
          -9.27459716796875,
          1.2268788814544678,
          -2.154090642929077,
          15.261019706726074,
          -2.0073955059051514,
          -7.409580230712891,
          -8.86146354675293,
          3.4578845500946045,
          0.8492631912231445,
          1.2325005531311035
         ],
         "y": [
          7.707223892211914,
          -4.280710697174072,
          -6.985265731811523,
          -5.684043884277344,
          2.804164171218872,
          -5.781029224395752,
          -3.2377185821533203,
          -0.25952059030532837,
          1.3902074098587036,
          0.9368242621421814,
          4.528498649597168,
          -2.978996515274048,
          -1.4062089920043945,
          -1.4631799459457397,
          1.1583682298660278,
          -0.9718436598777771,
          -0.4289492964744568,
          -3.7632980346679688,
          -2.0366270542144775,
          1.8384383916854858,
          -3.8456103801727295,
          0.288825124502182,
          0.4309597611427307,
          -3.5713577270507812,
          -2.4838740825653076,
          -1.9115865230560303,
          0.78912353515625,
          -5.553614616394043,
          -3.6428308486938477,
          -4.973573207855225,
          1.1922732591629028,
          5.629323482513428,
          0.7463185787200928,
          -0.326947957277298,
          -1.125254511833191,
          -7.940417289733887,
          -1.9986152648925781,
          -4.020198345184326,
          -0.6277865171432495,
          0.2720365524291992,
          2.893078088760376,
          0.9193874597549438,
          -2.062044143676758,
          -2.687466621398926,
          -0.24545475840568542,
          -0.02020428515970707,
          3.058471202850342,
          3.878901243209839,
          -0.09619930386543274,
          -6.936343669891357,
          -3.4439351558685303,
          -3.2860476970672607,
          2.493502378463745,
          1.2432371377944946,
          -2.1154656410217285,
          -1.8350189924240112,
          1.5264753103256226,
          2.5416462421417236,
          -4.54128360748291,
          8.538592338562012,
          -0.9951905012130737,
          0.9674921035766602,
          -3.5518763065338135,
          -4.900806427001953,
          -0.08506032079458237,
          1.1206907033920288,
          -5.752462863922119,
          -0.21619664132595062,
          1.0396521091461182,
          0.05069912225008011,
          -0.9633661508560181,
          10.058256149291992,
          -1.1213687658309937,
          -0.5903508067131042,
          6.40468168258667,
          -1.7644630670547485,
          0.9165669679641724,
          0.042534083127975464,
          -4.311097145080566,
          5.737131118774414,
          -1.6888062953948975,
          7.1954803466796875,
          -1.0893174409866333,
          0.4506547152996063,
          -1.9825278520584106,
          -3.528151273727417,
          -1.151085615158081,
          -1.784271478652954,
          -3.0467379093170166,
          -4.347586631774902,
          -4.261484622955322,
          7.332915306091309,
          0.882683277130127,
          0.3181762397289276,
          -1.3080166578292847,
          6.058237552642822,
          -3.8255534172058105,
          -5.044744491577148,
          2.9963274002075195,
          0.6038655042648315,
          3.3365092277526855,
          -3.343585968017578,
          -4.953292369842529,
          7.998136043548584,
          4.1302103996276855,
          -7.682313442230225,
          0.3544783890247345,
          3.0408260822296143,
          2.2525827884674072,
          -0.564877450466156,
          -1.4394503831863403,
          -2.5617690086364746,
          -3.0232136249542236,
          -1.046216607093811,
          -2.148893117904663,
          1.9712344408035278,
          -4.096129894256592,
          -1.4034761190414429,
          0.22734026610851288,
          26.51301383972168,
          -5.939927577972412,
          0.5012364387512207,
          1.890580654144287,
          -2.3829638957977295,
          0.601675271987915,
          0.008247350342571735,
          -1.9290982484817505,
          -5.685985565185547,
          -0.9021443724632263,
          -2.9484777450561523,
          -3.548949956893921,
          0.20480875670909882,
          -3.3144078254699707,
          -3.7540857791900635,
          -5.430963039398193,
          1.3321905136108398,
          2.8847873210906982,
          2.5997259616851807,
          -6.467536926269531,
          2.133326530456543,
          1.3412590026855469,
          -0.12481753528118134,
          0.09309262782335281,
          15.369029998779297,
          -2.540682554244995,
          0.9363856911659241,
          3.305227518081665,
          -0.2598719894886017,
          -3.247736930847168,
          2.3142073154449463
         ]
        },
        {
         "hoverinfo": "text",
         "marker": {
          "line": {
           "color": "white",
           "width": 0.5
          },
          "size": 15
         },
         "mode": "markers",
         "name": "Class sci.med",
         "opacity": 0.7,
         "text": [
          "rnal Article - Whiplash/Cervical Pain Lines: 37 Organization: Colonial Mutual Life Australia X-Newsr...",
          "ganization: Invention Factory's BBS - New York City, NY - 212-274-8298v.32bis Reply-To:  (Jim Zisfei...",
          "rganization: The Santa Cruz Operation, Inc. Distribution: usa Lines: 18   In article <>  (Evan Hunt)...",
          "KS GREAT !!!! Organization: Omen Technology INC, Portland Rain Forest Lines: 34  In article <>  (Bet...",
          "me Organization: Sun Microsystems, Inc.  Mt. View, Ca. Lines: 18 Distribution: world Reply-To:  (Jim...",
          "nization: CS Dept, University of Texas at Austin Lines: 17 NNTP-Posting-Host: saltillo.cs.utexas.edu...",
          "weet (aspartame) Organization: S.P. Dyer Computer Consulting, Cambridge MA Lines: 30  In article <> ...",
          " Organization: The Portal System (TM)   <> <> Lines: 41  A person posted certain stuff to this newsg...",
          "-Host: drums.reasoning.com Organization: Reasoning Systems, Inc., Palo Alto, CA Lines: 11   My insur...",
          "s Organization: Computing Services Division, University of Wisconsin - Milwaukee Lines: 19 NNTP-Post...",
          "srael Hospital, Harvard Medical School, Boston Mass., USA Lines: 11 NNTP-Posting-Host: enterprise.bi...",
          "ation: Pittsburgh TRansplant Institute Lines: 41  In article <>  (Steve Heffner) writes: >A bit more...",
          "riptan) available in CA Article-I.D.: vela.1psee5$c3t Distribution: na Organization: Oakland Univers...",
          "s In-Reply-To: 's message of Tue, 6 Apr 1993 03:28:57 GMT Nntp-Posting-Host: crux3.cit.cornell.edu O...",
          "et for Crohn's (IBD) Organization: Gastroenterology - Univ. of Alabama Distribution: usa Lines: 36  ...",
          "is [Is it Lyme's?]\"] Organization: Lamont-Doherty Earth Observatory Lines: 50  In article <>,  (Gord...",
          "trix Networks Lines: 21   > In article <>  (Richard Silver) writes: > > > >Is there a right-eye domi...",
          "bicans: what is it?) Article-I.D.: bunyip.C5wwGz.17G Organization: Prentice Centre, University of Qu...",
          "ects Organization: George Washington University Lines: 28  In article <>  (Steve Dyer) writes: >In a...",
          ": West Virginia Network for Educational Telecomputing Lines: 11  My girlfriend is in pain from kidne...",
          "ruzio.5254 Reply-To:  Lines: 12   I have a friend who has just been diagnosed with Lupus, and I know...",
          "pathy ... tradition?) Summary: Science is not mere methodology.   Organization: University of Hawaii...",
          "tient relationship problem Organization: NETCOM On-line Communication Services (408 241-9760 guest) ...",
          "ead an Ultrasound? Organization: Dixie Communications Public Access.  The Mouth of the South. Lines:...",
          "ation: University of New Mexico, Albuquerque Lines: 27 NNTP-Posting-Host: carina.unm.edu   Gordon Ba...",
          "e of Veterinary Medicine WSU X-Newsreader: TIN [version 1.1 PL9] Lines: 45  kathleen richards () wro...",
          "ael Hospital, Harvard Medical School, Boston Mass., USA Lines: 26 NNTP-Posting-Host: enterprise.bih....",
          "Organization: U.C. Berkeley -- ERL Lines: 16 Distribution: world NNTP-Posting-Host: zion.berkeley.ed...",
          " Flying? Article-I.D.: rigel.SHAFER.93Apr6095951 Organization: NASA Dryden, Edwards, Cal. Lines: 33 ...",
          "rdon Banks) Organization: Univ. of Pittsburgh Computer Science Lines: 28  In article <>  (David Nye)...",
          " of medical terms Organization: Ecole Polytechnique Federale de Lausanne Lines: 41 NNTP-Posting-Host...",
          "p, depression Nntp-Posting-Host: bottom.magnus.acs.ohio-state.edu Organization: The Ohio State Unive...",
          "obert Allison) Organization: The National Capital Freenet Lines: 18   I have between 15 and 25 noseb...",
          "Semantic War. Organization: University of Illinois at Urbana Lines: 6  Also remember that most peopl...",
          " Banks) Organization: Univ. of Pittsburgh Computer Science Lines: 17  In article <>  (Ken Mitchum) w...",
          "Nntp-Posting-Host: wind.bellcore.com Reply-To:  Organization: Bell Communications Research Lines: 31...",
          "p-Posting-Host: aisun3.ai.uga.edu Organization: AI Programs, University of Georgia, Athens Lines: 12...",
          "ingers Article-I.D.: pitt.19424 Reply-To:  (Ken Mitchum) Organization: Univ. of Pittsburgh Computer ...",
          "al research? Organization: University of Northern Iowa Lines: 22  In article <>,  (Ken Mitchum) writ...",
          "words: gene pool; wisdom; virtue Nntp-Posting-Host: naples.med.unc.edu Organization: UNC-CH School o...",
          "ion? Organization: Center for Reliable and High-Performance Computing, University of Illinois at Urb...",
          "s: Homeopathy ... tradition?) Nntp-Posting-Host: engws5.ic.sunysb.edu Organization: State University...",
          "m.stortek.com Organization: StorageTek SW Engineering X-Newsreader: NNR/VM S_1.3.2 Lines: 53  In art...",
          "n: Acadia University Lines: 15   (James R. Skinner) writes:  >\t >\tI have seen a couple of postings r...",
          "ion? Organization: sdf public access Unix, Dallas TX 214/436-3281 Lines: 27  In article <>  (Andrew ...",
          " skin - problem? Article-I.D.: aio.1993Apr6.133244.14717 Distribution: sci.med Organization: Lockhee...",
          "al tradition? Reply-To:  (Gordon Banks) Organization: Univ. of Pittsburgh Computer Science Lines: 26...",
          " S.P. Dyer Computer Consulting, Cambridge MA Lines: 25  In article <>  (Robert Allison) writes: >Doe...",
          "eywords: seizures epilepsy Reply-To:  (Gordon Banks) Organization: Univ. of Pittsburgh Computer Scie...",
          "nization: University of Wisconsin Eau Claire Lines: 19  [reply to  (MD)]   >After many metabolic tes...",
          "ute of Theoretical and Experimental Biophysics Lines: 29 NNTP-Posting-Host: venus.iteb.serpukhov.su ...",
          "anization: University of Kuopio, Finland Lines: 10   There is this newsgroup sci.med.physics and the...",
          "AT&T Distribution: usa Keywords: San Francisco Lines: 9   \tI was kind of half watching Street Storie...",
          "=> RoseMail Gateway (v1.70) Organization: Rose Media Inc, Toronto, Ontario. Lines: 23  L(>   (Joel B...",
          "riginator:  Nntp-Posting-Host: sasquatch Reply-To:  Organization: Clinical Diagnostics Division, Eas...",
          "-I.D.: cs.1993Apr22.055958.2377 Organization: nCUBE, Sandia Park, NM Lines: 31  In article <>  (Vida...",
          "? Reply-To:  (Betty Harvey) Organization: Carderock Division, NSWC, Bethesda, MD Lines: 30  In rec.f...",
          "cle-I.D.: pitt.19396 Reply-To:  (Gordon Banks) Organization: Univ. of Pittsburgh Computer Science Li...",
          "ation: AT&T Keywords: seizures Lines: 8  Here is the tollfree hotline for the Epilepsy Foundation of...",
          "tronet Communications Services, Dallas Tx Distribution: usa Lines: 13  I am 35 and am recovering fro...",
          "Keywords: Daypro Lines: 7  Anyone have any information on the effects/origin of oxaprozin? It's mark...",
          "ans: what is it?) Organization: University of Wisconsin Eau Claire Lines: 29  [reply to  (Jacquelin ...",
          "  (Grant Edwards) Organization: Rosemount, Inc. Lines: 41 Nntp-Posting-Host: aquarius   (Richard Ott...",
          " Reply-To:  Organization: University of Chicago Lines: 27  One thing that I haven't seen in this thr...",
          "ization: CS Dept, University of Texas at Austin Lines: 67 Distribution: inet NNTP-Posting-Host: im4u...",
          "omeopathy ... tradition?) Originator:  Nntp-Posting-Host: theseus.unx.sas.com Organization: SAS Inst...",
          "ghts from the DSM-IIIR Organization: Digital Equipment Corporation Lines: 45 NNTP-Posting-Host: DWOV...",
          "s (PDR)? Reply-To:  (Gordon Banks) Organization: Univ. of Pittsburgh Computer Science Lines: 48  In ...",
          "zation: Stratus Computer, Inc. Lines: 14 Distribution: world NNTP-Posting-Host: coyoacan.sw.stratus....",
          "omeopathy ... tradition?) Originator:  Nntp-Posting-Host: theseus.unx.sas.com Organization: SAS Inst...",
          "opathy ... tradition?) Organization: University of Rochester  In article <>  (Gary Merrill) writes: ...",
          "rdon Banks) Organization: Univ. of Pittsburgh Computer Science Lines: 22  In article <>  (daniel fed...",
          "rstition? Organization: University of Illinois at Urbana Lines: 26   (Steve Dyer) writes:  >In artic...",
          "nks) Reply-To:  Organization: University of Chicago Lines: 12  There were a few people who responded...",
          " Organization: Locus Computing Corporation, Los Angeles, California Distribution: usa Lines: 12   Hi...",
          "To:  (Gordon Banks) Distribution: na Organization: Univ. of Pittsburgh Computer Science Lines: 19  >...",
          "ntp-Posting-Host: huey.udel.edu Organization: little scraps of paper, mostly Lines: 10   I think he ...",
          "alif State Univ/Electronic Information Services Lines: 3  Can anyone help me find any information on...",
          "e of Veterinary Medicine WSU X-Newsreader: TIN [version 1.1 PL9] Lines: 13  kathleen richards () wro...",
          "ems Organization: University of Colorado at Denver Lines: 29   \tA friend has the following symptoms ...",
          " Organization: NASA Langley Research Center, Hampton, VA Lines: 28 Reply-To: Jason C. Austin <> NNTP...",
          "zation: Space Telescope Science Institute Distribution: na  Am I justified in being pissed off at th...",
          "ctose intolerance Organization: Gastroenterology - Univ of Alabama Lines: 19  In article <>,  (Ho Le...",
          " Robinson <>Reasons for hospitals to join Internet? Lines: 8  What resources and services are availa...",
          "n: Actrix Networks Lines: 26   My 14-y-o son has the usual teenage spotty chin and greasy nose.  I b...",
          " Switzerland Lines: 21  Hello to everybody, I write here because I am kind of desperate. For about s...",
          "Gordon Banks) Organization: Univ. of Pittsburgh Computer Science Lines: 16  In article <>  (Daniel P...",
          "itt.19440 Reply-To:  (Gordon Banks) Organization: Univ. of Pittsburgh Computer Science Lines: 23  In...",
          "versity of Wisconsin Eau Claire Lines: 13  [reply to  (Gordon Banks)]   >>I believe it is illegal fo...",
          "Organization: S.P. Dyer Computer Consulting, Cambridge MA Lines: 14  In article <1qnns0$>  (Steve Po...",
          "is [Is it Lyme's?]\"] Reply-To:  (Gordon Banks) Organization: Univ. of Pittsburgh Computer Science Li...",
          "or? Organization: HP Colorado Springs Division Lines: 5 Distribution: na NNTP-Posting-Host: hpcspe17...",
          "KS GREAT !!!! Organization: Omen Technology INC, Portland Rain Forest Lines: 33  In article <>  (Gor...",
          " Utah State University Lines: 35  >>Between who? Over what? I would be most interested in seeing you...",
          "icle-I.D.: cup.79700 Organization: The Portal System (TM) Lines: 36  > Probably within 50 years, a n...",
          "on Banks) Organization: Univ. of Pittsburgh Computer Science Lines: 12  In article <>  (John E. Rodw...",
          "rriage Organization: worldbank.org Lines: 17        Following a series of miscarriages, my wife was ...",
          "cle-I.D.: pitt.19422 Reply-To:  (Ken Mitchum) Organization: Univ. of Pittsburgh Computer Science Lin...",
          "since last month [monthly posting] Supersedes: <typing-injury-faq/> Organization: University of Cali...",
          " Vasomotor Rhinitis Organization: University of Pittsburgh Lines: 21  In article <1r1t1a$>  writes: ...",
          " Albicans: what is it?) Nntp-Posting-Host: magnusug.magnus.acs.ohio-state.edu Organization: The Ohio...",
          ": world Organization: Invention Factory's BBS - New York City, NY - 212-274-8298v.32bis Reply-To:  (...",
          "er Corporation Nntp-Posting-Host: condor.encore.com Lines: 20  A bit more than a year ago, a hernia ...",
          "ewsj.1993Apr6.161858.12132 Distribution: na Organization: AT&T Lines: 15  In article <>,  writes: > ...",
          "blue.7936 Lines: 23 X-Newsreader: TIN [version 1.1 PL8]  David Nye () wrote: : [reply to  (ron roth)...",
          "ines: 43 Nntp-Posting-Host: vms.ocom.okstate.edu Organization: OSU College of Osteopathic Medicine  ...",
          "n? Lines: 12   To:  (Alex Milshteyn)   AM> Having said that, i might add, that in MHO, MSG does not ...",
          ": The Old Frog's Almanac, Nanaimo, B.C. Keywords: Bates method Summary: Proven a hoax long ago Lines...",
          "Sybase, Inc. Lines: 18  My mom has just been diagnosed with cystic breast disease -- a big relief, a...",
          "National Accelerator Laboratory, Batavia IL Lines: 14 Distribution: world NNTP-Posting-Host: adcs01....",
          "sa Organization: Beth Israel Hospital, Harvard Medical School, Boston Mass., USA Lines: 15 NNTP-Post...",
          "core, Piscataway, NJ Lines: 14  In article <>  (Gordon Banks) writes: >In article <>  (Richard Silve...",
          "ry: Kaiser has been doing it for a while Article-I.D.: pegasus.1993Apr22.221508.10196 Organization: ...",
          "anization: Lehigh University Lines: 22  The following 4 addresses are on the LymeNet mailing list, b...",
          "Host: vms.ocom.okstate.edu Organization: OSU College of Osteopathic Medicine Distribution: usa  In a...",
          " UM Anesthesiology Lines: 21 Distribution: world NNTP-Posting-Host: 141.214.86.38 X-UserAgent: Nunti...",
          "t current trends in diabetes. Lines: 63 Organization: The Information Deli - via Netcom / San Jose, ...",
          "rganization: The World Public Access UNIX, Brookline, MA Lines: 10   Some recent postings remind me ...",
          "es Organization: Hitachi Computer Products, OSSD division Lines: 16 NNTP-Posting-Host: duca.hi.com  ...",
          "eet (aspartame) Organization: University of Vermont -- Division of EMBA Computer Facility Lines: 21 ...",
          "? Keywords: cancer Organization: Digital Equipment Corporation Lines: 13   What does a lack of taste...",
          "ization: Carleton University, Ottawa, Canada Lines: 44  In article <>  (Gong Tong) writes: >In artic...",
          "n: Department of Computer Science, UWO, Canada Keywords: volvulus Nntp-Posting-Host: berfert.csd.uwo...",
          "ationship problem Distribution: world Organization: Invention Factory's BBS - New York City, NY - 21...",
          "icle-I.D.: oregon.21APR199316170714 Distribution: world Organization: University of Oregon Lines: 14...",
          "sity of Wisconsin Eau Claire Lines: 15  [reply to  (ron roth)]   >While you're right that the S vert...",
          "anks) Organization: Univ. of Pittsburgh Computer Science Lines: 18  In article <>  (John Werner) wri...",
          " Organization: University of Pittsburgh Lines: 14  In article <>  (Fiberman) writes: :Is erythromyci...",
          "ion: McDonnell Douglas Aerospace Lines: 20 Distribution: world NNTP-Posting-Host: q5020598.mdc.com  ...",
          "s [Is it Lyme's?]\"] Article-I.D.: pitt.19421 Reply-To:  (Ken Mitchum) Organization: Univ. of Pittsbu...",
          "22 X-Newsreader: Tin 1.1 PL5  Sharon Paulson () wrote: :  {much deleted] :  :  : The fact that this ...",
          "g's Almanac, Nanaimo, B.C. Keywords: advice needed Summary: thanx for the comeback Lines: 7  Hello ,...",
          "'s message of Mon, 12 Apr 1993 21:02:31 GMT Nntp-Posting-Host: kyanite Organization: Telesciences CO...",
          "I.D.: pitt.19423 Reply-To:  (Ken Mitchum) Organization: Univ. of Pittsburgh Computer Science Lines: ...",
          "anization: Virginia's Public Education Network (Radford) Lines: 13  Thanks for all your assistance. ...",
          "zation: NASA Langley Research Center, Hampton VA, USA Lines: 48 \t<> <> NNTP-Posting-Host: cmb00.larc...",
          "ERT-CONNECT -- Public Access UNIX Lines: 15   can anyone give me more information regarding endometr...",
          "r:  Organization: Citibank IBISM Lines: 11    has any one heard of a sedative called \"Rhoepnol\"? Mad...",
          "ngstown State University Lines: 5 NNTP-Posting-Host: ysub.ysu.edu  Does the Proventil inhaler for as...",
          "P-Posting-Host: fred.bbn.com   (ron roth) writes:  |JB>   (Ella I Baff) writes: |JB>   |JB>    Ron R...",
          "nline Communication Services (408 241-9760 guest) Lines: 7  In article <>  (Gordon Banks) writes: >w...",
          "yer Computer Consulting, Cambridge MA  In article <>  (Craig MacDonald) writes: >>  It may be extrem...",
          " slit operation Article-I.D.: pegasus.1993Apr22.221111.9678 Organization: Pegasus,  Honolulu Lines: ...",
          "zation: NASA Langley Research Center, Hampton VA, USA Lines: 52 \t<> NNTP-Posting-Host: cmb00.larc.na...",
          " Nntp-Posting-Host: sdcmvs.mvs.sas.com Organization: SAS Institute Inc. Lines: 16  In article <>,  (...",
          "ization: Carleton University, Ottawa, Canada Lines: 43  In article <>  (David Thomas) writes:  >>In ...",
          "T !!!! Organization: Express Access Public Access UNIX, Greenbelt, Maryland USA Lines: 58 NNTP-Posti...",
          "zation: NASA Langley Research Center, Hampton VA, USA Lines: 53 NNTP-Posting-Host: cmb00.larc.nasa.g...",
          "zation: Unocal Corporation Lines: 20  Living things maintain small electric fields to (1) enhance ce...",
          "formix Software, Inc. Lines: 11  In article <>  (Dick King) writes: > >I recall reading somewhere, d..."
         ],
         "type": "scatter",
         "x": [
          2.0289433002471924,
          0.5838117599487305,
          5.1406731605529785,
          0.436897337436676,
          -7.043030261993408,
          2.127070188522339,
          -6.1079020500183105,
          -6.992772102355957,
          -4.741687297821045,
          -4.187523365020752,
          6.228898048400879,
          2.6034023761749268,
          0.6791898608207703,
          5.439446926116943,
          -2.1261184215545654,
          -4.687358856201172,
          10.579875946044922,
          -5.933006286621094,
          -0.06603968888521194,
          -3.8576745986938477,
          -9.280399322509766,
          -5.568458557128906,
          -6.544253826141357,
          -1.9810218811035156,
          -7.658013343811035,
          -5.502752304077148,
          -1.6850590705871582,
          -0.4522220194339752,
          -2.069322109222412,
          -3.6784050464630127,
          -1.5594391822814941,
          -8.849703788757324,
          -2.7918038368225098,
          12.316534042358398,
          2.6050472259521484,
          -2.121340751647949,
          8.24169921875,
          -6.140300750732422,
          -8.852993965148926,
          7.905247211456299,
          -4.229678630828857,
          -4.974209785461426,
          -0.8017653226852417,
          4.251837730407715,
          -0.22178921103477478,
          -2.5826809406280518,
          -1.0980000495910645,
          -7.255490303039551,
          -2.4374306201934814,
          -4.56136417388916,
          -3.929108142852783,
          1.9287333488464355,
          -3.6446032524108887,
          7.565213203430176,
          0.6959481239318848,
          -5.749693393707275,
          -1.4760112762451172,
          -2.999227523803711,
          -2.8575286865234375,
          3.3165512084960938,
          0.5315950512886047,
          -6.414040565490723,
          2.2415621280670166,
          -3.503593921661377,
          -9.189019203186035,
          10.921156883239746,
          0.5488694906234741,
          -12.191713333129883,
          3.85868501663208,
          -2.5941102504730225,
          -5.403762340545654,
          0.15699930489063263,
          0.49065113067626953,
          -0.97337806224823,
          6.956769943237305,
          -0.3124149739742279,
          0.6509169936180115,
          -1.1495122909545898,
          8.340394020080566,
          -5.626997470855713,
          -5.71965217590332,
          -11.957103729248047,
          1.1887269020080566,
          -3.957782745361328,
          -9.168919563293457,
          -10.333420753479004,
          1.6994328498840332,
          -3.857602119445801,
          -5.37445592880249,
          3.078457832336426,
          -0.7133287191390991,
          10.922798156738281,
          6.19002628326416,
          -7.947482109069824,
          -7.541162490844727,
          6.340479373931885,
          -7.599547863006592,
          -2.325079917907715,
          30.819252014160156,
          0.9680735468864441,
          -2.0636327266693115,
          2.820733070373535,
          -7.047913074493408,
          -4.760472774505615,
          2.026542901992798,
          8.507744789123535,
          -2.50746488571167,
          2.620598793029785,
          -10.694976806640625,
          0.9298183917999268,
          4.991479873657227,
          6.172229766845703,
          0.4659891724586487,
          -3.690093517303467,
          -4.832881927490234,
          -2.4714672565460205,
          0.16579796373844147,
          -6.502660751342773,
          2.432831048965454,
          -9.986835479736328,
          -3.222048759460449,
          1.2507976293563843,
          -8.17370891571045,
          3.141629934310913,
          -2.3630764484405518,
          -5.290266513824463,
          3.8673181533813477,
          14.145596504211426,
          -6.494846820831299,
          -2.1451640129089355,
          -0.19546367228031158,
          12.523773193359375,
          -0.2088601142168045,
          -6.3640007972717285,
          -7.053173065185547,
          10.823740005493164,
          2.5808043479919434,
          -1.218207836151123,
          4.801029205322266,
          1.8730525970458984,
          6.139640808105469,
          6.047243595123291,
          0.8880971670150757,
          -2.0200653076171875,
          1.1459139585494995,
          -1.6499963998794556,
          -8.028761863708496,
          0.3791029453277588,
          -7.11412239074707,
          -2.4432787895202637
         ],
         "y": [
          -4.007542133331299,
          -0.9931856989860535,
          -1.3793537616729736,
          1.4574984312057495,
          -0.11728249490261078,
          -1.8539679050445557,
          1.6689167022705078,
          1.5945534706115723,
          0.4532228410243988,
          5.000514984130859,
          -5.47213077545166,
          8.472297668457031,
          -4.094845294952393,
          -1.6059091091156006,
          1.480705976486206,
          4.872054576873779,
          -1.6110546588897705,
          4.510833263397217,
          3.5348949432373047,
          -1.2466301918029785,
          1.6317873001098633,
          3.7241950035095215,
          0.9849574565887451,
          0.9194295406341553,
          2.997386932373047,
          0.274199515581131,
          0.9799886345863342,
          -0.431984007358551,
          -0.6279110312461853,
          -1.990590214729309,
          -2.114776849746704,
          2.914470672607422,
          -1.8549354076385498,
          -7.480677604675293,
          -1.5733739137649536,
          2.5486650466918945,
          0.7630773782730103,
          0.23009826242923737,
          3.5986781120300293,
          -7.251903533935547,
          1.2954809665679932,
          2.3751275539398193,
          2.5509915351867676,
          -2.9070591926574707,
          1.9974576234817505,
          3.6520066261291504,
          -0.9639036655426025,
          0.7925698161125183,
          2.866772174835205,
          1.976539969444275,
          -2.1600708961486816,
          -5.154162406921387,
          -1.9058408737182617,
          0.35878321528434753,
          -1.3572278022766113,
          2.345292329788208,
          -0.4858376979827881,
          2.8862035274505615,
          -1.8719892501831055,
          -3.164750337600708,
          -3.155500650405884,
          1.615170955657959,
          -3.258011817932129,
          -0.9147974252700806,
          3.2520339488983154,
          -5.364756107330322,
          -1.141363263130188,
          4.277647495269775,
          -4.824980735778809,
          0.7318059802055359,
          1.4353694915771484,
          0.3753647208213806,
          1.8146114349365234,
          -2.9759912490844727,
          -2.8691933155059814,
          -1.2428483963012695,
          -4.915838241577148,
          -2.2168421745300293,
          -5.093005657196045,
          -0.8748679161071777,
          1.8085668087005615,
          -0.04765292629599571,
          0.3753182291984558,
          0.6660757064819336,
          -0.0861169770359993,
          1.3750678300857544,
          -0.171077698469162,
          1.9085800647735596,
          1.682593584060669,
          -1.316131830215454,
          0.7373844981193542,
          -7.360779285430908,
          0.30647432804107666,
          4.024467468261719,
          1.432491421699524,
          -3.9230079650878906,
          -0.8907350301742554,
          3.1784563064575195,
          20.27583122253418,
          -0.9355894327163696,
          2.52584171295166,
          -2.023754596710205,
          -1.3899608850479126,
          2.324860095977783,
          1.5609556436538696,
          9.498761177062988,
          2.0456016063690186,
          -6.759547233581543,
          1.2555251121520996,
          -4.015836238861084,
          -2.9281561374664307,
          2.545753002166748,
          0.334859699010849,
          -1.3654851913452148,
          1.8656120300292969,
          3.054903507232666,
          3.9745404720306396,
          0.6459717750549316,
          -2.937145471572876,
          2.149364948272705,
          -2.250934362411499,
          3.0313990116119385,
          -0.164094939827919,
          -2.308683395385742,
          -2.236562490463257,
          1.8408957719802856,
          0.6032581925392151,
          -1.280596137046814,
          -2.9745662212371826,
          -0.16302628815174103,
          -3.3732004165649414,
          -9.002456665039062,
          0.072331003844738,
          0.8112441897392273,
          0.15579527616500854,
          -0.5048770308494568,
          -2.2438650131225586,
          -2.253911256790161,
          -5.672626495361328,
          -0.13052986562252045,
          -1.3783375024795532,
          2.132934093475342,
          -1.4231373071670532,
          -0.7698161005973816,
          2.445701837539673,
          3.033327579498291,
          3.1727325916290283,
          -3.7831854820251465,
          0.3846161365509033,
          2.719970464706421
         ]
        },
        {
         "hoverinfo": "text",
         "marker": {
          "line": {
           "color": "white",
           "width": 0.5
          },
          "size": 15
         },
         "mode": "markers",
         "name": "Class sci.space",
         "opacity": 0.7,
         "text": [
          "ation: NASA Langley Research Center Lines: 7 Distribution: world Reply-To:  (CLAUDIO OLIVEIRA EGALON...",
          "ce? Organization: Texas Instruments Inc Lines: 16  In <>  (Dillon Pyron) writes:   >There are actual...",
          " Space Launcer Organization: Boeing AI Center, Huntsville, AL Lines: 22  In reference to the limits ...",
          "zation: University of Washington Lines: 33 NNTP-Posting-Host: stein2.u.washington.edu   (Doug Loss) ...",
          "on: Netcom - Online Communication Services (408 241-9760 guest) Lines: 23  In article <>  (kevin mar...",
          "ining. Nntp-Posting-Host: 128.158.30.103 Reply-To:  (G. Patrick Molloy) Organization: NASA/MSFC Line...",
          " Beacons! In-Reply-To: 's message of 21 Apr 93 08:15:55 GMT Nntp-Posting-Host: leo-gw Organization: ...",
          "n: Boeing AI Center, Huntsville, AL Lines: 39  I have before me a pertinent report from the United S...",
          "niv. of Florida CIS Dept. Lines: 17 Distribution: world NNTP-Posting-Host: beach.cis.ufl.edu   Is an...",
          "o Update - 04/22/93) Organization: U of Toronto Zoology Lines: 17  In article <>  (Alan Carter) writ...",
          "on to first year-long moon residents? Organization: Texas Instruments Inc Lines: 22  In <>  (Allen W...",
          "decentralize & automate functions Keywords: space station, constellation Article-I.D.: techbook.C51z...",
          " not give $1G) Organization: MDSSC Lines: 32  In article <>,  (Layne Cook) writes: > All of this tal...",
          "ief Resigns for Health Reasons Organization: NASA Lewis Research Center / Cleveland, Ohio Lines: 30 ...",
          "of the future. Organization: University of Western Ontario, London Nntp-Posting-Host: prism.engrg.uw...",
          "on: Jet Propulsion Laboratory Lines: 16 Distribution: world NNTP-Posting-Host: kelvin.jpl.nasa.gov N...",
          "tion: RIP Organization: Univ. of Southwestern Louisiana Lines: 43   (Brian Yamauchi) writes:  >Any c...",
          "press Access Online Communications USA Lines: 30 NNTP-Posting-Host: access.digex.net  In article <> ...",
          "93 Organization: Express Access Online Communications, Greenbelt, MD USA Lines: 33 Distribution: wor...",
          " University of South Australia Lines: 5  Does anyone know how to size cold gas roll control thruster...",
          "eral Systems Co. Software Services               IBM, Federal Systems Co. Software Services Disclaim...",
          "rwarded by Space Digest Organization: [via International Space University] Original-Sender:  Distrib...",
          "ed News-Software: VAX/VMS VNEWS 1.41     Nntp-Posting-Host: tm0006.lerc.nasa.gov Organization: NASA ...",
          " do it. Organization: SED, Stanford Telecom, Reston, VA 22090 Lines: 16  In article <>  writes: >Thi...",
          "oards (was Re: Vandalizing the sky.) Organization: LLNL Lines: 96 Distribution: world NNTP-Posting-H...",
          " Organization: Express Access Online Communications USA Lines: 23 Distribution: world NNTP-Posting-H...",
          "ization: Brunel University, West London, UK Lines: 26  <>  writes:  >So some of my ideas are a bit o...",
          " Moon first? Nntp-Posting-Host: unseen1.acns.nwu.edu Organization: Northwestern University, Evanston...",
          "unding Cuts. Organization: California Polytechnic State University, San Luis Obispo Lines: 51  Why d...",
          "-Xxmessage-Id: <> X-Xxdate: Fri, 16 Apr 93 06:33:17 GMT Organization: Simon Fraser University X-User...",
          "ng Cuts. Organization: Jet Propulsion Laboratory Lines: 15 Distribution: world NNTP-Posting-Host: ke...",
          " with the ears!) Organization: California Polytechnic State University, San Luis Obispo Lines: 31  >...",
          "es on the moon Organization: Lick Observatory/UCO Lines: 42 \t<> \t<> NNTP-Posting-Host: topaz.ucsc.ed...",
          "t year-lo Organization: ARCO Oil and Gas Company Lines: 44   (Craig Keithley) writes: > > All in all...",
          "TO type stuff from a shareholder perspective. Organization: Netcom Online Communications Services (4...",
          "ned Lunar Exploration. May 7 Crystal City Organization: Fermi National Accelerator Laboratory Lines:...",
          " Space Launcer Organization: Boeing AI Center, Huntsville, AL Lines: 72   Okay, lets get the record ...",
          "Jet Propulsion Laboratory Lines: 79 Distribution: world NNTP-Posting-Host: kelvin.jpl.nasa.gov News-...",
          "x (was:*Doppelganger*) Organization: NASA Langley Research Center Lines: 14 Distribution: world Repl...",
          "3.124722.1 Organization: University of Alaska Fairbanks Lines: 11 Nntp-Posting-Host: acad3.alaska.ed...",
          "e <>Re: Apollo Training in Iceland Distribution: sci Lines: 10  The Apollo astronauts also trained a...",
          "ss Access Online Communications USA Lines: 20 NNTP-Posting-Host: access.digex.net  In article <>  (G...",
          "akala BBS (ClanZen Radio Network) Sunnyvale, CA +1-408-734-2289 Lines: 20   (Doug Mohney) writes:  >...",
          "Access Online Communications USA Lines: 9 NNTP-Posting-Host: access.digex.net Keywords: food  dillon...",
          "cs Supersedes: <> Organization: University of North Carolina, Chapel Hill Lines: 95 Distribution: wo...",
          "ization: Express Access Online Communications USA Lines: 25 NNTP-Posting-Host: access.digex.net  In ...",
          "cle on Federal R&D Organization: Fermi National Accelerator Laboratory Lines: 24 NNTP-Posting-Host: ...",
          "uttle Keywords: Space Shuttle, Orbital Elements, Keplerian Nntp-Posting-Host: scgraph.afit.af.mil Or...",
          "on <>Re: Gamma Ray Bursters. Where are they?  <> Lines: 8  If all of these things have been detected...",
          "n residents? Article-I.D.: aurora.1993Apr19.130503.1 Organization: University of Alaska Fairbanks Li...",
          "g-Host: cc_sysk Organization: Coventry University Lines: 31  In article <> Callec Dradja <> writes: ...",
          " 7  Crystal City Organization: Express Access Online Communications, Greenbelt MD USA Lines: 9 Distr...",
          "ronto Zoology Lines: 18  In article <1raejd$>  (Pat) writes: >what ever happened to the hypothesis  ...",
          " 04/22/93) Organization: Express Access Online Communications USA Lines: 20 NNTP-Posting-Host: acces...",
          "n residents? Article-I.D.: aurora.1993Apr20.141137.1 Organization: University of Alaska Fairbanks Li...",
          "U of Toronto Zoology Lines: 24  In article <>  (Don Schiewer) writes: >What is the deal with life on...",
          "pdate - 04/22/93) Organization: Jet Propulsion Laboratory Lines: 22 Distribution: world NNTP-Posting...",
          "ound Jupiter? Article-I.D.: srl03.pgf.734063192 Organization: Univ. of Southwestern Louisiana Lines:...",
          " object found? X-Added: Forwarded by Space Digest Organization: [via International Space University]...",
          "e: Vulcan? No, not Spock or Haphaestus) Organization: Fermi National Accelerator Laboratory Lines: 2...",
          "od Article-I.D.: news.1pscc6INNebg Organization: Organization?  You must be kidding. Lines: 35 NNTP-...",
          ": University of Denver, Dept. of Math & Comp. Sci. Lines: 114    ARIANESPACE FLIGHT 56  (Flight V.56...",
          "d Lines: 25 Nntp-Posting-Host: skndiv.dseg.ti.com Reply-To:  Organization: TI/DSEG VAX Support   In ...",
          "ploration. May 7 Crystal City Organization: NASA Ames Research Center Distribution: na Lines: 14   (...",
          "ation: Worcester Polytechnic Institute, Worcester, MA 01609-2280 Lines: 11 NNTP-Posting-Host: wpi.wp...",
          "lboards (was Re: Vandalizing the sky.) Organization: stanford Lines: 38  In article <>,  (Brian Yama...",
          "tion: University of Denver, Dept. of Math & Comp. Sci. Lines: 22   And one of my profs is the chief ...",
          "on <>Re: What if the USSR had reached the Moon first?  <> <>  <> <>  <> <> Lines: 38  In article <>,...",
          "ronto Zoology Lines: 31  In article <>  (fred j mccall 575-3539) writes: >>>(given that I've heard t...",
          "SME? X-Added: Forwarded by Space Digest Organization: [via International Space University] Original-...",
          "No, not Spock or Haphaestus) Article-I.D.: mojo.1qkn6rINNett Reply-To:  Distribution: world Organiza...",
          "g. Organization: U of Toronto Zoology Lines: 22  In article <>  writes: >Here is a way to get the co...",
          "oration. May 7 Crystal City Distribution: na Organization: University of Illinois at Urbana Lines: 1...",
          "Nntp-Posting-Host: acad3.alaska.edu Organization: University of Alaska Fairbanks  In article <>,  (D...",
          " Organization: [via International Space University] Original-Sender:  Distribution: sci Lines: 14   ...",
          "Organization: Texas Instruments Inc Distribution: na Lines: 35  In <>  (Elijah Millgram) writes:   >...",
          "es on the moon Organization: Lick Observatory/UCO Lines: 26 \t<>\t<>\t<>,<> \t<> NNTP-Posting-Host: topa...",
          "ds: DC-X Nntp-Posting-Host: husc8.harvard.edu Lines: 17       I've been following discussions about ...",
          "ation: Express Access Online Communications USA Lines: 25 NNTP-Posting-Host: access.digex.net  In ar...",
          ", why? Organization: Apple Computer, Inc. Lines: 44  In article <>,  (Henry Spencer) wrote: >  > The...",
          "tion: U of Toronto Zoology Lines: 21  In article <>  (Steve Collins) writes: >The difficulties of a ...",
          "y Space Digest Organization: [via International Space University] Original-Sender:  Distribution: sc...",
          "Jupiter? Organization: SoftQuad Inc., Toronto, Canada Lines: 20   > > > Also, peri[jove]s of Gehrels...",
          "ation: U of Toronto Zoology Lines: 21  In article <>  (CLAUDIO OLIVEIRA EGALON) writes: >> there is ...",
          "ne 5 Distribution: sci Organization: Goddard Space Flight Center - Robotics Lab Lines: 26 News-Softw...",
          "eply-To: 's message of Sat, 17 Apr 1993 12: 52:09 GMT Organization: National Radio Astronomy Observa...",
          "d by Space Digest Organization: [via International Space University] Original-Sender:  Distribution:...",
          "b Space Station?) Article-I.D.: iti.1993Apr6.124456.14123 Organization: Evil Geniuses for a Better T...",
          "ion: University of Central Florida Lines: 19  I posted this over in sci.astro, but it didn't make it...",
          " Alternative #4 Organization: NASA/JSC/GM2, Space Shuttle Program Office  X-Newsreader: TIN [version...",
          "uestions list Supersedes: <> Organization: University of North Carolina, Chapel Hill Lines: 36 Distr...",
          "t year-long moon residents? Organization: Alpha Science Computer Network, Denver, Co. Lines: 5  The ...",
          "University of Texas at Austin Computation Center Lines: 20 Distribution: world NNTP-Posting-Host: ga...",
          "ting-Host: well.sf.ca.us Organization: Whole Earth 'Lectronic Link Lines: 29   The difficulties of a...",
          "tronaut) Organization: Statistics, Pure & Applied Mathematics, University of Adelaide Lines: 25  In ...",
          "ng for a little research help [ addendum] Organization: Dynamic Graphics Inc. Lines: 10 Distribution...",
          "ganization: Worcester Polytechnic Institute Lines: 15 NNTP-Posting-Host: bigwpi.wpi.edu    Hello eve...",
          "n: U of Toronto Zoology Lines: 21  In article <>  (David M. Palmer) writes: >>orbiting billboard... ...",
          "e Moon first? Reply-To:  (Gary Coffman) Organization: Destructive Testing Systems Lines: 63  In arti...",
          "nization: University of Western Ontario, London Nntp-Posting-Host: prism.engrg.uwo.ca Lines: 15  In ...",
          " not give $1G) Organization: University of Illinois at Urbana Lines: 42   (Keith Mancus) writes:  > ...",
          "n: Jet Propulsion Laboratory Lines: 113 Distribution: world NNTP-Posting-Host: kelvin.jpl.nasa.gov K...",
          "ound Jupiter? Organization: Univ. of Southwestern Louisiana Lines: 28   (Mark Brader) writes:   >Tha...",
          "ess Access Online Communications USA Lines: 18 NNTP-Posting-Host: access.digex.net  In article <1r6f...",
          "eles, CA X-Added: Forwarded by Space Digest Organization: [via International Space University] Origi...",
          "oon Organization: University of Rochester Lines: 38  In article <>  (Gary Coffman) writes:   > be th...",
          " Organization: NASA/GSFC Greenbelt Maryland Lines: 13  A brief political/cultural item.  Radio stati...",
          "uter Aided Design Lab, U. of Maryland College Park Lines: 13 Reply-To:  NNTP-Posting-Host: queen.eng...",
          " Forwarded by Space Digest Mmdf-Warning: Parse error in original version of preceding line at VACATI...",
          "T BY ETHER TWIST Reply-To:  Organization: Tektronix, Inc., Beaverton,  OR. Lines: 31   ----- News sa...",
          "cess.1psghn$s7r Organization: Express Access Online Communications USA Lines: 19 NNTP-Posting-Host: ...",
          "st year-long moon residents? Organization: U of Toronto Zoology Lines: 15  In article <>  (Allen W. ...",
          "cago Organization: Motorola Distribution: usa Nntp-Posting-Host: 145.1.146.43 Lines: 59  I am postin...",
          "o... Article-I.D.: aurora.1993Apr23.000021.1 Organization: University of Alaska Fairbanks Lines: 55 ...",
          "icle-I.D.: aurora.1993Apr25.150437.1 Organization: University of Alaska Fairbanks Lines: 28 Nntp-Pos...",
          "1 Nntp-Posting-Host: skndiv.dseg.ti.com Reply-To:  Organization: TI/DSEG VAX Support   In article <>...",
          "ganization: Jet Propulsion Laboratory Lines: 23 Distribution: world NNTP-Posting-Host: kelvin.jpl.na...",
          "ribution: na Organization: Space Telescope Science Institute Lines: 42  In article <>,   (Victor Lak...",
          " Feb 23 1993 Lines: 27  Mark Prado    >Please go just one step further: >How has the word \"Clementin...",
          ": aurora.1993Apr5.185700.1 Organization: University of Alaska Fairbanks Lines: 21 Nntp-Posting-Host:...",
          "ss Online Communications USA Lines: 20 Distribution: sci NNTP-Posting-Host: access.digex.net    I am...",
          "zation: UTexas Mail-to-News Gateway Lines: 37 NNTP-Posting-Host: cs.utexas.edu  In article <1raee7$>...",
          "light Test Organization: Texas Instruments Inc Lines: 14  In <>  writes:  >Since the DC-X is to take...",
          "k or Haphaestus Organization: NASA Langley Research Center Lines: 16 Distribution: world Reply-To:  ...",
          "d for 11 Days Organization: U of Toronto Zoology Lines: 35  In article <1rd1g0$>  (Pat) writes: >How...",
          "rganization: Fermi National Accelerator Laboratory Lines: 56 NNTP-Posting-Host: fnalf.fnal.gov  In a...",
          " not give $1G) Organization: MDSSC Lines: 60   (Josh Hopkins) writes: > (Keith Mancus) writes: >> (L...",
          "ator:  Reply-To:  (Mitch) Organization: North Carolina State University, Project Eos Lines: 21   Hi ...",
          " netnews Organization: The Trystro System (617) 625-7155 v.32/v.42bis Lines: 27  In article <> mwm+@...",
          " Article-I.D.: rave.1psogpINNksq Reply-To:  (CLAUDIO OLIVEIRA EGALON) Distribution: world Organizati...",
          "Feb 23 1993 Lines: 81  Brian Yamauchi asks: [Regarding orbital billboards...] >And does anyone have ...",
          " TWIST  (Ross Smith) Distribution: world Organization: Muppet Labs Lines: 27  In article <>  (fred j...",
          "g? Organization: NASA Langley Research Center Lines: 13 Distribution: world Reply-To:  (CLAUDIO OLIV...",
          ": 's message of Wed, 21 Apr 93 16:28:00 GMT Originator:  Nntp-Posting-Host: snow.fox.cs.cmu.edu Orga...",
          "xpress Access Online Communications USA Lines: 9 NNTP-Posting-Host: access.digex.net  In article <> ...",
          "nding Cuts. Organization: University of Virginia Lines: 13  In article <1r6aqr$>  (Pat) writes: #The...",
          "ion: California Institute of Technology, Pasadena Lines: 39 NNTP-Posting-Host: alumni.caltech.edu   ...",
          "uter Aided Design Lab, U. of Maryland College Park Lines: 22 Reply-To:  NNTP-Posting-Host: queen.eng...",
          " Organization: Space Telescope Science Institute, Baltimore MD Lines: 14  Another fish to check out ...",
          " NASA/MSFC Lines: 40   (Dennis Newkirk) writes: The Centaur is controlled technology.. State Dept wi...",
          "ntp-Posting-Host: ngis.geod.emr.ca Organization: Dept. of Energy, Mines, and Resources, Ottawa Lines...",
          "osting-Host: ugl-gw.uvic.ca Organization: University of Victoria, Victoria, BC, Canada Lines: 33  In...",
          "n: Science Applications Int'l Corp./San Diego Lines: 111        Ethnocentric USian that I am, I've a...",
          "osting-Host: sor.cs.colostate.edu Organization: Colorado State University -=- Computer Science Dept....",
          "ion: Inland Steel Company, East Chicago, IN Nntp-Posting-Host: pa881a Nntp-Posting-User: schiewer Li...",
          "cess Online Communications USA Lines: 15 NNTP-Posting-Host: access.digex.net   Well thank you dennis...",
          "ting-Host: nucleus.ps.uci.edu Organization: University of California, Irvine Lines: 30  Actually, th...",
          "axy.29034 Organization: University of California, Riverside Lines: 82 Nntp-Posting-Host: guitar.ucr....",
          "ie Organization: Trinity College Dublin Lines: 11  I need as much information about Cosmos 2238 and ...",
          "Russian Space Cooperation Organization: NASA/GSFC Greenbelt Maryland Lines: 23  Reported yesterday i..."
         ],
         "type": "scatter",
         "x": [
          2.930025100708008,
          -6.289916038513184,
          -2.1555135250091553,
          -6.869492530822754,
          -0.6606564521789551,
          -5.973842144012451,
          -2.644901990890503,
          14.407150268554688,
          -5.692838668823242,
          -1.9842138290405273,
          -7.929293155670166,
          -4.457642078399658,
          -4.169008731842041,
          0.011255379766225815,
          -2.519055128097534,
          14.048261642456055,
          -8.516942977905273,
          -1.8907932043075562,
          -8.64156436920166,
          -0.31339478492736816,
          8.270692825317383,
          -5.978487491607666,
          1.9251201152801514,
          -0.7461130619049072,
          -3.456085681915283,
          -5.763065814971924,
          -3.9737892150878906,
          -2.260399103164673,
          -7.877053260803223,
          -1.3122645616531372,
          14.513447761535645,
          3.8645472526550293,
          0.09769082069396973,
          -2.6140170097351074,
          -4.048614025115967,
          -0.954379677772522,
          -4.939296245574951,
          3.6024091243743896,
          2.5356199741363525,
          -4.125817775726318,
          13.291858673095703,
          -5.758567810058594,
          1.5693376064300537,
          -3.847830057144165,
          8.824052810668945,
          -7.385108947753906,
          17.023090362548828,
          7.797792911529541,
          -1.8079948425292969,
          1.4687328338623047,
          -5.979022979736328,
          2.8924520015716553,
          -0.6637569665908813,
          -1.5341366529464722,
          4.044214725494385,
          -4.71199893951416,
          14.766148567199707,
          1.3324443101882935,
          20.40646743774414,
          5.0989766120910645,
          -0.3183045983314514,
          3.9070115089416504,
          0.9670752286911011,
          5.287844181060791,
          -1.8459391593933105,
          3.1737828254699707,
          36.15018844604492,
          -4.712501049041748,
          -3.1785805225372314,
          1.3958278894424438,
          7.88172721862793,
          -9.066587448120117,
          -2.319955587387085,
          -1.2946443557739258,
          4.899599552154541,
          -5.16434907913208,
          1.5404821634292603,
          2.2496414184570312,
          -2.8991756439208984,
          -7.9245452880859375,
          0.11624670028686523,
          -8.9052152633667,
          6.128662109375,
          -3.83351731300354,
          3.4251015186309814,
          32.496543884277344,
          -2.822225332260132,
          1.7778030633926392,
          -4.387149810791016,
          9.650952339172363,
          1.1974101066589355,
          3.4091756343841553,
          11.532357215881348,
          -5.49573278427124,
          -4.706670761108398,
          -1.1320146322250366,
          -4.634655475616455,
          0.3232440650463104,
          -6.73984432220459,
          1.666757583618164,
          -3.0607540607452393,
          9.128766059875488,
          -1.7227704524993896,
          3.487283229827881,
          0.8694530725479126,
          -2.011500835418701,
          1.7363539934158325,
          0.5309373140335083,
          11.871171951293945,
          -1.0865448713302612,
          -4.181978225708008,
          -3.76993465423584,
          -0.24433554708957672,
          -9.647481918334961,
          -8.236603736877441,
          3.8475542068481445,
          11.696280479431152,
          -6.100045204162598,
          -1.2534137964248657,
          3.3261609077453613,
          -4.860141277313232,
          4.171211242675781,
          -1.89499831199646,
          -2.822808027267456,
          -5.258460521697998,
          3.3309035301208496,
          -3.133495330810547,
          2.5114428997039795,
          4.76281213760376,
          8.115447998046875,
          -5.084381580352783,
          2.2789885997772217,
          -2.8135204315185547,
          -4.479274749755859,
          3.9980039596557617,
          1.3405805826187134,
          -2.804872751235962,
          -0.2605934739112854,
          1.4316051006317139,
          0.5072619318962097,
          -1.2352019548416138,
          0.4948890507221222,
          0.12337739765644073,
          44.668701171875,
          6.415203094482422,
          -5.254077911376953,
          -6.213076114654541,
          -6.856874942779541,
          10.871856689453125,
          -2.288799524307251
         ],
         "y": [
          -3.8773515224456787,
          2.046318531036377,
          -2.3234691619873047,
          2.2911603450775146,
          -1.7998725175857544,
          4.3496317863464355,
          -1.131410837173462,
          -9.38205337524414,
          2.209930896759033,
          0.21618565917015076,
          3.9322168827056885,
          -1.0147695541381836,
          0.836774468421936,
          -5.129638195037842,
          -4.288223743438721,
          -4.448997497558594,
          1.8184268474578857,
          -2.626871109008789,
          0.6175361275672913,
          -3.6152238845825195,
          7.507962703704834,
          -2.9201443195343018,
          -8.72034740447998,
          3.635624408721924,
          3.405280351638794,
          -0.2390572428703308,
          0.7226551175117493,
          0.6964424252510071,
          0.5623255372047424,
          -1.5057456493377686,
          -2.2954344749450684,
          0.23194697499275208,
          0.5499330759048462,
          3.5059568881988525,
          0.10003069788217545,
          -1.418699026107788,
          -2.053917169570923,
          -3.0834851264953613,
          -3.6339571475982666,
          2.4561405181884766,
          -5.302314758300781,
          -0.13765238225460052,
          -1.6097735166549683,
          0.6078369617462158,
          -7.940854549407959,
          1.1163700819015503,
          -3.2905282974243164,
          -6.372192859649658,
          1.455991506576538,
          3.230340003967285,
          5.042105674743652,
          -6.961988925933838,
          -1.3020251989364624,
          -2.805948257446289,
          4.545114994049072,
          -0.4072315990924835,
          -3.024592399597168,
          0.686759352684021,
          -5.620214939117432,
          -2.758976697921753,
          -0.18629515171051025,
          -5.94330358505249,
          -1.3649048805236816,
          -4.915841102600098,
          -3.5380351543426514,
          -0.4811519384384155,
          25.896150588989258,
          7.886255264282227,
          0.7878936529159546,
          -4.012091636657715,
          -1.398299217224121,
          2.8726303577423096,
          -2.1183671951293945,
          2.2235231399536133,
          -2.7698795795440674,
          0.11273433268070221,
          2.097536563873291,
          -3.155452251434326,
          1.3912887573242188,
          2.9426610469818115,
          0.5493454933166504,
          5.510361671447754,
          -0.25252866744995117,
          1.7686083316802979,
          1.8942903280258179,
          19.039072036743164,
          -5.371050834655762,
          -1.648651123046875,
          -2.2312068939208984,
          -3.736804246902466,
          -2.0461976528167725,
          -5.038584232330322,
          -4.555513858795166,
          0.6967811584472656,
          -0.996859073638916,
          -1.1829460859298706,
          -1.9797481298446655,
          1.6041786670684814,
          2.8167524337768555,
          -0.240303173661232,
          1.4593287706375122,
          -6.436031341552734,
          -1.9752259254455566,
          -1.4949826002120972,
          -6.322661876678467,
          -0.5637058019638062,
          -5.297374725341797,
          -1.2615422010421753,
          5.511544704437256,
          0.6314646601676941,
          0.10096889734268188,
          2.4006235599517822,
          -5.450623989105225,
          4.284183979034424,
          2.941962957382202,
          1.274857521057129,
          -4.329230785369873,
          -1.8036658763885498,
          -3.3553152084350586,
          2.170219659805298,
          -0.7491962313652039,
          -4.224954605102539,
          1.4688422679901123,
          -3.008450508117676,
          0.6428406834602356,
          -4.604009628295898,
          1.4329279661178589,
          -2.02344012260437,
          0.7409395575523376,
          -3.5728330612182617,
          -3.1872756481170654,
          1.4503523111343384,
          -0.6014218926429749,
          -0.09407252818346024,
          -1.1291197538375854,
          -2.5544049739837646,
          0.9222899079322815,
          2.7319602966308594,
          -7.849702835083008,
          2.379725217819214,
          -5.3639607429504395,
          1.4365496635437012,
          -3.447288990020752,
          1.7197669744491577,
          -5.717690944671631,
          0.8617969155311584,
          0.25576889514923096,
          -1.317379355430603,
          -7.785645484924316,
          -4.257004737854004
         ]
        }
       ],
       "layout": {
        "height": 800,
        "hovermode": "closest",
        "template": {
         "data": {
          "bar": [
           {
            "error_x": {
             "color": "#2a3f5f"
            },
            "error_y": {
             "color": "#2a3f5f"
            },
            "marker": {
             "line": {
              "color": "#E5ECF6",
              "width": 0.5
             },
             "pattern": {
              "fillmode": "overlay",
              "size": 10,
              "solidity": 0.2
             }
            },
            "type": "bar"
           }
          ],
          "barpolar": [
           {
            "marker": {
             "line": {
              "color": "#E5ECF6",
              "width": 0.5
             },
             "pattern": {
              "fillmode": "overlay",
              "size": 10,
              "solidity": 0.2
             }
            },
            "type": "barpolar"
           }
          ],
          "carpet": [
           {
            "aaxis": {
             "endlinecolor": "#2a3f5f",
             "gridcolor": "white",
             "linecolor": "white",
             "minorgridcolor": "white",
             "startlinecolor": "#2a3f5f"
            },
            "baxis": {
             "endlinecolor": "#2a3f5f",
             "gridcolor": "white",
             "linecolor": "white",
             "minorgridcolor": "white",
             "startlinecolor": "#2a3f5f"
            },
            "type": "carpet"
           }
          ],
          "choropleth": [
           {
            "colorbar": {
             "outlinewidth": 0,
             "ticks": ""
            },
            "type": "choropleth"
           }
          ],
          "contour": [
           {
            "colorbar": {
             "outlinewidth": 0,
             "ticks": ""
            },
            "colorscale": [
             [
              0,
              "#0d0887"
             ],
             [
              0.1111111111111111,
              "#46039f"
             ],
             [
              0.2222222222222222,
              "#7201a8"
             ],
             [
              0.3333333333333333,
              "#9c179e"
             ],
             [
              0.4444444444444444,
              "#bd3786"
             ],
             [
              0.5555555555555556,
              "#d8576b"
             ],
             [
              0.6666666666666666,
              "#ed7953"
             ],
             [
              0.7777777777777778,
              "#fb9f3a"
             ],
             [
              0.8888888888888888,
              "#fdca26"
             ],
             [
              1,
              "#f0f921"
             ]
            ],
            "type": "contour"
           }
          ],
          "contourcarpet": [
           {
            "colorbar": {
             "outlinewidth": 0,
             "ticks": ""
            },
            "type": "contourcarpet"
           }
          ],
          "heatmap": [
           {
            "colorbar": {
             "outlinewidth": 0,
             "ticks": ""
            },
            "colorscale": [
             [
              0,
              "#0d0887"
             ],
             [
              0.1111111111111111,
              "#46039f"
             ],
             [
              0.2222222222222222,
              "#7201a8"
             ],
             [
              0.3333333333333333,
              "#9c179e"
             ],
             [
              0.4444444444444444,
              "#bd3786"
             ],
             [
              0.5555555555555556,
              "#d8576b"
             ],
             [
              0.6666666666666666,
              "#ed7953"
             ],
             [
              0.7777777777777778,
              "#fb9f3a"
             ],
             [
              0.8888888888888888,
              "#fdca26"
             ],
             [
              1,
              "#f0f921"
             ]
            ],
            "type": "heatmap"
           }
          ],
          "heatmapgl": [
           {
            "colorbar": {
             "outlinewidth": 0,
             "ticks": ""
            },
            "colorscale": [
             [
              0,
              "#0d0887"
             ],
             [
              0.1111111111111111,
              "#46039f"
             ],
             [
              0.2222222222222222,
              "#7201a8"
             ],
             [
              0.3333333333333333,
              "#9c179e"
             ],
             [
              0.4444444444444444,
              "#bd3786"
             ],
             [
              0.5555555555555556,
              "#d8576b"
             ],
             [
              0.6666666666666666,
              "#ed7953"
             ],
             [
              0.7777777777777778,
              "#fb9f3a"
             ],
             [
              0.8888888888888888,
              "#fdca26"
             ],
             [
              1,
              "#f0f921"
             ]
            ],
            "type": "heatmapgl"
           }
          ],
          "histogram": [
           {
            "marker": {
             "pattern": {
              "fillmode": "overlay",
              "size": 10,
              "solidity": 0.2
             }
            },
            "type": "histogram"
           }
          ],
          "histogram2d": [
           {
            "colorbar": {
             "outlinewidth": 0,
             "ticks": ""
            },
            "colorscale": [
             [
              0,
              "#0d0887"
             ],
             [
              0.1111111111111111,
              "#46039f"
             ],
             [
              0.2222222222222222,
              "#7201a8"
             ],
             [
              0.3333333333333333,
              "#9c179e"
             ],
             [
              0.4444444444444444,
              "#bd3786"
             ],
             [
              0.5555555555555556,
              "#d8576b"
             ],
             [
              0.6666666666666666,
              "#ed7953"
             ],
             [
              0.7777777777777778,
              "#fb9f3a"
             ],
             [
              0.8888888888888888,
              "#fdca26"
             ],
             [
              1,
              "#f0f921"
             ]
            ],
            "type": "histogram2d"
           }
          ],
          "histogram2dcontour": [
           {
            "colorbar": {
             "outlinewidth": 0,
             "ticks": ""
            },
            "colorscale": [
             [
              0,
              "#0d0887"
             ],
             [
              0.1111111111111111,
              "#46039f"
             ],
             [
              0.2222222222222222,
              "#7201a8"
             ],
             [
              0.3333333333333333,
              "#9c179e"
             ],
             [
              0.4444444444444444,
              "#bd3786"
             ],
             [
              0.5555555555555556,
              "#d8576b"
             ],
             [
              0.6666666666666666,
              "#ed7953"
             ],
             [
              0.7777777777777778,
              "#fb9f3a"
             ],
             [
              0.8888888888888888,
              "#fdca26"
             ],
             [
              1,
              "#f0f921"
             ]
            ],
            "type": "histogram2dcontour"
           }
          ],
          "mesh3d": [
           {
            "colorbar": {
             "outlinewidth": 0,
             "ticks": ""
            },
            "type": "mesh3d"
           }
          ],
          "parcoords": [
           {
            "line": {
             "colorbar": {
              "outlinewidth": 0,
              "ticks": ""
             }
            },
            "type": "parcoords"
           }
          ],
          "pie": [
           {
            "automargin": true,
            "type": "pie"
           }
          ],
          "scatter": [
           {
            "fillpattern": {
             "fillmode": "overlay",
             "size": 10,
             "solidity": 0.2
            },
            "type": "scatter"
           }
          ],
          "scatter3d": [
           {
            "line": {
             "colorbar": {
              "outlinewidth": 0,
              "ticks": ""
             }
            },
            "marker": {
             "colorbar": {
              "outlinewidth": 0,
              "ticks": ""
             }
            },
            "type": "scatter3d"
           }
          ],
          "scattercarpet": [
           {
            "marker": {
             "colorbar": {
              "outlinewidth": 0,
              "ticks": ""
             }
            },
            "type": "scattercarpet"
           }
          ],
          "scattergeo": [
           {
            "marker": {
             "colorbar": {
              "outlinewidth": 0,
              "ticks": ""
             }
            },
            "type": "scattergeo"
           }
          ],
          "scattergl": [
           {
            "marker": {
             "colorbar": {
              "outlinewidth": 0,
              "ticks": ""
             }
            },
            "type": "scattergl"
           }
          ],
          "scattermapbox": [
           {
            "marker": {
             "colorbar": {
              "outlinewidth": 0,
              "ticks": ""
             }
            },
            "type": "scattermapbox"
           }
          ],
          "scatterpolar": [
           {
            "marker": {
             "colorbar": {
              "outlinewidth": 0,
              "ticks": ""
             }
            },
            "type": "scatterpolar"
           }
          ],
          "scatterpolargl": [
           {
            "marker": {
             "colorbar": {
              "outlinewidth": 0,
              "ticks": ""
             }
            },
            "type": "scatterpolargl"
           }
          ],
          "scatterternary": [
           {
            "marker": {
             "colorbar": {
              "outlinewidth": 0,
              "ticks": ""
             }
            },
            "type": "scatterternary"
           }
          ],
          "surface": [
           {
            "colorbar": {
             "outlinewidth": 0,
             "ticks": ""
            },
            "colorscale": [
             [
              0,
              "#0d0887"
             ],
             [
              0.1111111111111111,
              "#46039f"
             ],
             [
              0.2222222222222222,
              "#7201a8"
             ],
             [
              0.3333333333333333,
              "#9c179e"
             ],
             [
              0.4444444444444444,
              "#bd3786"
             ],
             [
              0.5555555555555556,
              "#d8576b"
             ],
             [
              0.6666666666666666,
              "#ed7953"
             ],
             [
              0.7777777777777778,
              "#fb9f3a"
             ],
             [
              0.8888888888888888,
              "#fdca26"
             ],
             [
              1,
              "#f0f921"
             ]
            ],
            "type": "surface"
           }
          ],
          "table": [
           {
            "cells": {
             "fill": {
              "color": "#EBF0F8"
             },
             "line": {
              "color": "white"
             }
            },
            "header": {
             "fill": {
              "color": "#C8D4E3"
             },
             "line": {
              "color": "white"
             }
            },
            "type": "table"
           }
          ]
         },
         "layout": {
          "annotationdefaults": {
           "arrowcolor": "#2a3f5f",
           "arrowhead": 0,
           "arrowwidth": 1
          },
          "autotypenumbers": "strict",
          "coloraxis": {
           "colorbar": {
            "outlinewidth": 0,
            "ticks": ""
           }
          },
          "colorscale": {
           "diverging": [
            [
             0,
             "#8e0152"
            ],
            [
             0.1,
             "#c51b7d"
            ],
            [
             0.2,
             "#de77ae"
            ],
            [
             0.3,
             "#f1b6da"
            ],
            [
             0.4,
             "#fde0ef"
            ],
            [
             0.5,
             "#f7f7f7"
            ],
            [
             0.6,
             "#e6f5d0"
            ],
            [
             0.7,
             "#b8e186"
            ],
            [
             0.8,
             "#7fbc41"
            ],
            [
             0.9,
             "#4d9221"
            ],
            [
             1,
             "#276419"
            ]
           ],
           "sequential": [
            [
             0,
             "#0d0887"
            ],
            [
             0.1111111111111111,
             "#46039f"
            ],
            [
             0.2222222222222222,
             "#7201a8"
            ],
            [
             0.3333333333333333,
             "#9c179e"
            ],
            [
             0.4444444444444444,
             "#bd3786"
            ],
            [
             0.5555555555555556,
             "#d8576b"
            ],
            [
             0.6666666666666666,
             "#ed7953"
            ],
            [
             0.7777777777777778,
             "#fb9f3a"
            ],
            [
             0.8888888888888888,
             "#fdca26"
            ],
            [
             1,
             "#f0f921"
            ]
           ],
           "sequentialminus": [
            [
             0,
             "#0d0887"
            ],
            [
             0.1111111111111111,
             "#46039f"
            ],
            [
             0.2222222222222222,
             "#7201a8"
            ],
            [
             0.3333333333333333,
             "#9c179e"
            ],
            [
             0.4444444444444444,
             "#bd3786"
            ],
            [
             0.5555555555555556,
             "#d8576b"
            ],
            [
             0.6666666666666666,
             "#ed7953"
            ],
            [
             0.7777777777777778,
             "#fb9f3a"
            ],
            [
             0.8888888888888888,
             "#fdca26"
            ],
            [
             1,
             "#f0f921"
            ]
           ]
          },
          "colorway": [
           "#636efa",
           "#EF553B",
           "#00cc96",
           "#ab63fa",
           "#FFA15A",
           "#19d3f3",
           "#FF6692",
           "#B6E880",
           "#FF97FF",
           "#FECB52"
          ],
          "font": {
           "color": "#2a3f5f"
          },
          "geo": {
           "bgcolor": "white",
           "lakecolor": "white",
           "landcolor": "#E5ECF6",
           "showlakes": true,
           "showland": true,
           "subunitcolor": "white"
          },
          "hoverlabel": {
           "align": "left"
          },
          "hovermode": "closest",
          "mapbox": {
           "style": "light"
          },
          "paper_bgcolor": "white",
          "plot_bgcolor": "#E5ECF6",
          "polar": {
           "angularaxis": {
            "gridcolor": "white",
            "linecolor": "white",
            "ticks": ""
           },
           "bgcolor": "#E5ECF6",
           "radialaxis": {
            "gridcolor": "white",
            "linecolor": "white",
            "ticks": ""
           }
          },
          "scene": {
           "xaxis": {
            "backgroundcolor": "#E5ECF6",
            "gridcolor": "white",
            "gridwidth": 2,
            "linecolor": "white",
            "showbackground": true,
            "ticks": "",
            "zerolinecolor": "white"
           },
           "yaxis": {
            "backgroundcolor": "#E5ECF6",
            "gridcolor": "white",
            "gridwidth": 2,
            "linecolor": "white",
            "showbackground": true,
            "ticks": "",
            "zerolinecolor": "white"
           },
           "zaxis": {
            "backgroundcolor": "#E5ECF6",
            "gridcolor": "white",
            "gridwidth": 2,
            "linecolor": "white",
            "showbackground": true,
            "ticks": "",
            "zerolinecolor": "white"
           }
          },
          "shapedefaults": {
           "line": {
            "color": "#2a3f5f"
           }
          },
          "ternary": {
           "aaxis": {
            "gridcolor": "white",
            "linecolor": "white",
            "ticks": ""
           },
           "baxis": {
            "gridcolor": "white",
            "linecolor": "white",
            "ticks": ""
           },
           "bgcolor": "#E5ECF6",
           "caxis": {
            "gridcolor": "white",
            "linecolor": "white",
            "ticks": ""
           }
          },
          "title": {
           "x": 0.05
          },
          "xaxis": {
           "automargin": true,
           "gridcolor": "white",
           "linecolor": "white",
           "ticks": "",
           "title": {
            "standoff": 15
           },
           "zerolinecolor": "white",
           "zerolinewidth": 2
          },
          "yaxis": {
           "automargin": true,
           "gridcolor": "white",
           "linecolor": "white",
           "ticks": "",
           "title": {
            "standoff": 15
           },
           "zerolinecolor": "white",
           "zerolinewidth": 2
          }
         }
        },
        "title": {
         "text": "Embedding Plot with Class Labels"
        },
        "width": 1200,
        "xaxis": {
         "showgrid": false,
         "showticklabels": false,
         "zeroline": false
        },
        "yaxis": {
         "showgrid": false,
         "showticklabels": false,
         "zeroline": false
        }
       }
      },
      "text/html": [
       "<div>                            <div id=\"847de038-9042-4ef7-b848-157439bea5d3\" class=\"plotly-graph-div\" style=\"height:800px; width:1200px;\"></div>            <script type=\"text/javascript\">                require([\"plotly\"], function(Plotly) {                    window.PLOTLYENV=window.PLOTLYENV || {};                                    if (document.getElementById(\"847de038-9042-4ef7-b848-157439bea5d3\")) {                    Plotly.newPlot(                        \"847de038-9042-4ef7-b848-157439bea5d3\",                        [{\"hoverinfo\":\"text\",\"marker\":{\"line\":{\"color\":\"white\",\"width\":0.5},\"size\":15},\"mode\":\"markers\",\"name\":\"Class sci.crypt\",\"opacity\":0.7,\"text\":[\" security? Lines: 24  \\t (Graham Toal) writes: \\t\\u003e \\t\\u003eIn the UK, it's impossible to get approval to att...\",\"r over the internet... Lines: 92  Well, after a lot of trawling through archives, I found the post I...\",\"od cover for other encryption method? Nntp-Posting-Host: rac2.wam.umd.edu Organization: University o...\",\"no good any more. Reply-To:  Organization: Virus Test Center, University of Hamburg Distribution: na...\",\"o good any more. Organization: Univ. of Southwestern Louisiana Lines: 52   (David Sternlight) writes...\",\"r Chip and crypto key-escrow] Reply-To:  Organization: Chaos Lines: 76 X-Newsreader: Archimedes Read...\",\"-core hackers & spooks only Organization: C-Set\\u002f2 Development, IBM Canada Lab. Disclaimer: This post...\",\"no good any more. Nntp-Posting-Host: lonestar.utsa.edu Organization: University of Texas at San Anto...\",\"on: Turing Police Lines: 22   \\u003e (Carl Ellison) writes: \\u003eFor example, if I had a program on my disk w...\",\"each machine (Was: Re: Corporate acceptance of the wiretap chip) Organization: AT&T Bell Laboratorie...\",\"s Online Communications, Greenbelt, MD USA Lines: 13 NNTP-Posting-Host: access.digex.net   \\u003e Second ...\",\"ic packages In-Reply-To: 's message of 20 Apr 1993 16: 47:03 GMT Organization: York U. Student Infor...\",\"bution: world Organization: Thibault & Friends Lines: 34  In article \\u003c1qg8m2$\\u003e  (Edward Vielmetti) w...\",\"ive Organization: Silicon Graphics, Inc.  Mountain View, CA Lines: 20  In article \\u003c\\u003e,  (David Sternl...\",\"rgraph's Name? Organization: NETCOM On-line Communication Services (408 241-9760 guest) X-Newsreader...\",\"o good any more. Organization: Univ. of Southwestern Louisiana Distribution: na Lines: 25   (douglas...\",\"e Summary: Ways to fight it  Organization: Climate and Global Dynamics Division\\u002fNCAR, Boulder, CO Li...\",\"ip and crypto key-escrow] Summary: Whatever... Keywords: Hmm... Organization:  George Mason Universi...\",\"gow University Computing Science Dept. Distribution: net Lines: 7  I am a PhD student. Can I get the...\",\"was: Re: More technical details) Reply-To:  Organization: New Technology, Inc. Lines: 53  ( Below is...\",\" Organization: Harvey Mudd College, Claremont, CA 91711 Lines: 23  In article \\u003c\\u003e  (Robert Lewis Glen...\",\"law enforcement blocks? Organization: Loral Rolm Mil-Spec Computers Lines: 43  The M code stream  mi...\",\"ization: Swiss Federal Institute of Technology (ETH), Zurich, CH Lines: 120  Hmm, followup on my own...\",\"ors (large state) Organization: UTexas Mail-to-News Gateway Lines: 171 NNTP-Posting-Host: cs.utexas....\",\" \\t  The points raised about checking what is actually -in- the chip, as \\topposed to what is allegedl...\",\" drive security) Nntp-Posting-Host: servo.qualcomm.com Reply-To:  Organization: Qualcomm, Inc Lines:...\",\"p, subvert or replace it ! Organization: Netcom - Online Communication Services (408 241-9760 guest)...\",\"ent and Q&As on clipper chip encryption Distribution: na Organization: ClariNet Communications Corp....\",\"ganization: Express Access Online Communications, Greenbelt, MD USA Lines: 25 NNTP-Posting-Host: acc...\",\" machine (Was: Re: Corporate acceptance of the wiretap chip) Lines: 16  : At the company I worked fo...\",\"ent and Q&As on clipper chip encryption Organization: ClariNet Communications Corp. Distribution: na...\",\"rganization: Sun Microsystems, Inc. Lines: 70 Nntp-Posting-Host: sunspot.ece.clarkson.edu Cc: tuinst...\",\"y-To:  (Jim McCoy) Organization: The University of Texas - Austin Lines: 53 NNTP-Posting-Host: tramp...\",\" 7  :    I've been thinking about how difficult it would be to make PGP available : in some form on ...\",\"D.: ole.1993Apr20.173039.4722 Organization: Cascade Design Automation Lines: 17       Notwithstandin...\",\"phy Patents) Organization: Oce Graphics USA X-Newsreader: TIN [version 1.1 PL7] Lines: 41  Charles K...\",\"tion: Cold Media  Lines: 13   (Ze'ev Wurman) writes:  \\u003eBut do we really believe that the various gov...\",\"ative Organization: Metatron Press \\u002f Human Systems Performance Group, Austin, TX X-Newsreader: rusne...\",\"P: A TECHNICAL SUMMARY Organization: Brought to you by the numbers 2, 3, and 7 In-Reply-To: 's messa...\",\"r? Organization: Kaleida Labs, Inc. Lines: 10 Distribution: world NNTP-Posting-Host: jfenton.kaleida...\",\"anization: AT&T Bell Laboratories Lines: 55  I'd *desparately* prefer it if we didn't rehash the sam...\",\"ormation Sheet Keywords: Big Bubba Is Watching. Organization: NASA Science Internet Project Office L...\",\" and Q&As on clipper chip encryption Lines: 16  \\t (Brad Templeton)  \\tLet's assume, for the moment, t...\",\"s for over the internet... Lines: 27  I forwarded an old posting about CELP speech compression:  \\tIn...\",\"secret Organization: Panix, (New Yawk City) Lines: 29  In \\u003c\\u003e  (John R. Levine) writes: (quoting some...\",\" security? Lines: 25  : There are chips which perform the voice compression\\u002fexpansion.  They can't :...\",\" any more. Nntp-Posting-Host: spot.colorado.edu Organization: University of Colorado, Boulder Distri...\",\"osting-Host: spot.colorado.edu Organization: University of Colorado, Boulder Distribution: na Lines:...\",\"ion: Express Access Online Communications, Greenbelt, MD USA Lines: 10 NNTP-Posting-Host: access.dig...\",\"e Organization: Express Access Online Communications, Greenbelt, MD USA Lines: 7 NNTP-Posting-Host: ...\",\"e is no good any more. Originator:  Nntp-Posting-Host: qualcom.qualcomm.com Organization: Qualcomm, ...\",\"ver for other encryption method? Organization: Optilink Corporation, Petaluma, CA Lines: 19  In arti...\",\"g-Host: wardibm2.med.yale.edu Organization: Yale U. - Genetics Lines: 30  In article \\u003c\\u003e,  (Vesselin ...\",\"od any more. Organization: Little to None Distribution: na Lines: 13  \\u003e\\u003e\\tWith E-Mail, if they can't ...\",\")  (Tal Kubo) Distribution: inet Organization: Dept. of Math, Harvard Univ. Nntp-Posting-Host: zaris...\",\"machine (Was: Re: Corporate acceptance of the wiretap chip) In-Reply-To: 's message of Wed, 21 Apr 1...\",\"uncement Organization: capriccioso X-Newsreader: TIN [version 1.1 PL6] Lines: 35  I guess the crypto...\",\"tails Organization: AT&T Bell Laboratories Lines: 20  In article \\u003c\\u003e,  (D. J. Bernstein) writes: \\u003e Sh...\",\" is no good any more. Distribution: na Nntp-Posting-Host: beethoven.cs.colostate.edu Organization: C...\",\"ets Originator:  Keywords: entropy Nntp-Posting-Host: pizzabox.demon.co.uk Reply-To: Graham Toal \\u003c\\u003e ...\",\"y Patents)  (Arthur Rubin) Organization: Beckman Instruments, Inc. Nntp-Posting-Host: dsg4.dse.beckm...\",\"ood any more. Organization: TRW Systems Division, Fairfax VA Distribution: na Lines: 65   (Timothy C...\",\"nnouncement Organization: Department of Mathematical Sciences Lines: 29 Distribution: inet NNTP-Post...\",\"Chip and crypto key-escrow] Organization: InterCon Systems Corporation - Herndon, VA  USA Lines: 30 ...\",\"s Organization: Swiss Federal Institute of Technology (ETH), Zurich, CH Lines: 28  In article \\u003c1qv83...\",\" Kubo) Organization: Dept. of Math, Harvard Univ. Nntp-Posting-Host: zariski.harvard.edu Lines: 55  ...\",\"uncement Lines: 19  \\tEven more interesting: the SMTP server at csrc.ncsl.nist.gov no longer \\trecogni...\",\"hine (Was: Re: Corporate acceptance of the wiretap chip) Organization: CSRI, University of Toronto L...\",\"no good any more. Organization: ITC\\u002fUVA Community Access UNIX\\u002fInternet Project Lines: 16  In article...\",\"ap security? Organization: InterCon Systems Corporation - Herndon, VA  USA Lines: 68 Distribution: w...\",\" Organization: Center For High Perf. Computing of WPI; Marlboro Ma Lines: 35  In article \\u003c1qn1ic$\\u003e  ...\",\"cademic Computer Center \\u003c\\u003eRe: Clipper -- some new thoughts Lines: 7  The cryptographic algorythm MUS...\",\" any more. Summary: But, for all its flaws, the domino theory was right... Organization: Chinet - Pu...\",\"d any more. Organization: Center For High Perf. Computing of WPI; Marlboro Ma Distribution: na Lines...\",\" any more. Distribution: na Organization: VisiCom Laboratories, Inc., San Diego, California Lines: 1...\",\"and crypto key-escrow] Keywords: encryption, wiretap, clipper, key-escrow, Mykotronx Organization: B...\",\"plementations Reply-To:  Organization: Virus Test Center, University of Hamburg Lines: 23   (David S...\",\"f that announcement Organization: Stanford University Lines: 22  In article \\u003c\\u003e Rick Miller \\u003c\\u003e writes...\",\"on: Partnership for an America Free Drug Lines: 77  Here is a disturbing thought.  Now, we no longer...\",\"p security? Organization: CSIR, South AFrica Lines: 27 NNTP-Posting-Host: nuustak.csir.co.za X-Discl...\",\" ask for? (Re: Clipper) Lines: 19 Organization: Curtin University of Technology  In article \\u003c\\u003e,  (St...\",\" and Q&As on clipper chip encryption Organization: capriccioso X-Newsreader: TIN [version 1.1 PL6] D...\",\"tive Organization: DSI\\u002fUSCRPAC Lines: 32  In article \\u003c1r0nov$\\u003e  (Steve Brinich) writes:   \\u003e \\u003e 1. Ame...\",\"bution: usa Reply-To:  Disclaimer: This posting represents the poster's views, not necessarily those...\",\" machine (Was: Re: Corporate acceptance of the wiretap chip) Organization: Computing Research Lab Li...\",\"d any more. Organization: University of Nebraska at Omaha Distribution: na Lines: 18   (Geoffrey Kue...\",\"re hackers & spooks only Summary: (We need privacy chips for phones, not computer-bound station)_ Ar...\",\"(Tal Kubo) Distribution: inet Organization: Dept. of Math, Harvard Univ. Nntp-Posting-Host: zariski....\",\"id it Originator:  Keywords: Big Bubba Is Watching! Nntp-Posting-Host: qualcom.qualcomm.com Organiza...\",\"ard-core hackers & spooks only Nntp-Posting-Host: bistromath.mitre.org Organization: The MITRE Corpo...\",\"ood any more. Organization: Express Access Online Communications, Greenbelt, MD USA Lines: 6 Distrib...\",\"tribution: world Organization: boring Reply-To:  X-Mailer: Simple NEWS 1.90 (ka9q DIS 1.19) Lines: 2...\",\" is no good any more. Organization: Society for the conservation of momentum Distribution: na Lines:...\",\"ganization: Mail to News Gateway at Wang Labs Distribution: na Lines: 47   (Jerry Han) writes: \\u003e The...\",\"tography Organization: Yale University Lines: 21 Distribution: inet Reply-To:  NNTP-Posting-Host: mi...\",\"ata Lines: 46  \\t (Marc Anderson)  \\t\\u003eAlso.. how about a box that you plug your phone into, which woul...\",\"each machine (Was: Re: Corporate acceptance of the wiretap chip) Organization: AT&T Bell Laboratorie...\",\"Clipper Chip and crypto key-escrow] Nntp-Posting-Host: beethoven.cs.colostate.edu Organization: Colo...\",\"oso X-Newsreader: TIN [version 1.1 PL6] Lines: 11  I am testing IDEA block cipher implementations fo...\",\"r Chip and crypto key-escrow] Keywords: encryption, wiretap, clipper, key-escrow, Mykotronx Nntp-Pos...\",\" Distribution: sci Lines: 12 Organization: Networked Systems Architecture   \\tI have a bunch of quest...\",\"ood any more. Organization: Express Access Online Communications, Greenbelt, MD USA Lines: 5 Distrib...\",\"tography Patents) Nntp-Posting-Host: next4.cs.umr.edu Organization: University of Missouri - Rolla, ...\",\"for other encryption method? Originator:  Nntp-Posting-Host: eff.org Organization: The Electronic Fr...\",\"no good any more. Nntp-Posting-Host: ogmore.cs.ucla.edu Organization: UCLA, Computer Science Departm...\",\"ment and Q&As on clipper chip encryption Organization: Engineering Computer Network Distribution: na...\",\" any Nntp-Posting-Host: tidss2.asic.sc.ti.com Reply-To:  Organization: Design Automaton Div., Texas ...\",\" is us Organization: Minnesota Supercomputer Center, Minneapolis, MN Lines: 18  I agree that notifyi...\",\"tion: NETCOM On-line Communication Services (408 241-9760 guest) X-Newsreader: Tin 1.1 PL5 Lines: 41...\",\"ilable  Organization: capriccioso X-Newsreader: TIN [version 1.1 PL6] Lines: 84  *** SOURCE code to ...\",\" for hard-core hackers & spooks only Organization: DSI\\u002fUSCRPAC Lines: 39  In article \\u003c\\u003e  (Derek Atki...\",\"agement Fact Sheet News-Software: VAX\\u002fVMS VNEWS 1.41     Organization: Mission Operations and Data S...\",\"p-Posting-Host: bistromath.mitre.org Organization: The MITRE Corporation Lines: 67  In article \\u003c\\u003e  (...\",\"bilities Article-I.D.: usenet.C4qoH8.CHE Expires: Thu, 20 May 1993 00:00:00 GMT Organization: Comput...\",\"swer Organization: Michigan State University Lines: 21 NNTP-Posting-Host: scss3.cl.msu.edu X-Newsrea...\",\"ood any more. Organization: InterCon Systems Corporation - Herndon, VA  USA Lines: 35 Distribution: ...\",\"mmary: Buckets of blood pouring from peoples' heads! Organization: Kubota Pacific Computer, Inc. Lin...\",\": Harvey Mudd College, Claremont, CA 91711 Lines: 13  In article \\u003c\\u003e  (Phil Karn) writes: \\u003eIt looks l...\",\": world Organization: Georgetown University Lines: 139  The following document summarizes the Clippe...\",\"ement and Q&As on clipper chip encryption Organization: Partnership for an America Free Drug Distrib...\",\"anization: Private Computer, Totowa, NJ Lines: 21  In article \\u003c:  (Peter Trei) writes: :Judge: \\\"I gr...\",\"ood any more. Distribution: na Organization: Kendall Square Research Corp. Lines: 20   (Steve Johnso...\",\" more.  (Arthur Rubin)  \\u003c\\u003e \\u003c\\u003e Distribution: na Organization: Beckman Instruments, Inc. Nntp-Posting-...\",\"tion: The Crypt Cabal Lines: 187 Expires: 22 May 1993 04:00:07 GMT Reply-To:  NNTP-Posting-Host: pad...\",\"ative Organization: University of Iowa, Iowa City, IA, USA Lines: 43   (Philip Zimmermann) writes:  ...\",\"s Reply-To:  Organization: University of Chicago Lines: 23  In article \\u003c\\u003e  (Kenneth Ng) writes: \\u003eIn ...\",\"ert or replace it ! Reply-To:  Distribution: na Organization: Thibault & Friends Lines: 10  In artic...\",\" Organization: is a nice thing... Lines: 28  Having read the various \\\"Clipper\\\" announcements on the ...\",\"machine (Was: Re: Corporate acceptance of the wiretap chip) Organization: Harvey Mudd College, Clare...\",\"aphy Organization: University of Illinois, Dept. of Comp. Sci., Urbana, IL Lines: 18   (Tal Kubo) wr...\",\"n: The Crypt Cabal Lines: 92 Expires: 22 May 1993 04:00:07 GMT Reply-To:  NNTP-Posting-Host: pad-tha...\",\"s us X-Xxmessage-Id: \\u003c\\u003e X-Xxdate: Wed, 21 Apr 93 17:40:17 GMT Nntp-Posting-Host: l-b-johnson.eff.org...\",\"heap security? Organization: Swiss Federal Institute of Technology (ETH), Zurich, CH Lines: 19  In a...\",\"o good any more. Organization: DSI\\u002fUSCRPAC Distribution: na Lines: 26  In article \\u003c\\u003e  (Karl Barrus) ...\",\"ecrecy Reply-To:  Organization: Sun Microsystems, Inc. Lines: 38 Nntp-Posting-Host: signal.ece.clark...\",\"e Crypt Cabal Lines: 138 Expires: 22 May 1993 04:00:07 GMT Reply-To:  NNTP-Posting-Host: pad-thai.ak...\",\"aphy Reply-To:  (Paul Crowley) Organization: Edinburgh University Distribution: inet Lines: 12  Quot...\",\"rganization: University of Illinois, Dept. of Comp. Sci., Urbana, IL Lines: 42   (Andrew S Hall) wri...\",\"d any more. Organization: University of Houston Lines: 27 Distribution: na \\t\\u003c\\u003e NNTP-Posting-Host: me...\",\"any more. Article-I.D.: rwing.2091 Distribution: na Organization: Totally Unorganized Lines: 17  In ...\",\"al number, possibly fixed S1 and S2 Organization: Universitaetsrechenzentrum, Heinrich-Heine-Univers...\",\"Costs\\u002fBenefits Organization: Netcom - Online Communication Services (408 241-9760 guest) Lines: 61  ...\",\"nization: Totally Unorganized Lines: 48  In article \\u003c\\u003e  writes: \\u003c (David Sternlight) writes: \\u003c \\u003c\\u003e He...\",\"ral comments Nntp-Posting-Host: bloch.informatik.uni-kl.de Organization: University of Kaiserslauter...\",\": Citicorp Lines: 15 NNTP-Posting-Host: charon.cto.citicorp.com X-Newsreader: TIN [version 1.1 PL6] ...\",\"st: castor.se.houston.geoquest.slb.com Organization: GeoQuest System, Inc. Houston Lines: 17  In art...\",\"Data Research Associates, St. Louis MO Lines: 22  In article \\u003c\\u003e,  (Vernon Schryver) writes: \\u003e In art...\",\"Chip and crypto key-escrow] Organization: InterCon Systems Corporation - Herndon, VA  USA Lines: 34 ...\",\"otes.cus.cam.ac.uk Organization: U of Cambridge, England Lines: 25  -----BEGIN PGP SIGNED MESSAGE---...\",\"n: Stratus Computer, Software Engineering Lines: 18 NNTP-Posting-Host: ellisun.sw.stratus.com Keywor...\"],\"x\":[-6.371477127075195,7.281041145324707,3.8705217838287354,-3.7672555446624756,-7.497379779815674,-4.081960201263428,-12.185263633728027,1.0549373626708984,-3.7142579555511475,-10.16545581817627,-0.41146349906921387,4.573678493499756,3.0583579540252686,4.193465709686279,-0.33888357877731323,-3.7109532356262207,-9.967942237854004,-13.034004211425781,-5.018332004547119,-6.18639612197876,-1.3223069906234741,0.1081266701221466,-6.911440849304199,22.426555633544922,-8.831418991088867,-7.648535251617432,-9.722661018371582,-6.109520435333252,-6.484234809875488,-1.4610651731491089,-12.66378116607666,12.726988792419434,-1.5805245637893677,-1.0348167419433594,-7.7577805519104,-6.3386993408203125,-0.3793152868747711,3.259742259979248,1.804187536239624,-2.73684024810791,-12.198250770568848,0.929965078830719,-7.739589214324951,-5.334108352661133,13.046183586120605,-9.10236930847168,-8.22145938873291,0.3058723211288452,-4.6075544357299805,3.1014115810394287,1.4943506717681885,-3.87023663520813,-0.7029208540916443,-2.3155601024627686,-2.044569253921509,-3.1963486671447754,-7.631384372711182,-0.3443463146686554,-4.337053298950195,3.0227062702178955,0.2669687271118164,-1.0669777393341064,-5.515503406524658,-3.3791677951812744,-2.7927210330963135,-5.537732124328613,-0.4016668498516083,1.649195671081543,1.6596323251724243,-7.636520862579346,-2.538630247116089,-4.087672233581543,-1.6714240312576294,-0.5137391686439514,-0.22751790285110474,-6.285351276397705,1.055164098739624,3.710298776626587,-13.10965633392334,-1.127294898033142,-1.342061161994934,-7.767343044281006,-3.0278429985046387,5.21565580368042,-2.9227194786071777,-7.336706161499023,-7.196026802062988,-1.6814745664596558,-4.29845666885376,-6.9611711502075195,-0.37336888909339905,3.118140935897827,-7.5873308181762695,-6.192947864532471,1.8936409950256348,-9.461933135986328,-3.4348955154418945,-5.050510883331299,-0.6486374735832214,-0.012103057466447353,0.9763663411140442,-0.20289836823940277,-2.2347729206085205,-3.9109914302825928,-6.456881046295166,1.0369813442230225,-7.945911407470703,-2.027517795562744,0.35822048783302307,5.364564895629883,-7.200325012207031,-4.016526699066162,-4.264943599700928,-8.234500885009766,-0.9872984290122986,-4.982011795043945,-0.9254936575889587,-4.130031585693359,-4.0996551513671875,-6.907631874084473,-1.670091986656189,-4.698272705078125,8.011749267578125,-5.970941066741943,0.36306264996528625,2.327479839324951,3.9960336685180664,-5.066354274749756,0.5464942455291748,3.3135995864868164,-7.762915134429932,-6.376988410949707,-1.4721524715423584,-8.101391792297363,21.939998626708984,-1.4492108821868896,2.600886106491089,-7.408192157745361,9.39412784576416,2.7545034885406494,-3.319930076599121,-1.9609755277633667,-1.3690969944000244,-7.89821720123291,-6.029400825500488,-7.143909931182861,2.101247549057007,-2.5881779193878174,5.043267250061035,-0.2774738371372223],\"y\":[4.241264820098877,-6.479180812835693,-2.4178528785705566,-0.5203485488891602,3.8733551502227783,3.305650472640991,3.073030710220337,-3.004995107650757,1.3475728034973145,4.043187141418457,-0.7843022346496582,-3.9052298069000244,-0.9318550825119019,-2.319589614868164,-4.667741298675537,1.7957584857940674,1.3317598104476929,2.971092939376831,0.2801571190357208,-0.21452130377292633,1.1047519445419312,6.2505388259887695,1.3853445053100586,3.350353479385376,2.169306516647339,2.2967824935913086,2.9691946506500244,0.4072303771972656,-0.36206433176994324,-2.0261433124542236,2.9081063270568848,11.93289566040039,2.6349964141845703,-0.8052463531494141,-0.3214356601238251,1.4047377109527588,-0.8532742857933044,0.07262098789215088,-0.7198469042778015,1.2669113874435425,3.2458040714263916,-1.0528757572174072,-0.3215344548225403,-0.5293673276901245,10.739927291870117,2.120278835296631,1.0879863500595093,0.8920155167579651,-2.4096665382385254,-3.0902645587921143,-2.5400760173797607,1.7102869749069214,1.3033130168914795,3.5641231536865234,2.3580803871154785,2.7752697467803955,1.722652554512024,1.7653740644454956,4.932464122772217,1.5189038515090942,0.49110880494117737,1.9086469411849976,3.4403562545776367,-0.48332735896110535,1.936693549156189,0.6439700126647949,-1.152262806892395,2.5407164096832275,-0.33423537015914917,3.5544865131378174,4.079375267028809,0.7182443141937256,-0.8870507478713989,-0.096428282558918,-0.7716556191444397,1.0996198654174805,-2.1800196170806885,2.2962775230407715,2.9738571643829346,2.455007314682007,1.761515498161316,0.7239862084388733,-0.8223605155944824,-2.591568946838379,0.7923367023468018,1.442308783531189,1.2439112663269043,1.1672006845474243,-1.1831793785095215,3.4075591564178467,-2.1161136627197266,-0.5652227401733398,3.7599332332611084,2.3200817108154297,-0.9926006197929382,2.708247423171997,1.1722493171691895,5.115880966186523,-0.2576134204864502,0.4870997369289398,-1.1470739841461182,1.0365146398544312,2.2072129249572754,1.0721226930618286,2.2446932792663574,-1.33353590965271,0.5077623724937439,-2.553771734237671,-3.1149866580963135,-3.07426381111145,2.9645307064056396,0.5260823965072632,3.178266763687134,1.1734628677368164,-2.0439493656158447,2.192247152328491,1.157371997833252,0.007190893869847059,-0.6910539269447327,-1.5579832792282104,-1.1295702457427979,-0.1788126826286316,0.07745750993490219,0.6190353035926819,8.649664878845215,-1.4293829202651978,-0.5065271854400635,-0.4200320541858673,-0.2189519703388214,-3.246973991394043,1.7066134214401245,2.7551815509796143,2.0985655784606934,2.0102481842041016,18.18479347229004,1.1440314054489136,-0.44584885239601135,3.181711435317993,-3.4751040935516357,1.7255499362945557,0.971503496170044,2.481048345565796,3.9894490242004395,3.5472142696380615,0.6634587645530701,2.3619823455810547,-1.5822234153747559,-1.1864114999771118,-2.751600503921509,0.3900996148586273],\"type\":\"scatter\"},{\"hoverinfo\":\"text\",\"marker\":{\"line\":{\"color\":\"white\",\"width\":0.5},\"size\":15},\"mode\":\"markers\",\"name\":\"Class sci.electronics\",\"opacity\":0.7,\"text\":[\"Used BMW Question ..... ???) Organization: University of Minnesota, Duluth Lines: 28 NNTP-Posting-Ho...\",\"ale:was $200, sell for $150 Organization: Case Western Reserve University, Cleveland, Ohio (USA) Lin...\",\"ization: Netcom Online Communications Services (408-241-9760 login: guest) Lines: 25   (Neal Patrick...\",\"exer for digital signals? Organization: University of Illinois at Urbana Lines: 14  As the subject s...\",\":  () Organization: Materials Research Lab Lines: 17    I would like to be able to amplify a voltage...\",\"hpfcmgw.fc.hp.com Organization: Hewlett-Packard Fort Collins Site X-Newsreader: TIN [version 1.1 PL8...\",\"tlist examples Originator:  Keywords: ACS,SPICE,simulation Organization: Harris Controls Lines: 18  ...\",\"hat is [a] \\\"Storage scope\\\" Distribution: na Organization: Medical Informatics, Pittsburgh, PA USA Li...\",\"i channel receiver system? Keywords: telemetry, receiver system Organization: National Hospitals, Ic...\",\",  Has anyone used the Requirements Analsys methodology Hatley & Pirbhai ? I am a British final year...\",\"d. Nntp-Posting-Host: silene Organization: Institut Imag, Grenoble, France Lines: 38  In article \\u003c\\u003e,...\",\"on card Organization: University at Buffalo Lines: 8 News-Software: VAX\\u002fVMS VNEWS 1.41 Nntp-Posting-...\",\"s Freeway traffic reports Organization: Michigan Technological University X-Newsreader: TIN [version...\",\"p-Posting-Host: cec1 Organization: Washington University, St. Louis MO Lines: 88  In article \\u003c\\u003e  (St...\",\" Organization: University of Auckland, New Zealand. Keywords: pattern Summary: MDA\\u002fEGA\\u002fVGA pat. gen....\",\"work?? Reply-To:  Organization: Intergraph Corporation, Huntsville AL Lines: 25  In article \\u003c\\u003e,  (Mi...\",\"e-Help! Organization: \\u002fetc\\u002forganization Lines: 26  We have a setup with with 13 polaroid transducers...\",\"m Modules Organization: HP Lake Stevens, WA Lines: 12   (Ronald W. Butts, Jr.) writes:  \\u003eI am lookin...\",\"C50 Keywords: Motorola, FPU, 68882, 68030, 33\\u002f50 MHz, problems (FPU exception) Nntp-Posting-Host: pr...\",\"et wiring.. Organization: Eastman Kodak Lines: 29  In article \\u003c\\u003e  writes: \\u003eIn article \\u003c\\u003e,  (Russ Cri...\",\"anization: The Software Engineering Institute Lines: 10   In article \\u003c\\u003e, Joseph Chiu writes:  \\u003e The ...\",\" Organization: Netcom Online Communications Services (408-241-9760 login: guest) Lines: 32  Sci.E(E)...\",\"et wiring.. Nntp-Posting-Host: techmac10.tech.mtu.edu Organization: Michigan Technological Universit...\",\"Organization: University of Cape Town X-Newsreader: TIN [version 1.1 PL8] Lines: 15   Hi there  Does...\",\": AT&T Bell Laboratories Distribution: na Lines: 14  Can anybody recommend a good, application-orien...\",\"anization: Boston Computer Society \\u002f ISIG Lines: 10  Does any one know if the 6551 is timing\\u002fpin com...\",\"32  AllMartin MccormickWhat's Exactly in a Flour  MM\\u003e (Martin McCormick) MM\\u003eOrganization: Oklahoma S...\",\"gital Nntp-Posting-Host: hacke9.dtek.chalmers.se Organization: Chalmers University of Technology, Go...\",\"ntp-Posting-Host: hprtnyc.cup.hp.com Organization: Hewlett-Packard X-Newsreader: TIN [version 1.1 PL...\",\" Organization: ACSYS, Inc. Lines: 19   For all people that are interested in every aspect of the 260...\",\"ut number to a phone Organization:  Wright State University  Lines: 12  Since I have seen various di...\",\"Organization: Megatest Corporation Lines: 23  In article \\u003c\\u003e  (Billy Quinn) writes: \\u003eI built a little...\",\"I.D.: larc.babb-060493164354 Distribution: usa Organization: SDSU - LARC Lines: 16 NNTP-Posting-Host...\",\"from two 0.047 in series?! Organization: U of Toronto Zoology Lines: 13  In article \\u003c\\u003e  (Michael Gol...\",\"c Modems, RF Modem, etc -- Best Offer Distribution: na Organization: APG-Edgewood, MD, USA Lines: 26...\",\"(Robert Ganter) Organization: Institut fuer Informatik Nntp-Posting-Host: schroeder.ifi.unibas.ch Li...\",\"OM POWERED Nntp-Posting-Host: liu.cns.nyu.edu Reply-To:  Organization: New York University Lines: 13...\",\"anization: Performance Technologies, Incorporated Lines: 12  Any info on modern 20MHZ or better dual...\",\"r Bar Needed Organization: Netcom - Online Communication Services (408 241-9760 guest) Lines: 25   I...\",\"rce? Nntp-Posting-Host: chip Reply-To:  (David Vanderbyl) Organization: MPR Teltech Ltd. Lines: 30  ...\",\"on: Boston University, Boston, MA, USA Lines: 19  In article \\u003c\\u003e  (Stephe Lewis Foskett) writes: \\u003e \\u003eI...\",\" Coordinates  (Weston R Beal) Distribution: world Organization: Utah State Univ. EE Nntp-Posting-Hos...\",\"r chip Organization: NETCOM On-line Communication Services (408 241-9760 guest) Distribution: usa Li...\",\"rade Nntp-Posting-Host: cec1 Organization: Washington University, St. Louis MO Lines: 32  In article...\",\"ntp-Posting-Host: aisun3.ai.uga.edu Organization: AI Programs, University of Georgia, Athens Lines: ...\",\"Austrailia  (BYRNES,Graham) Organization: La Trobe University In-Reply-To: 's message of Mon, 19 Apr...\",\"ur service Lines: 10 Distribution: usa NNTP-Posting-Host: hpctdkz.col.hp.com  \\u003e   Does anybody out t...\",\"cted. Lines: 31 Nntp-Posting-Host: hengill.rhi.hi.is  In \\u003c\\u003e  (Ketil Albertsen,TIH) writes:  \\u003eMay we ...\",\"? Organization: Computer Science Department at Rose-Hulman Lines: 14 NNTP-Posting-Host: g222-26.next...\",\"hie) Organization: DSG Development Eng Beckman Instruments Inc. Nntp-Posting-Host: 134.217.245.87 Li...\",\"erlin, Germany Lines: 7  Have anyone some idea about how to build a cheap, low resolution (or high :...\",\" M2321K, M2322K, Fujitsu, Microdisk (-: Organization: University of Wales, Aberystwyth Lines: 23  I ...\",\"Article-I.D.: reed.1993Apr20.230749.12821 Organization: Reed College, Portland, Oregon Lines: 36  In...\",\"55.11 Organization: Motorola Western MCU Design Center, Chandler Arizona Lines: 17  In article \\u003c\\u003e,  ...\",\"ware Nntp-Posting-Host: flux.isr.alaska.edu Organization: Geophysical Institute, Fairbanks, AK Lines...\",\"1pli7gINNi6b Organization: California Institute of Technology, Pasadena Lines: 8 NNTP-Posting-Host: ...\",\"Reply-To:  Organization: Intergraph Corporation, Huntsville AL Lines: 41  In article \\u003c\\u003e,  (Mark Zeni...\",\"GS AND JUMPER SETTINGS FOR 386SX MOTHERBOARD Keywords: JUMPER SETTINGS DIP-SWITCH SETTINGS, HELP, CO...\",\"ndustrial Research Ltd., New Zealand. NNTP-Posting-Host: grv.grace.cri.nz Lines: 37  From:\\tMX%\\\"\\\"  6-...\",\"rticle-I.D.: hippo.1993Apr16.105738.20864 Organization: Rhodes University, Grahamstown, South Africa...\",\"To:  Organization: Universitaet Hannover, Theoretische Nachrichtentechnik Lines: 41  This is for a f...\",\" (for Easter? Keywords: xmas Organization: AT&T Lines: 54   Yes, I know it's nowhere near Christmas ...\",\"cle-I.D.: shelley.1r4cucINNham Distribution: na Organization: University of Washington, Seattle Line...\",\"tlet wiring.. (the truth) Keywords: outlet Reply-To:  Organization: Univ. of Lowell CS Dept. Lines: ...\",\"nization: U of Toronto Zoology Lines: 17  In article \\u003c\\u003e  (Wayne Smith) writes: \\u003e\\u003eNo restriction was ...\",\"-fi) Organization: NASA Langley Research Center and Reptile Farm Lines: 20 NNTP-Posting-Host: grisso...\",\"eo amp chip Nntp-Posting-Host: cns9.cns.ucalgary.ca Organization: University of Calgary Lines: 13  L...\",\"y Mountain Computer Organization: Case Western Reserve University, Cleveland, Ohio (USA) Lines: 25 N...\",\"o a phone line Organization: Chalmers University of Technology Lines: 11  In article \\u003c\\u003e  (Sean Olive...\",\"ticle-I.D.: shelley.1pr91aINNikg Distribution: world Organization: University of Washington, Seattle...\",\".19930406.072523.946 Lines: 7  If you can find a copy of \\\"8088 Assembler Language Programming: The I...\",\"ne line Organization: The University of Western Australia Lines: 14 NNTP-Posting-Host: mackerel.gu.u...\",\" Nacional de I+D Lines: 24  In article \\u003c\\u003e,  (John Thomson) writes: \\u003e Joseph Chiu () wrote: \\u003e  \\u003e : An...\",\"93828.1 Organization: Lawrence Livermore National Laboratory Lines: 15 NNTP-Posting-Host: travis.lln...\",\"icle-I.D.: spk.C52I89.GEq Distribution: na Organization: Hewlett-Packard Lines: 31 X-Newsreader: TIN...\",\"sticks Organization: University of Stellenbosch, SA Lines: 8  In article \\u003c\\u003e  (David F. Newman) write...\",\" circuit ~ Organization: Helsinki University of Technology, Finland Lines: 17 \\t\\u003c\\u003e \\t\\u003c1ptolq$\\u003e NNTP-Po...\",\"ost: v9001.ntu.ac.sg Organization: Nanyang Technological University - Singapore   currently I am usi...\",\" filter ICs wanted. Organization: University of Orleans, France. Lines: 9      Hi All!     I would l...\",\"or Organization: The Inquiring Mind BBS  1 204 488-1607 Lines: 43   (Bob Myers) writes:  \\u003e \\u003e I am lo...\",\"Towers do? Organization: NRK Clinic for habitual NetNews abusers - Beltway Annex Lines: 19 Reply-To:...\",\"Posting-Host: fenian.dell.com Reply-To:  Organization: SLAMDANZ CYBRNETX Lines: 13  Anyone know a re...\",\"m a schematic -\\u003e PCB? Organization: Comp.Center (RUS), U of Stuttgart, FRG Lines: 38 NNTP-Posting-Ho...\",\"bopper2.phx.mcd.mot.com Organization: Motorola Computer Group, Tempe, Az. Distribution: usa Lines: 9...\",\" Article-I.D.: nic.1993Apr5.213718.4721 Distribution: usa Organization: Triacus Inc. Lines: 26 Nntp-...\",\"ilt battery for 3rd grade sci report Keywords: 3rd grade science report Distribution: usa Organizati...\",\"e with MC68HC16 Keywords: DRAM, HC16 Nntp-Posting-Host: wu2.wl.aecl.ca Organization: AECL Research, ...\",\"ntrollers ? Article-I.D.: stellenb.mabbot.30.0 Organization: CSIR Lines: 15 NNTP-Posting-Host: 146.6...\",\"NRK Clinic for habitual NetNews abusers - Beltway Annex Lines: 24 Reply-To:  (David Lesher) NNTP-Pos...\",\"tion: Humber College Technology Dept. Lines: 29   According to my TI databook, the pinouts for the T...\",\".ca:735344986:trsvax:288200082:000:164 Nf-trsvax.tandy.com!pauls    Apr 21 09:31:00 1993 Lines: 6   ...\",\" Department of Computer Science, University of Toronto Distribution: na Lines: 11  The subject line ...\",\"munications Systems, Melbourne, AustraliaRe: RAMs &ROMs with ALE latches (for 8051's) Lines: 28   (S...\",\"ation: Digital Equipment Corporation Lines: 31 Nntp-Posting-Host: cimill  In article \\u003c\\u003e,  (Peter Try...\",\" Organization: Northeastern Ohio Universities College of Medicine Lines: 19  If the set is direct li...\",\"rganization: Megatest Corporation Lines: 26  In article \\u003c\\u003e  (G. Stewart Beal) writes: \\u003eIn article \\u003c\\u003e...\",\" world Nntp-Posting-Host: verdi.eng.unipr.it Lines: 19  Hi, I've got a PACE MODEM , Series Four 2400...\",\" book Article-I.D.: toontown.627 Reply-To:  (Craig S. Williamson) Organization: NCR E&M Columbia, SC...\",\" Nntp-Posting-Host: storm.cfnr.colostate.edu Organization:  Colorado Concert Sound Lines: 25  In art...\",\"siemens-austria Organization: Siemens AG Oesterreich Lines: 15  Hi !!!  Is there somebody using a 56...\",\"s? Organization: Computer Science Department at Rose-Hulman Lines: 11 NNTP-Posting-Host: g222-26.nex...\",\"ganization: School of MPCE, Macquarie University, Australia. Lines: 19 Distribution: world NNTP-Post...\",\"ion: University of Washington, Seattle Lines: 2 Distribution: na NNTP-Posting-Host: hardy.u.washingt...\",\" phone line Reply-To:  \\u003cPaula Stockholm\\u003e Organization: The Northern Lights BBS, Portland, ME  * 207-...\",\"one line Organization: NASA Langley Research Center and Reptile Farm Lines: 16 NNTP-Posting-Host: gr...\",\": catv cable television tvi Organization: NCR Corporation Wichita, KS Lines: 14   (Victor Laking) wr...\",\" System 6626 BBS, Winnipeg Manitoba Canada Lines: 21            On an A\\u002fD board I've got, I'm using ...\",\"tp-Posting-Host: eigen.ee.ualberta.ca Organization: University Of Alberta, Edmonton Canada Lines: 28...\",\"n: The Inquiring Mind BBS  1 204 488-1607 Lines: 41   (Joel Kolstad) writes:  \\u003e In article \\u003c\\u003e  \\u003e \\u003e \\u003e...\",\"ion: De Montfort University, Leicester, UK Lines: 26 X-Newsreader: TIN [version 1.1 PL8]  Frank Hiel...\",\"Host: dexter.psych.umn.edu Organization: University of Minnesota Lines: 18  I have a stereo compress...\",\"n: Netcom - Online Communication Services (408 241-9760 guest) Lines: 20  In article \\u003c\\u003e  (Brian Day)...\",\"  X-Posted-InterNews  Organization: Dartmouth College, Hanover, NH Lines: 12  We are Dartmouth engin...\",\"A Langley Research Center and Reptile Farm Lines: 9 Distribution: world NNTP-Posting-Host: grissom.l...\",\"0 Organization: University of Houston Lines: 17 Distribution: world NNTP-Posting-Host: rosie.uh.edu ...\",\"Decoders  Organization: University of Canberra Lines: 9  Could someone please tell me if a 1\\u002f4 decod...\",\"S work??? Organization: Capital Area Central Texas UNIX Society, Austin, Tx Lines: 15    I understan...\",\" it work?? X-Disclaimer: Nyx is a public access Unix system run by the University \\tof Denver for the...\",\"ibution: na Nntp-Posting-Host: sun_shine.mentorg.com Organization: Mentor Graphics Keywords:  Lines:...\",\"'s Cooling Towers do? Nntp-Posting-Host: levy.fnal.gov Organization: Fermilab Computing Division Lin...\",\"Week in Toronto. Organization: S Lines: 10   Does anybody know if there is a mailing list or newsgro...\",\"nd. Nntp-Posting-Host: 211.2.1.197 Organization: Texaco Lines: 16  I had a catalog with membrane key...\",\"Lehigh University Lines: 12  Well, I'm not too sure if this would be the right place to post this, b...\",\"ds: fluorescent bulb starter neon Nntp-Posting-Host: turbo_f.seas.smu.edu Organization: SMU - School...\",\"8051's) X-Xxdate: Wed, 21 Apr 93 03:04:18 GMT Nntp-Posting-Host: dialup-slip-1-88.gw.umn.edu Organiz...\",\"ion: TRIUMF: Tri-University Meson Facility Lines: 24 Distribution: world NNTP-Posting-Host: reg.triu...\",\"rganization: NASA Langley Research Center and Reptile Farm Lines: 9 NNTP-Posting-Host: grissom.larc....\",\"s: Used BMW Question ..... ???) Organization: Netcom Online Communications Services (408-241-9760 lo...\",\"Nntp-Posting-Host: aisun1.ai.uga.edu Organization: AI Programs, University of Georgia, Athens Lines:...\",\"ization: The World Public Access UNIX, Brookline, MA Lines: 27   (Mike Donahue) writes:   \\u003eI do NOT ...\",\" many electronics Questions Organization: Michigan Technological University X-Newsreader: TIN [versi...\",\"ie University Lines: 54 Distribution: world NNTP-Posting-Host: macadam.mpce.mq.edu.au  In article \\u003c\\u003e...\",\" two 0.047 in series?! Originator:  Nntp-Posting-Host: elan.princeton.edu Organization: Princeton Un...\",\"on: The Portal System (TM) Distribution: usa Lines: 6  Sounds like the picture tube lost vacuum.  Th...\",\"n: Horizon Research, Inc. Lines: 7 Distribution: world Reply-To:  NNTP-Posting-Host: sparc28.hri.com...\",\"ply Article-I.D.: jato.1993Apr15.225326.22831 Organization: JPL Pasadena CA Lines: 25 Nntp-Posting-H...\",\"ster Polytechnic Institute Lines: 11 NNTP-Posting-Host: wpi.wpi.edu  Hey everyone, I'm new to this  ...\",\"uestion about 120VAC outlet wiring. Nntp-Posting-Host: aisun3.ai.uga.edu Organization: AI Programs, ...\",\"nization: PANIX Public Access Unix, NYC Lines: 11  There are also a couple or three places on West 4...\",\"e line Nntp-Posting-Host: churchill.columbiasc.ncr.com Organization: NCR Corp., Columbia SC Lines: 3...\",\"UT? That's a joke. Lines: 24 NNTP-Posting-Host: thing1.cc.utexas.edu  It is illegal to use anything ...\",\"ly-To: 's message of 15 Apr 93 15:02:28 Lines: 38 Organization: University of Oulu, Dept. of EE, Fin...\",\" Philosophical Question Summary: How do we preferentially amplify holes instead of electrons? Keywor...\",\"t........Nanaimo Campus)Re: Suggestions  on Audio relays ??? Organization: Malaspina College Lines: ...\",\"930406.131941.134 Lines: 3   They detect the oscillator operating in the detector. Saw a story about...\",\"ersity of Kansas Academic Computing Services Lines: 33  Thanks for the resposes as they were all goo...\",\" IR detector cards..??? Keywords: IR card  Organization: Monash University, Melb., Australia. Lines:...\",\"mputer, Marlboro Ma. Lines: 22 NNTP-Posting-Host: m21.eng.stratus.com  In article \\u003c\\u003e  (Roger A Willi...\",\"8051's) Organization: Harris Allied Broadcast Div., Quincy, IL Lines: 22   Intel also makes some nea...\",\"n: world Organization: Ozone Online Operations, Inc. - New Orleans, LA Reply-To:  (Gerald Belton)  L...\"],\"x\":[14.756913185119629,11.09183406829834,17.5086669921875,16.757549285888672,-6.843396186828613,8.256108283996582,-0.3428197205066681,-2.814535617828369,-7.056631565093994,-6.608814239501953,2.6996142864227295,2.7056825160980225,-3.50870943069458,7.506647109985352,-1.7690197229385376,11.803325653076172,-2.717240571975708,2.909280300140381,-1.2785531282424927,2.357208251953125,5.052272796630859,-4.999520778656006,-2.7722432613372803,3.649397373199463,-1.7825971841812134,5.604950428009033,-3.779221296310425,7.589869022369385,1.7824370861053467,4.7018513679504395,-10.790972709655762,-2.5204014778137207,0.5046486258506775,3.3429062366485596,-0.41379737854003906,13.113783836364746,3.857235908508301,1.3702760934829712,-5.447855472564697,1.1161922216415405,-4.431580543518066,4.3844475746154785,4.055734157562256,13.638303756713867,10.632450103759766,3.2856357097625732,-6.025925636291504,-8.087347984313965,6.6508049964904785,11.188573837280273,4.574666976928711,6.874814987182617,-8.145563125610352,0.811947762966156,-1.6516485214233398,-1.917647123336792,12.958558082580566,-9.123437881469727,10.387784957885742,5.709957599639893,4.9029083251953125,-3.558523654937744,3.6801605224609375,5.6342926025390625,4.363586902618408,6.817723751068115,3.3578317165374756,-3.7076339721679688,2.7672722339630127,6.629438400268555,-4.048977851867676,21.9386043548584,3.7273261547088623,4.773252964019775,9.010175704956055,5.979356288909912,4.9945878982543945,-3.1271634101867676,1.7942496538162231,-2.998270034790039,-0.9721259474754333,10.257306098937988,5.377969264984131,-7.696623802185059,-4.75938081741333,3.9339139461517334,-0.4776609241962433,3.6008670330047607,-1.2183372974395752,8.30757999420166,6.027104377746582,9.391949653625488,3.737298011779785,3.586343765258789,-4.18123722076416,1.4152326583862305,7.001298904418945,3.4759180545806885,2.810676097869873,-1.1192423105239868,1.1270618438720703,-0.033312663435935974,6.6113481521606445,24.41718864440918,-4.519208908081055,8.62348461151123,6.306774616241455,-6.401729106903076,-3.2987911701202393,-0.6260180473327637,-4.0162458419799805,16.188838958740234,-3.296381711959839,-5.978865623474121,-1.0437896251678467,-5.398059368133545,0.4684930443763733,-1.6093318462371826,3.064044237136841,40.8061637878418,6.712313175201416,-7.150939464569092,-8.93588924407959,-0.05145052447915077,0.31786614656448364,-2.6347906589508057,1.662350058555603,7.573196887969971,13.755778312683105,0.11102627217769623,0.9598296284675598,1.7391645908355713,7.085093021392822,-0.5231472849845886,6.010867595672607,-3.787691831588745,-8.1271333694458,7.828789710998535,7.905920028686523,1.8091338872909546,-9.27459716796875,1.2268788814544678,-2.154090642929077,15.261019706726074,-2.0073955059051514,-7.409580230712891,-8.86146354675293,3.4578845500946045,0.8492631912231445,1.2325005531311035],\"y\":[7.707223892211914,-4.280710697174072,-6.985265731811523,-5.684043884277344,2.804164171218872,-5.781029224395752,-3.2377185821533203,-0.25952059030532837,1.3902074098587036,0.9368242621421814,4.528498649597168,-2.978996515274048,-1.4062089920043945,-1.4631799459457397,1.1583682298660278,-0.9718436598777771,-0.4289492964744568,-3.7632980346679688,-2.0366270542144775,1.8384383916854858,-3.8456103801727295,0.288825124502182,0.4309597611427307,-3.5713577270507812,-2.4838740825653076,-1.9115865230560303,0.78912353515625,-5.553614616394043,-3.6428308486938477,-4.973573207855225,1.1922732591629028,5.629323482513428,0.7463185787200928,-0.326947957277298,-1.125254511833191,-7.940417289733887,-1.9986152648925781,-4.020198345184326,-0.6277865171432495,0.2720365524291992,2.893078088760376,0.9193874597549438,-2.062044143676758,-2.687466621398926,-0.24545475840568542,-0.02020428515970707,3.058471202850342,3.878901243209839,-0.09619930386543274,-6.936343669891357,-3.4439351558685303,-3.2860476970672607,2.493502378463745,1.2432371377944946,-2.1154656410217285,-1.8350189924240112,1.5264753103256226,2.5416462421417236,-4.54128360748291,8.538592338562012,-0.9951905012130737,0.9674921035766602,-3.5518763065338135,-4.900806427001953,-0.08506032079458237,1.1206907033920288,-5.752462863922119,-0.21619664132595062,1.0396521091461182,0.05069912225008011,-0.9633661508560181,10.058256149291992,-1.1213687658309937,-0.5903508067131042,6.40468168258667,-1.7644630670547485,0.9165669679641724,0.042534083127975464,-4.311097145080566,5.737131118774414,-1.6888062953948975,7.1954803466796875,-1.0893174409866333,0.4506547152996063,-1.9825278520584106,-3.528151273727417,-1.151085615158081,-1.784271478652954,-3.0467379093170166,-4.347586631774902,-4.261484622955322,7.332915306091309,0.882683277130127,0.3181762397289276,-1.3080166578292847,6.058237552642822,-3.8255534172058105,-5.044744491577148,2.9963274002075195,0.6038655042648315,3.3365092277526855,-3.343585968017578,-4.953292369842529,7.998136043548584,4.1302103996276855,-7.682313442230225,0.3544783890247345,3.0408260822296143,2.2525827884674072,-0.564877450466156,-1.4394503831863403,-2.5617690086364746,-3.0232136249542236,-1.046216607093811,-2.148893117904663,1.9712344408035278,-4.096129894256592,-1.4034761190414429,0.22734026610851288,26.51301383972168,-5.939927577972412,0.5012364387512207,1.890580654144287,-2.3829638957977295,0.601675271987915,0.008247350342571735,-1.9290982484817505,-5.685985565185547,-0.9021443724632263,-2.9484777450561523,-3.548949956893921,0.20480875670909882,-3.3144078254699707,-3.7540857791900635,-5.430963039398193,1.3321905136108398,2.8847873210906982,2.5997259616851807,-6.467536926269531,2.133326530456543,1.3412590026855469,-0.12481753528118134,0.09309262782335281,15.369029998779297,-2.540682554244995,0.9363856911659241,3.305227518081665,-0.2598719894886017,-3.247736930847168,2.3142073154449463],\"type\":\"scatter\"},{\"hoverinfo\":\"text\",\"marker\":{\"line\":{\"color\":\"white\",\"width\":0.5},\"size\":15},\"mode\":\"markers\",\"name\":\"Class sci.med\",\"opacity\":0.7,\"text\":[\"rnal Article - Whiplash\\u002fCervical Pain Lines: 37 Organization: Colonial Mutual Life Australia X-Newsr...\",\"ganization: Invention Factory's BBS - New York City, NY - 212-274-8298v.32bis Reply-To:  (Jim Zisfei...\",\"rganization: The Santa Cruz Operation, Inc. Distribution: usa Lines: 18   In article \\u003c\\u003e  (Evan Hunt)...\",\"KS GREAT !!!! Organization: Omen Technology INC, Portland Rain Forest Lines: 34  In article \\u003c\\u003e  (Bet...\",\"me Organization: Sun Microsystems, Inc.  Mt. View, Ca. Lines: 18 Distribution: world Reply-To:  (Jim...\",\"nization: CS Dept, University of Texas at Austin Lines: 17 NNTP-Posting-Host: saltillo.cs.utexas.edu...\",\"weet (aspartame) Organization: S.P. Dyer Computer Consulting, Cambridge MA Lines: 30  In article \\u003c\\u003e ...\",\" Organization: The Portal System (TM)   \\u003c\\u003e \\u003c\\u003e Lines: 41  A person posted certain stuff to this newsg...\",\"-Host: drums.reasoning.com Organization: Reasoning Systems, Inc., Palo Alto, CA Lines: 11   My insur...\",\"s Organization: Computing Services Division, University of Wisconsin - Milwaukee Lines: 19 NNTP-Post...\",\"srael Hospital, Harvard Medical School, Boston Mass., USA Lines: 11 NNTP-Posting-Host: enterprise.bi...\",\"ation: Pittsburgh TRansplant Institute Lines: 41  In article \\u003c\\u003e  (Steve Heffner) writes: \\u003eA bit more...\",\"riptan) available in CA Article-I.D.: vela.1psee5$c3t Distribution: na Organization: Oakland Univers...\",\"s In-Reply-To: 's message of Tue, 6 Apr 1993 03:28:57 GMT Nntp-Posting-Host: crux3.cit.cornell.edu O...\",\"et for Crohn's (IBD) Organization: Gastroenterology - Univ. of Alabama Distribution: usa Lines: 36  ...\",\"is [Is it Lyme's?]\\\"] Organization: Lamont-Doherty Earth Observatory Lines: 50  In article \\u003c\\u003e,  (Gord...\",\"trix Networks Lines: 21   \\u003e In article \\u003c\\u003e  (Richard Silver) writes: \\u003e \\u003e \\u003e \\u003eIs there a right-eye domi...\",\"bicans: what is it?) Article-I.D.: bunyip.C5wwGz.17G Organization: Prentice Centre, University of Qu...\",\"ects Organization: George Washington University Lines: 28  In article \\u003c\\u003e  (Steve Dyer) writes: \\u003eIn a...\",\": West Virginia Network for Educational Telecomputing Lines: 11  My girlfriend is in pain from kidne...\",\"ruzio.5254 Reply-To:  Lines: 12   I have a friend who has just been diagnosed with Lupus, and I know...\",\"pathy ... tradition?) Summary: Science is not mere methodology.   Organization: University of Hawaii...\",\"tient relationship problem Organization: NETCOM On-line Communication Services (408 241-9760 guest) ...\",\"ead an Ultrasound? Organization: Dixie Communications Public Access.  The Mouth of the South. Lines:...\",\"ation: University of New Mexico, Albuquerque Lines: 27 NNTP-Posting-Host: carina.unm.edu   Gordon Ba...\",\"e of Veterinary Medicine WSU X-Newsreader: TIN [version 1.1 PL9] Lines: 45  kathleen richards () wro...\",\"ael Hospital, Harvard Medical School, Boston Mass., USA Lines: 26 NNTP-Posting-Host: enterprise.bih....\",\"Organization: U.C. Berkeley -- ERL Lines: 16 Distribution: world NNTP-Posting-Host: zion.berkeley.ed...\",\" Flying? Article-I.D.: rigel.SHAFER.93Apr6095951 Organization: NASA Dryden, Edwards, Cal. Lines: 33 ...\",\"rdon Banks) Organization: Univ. of Pittsburgh Computer Science Lines: 28  In article \\u003c\\u003e  (David Nye)...\",\" of medical terms Organization: Ecole Polytechnique Federale de Lausanne Lines: 41 NNTP-Posting-Host...\",\"p, depression Nntp-Posting-Host: bottom.magnus.acs.ohio-state.edu Organization: The Ohio State Unive...\",\"obert Allison) Organization: The National Capital Freenet Lines: 18   I have between 15 and 25 noseb...\",\"Semantic War. Organization: University of Illinois at Urbana Lines: 6  Also remember that most peopl...\",\" Banks) Organization: Univ. of Pittsburgh Computer Science Lines: 17  In article \\u003c\\u003e  (Ken Mitchum) w...\",\"Nntp-Posting-Host: wind.bellcore.com Reply-To:  Organization: Bell Communications Research Lines: 31...\",\"p-Posting-Host: aisun3.ai.uga.edu Organization: AI Programs, University of Georgia, Athens Lines: 12...\",\"ingers Article-I.D.: pitt.19424 Reply-To:  (Ken Mitchum) Organization: Univ. of Pittsburgh Computer ...\",\"al research? Organization: University of Northern Iowa Lines: 22  In article \\u003c\\u003e,  (Ken Mitchum) writ...\",\"words: gene pool; wisdom; virtue Nntp-Posting-Host: naples.med.unc.edu Organization: UNC-CH School o...\",\"ion? Organization: Center for Reliable and High-Performance Computing, University of Illinois at Urb...\",\"s: Homeopathy ... tradition?) Nntp-Posting-Host: engws5.ic.sunysb.edu Organization: State University...\",\"m.stortek.com Organization: StorageTek SW Engineering X-Newsreader: NNR\\u002fVM S_1.3.2 Lines: 53  In art...\",\"n: Acadia University Lines: 15   (James R. Skinner) writes:  \\u003e\\t \\u003e\\tI have seen a couple of postings r...\",\"ion? Organization: sdf public access Unix, Dallas TX 214\\u002f436-3281 Lines: 27  In article \\u003c\\u003e  (Andrew ...\",\" skin - problem? Article-I.D.: aio.1993Apr6.133244.14717 Distribution: sci.med Organization: Lockhee...\",\"al tradition? Reply-To:  (Gordon Banks) Organization: Univ. of Pittsburgh Computer Science Lines: 26...\",\" S.P. Dyer Computer Consulting, Cambridge MA Lines: 25  In article \\u003c\\u003e  (Robert Allison) writes: \\u003eDoe...\",\"eywords: seizures epilepsy Reply-To:  (Gordon Banks) Organization: Univ. of Pittsburgh Computer Scie...\",\"nization: University of Wisconsin Eau Claire Lines: 19  [reply to  (MD)]   \\u003eAfter many metabolic tes...\",\"ute of Theoretical and Experimental Biophysics Lines: 29 NNTP-Posting-Host: venus.iteb.serpukhov.su ...\",\"anization: University of Kuopio, Finland Lines: 10   There is this newsgroup sci.med.physics and the...\",\"AT&T Distribution: usa Keywords: San Francisco Lines: 9   \\tI was kind of half watching Street Storie...\",\"=\\u003e RoseMail Gateway (v1.70) Organization: Rose Media Inc, Toronto, Ontario. Lines: 23  L(\\u003e   (Joel B...\",\"riginator:  Nntp-Posting-Host: sasquatch Reply-To:  Organization: Clinical Diagnostics Division, Eas...\",\"-I.D.: cs.1993Apr22.055958.2377 Organization: nCUBE, Sandia Park, NM Lines: 31  In article \\u003c\\u003e  (Vida...\",\"? Reply-To:  (Betty Harvey) Organization: Carderock Division, NSWC, Bethesda, MD Lines: 30  In rec.f...\",\"cle-I.D.: pitt.19396 Reply-To:  (Gordon Banks) Organization: Univ. of Pittsburgh Computer Science Li...\",\"ation: AT&T Keywords: seizures Lines: 8  Here is the tollfree hotline for the Epilepsy Foundation of...\",\"tronet Communications Services, Dallas Tx Distribution: usa Lines: 13  I am 35 and am recovering fro...\",\"Keywords: Daypro Lines: 7  Anyone have any information on the effects\\u002forigin of oxaprozin? It's mark...\",\"ans: what is it?) Organization: University of Wisconsin Eau Claire Lines: 29  [reply to  (Jacquelin ...\",\"  (Grant Edwards) Organization: Rosemount, Inc. Lines: 41 Nntp-Posting-Host: aquarius   (Richard Ott...\",\" Reply-To:  Organization: University of Chicago Lines: 27  One thing that I haven't seen in this thr...\",\"ization: CS Dept, University of Texas at Austin Lines: 67 Distribution: inet NNTP-Posting-Host: im4u...\",\"omeopathy ... tradition?) Originator:  Nntp-Posting-Host: theseus.unx.sas.com Organization: SAS Inst...\",\"ghts from the DSM-IIIR Organization: Digital Equipment Corporation Lines: 45 NNTP-Posting-Host: DWOV...\",\"s (PDR)? Reply-To:  (Gordon Banks) Organization: Univ. of Pittsburgh Computer Science Lines: 48  In ...\",\"zation: Stratus Computer, Inc. Lines: 14 Distribution: world NNTP-Posting-Host: coyoacan.sw.stratus....\",\"omeopathy ... tradition?) Originator:  Nntp-Posting-Host: theseus.unx.sas.com Organization: SAS Inst...\",\"opathy ... tradition?) Organization: University of Rochester  In article \\u003c\\u003e  (Gary Merrill) writes: ...\",\"rdon Banks) Organization: Univ. of Pittsburgh Computer Science Lines: 22  In article \\u003c\\u003e  (daniel fed...\",\"rstition? Organization: University of Illinois at Urbana Lines: 26   (Steve Dyer) writes:  \\u003eIn artic...\",\"nks) Reply-To:  Organization: University of Chicago Lines: 12  There were a few people who responded...\",\" Organization: Locus Computing Corporation, Los Angeles, California Distribution: usa Lines: 12   Hi...\",\"To:  (Gordon Banks) Distribution: na Organization: Univ. of Pittsburgh Computer Science Lines: 19  \\u003e...\",\"ntp-Posting-Host: huey.udel.edu Organization: little scraps of paper, mostly Lines: 10   I think he ...\",\"alif State Univ\\u002fElectronic Information Services Lines: 3  Can anyone help me find any information on...\",\"e of Veterinary Medicine WSU X-Newsreader: TIN [version 1.1 PL9] Lines: 13  kathleen richards () wro...\",\"ems Organization: University of Colorado at Denver Lines: 29   \\tA friend has the following symptoms ...\",\" Organization: NASA Langley Research Center, Hampton, VA Lines: 28 Reply-To: Jason C. Austin \\u003c\\u003e NNTP...\",\"zation: Space Telescope Science Institute Distribution: na  Am I justified in being pissed off at th...\",\"ctose intolerance Organization: Gastroenterology - Univ of Alabama Lines: 19  In article \\u003c\\u003e,  (Ho Le...\",\" Robinson \\u003c\\u003eReasons for hospitals to join Internet? Lines: 8  What resources and services are availa...\",\"n: Actrix Networks Lines: 26   My 14-y-o son has the usual teenage spotty chin and greasy nose.  I b...\",\" Switzerland Lines: 21  Hello to everybody, I write here because I am kind of desperate. For about s...\",\"Gordon Banks) Organization: Univ. of Pittsburgh Computer Science Lines: 16  In article \\u003c\\u003e  (Daniel P...\",\"itt.19440 Reply-To:  (Gordon Banks) Organization: Univ. of Pittsburgh Computer Science Lines: 23  In...\",\"versity of Wisconsin Eau Claire Lines: 13  [reply to  (Gordon Banks)]   \\u003e\\u003eI believe it is illegal fo...\",\"Organization: S.P. Dyer Computer Consulting, Cambridge MA Lines: 14  In article \\u003c1qnns0$\\u003e  (Steve Po...\",\"is [Is it Lyme's?]\\\"] Reply-To:  (Gordon Banks) Organization: Univ. of Pittsburgh Computer Science Li...\",\"or? Organization: HP Colorado Springs Division Lines: 5 Distribution: na NNTP-Posting-Host: hpcspe17...\",\"KS GREAT !!!! Organization: Omen Technology INC, Portland Rain Forest Lines: 33  In article \\u003c\\u003e  (Gor...\",\" Utah State University Lines: 35  \\u003e\\u003eBetween who? Over what? I would be most interested in seeing you...\",\"icle-I.D.: cup.79700 Organization: The Portal System (TM) Lines: 36  \\u003e Probably within 50 years, a n...\",\"on Banks) Organization: Univ. of Pittsburgh Computer Science Lines: 12  In article \\u003c\\u003e  (John E. Rodw...\",\"rriage Organization: worldbank.org Lines: 17        Following a series of miscarriages, my wife was ...\",\"cle-I.D.: pitt.19422 Reply-To:  (Ken Mitchum) Organization: Univ. of Pittsburgh Computer Science Lin...\",\"since last month [monthly posting] Supersedes: \\u003ctyping-injury-faq\\u002f\\u003e Organization: University of Cali...\",\" Vasomotor Rhinitis Organization: University of Pittsburgh Lines: 21  In article \\u003c1r1t1a$\\u003e  writes: ...\",\" Albicans: what is it?) Nntp-Posting-Host: magnusug.magnus.acs.ohio-state.edu Organization: The Ohio...\",\": world Organization: Invention Factory's BBS - New York City, NY - 212-274-8298v.32bis Reply-To:  (...\",\"er Corporation Nntp-Posting-Host: condor.encore.com Lines: 20  A bit more than a year ago, a hernia ...\",\"ewsj.1993Apr6.161858.12132 Distribution: na Organization: AT&T Lines: 15  In article \\u003c\\u003e,  writes: \\u003e ...\",\"blue.7936 Lines: 23 X-Newsreader: TIN [version 1.1 PL8]  David Nye () wrote: : [reply to  (ron roth)...\",\"ines: 43 Nntp-Posting-Host: vms.ocom.okstate.edu Organization: OSU College of Osteopathic Medicine  ...\",\"n? Lines: 12   To:  (Alex Milshteyn)   AM\\u003e Having said that, i might add, that in MHO, MSG does not ...\",\": The Old Frog's Almanac, Nanaimo, B.C. Keywords: Bates method Summary: Proven a hoax long ago Lines...\",\"Sybase, Inc. Lines: 18  My mom has just been diagnosed with cystic breast disease -- a big relief, a...\",\"National Accelerator Laboratory, Batavia IL Lines: 14 Distribution: world NNTP-Posting-Host: adcs01....\",\"sa Organization: Beth Israel Hospital, Harvard Medical School, Boston Mass., USA Lines: 15 NNTP-Post...\",\"core, Piscataway, NJ Lines: 14  In article \\u003c\\u003e  (Gordon Banks) writes: \\u003eIn article \\u003c\\u003e  (Richard Silve...\",\"ry: Kaiser has been doing it for a while Article-I.D.: pegasus.1993Apr22.221508.10196 Organization: ...\",\"anization: Lehigh University Lines: 22  The following 4 addresses are on the LymeNet mailing list, b...\",\"Host: vms.ocom.okstate.edu Organization: OSU College of Osteopathic Medicine Distribution: usa  In a...\",\" UM Anesthesiology Lines: 21 Distribution: world NNTP-Posting-Host: 141.214.86.38 X-UserAgent: Nunti...\",\"t current trends in diabetes. Lines: 63 Organization: The Information Deli - via Netcom \\u002f San Jose, ...\",\"rganization: The World Public Access UNIX, Brookline, MA Lines: 10   Some recent postings remind me ...\",\"es Organization: Hitachi Computer Products, OSSD division Lines: 16 NNTP-Posting-Host: duca.hi.com  ...\",\"eet (aspartame) Organization: University of Vermont -- Division of EMBA Computer Facility Lines: 21 ...\",\"? Keywords: cancer Organization: Digital Equipment Corporation Lines: 13   What does a lack of taste...\",\"ization: Carleton University, Ottawa, Canada Lines: 44  In article \\u003c\\u003e  (Gong Tong) writes: \\u003eIn artic...\",\"n: Department of Computer Science, UWO, Canada Keywords: volvulus Nntp-Posting-Host: berfert.csd.uwo...\",\"ationship problem Distribution: world Organization: Invention Factory's BBS - New York City, NY - 21...\",\"icle-I.D.: oregon.21APR199316170714 Distribution: world Organization: University of Oregon Lines: 14...\",\"sity of Wisconsin Eau Claire Lines: 15  [reply to  (ron roth)]   \\u003eWhile you're right that the S vert...\",\"anks) Organization: Univ. of Pittsburgh Computer Science Lines: 18  In article \\u003c\\u003e  (John Werner) wri...\",\" Organization: University of Pittsburgh Lines: 14  In article \\u003c\\u003e  (Fiberman) writes: :Is erythromyci...\",\"ion: McDonnell Douglas Aerospace Lines: 20 Distribution: world NNTP-Posting-Host: q5020598.mdc.com  ...\",\"s [Is it Lyme's?]\\\"] Article-I.D.: pitt.19421 Reply-To:  (Ken Mitchum) Organization: Univ. of Pittsbu...\",\"22 X-Newsreader: Tin 1.1 PL5  Sharon Paulson () wrote: :  {much deleted] :  :  : The fact that this ...\",\"g's Almanac, Nanaimo, B.C. Keywords: advice needed Summary: thanx for the comeback Lines: 7  Hello ,...\",\"'s message of Mon, 12 Apr 1993 21:02:31 GMT Nntp-Posting-Host: kyanite Organization: Telesciences CO...\",\"I.D.: pitt.19423 Reply-To:  (Ken Mitchum) Organization: Univ. of Pittsburgh Computer Science Lines: ...\",\"anization: Virginia's Public Education Network (Radford) Lines: 13  Thanks for all your assistance. ...\",\"zation: NASA Langley Research Center, Hampton VA, USA Lines: 48 \\t\\u003c\\u003e \\u003c\\u003e NNTP-Posting-Host: cmb00.larc...\",\"ERT-CONNECT -- Public Access UNIX Lines: 15   can anyone give me more information regarding endometr...\",\"r:  Organization: Citibank IBISM Lines: 11    has any one heard of a sedative called \\\"Rhoepnol\\\"? Mad...\",\"ngstown State University Lines: 5 NNTP-Posting-Host: ysub.ysu.edu  Does the Proventil inhaler for as...\",\"P-Posting-Host: fred.bbn.com   (ron roth) writes:  |JB\\u003e   (Ella I Baff) writes: |JB\\u003e   |JB\\u003e    Ron R...\",\"nline Communication Services (408 241-9760 guest) Lines: 7  In article \\u003c\\u003e  (Gordon Banks) writes: \\u003ew...\",\"yer Computer Consulting, Cambridge MA  In article \\u003c\\u003e  (Craig MacDonald) writes: \\u003e\\u003e  It may be extrem...\",\" slit operation Article-I.D.: pegasus.1993Apr22.221111.9678 Organization: Pegasus,  Honolulu Lines: ...\",\"zation: NASA Langley Research Center, Hampton VA, USA Lines: 52 \\t\\u003c\\u003e NNTP-Posting-Host: cmb00.larc.na...\",\" Nntp-Posting-Host: sdcmvs.mvs.sas.com Organization: SAS Institute Inc. Lines: 16  In article \\u003c\\u003e,  (...\",\"ization: Carleton University, Ottawa, Canada Lines: 43  In article \\u003c\\u003e  (David Thomas) writes:  \\u003e\\u003eIn ...\",\"T !!!! Organization: Express Access Public Access UNIX, Greenbelt, Maryland USA Lines: 58 NNTP-Posti...\",\"zation: NASA Langley Research Center, Hampton VA, USA Lines: 53 NNTP-Posting-Host: cmb00.larc.nasa.g...\",\"zation: Unocal Corporation Lines: 20  Living things maintain small electric fields to (1) enhance ce...\",\"formix Software, Inc. Lines: 11  In article \\u003c\\u003e  (Dick King) writes: \\u003e \\u003eI recall reading somewhere, d...\"],\"x\":[2.0289433002471924,0.5838117599487305,5.1406731605529785,0.436897337436676,-7.043030261993408,2.127070188522339,-6.1079020500183105,-6.992772102355957,-4.741687297821045,-4.187523365020752,6.228898048400879,2.6034023761749268,0.6791898608207703,5.439446926116943,-2.1261184215545654,-4.687358856201172,10.579875946044922,-5.933006286621094,-0.06603968888521194,-3.8576745986938477,-9.280399322509766,-5.568458557128906,-6.544253826141357,-1.9810218811035156,-7.658013343811035,-5.502752304077148,-1.6850590705871582,-0.4522220194339752,-2.069322109222412,-3.6784050464630127,-1.5594391822814941,-8.849703788757324,-2.7918038368225098,12.316534042358398,2.6050472259521484,-2.121340751647949,8.24169921875,-6.140300750732422,-8.852993965148926,7.905247211456299,-4.229678630828857,-4.974209785461426,-0.8017653226852417,4.251837730407715,-0.22178921103477478,-2.5826809406280518,-1.0980000495910645,-7.255490303039551,-2.4374306201934814,-4.56136417388916,-3.929108142852783,1.9287333488464355,-3.6446032524108887,7.565213203430176,0.6959481239318848,-5.749693393707275,-1.4760112762451172,-2.999227523803711,-2.8575286865234375,3.3165512084960938,0.5315950512886047,-6.414040565490723,2.2415621280670166,-3.503593921661377,-9.189019203186035,10.921156883239746,0.5488694906234741,-12.191713333129883,3.85868501663208,-2.5941102504730225,-5.403762340545654,0.15699930489063263,0.49065113067626953,-0.97337806224823,6.956769943237305,-0.3124149739742279,0.6509169936180115,-1.1495122909545898,8.340394020080566,-5.626997470855713,-5.71965217590332,-11.957103729248047,1.1887269020080566,-3.957782745361328,-9.168919563293457,-10.333420753479004,1.6994328498840332,-3.857602119445801,-5.37445592880249,3.078457832336426,-0.7133287191390991,10.922798156738281,6.19002628326416,-7.947482109069824,-7.541162490844727,6.340479373931885,-7.599547863006592,-2.325079917907715,30.819252014160156,0.9680735468864441,-2.0636327266693115,2.820733070373535,-7.047913074493408,-4.760472774505615,2.026542901992798,8.507744789123535,-2.50746488571167,2.620598793029785,-10.694976806640625,0.9298183917999268,4.991479873657227,6.172229766845703,0.4659891724586487,-3.690093517303467,-4.832881927490234,-2.4714672565460205,0.16579796373844147,-6.502660751342773,2.432831048965454,-9.986835479736328,-3.222048759460449,1.2507976293563843,-8.17370891571045,3.141629934310913,-2.3630764484405518,-5.290266513824463,3.8673181533813477,14.145596504211426,-6.494846820831299,-2.1451640129089355,-0.19546367228031158,12.523773193359375,-0.2088601142168045,-6.3640007972717285,-7.053173065185547,10.823740005493164,2.5808043479919434,-1.218207836151123,4.801029205322266,1.8730525970458984,6.139640808105469,6.047243595123291,0.8880971670150757,-2.0200653076171875,1.1459139585494995,-1.6499963998794556,-8.028761863708496,0.3791029453277588,-7.11412239074707,-2.4432787895202637],\"y\":[-4.007542133331299,-0.9931856989860535,-1.3793537616729736,1.4574984312057495,-0.11728249490261078,-1.8539679050445557,1.6689167022705078,1.5945534706115723,0.4532228410243988,5.000514984130859,-5.47213077545166,8.472297668457031,-4.094845294952393,-1.6059091091156006,1.480705976486206,4.872054576873779,-1.6110546588897705,4.510833263397217,3.5348949432373047,-1.2466301918029785,1.6317873001098633,3.7241950035095215,0.9849574565887451,0.9194295406341553,2.997386932373047,0.274199515581131,0.9799886345863342,-0.431984007358551,-0.6279110312461853,-1.990590214729309,-2.114776849746704,2.914470672607422,-1.8549354076385498,-7.480677604675293,-1.5733739137649536,2.5486650466918945,0.7630773782730103,0.23009826242923737,3.5986781120300293,-7.251903533935547,1.2954809665679932,2.3751275539398193,2.5509915351867676,-2.9070591926574707,1.9974576234817505,3.6520066261291504,-0.9639036655426025,0.7925698161125183,2.866772174835205,1.976539969444275,-2.1600708961486816,-5.154162406921387,-1.9058408737182617,0.35878321528434753,-1.3572278022766113,2.345292329788208,-0.4858376979827881,2.8862035274505615,-1.8719892501831055,-3.164750337600708,-3.155500650405884,1.615170955657959,-3.258011817932129,-0.9147974252700806,3.2520339488983154,-5.364756107330322,-1.141363263130188,4.277647495269775,-4.824980735778809,0.7318059802055359,1.4353694915771484,0.3753647208213806,1.8146114349365234,-2.9759912490844727,-2.8691933155059814,-1.2428483963012695,-4.915838241577148,-2.2168421745300293,-5.093005657196045,-0.8748679161071777,1.8085668087005615,-0.04765292629599571,0.3753182291984558,0.6660757064819336,-0.0861169770359993,1.3750678300857544,-0.171077698469162,1.9085800647735596,1.682593584060669,-1.316131830215454,0.7373844981193542,-7.360779285430908,0.30647432804107666,4.024467468261719,1.432491421699524,-3.9230079650878906,-0.8907350301742554,3.1784563064575195,20.27583122253418,-0.9355894327163696,2.52584171295166,-2.023754596710205,-1.3899608850479126,2.324860095977783,1.5609556436538696,9.498761177062988,2.0456016063690186,-6.759547233581543,1.2555251121520996,-4.015836238861084,-2.9281561374664307,2.545753002166748,0.334859699010849,-1.3654851913452148,1.8656120300292969,3.054903507232666,3.9745404720306396,0.6459717750549316,-2.937145471572876,2.149364948272705,-2.250934362411499,3.0313990116119385,-0.164094939827919,-2.308683395385742,-2.236562490463257,1.8408957719802856,0.6032581925392151,-1.280596137046814,-2.9745662212371826,-0.16302628815174103,-3.3732004165649414,-9.002456665039062,0.072331003844738,0.8112441897392273,0.15579527616500854,-0.5048770308494568,-2.2438650131225586,-2.253911256790161,-5.672626495361328,-0.13052986562252045,-1.3783375024795532,2.132934093475342,-1.4231373071670532,-0.7698161005973816,2.445701837539673,3.033327579498291,3.1727325916290283,-3.7831854820251465,0.3846161365509033,2.719970464706421],\"type\":\"scatter\"},{\"hoverinfo\":\"text\",\"marker\":{\"line\":{\"color\":\"white\",\"width\":0.5},\"size\":15},\"mode\":\"markers\",\"name\":\"Class sci.space\",\"opacity\":0.7,\"text\":[\"ation: NASA Langley Research Center Lines: 7 Distribution: world Reply-To:  (CLAUDIO OLIVEIRA EGALON...\",\"ce? Organization: Texas Instruments Inc Lines: 16  In \\u003c\\u003e  (Dillon Pyron) writes:   \\u003eThere are actual...\",\" Space Launcer Organization: Boeing AI Center, Huntsville, AL Lines: 22  In reference to the limits ...\",\"zation: University of Washington Lines: 33 NNTP-Posting-Host: stein2.u.washington.edu   (Doug Loss) ...\",\"on: Netcom - Online Communication Services (408 241-9760 guest) Lines: 23  In article \\u003c\\u003e  (kevin mar...\",\"ining. Nntp-Posting-Host: 128.158.30.103 Reply-To:  (G. Patrick Molloy) Organization: NASA\\u002fMSFC Line...\",\" Beacons! In-Reply-To: 's message of 21 Apr 93 08:15:55 GMT Nntp-Posting-Host: leo-gw Organization: ...\",\"n: Boeing AI Center, Huntsville, AL Lines: 39  I have before me a pertinent report from the United S...\",\"niv. of Florida CIS Dept. Lines: 17 Distribution: world NNTP-Posting-Host: beach.cis.ufl.edu   Is an...\",\"o Update - 04\\u002f22\\u002f93) Organization: U of Toronto Zoology Lines: 17  In article \\u003c\\u003e  (Alan Carter) writ...\",\"on to first year-long moon residents? Organization: Texas Instruments Inc Lines: 22  In \\u003c\\u003e  (Allen W...\",\"decentralize & automate functions Keywords: space station, constellation Article-I.D.: techbook.C51z...\",\" not give $1G) Organization: MDSSC Lines: 32  In article \\u003c\\u003e,  (Layne Cook) writes: \\u003e All of this tal...\",\"ief Resigns for Health Reasons Organization: NASA Lewis Research Center \\u002f Cleveland, Ohio Lines: 30 ...\",\"of the future. Organization: University of Western Ontario, London Nntp-Posting-Host: prism.engrg.uw...\",\"on: Jet Propulsion Laboratory Lines: 16 Distribution: world NNTP-Posting-Host: kelvin.jpl.nasa.gov N...\",\"tion: RIP Organization: Univ. of Southwestern Louisiana Lines: 43   (Brian Yamauchi) writes:  \\u003eAny c...\",\"press Access Online Communications USA Lines: 30 NNTP-Posting-Host: access.digex.net  In article \\u003c\\u003e ...\",\"93 Organization: Express Access Online Communications, Greenbelt, MD USA Lines: 33 Distribution: wor...\",\" University of South Australia Lines: 5  Does anyone know how to size cold gas roll control thruster...\",\"eral Systems Co. Software Services               IBM, Federal Systems Co. Software Services Disclaim...\",\"rwarded by Space Digest Organization: [via International Space University] Original-Sender:  Distrib...\",\"ed News-Software: VAX\\u002fVMS VNEWS 1.41     Nntp-Posting-Host: tm0006.lerc.nasa.gov Organization: NASA ...\",\" do it. Organization: SED, Stanford Telecom, Reston, VA 22090 Lines: 16  In article \\u003c\\u003e  writes: \\u003eThi...\",\"oards (was Re: Vandalizing the sky.) Organization: LLNL Lines: 96 Distribution: world NNTP-Posting-H...\",\" Organization: Express Access Online Communications USA Lines: 23 Distribution: world NNTP-Posting-H...\",\"ization: Brunel University, West London, UK Lines: 26  \\u003c\\u003e  writes:  \\u003eSo some of my ideas are a bit o...\",\" Moon first? Nntp-Posting-Host: unseen1.acns.nwu.edu Organization: Northwestern University, Evanston...\",\"unding Cuts. Organization: California Polytechnic State University, San Luis Obispo Lines: 51  Why d...\",\"-Xxmessage-Id: \\u003c\\u003e X-Xxdate: Fri, 16 Apr 93 06:33:17 GMT Organization: Simon Fraser University X-User...\",\"ng Cuts. Organization: Jet Propulsion Laboratory Lines: 15 Distribution: world NNTP-Posting-Host: ke...\",\" with the ears!) Organization: California Polytechnic State University, San Luis Obispo Lines: 31  \\u003e...\",\"es on the moon Organization: Lick Observatory\\u002fUCO Lines: 42 \\t\\u003c\\u003e \\t\\u003c\\u003e NNTP-Posting-Host: topaz.ucsc.ed...\",\"t year-lo Organization: ARCO Oil and Gas Company Lines: 44   (Craig Keithley) writes: \\u003e \\u003e All in all...\",\"TO type stuff from a shareholder perspective. Organization: Netcom Online Communications Services (4...\",\"ned Lunar Exploration. May 7 Crystal City Organization: Fermi National Accelerator Laboratory Lines:...\",\" Space Launcer Organization: Boeing AI Center, Huntsville, AL Lines: 72   Okay, lets get the record ...\",\"Jet Propulsion Laboratory Lines: 79 Distribution: world NNTP-Posting-Host: kelvin.jpl.nasa.gov News-...\",\"x (was:*Doppelganger*) Organization: NASA Langley Research Center Lines: 14 Distribution: world Repl...\",\"3.124722.1 Organization: University of Alaska Fairbanks Lines: 11 Nntp-Posting-Host: acad3.alaska.ed...\",\"e \\u003c\\u003eRe: Apollo Training in Iceland Distribution: sci Lines: 10  The Apollo astronauts also trained a...\",\"ss Access Online Communications USA Lines: 20 NNTP-Posting-Host: access.digex.net  In article \\u003c\\u003e  (G...\",\"akala BBS (ClanZen Radio Network) Sunnyvale, CA +1-408-734-2289 Lines: 20   (Doug Mohney) writes:  \\u003e...\",\"Access Online Communications USA Lines: 9 NNTP-Posting-Host: access.digex.net Keywords: food  dillon...\",\"cs Supersedes: \\u003c\\u003e Organization: University of North Carolina, Chapel Hill Lines: 95 Distribution: wo...\",\"ization: Express Access Online Communications USA Lines: 25 NNTP-Posting-Host: access.digex.net  In ...\",\"cle on Federal R&D Organization: Fermi National Accelerator Laboratory Lines: 24 NNTP-Posting-Host: ...\",\"uttle Keywords: Space Shuttle, Orbital Elements, Keplerian Nntp-Posting-Host: scgraph.afit.af.mil Or...\",\"on \\u003c\\u003eRe: Gamma Ray Bursters. Where are they?  \\u003c\\u003e Lines: 8  If all of these things have been detected...\",\"n residents? Article-I.D.: aurora.1993Apr19.130503.1 Organization: University of Alaska Fairbanks Li...\",\"g-Host: cc_sysk Organization: Coventry University Lines: 31  In article \\u003c\\u003e Callec Dradja \\u003c\\u003e writes: ...\",\" 7  Crystal City Organization: Express Access Online Communications, Greenbelt MD USA Lines: 9 Distr...\",\"ronto Zoology Lines: 18  In article \\u003c1raejd$\\u003e  (Pat) writes: \\u003ewhat ever happened to the hypothesis  ...\",\" 04\\u002f22\\u002f93) Organization: Express Access Online Communications USA Lines: 20 NNTP-Posting-Host: acces...\",\"n residents? Article-I.D.: aurora.1993Apr20.141137.1 Organization: University of Alaska Fairbanks Li...\",\"U of Toronto Zoology Lines: 24  In article \\u003c\\u003e  (Don Schiewer) writes: \\u003eWhat is the deal with life on...\",\"pdate - 04\\u002f22\\u002f93) Organization: Jet Propulsion Laboratory Lines: 22 Distribution: world NNTP-Posting...\",\"ound Jupiter? Article-I.D.: srl03.pgf.734063192 Organization: Univ. of Southwestern Louisiana Lines:...\",\" object found? X-Added: Forwarded by Space Digest Organization: [via International Space University]...\",\"e: Vulcan? No, not Spock or Haphaestus) Organization: Fermi National Accelerator Laboratory Lines: 2...\",\"od Article-I.D.: news.1pscc6INNebg Organization: Organization?  You must be kidding. Lines: 35 NNTP-...\",\": University of Denver, Dept. of Math & Comp. Sci. Lines: 114    ARIANESPACE FLIGHT 56  (Flight V.56...\",\"d Lines: 25 Nntp-Posting-Host: skndiv.dseg.ti.com Reply-To:  Organization: TI\\u002fDSEG VAX Support   In ...\",\"ploration. May 7 Crystal City Organization: NASA Ames Research Center Distribution: na Lines: 14   (...\",\"ation: Worcester Polytechnic Institute, Worcester, MA 01609-2280 Lines: 11 NNTP-Posting-Host: wpi.wp...\",\"lboards (was Re: Vandalizing the sky.) Organization: stanford Lines: 38  In article \\u003c\\u003e,  (Brian Yama...\",\"tion: University of Denver, Dept. of Math & Comp. Sci. Lines: 22   And one of my profs is the chief ...\",\"on \\u003c\\u003eRe: What if the USSR had reached the Moon first?  \\u003c\\u003e \\u003c\\u003e  \\u003c\\u003e \\u003c\\u003e  \\u003c\\u003e \\u003c\\u003e Lines: 38  In article \\u003c\\u003e,...\",\"ronto Zoology Lines: 31  In article \\u003c\\u003e  (fred j mccall 575-3539) writes: \\u003e\\u003e\\u003e(given that I've heard t...\",\"SME? X-Added: Forwarded by Space Digest Organization: [via International Space University] Original-...\",\"No, not Spock or Haphaestus) Article-I.D.: mojo.1qkn6rINNett Reply-To:  Distribution: world Organiza...\",\"g. Organization: U of Toronto Zoology Lines: 22  In article \\u003c\\u003e  writes: \\u003eHere is a way to get the co...\",\"oration. May 7 Crystal City Distribution: na Organization: University of Illinois at Urbana Lines: 1...\",\"Nntp-Posting-Host: acad3.alaska.edu Organization: University of Alaska Fairbanks  In article \\u003c\\u003e,  (D...\",\" Organization: [via International Space University] Original-Sender:  Distribution: sci Lines: 14   ...\",\"Organization: Texas Instruments Inc Distribution: na Lines: 35  In \\u003c\\u003e  (Elijah Millgram) writes:   \\u003e...\",\"es on the moon Organization: Lick Observatory\\u002fUCO Lines: 26 \\t\\u003c\\u003e\\t\\u003c\\u003e\\t\\u003c\\u003e,\\u003c\\u003e \\t\\u003c\\u003e NNTP-Posting-Host: topa...\",\"ds: DC-X Nntp-Posting-Host: husc8.harvard.edu Lines: 17       I've been following discussions about ...\",\"ation: Express Access Online Communications USA Lines: 25 NNTP-Posting-Host: access.digex.net  In ar...\",\", why? Organization: Apple Computer, Inc. Lines: 44  In article \\u003c\\u003e,  (Henry Spencer) wrote: \\u003e  \\u003e The...\",\"tion: U of Toronto Zoology Lines: 21  In article \\u003c\\u003e  (Steve Collins) writes: \\u003eThe difficulties of a ...\",\"y Space Digest Organization: [via International Space University] Original-Sender:  Distribution: sc...\",\"Jupiter? Organization: SoftQuad Inc., Toronto, Canada Lines: 20   \\u003e \\u003e \\u003e Also, peri[jove]s of Gehrels...\",\"ation: U of Toronto Zoology Lines: 21  In article \\u003c\\u003e  (CLAUDIO OLIVEIRA EGALON) writes: \\u003e\\u003e there is ...\",\"ne 5 Distribution: sci Organization: Goddard Space Flight Center - Robotics Lab Lines: 26 News-Softw...\",\"eply-To: 's message of Sat, 17 Apr 1993 12: 52:09 GMT Organization: National Radio Astronomy Observa...\",\"d by Space Digest Organization: [via International Space University] Original-Sender:  Distribution:...\",\"b Space Station?) Article-I.D.: iti.1993Apr6.124456.14123 Organization: Evil Geniuses for a Better T...\",\"ion: University of Central Florida Lines: 19  I posted this over in sci.astro, but it didn't make it...\",\" Alternative #4 Organization: NASA\\u002fJSC\\u002fGM2, Space Shuttle Program Office  X-Newsreader: TIN [version...\",\"uestions list Supersedes: \\u003c\\u003e Organization: University of North Carolina, Chapel Hill Lines: 36 Distr...\",\"t year-long moon residents? Organization: Alpha Science Computer Network, Denver, Co. Lines: 5  The ...\",\"University of Texas at Austin Computation Center Lines: 20 Distribution: world NNTP-Posting-Host: ga...\",\"ting-Host: well.sf.ca.us Organization: Whole Earth 'Lectronic Link Lines: 29   The difficulties of a...\",\"tronaut) Organization: Statistics, Pure & Applied Mathematics, University of Adelaide Lines: 25  In ...\",\"ng for a little research help [ addendum] Organization: Dynamic Graphics Inc. Lines: 10 Distribution...\",\"ganization: Worcester Polytechnic Institute Lines: 15 NNTP-Posting-Host: bigwpi.wpi.edu    Hello eve...\",\"n: U of Toronto Zoology Lines: 21  In article \\u003c\\u003e  (David M. Palmer) writes: \\u003e\\u003eorbiting billboard... ...\",\"e Moon first? Reply-To:  (Gary Coffman) Organization: Destructive Testing Systems Lines: 63  In arti...\",\"nization: University of Western Ontario, London Nntp-Posting-Host: prism.engrg.uwo.ca Lines: 15  In ...\",\" not give $1G) Organization: University of Illinois at Urbana Lines: 42   (Keith Mancus) writes:  \\u003e ...\",\"n: Jet Propulsion Laboratory Lines: 113 Distribution: world NNTP-Posting-Host: kelvin.jpl.nasa.gov K...\",\"ound Jupiter? Organization: Univ. of Southwestern Louisiana Lines: 28   (Mark Brader) writes:   \\u003eTha...\",\"ess Access Online Communications USA Lines: 18 NNTP-Posting-Host: access.digex.net  In article \\u003c1r6f...\",\"eles, CA X-Added: Forwarded by Space Digest Organization: [via International Space University] Origi...\",\"oon Organization: University of Rochester Lines: 38  In article \\u003c\\u003e  (Gary Coffman) writes:   \\u003e be th...\",\" Organization: NASA\\u002fGSFC Greenbelt Maryland Lines: 13  A brief political\\u002fcultural item.  Radio stati...\",\"uter Aided Design Lab, U. of Maryland College Park Lines: 13 Reply-To:  NNTP-Posting-Host: queen.eng...\",\" Forwarded by Space Digest Mmdf-Warning: Parse error in original version of preceding line at VACATI...\",\"T BY ETHER TWIST Reply-To:  Organization: Tektronix, Inc., Beaverton,  OR. Lines: 31   ----- News sa...\",\"cess.1psghn$s7r Organization: Express Access Online Communications USA Lines: 19 NNTP-Posting-Host: ...\",\"st year-long moon residents? Organization: U of Toronto Zoology Lines: 15  In article \\u003c\\u003e  (Allen W. ...\",\"cago Organization: Motorola Distribution: usa Nntp-Posting-Host: 145.1.146.43 Lines: 59  I am postin...\",\"o... Article-I.D.: aurora.1993Apr23.000021.1 Organization: University of Alaska Fairbanks Lines: 55 ...\",\"icle-I.D.: aurora.1993Apr25.150437.1 Organization: University of Alaska Fairbanks Lines: 28 Nntp-Pos...\",\"1 Nntp-Posting-Host: skndiv.dseg.ti.com Reply-To:  Organization: TI\\u002fDSEG VAX Support   In article \\u003c\\u003e...\",\"ganization: Jet Propulsion Laboratory Lines: 23 Distribution: world NNTP-Posting-Host: kelvin.jpl.na...\",\"ribution: na Organization: Space Telescope Science Institute Lines: 42  In article \\u003c\\u003e,   (Victor Lak...\",\" Feb 23 1993 Lines: 27  Mark Prado    \\u003ePlease go just one step further: \\u003eHow has the word \\\"Clementin...\",\": aurora.1993Apr5.185700.1 Organization: University of Alaska Fairbanks Lines: 21 Nntp-Posting-Host:...\",\"ss Online Communications USA Lines: 20 Distribution: sci NNTP-Posting-Host: access.digex.net    I am...\",\"zation: UTexas Mail-to-News Gateway Lines: 37 NNTP-Posting-Host: cs.utexas.edu  In article \\u003c1raee7$\\u003e...\",\"light Test Organization: Texas Instruments Inc Lines: 14  In \\u003c\\u003e  writes:  \\u003eSince the DC-X is to take...\",\"k or Haphaestus Organization: NASA Langley Research Center Lines: 16 Distribution: world Reply-To:  ...\",\"d for 11 Days Organization: U of Toronto Zoology Lines: 35  In article \\u003c1rd1g0$\\u003e  (Pat) writes: \\u003eHow...\",\"rganization: Fermi National Accelerator Laboratory Lines: 56 NNTP-Posting-Host: fnalf.fnal.gov  In a...\",\" not give $1G) Organization: MDSSC Lines: 60   (Josh Hopkins) writes: \\u003e (Keith Mancus) writes: \\u003e\\u003e (L...\",\"ator:  Reply-To:  (Mitch) Organization: North Carolina State University, Project Eos Lines: 21   Hi ...\",\" netnews Organization: The Trystro System (617) 625-7155 v.32\\u002fv.42bis Lines: 27  In article \\u003c\\u003e mwm+@...\",\" Article-I.D.: rave.1psogpINNksq Reply-To:  (CLAUDIO OLIVEIRA EGALON) Distribution: world Organizati...\",\"Feb 23 1993 Lines: 81  Brian Yamauchi asks: [Regarding orbital billboards...] \\u003eAnd does anyone have ...\",\" TWIST  (Ross Smith) Distribution: world Organization: Muppet Labs Lines: 27  In article \\u003c\\u003e  (fred j...\",\"g? Organization: NASA Langley Research Center Lines: 13 Distribution: world Reply-To:  (CLAUDIO OLIV...\",\": 's message of Wed, 21 Apr 93 16:28:00 GMT Originator:  Nntp-Posting-Host: snow.fox.cs.cmu.edu Orga...\",\"xpress Access Online Communications USA Lines: 9 NNTP-Posting-Host: access.digex.net  In article \\u003c\\u003e ...\",\"nding Cuts. Organization: University of Virginia Lines: 13  In article \\u003c1r6aqr$\\u003e  (Pat) writes: #The...\",\"ion: California Institute of Technology, Pasadena Lines: 39 NNTP-Posting-Host: alumni.caltech.edu   ...\",\"uter Aided Design Lab, U. of Maryland College Park Lines: 22 Reply-To:  NNTP-Posting-Host: queen.eng...\",\" Organization: Space Telescope Science Institute, Baltimore MD Lines: 14  Another fish to check out ...\",\" NASA\\u002fMSFC Lines: 40   (Dennis Newkirk) writes: The Centaur is controlled technology.. State Dept wi...\",\"ntp-Posting-Host: ngis.geod.emr.ca Organization: Dept. of Energy, Mines, and Resources, Ottawa Lines...\",\"osting-Host: ugl-gw.uvic.ca Organization: University of Victoria, Victoria, BC, Canada Lines: 33  In...\",\"n: Science Applications Int'l Corp.\\u002fSan Diego Lines: 111        Ethnocentric USian that I am, I've a...\",\"osting-Host: sor.cs.colostate.edu Organization: Colorado State University -=- Computer Science Dept....\",\"ion: Inland Steel Company, East Chicago, IN Nntp-Posting-Host: pa881a Nntp-Posting-User: schiewer Li...\",\"cess Online Communications USA Lines: 15 NNTP-Posting-Host: access.digex.net   Well thank you dennis...\",\"ting-Host: nucleus.ps.uci.edu Organization: University of California, Irvine Lines: 30  Actually, th...\",\"axy.29034 Organization: University of California, Riverside Lines: 82 Nntp-Posting-Host: guitar.ucr....\",\"ie Organization: Trinity College Dublin Lines: 11  I need as much information about Cosmos 2238 and ...\",\"Russian Space Cooperation Organization: NASA\\u002fGSFC Greenbelt Maryland Lines: 23  Reported yesterday i...\"],\"x\":[2.930025100708008,-6.289916038513184,-2.1555135250091553,-6.869492530822754,-0.6606564521789551,-5.973842144012451,-2.644901990890503,14.407150268554688,-5.692838668823242,-1.9842138290405273,-7.929293155670166,-4.457642078399658,-4.169008731842041,0.011255379766225815,-2.519055128097534,14.048261642456055,-8.516942977905273,-1.8907932043075562,-8.64156436920166,-0.31339478492736816,8.270692825317383,-5.978487491607666,1.9251201152801514,-0.7461130619049072,-3.456085681915283,-5.763065814971924,-3.9737892150878906,-2.260399103164673,-7.877053260803223,-1.3122645616531372,14.513447761535645,3.8645472526550293,0.09769082069396973,-2.6140170097351074,-4.048614025115967,-0.954379677772522,-4.939296245574951,3.6024091243743896,2.5356199741363525,-4.125817775726318,13.291858673095703,-5.758567810058594,1.5693376064300537,-3.847830057144165,8.824052810668945,-7.385108947753906,17.023090362548828,7.797792911529541,-1.8079948425292969,1.4687328338623047,-5.979022979736328,2.8924520015716553,-0.6637569665908813,-1.5341366529464722,4.044214725494385,-4.71199893951416,14.766148567199707,1.3324443101882935,20.40646743774414,5.0989766120910645,-0.3183045983314514,3.9070115089416504,0.9670752286911011,5.287844181060791,-1.8459391593933105,3.1737828254699707,36.15018844604492,-4.712501049041748,-3.1785805225372314,1.3958278894424438,7.88172721862793,-9.066587448120117,-2.319955587387085,-1.2946443557739258,4.899599552154541,-5.16434907913208,1.5404821634292603,2.2496414184570312,-2.8991756439208984,-7.9245452880859375,0.11624670028686523,-8.9052152633667,6.128662109375,-3.83351731300354,3.4251015186309814,32.496543884277344,-2.822225332260132,1.7778030633926392,-4.387149810791016,9.650952339172363,1.1974101066589355,3.4091756343841553,11.532357215881348,-5.49573278427124,-4.706670761108398,-1.1320146322250366,-4.634655475616455,0.3232440650463104,-6.73984432220459,1.666757583618164,-3.0607540607452393,9.128766059875488,-1.7227704524993896,3.487283229827881,0.8694530725479126,-2.011500835418701,1.7363539934158325,0.5309373140335083,11.871171951293945,-1.0865448713302612,-4.181978225708008,-3.76993465423584,-0.24433554708957672,-9.647481918334961,-8.236603736877441,3.8475542068481445,11.696280479431152,-6.100045204162598,-1.2534137964248657,3.3261609077453613,-4.860141277313232,4.171211242675781,-1.89499831199646,-2.822808027267456,-5.258460521697998,3.3309035301208496,-3.133495330810547,2.5114428997039795,4.76281213760376,8.115447998046875,-5.084381580352783,2.2789885997772217,-2.8135204315185547,-4.479274749755859,3.9980039596557617,1.3405805826187134,-2.804872751235962,-0.2605934739112854,1.4316051006317139,0.5072619318962097,-1.2352019548416138,0.4948890507221222,0.12337739765644073,44.668701171875,6.415203094482422,-5.254077911376953,-6.213076114654541,-6.856874942779541,10.871856689453125,-2.288799524307251],\"y\":[-3.8773515224456787,2.046318531036377,-2.3234691619873047,2.2911603450775146,-1.7998725175857544,4.3496317863464355,-1.131410837173462,-9.38205337524414,2.209930896759033,0.21618565917015076,3.9322168827056885,-1.0147695541381836,0.836774468421936,-5.129638195037842,-4.288223743438721,-4.448997497558594,1.8184268474578857,-2.626871109008789,0.6175361275672913,-3.6152238845825195,7.507962703704834,-2.9201443195343018,-8.72034740447998,3.635624408721924,3.405280351638794,-0.2390572428703308,0.7226551175117493,0.6964424252510071,0.5623255372047424,-1.5057456493377686,-2.2954344749450684,0.23194697499275208,0.5499330759048462,3.5059568881988525,0.10003069788217545,-1.418699026107788,-2.053917169570923,-3.0834851264953613,-3.6339571475982666,2.4561405181884766,-5.302314758300781,-0.13765238225460052,-1.6097735166549683,0.6078369617462158,-7.940854549407959,1.1163700819015503,-3.2905282974243164,-6.372192859649658,1.455991506576538,3.230340003967285,5.042105674743652,-6.961988925933838,-1.3020251989364624,-2.805948257446289,4.545114994049072,-0.4072315990924835,-3.024592399597168,0.686759352684021,-5.620214939117432,-2.758976697921753,-0.18629515171051025,-5.94330358505249,-1.3649048805236816,-4.915841102600098,-3.5380351543426514,-0.4811519384384155,25.896150588989258,7.886255264282227,0.7878936529159546,-4.012091636657715,-1.398299217224121,2.8726303577423096,-2.1183671951293945,2.2235231399536133,-2.7698795795440674,0.11273433268070221,2.097536563873291,-3.155452251434326,1.3912887573242188,2.9426610469818115,0.5493454933166504,5.510361671447754,-0.25252866744995117,1.7686083316802979,1.8942903280258179,19.039072036743164,-5.371050834655762,-1.648651123046875,-2.2312068939208984,-3.736804246902466,-2.0461976528167725,-5.038584232330322,-4.555513858795166,0.6967811584472656,-0.996859073638916,-1.1829460859298706,-1.9797481298446655,1.6041786670684814,2.8167524337768555,-0.240303173661232,1.4593287706375122,-6.436031341552734,-1.9752259254455566,-1.4949826002120972,-6.322661876678467,-0.5637058019638062,-5.297374725341797,-1.2615422010421753,5.511544704437256,0.6314646601676941,0.10096889734268188,2.4006235599517822,-5.450623989105225,4.284183979034424,2.941962957382202,1.274857521057129,-4.329230785369873,-1.8036658763885498,-3.3553152084350586,2.170219659805298,-0.7491962313652039,-4.224954605102539,1.4688422679901123,-3.008450508117676,0.6428406834602356,-4.604009628295898,1.4329279661178589,-2.02344012260437,0.7409395575523376,-3.5728330612182617,-3.1872756481170654,1.4503523111343384,-0.6014218926429749,-0.09407252818346024,-1.1291197538375854,-2.5544049739837646,0.9222899079322815,2.7319602966308594,-7.849702835083008,2.379725217819214,-5.3639607429504395,1.4365496635437012,-3.447288990020752,1.7197669744491577,-5.717690944671631,0.8617969155311584,0.25576889514923096,-1.317379355430603,-7.785645484924316,-4.257004737854004],\"type\":\"scatter\"}],                        {\"height\":800,\"hovermode\":\"closest\",\"template\":{\"data\":{\"barpolar\":[{\"marker\":{\"line\":{\"color\":\"#E5ECF6\",\"width\":0.5},\"pattern\":{\"fillmode\":\"overlay\",\"size\":10,\"solidity\":0.2}},\"type\":\"barpolar\"}],\"bar\":[{\"error_x\":{\"color\":\"#2a3f5f\"},\"error_y\":{\"color\":\"#2a3f5f\"},\"marker\":{\"line\":{\"color\":\"#E5ECF6\",\"width\":0.5},\"pattern\":{\"fillmode\":\"overlay\",\"size\":10,\"solidity\":0.2}},\"type\":\"bar\"}],\"carpet\":[{\"aaxis\":{\"endlinecolor\":\"#2a3f5f\",\"gridcolor\":\"white\",\"linecolor\":\"white\",\"minorgridcolor\":\"white\",\"startlinecolor\":\"#2a3f5f\"},\"baxis\":{\"endlinecolor\":\"#2a3f5f\",\"gridcolor\":\"white\",\"linecolor\":\"white\",\"minorgridcolor\":\"white\",\"startlinecolor\":\"#2a3f5f\"},\"type\":\"carpet\"}],\"choropleth\":[{\"colorbar\":{\"outlinewidth\":0,\"ticks\":\"\"},\"type\":\"choropleth\"}],\"contourcarpet\":[{\"colorbar\":{\"outlinewidth\":0,\"ticks\":\"\"},\"type\":\"contourcarpet\"}],\"contour\":[{\"colorbar\":{\"outlinewidth\":0,\"ticks\":\"\"},\"colorscale\":[[0.0,\"#0d0887\"],[0.1111111111111111,\"#46039f\"],[0.2222222222222222,\"#7201a8\"],[0.3333333333333333,\"#9c179e\"],[0.4444444444444444,\"#bd3786\"],[0.5555555555555556,\"#d8576b\"],[0.6666666666666666,\"#ed7953\"],[0.7777777777777778,\"#fb9f3a\"],[0.8888888888888888,\"#fdca26\"],[1.0,\"#f0f921\"]],\"type\":\"contour\"}],\"heatmapgl\":[{\"colorbar\":{\"outlinewidth\":0,\"ticks\":\"\"},\"colorscale\":[[0.0,\"#0d0887\"],[0.1111111111111111,\"#46039f\"],[0.2222222222222222,\"#7201a8\"],[0.3333333333333333,\"#9c179e\"],[0.4444444444444444,\"#bd3786\"],[0.5555555555555556,\"#d8576b\"],[0.6666666666666666,\"#ed7953\"],[0.7777777777777778,\"#fb9f3a\"],[0.8888888888888888,\"#fdca26\"],[1.0,\"#f0f921\"]],\"type\":\"heatmapgl\"}],\"heatmap\":[{\"colorbar\":{\"outlinewidth\":0,\"ticks\":\"\"},\"colorscale\":[[0.0,\"#0d0887\"],[0.1111111111111111,\"#46039f\"],[0.2222222222222222,\"#7201a8\"],[0.3333333333333333,\"#9c179e\"],[0.4444444444444444,\"#bd3786\"],[0.5555555555555556,\"#d8576b\"],[0.6666666666666666,\"#ed7953\"],[0.7777777777777778,\"#fb9f3a\"],[0.8888888888888888,\"#fdca26\"],[1.0,\"#f0f921\"]],\"type\":\"heatmap\"}],\"histogram2dcontour\":[{\"colorbar\":{\"outlinewidth\":0,\"ticks\":\"\"},\"colorscale\":[[0.0,\"#0d0887\"],[0.1111111111111111,\"#46039f\"],[0.2222222222222222,\"#7201a8\"],[0.3333333333333333,\"#9c179e\"],[0.4444444444444444,\"#bd3786\"],[0.5555555555555556,\"#d8576b\"],[0.6666666666666666,\"#ed7953\"],[0.7777777777777778,\"#fb9f3a\"],[0.8888888888888888,\"#fdca26\"],[1.0,\"#f0f921\"]],\"type\":\"histogram2dcontour\"}],\"histogram2d\":[{\"colorbar\":{\"outlinewidth\":0,\"ticks\":\"\"},\"colorscale\":[[0.0,\"#0d0887\"],[0.1111111111111111,\"#46039f\"],[0.2222222222222222,\"#7201a8\"],[0.3333333333333333,\"#9c179e\"],[0.4444444444444444,\"#bd3786\"],[0.5555555555555556,\"#d8576b\"],[0.6666666666666666,\"#ed7953\"],[0.7777777777777778,\"#fb9f3a\"],[0.8888888888888888,\"#fdca26\"],[1.0,\"#f0f921\"]],\"type\":\"histogram2d\"}],\"histogram\":[{\"marker\":{\"pattern\":{\"fillmode\":\"overlay\",\"size\":10,\"solidity\":0.2}},\"type\":\"histogram\"}],\"mesh3d\":[{\"colorbar\":{\"outlinewidth\":0,\"ticks\":\"\"},\"type\":\"mesh3d\"}],\"parcoords\":[{\"line\":{\"colorbar\":{\"outlinewidth\":0,\"ticks\":\"\"}},\"type\":\"parcoords\"}],\"pie\":[{\"automargin\":true,\"type\":\"pie\"}],\"scatter3d\":[{\"line\":{\"colorbar\":{\"outlinewidth\":0,\"ticks\":\"\"}},\"marker\":{\"colorbar\":{\"outlinewidth\":0,\"ticks\":\"\"}},\"type\":\"scatter3d\"}],\"scattercarpet\":[{\"marker\":{\"colorbar\":{\"outlinewidth\":0,\"ticks\":\"\"}},\"type\":\"scattercarpet\"}],\"scattergeo\":[{\"marker\":{\"colorbar\":{\"outlinewidth\":0,\"ticks\":\"\"}},\"type\":\"scattergeo\"}],\"scattergl\":[{\"marker\":{\"colorbar\":{\"outlinewidth\":0,\"ticks\":\"\"}},\"type\":\"scattergl\"}],\"scattermapbox\":[{\"marker\":{\"colorbar\":{\"outlinewidth\":0,\"ticks\":\"\"}},\"type\":\"scattermapbox\"}],\"scatterpolargl\":[{\"marker\":{\"colorbar\":{\"outlinewidth\":0,\"ticks\":\"\"}},\"type\":\"scatterpolargl\"}],\"scatterpolar\":[{\"marker\":{\"colorbar\":{\"outlinewidth\":0,\"ticks\":\"\"}},\"type\":\"scatterpolar\"}],\"scatter\":[{\"fillpattern\":{\"fillmode\":\"overlay\",\"size\":10,\"solidity\":0.2},\"type\":\"scatter\"}],\"scatterternary\":[{\"marker\":{\"colorbar\":{\"outlinewidth\":0,\"ticks\":\"\"}},\"type\":\"scatterternary\"}],\"surface\":[{\"colorbar\":{\"outlinewidth\":0,\"ticks\":\"\"},\"colorscale\":[[0.0,\"#0d0887\"],[0.1111111111111111,\"#46039f\"],[0.2222222222222222,\"#7201a8\"],[0.3333333333333333,\"#9c179e\"],[0.4444444444444444,\"#bd3786\"],[0.5555555555555556,\"#d8576b\"],[0.6666666666666666,\"#ed7953\"],[0.7777777777777778,\"#fb9f3a\"],[0.8888888888888888,\"#fdca26\"],[1.0,\"#f0f921\"]],\"type\":\"surface\"}],\"table\":[{\"cells\":{\"fill\":{\"color\":\"#EBF0F8\"},\"line\":{\"color\":\"white\"}},\"header\":{\"fill\":{\"color\":\"#C8D4E3\"},\"line\":{\"color\":\"white\"}},\"type\":\"table\"}]},\"layout\":{\"annotationdefaults\":{\"arrowcolor\":\"#2a3f5f\",\"arrowhead\":0,\"arrowwidth\":1},\"autotypenumbers\":\"strict\",\"coloraxis\":{\"colorbar\":{\"outlinewidth\":0,\"ticks\":\"\"}},\"colorscale\":{\"diverging\":[[0,\"#8e0152\"],[0.1,\"#c51b7d\"],[0.2,\"#de77ae\"],[0.3,\"#f1b6da\"],[0.4,\"#fde0ef\"],[0.5,\"#f7f7f7\"],[0.6,\"#e6f5d0\"],[0.7,\"#b8e186\"],[0.8,\"#7fbc41\"],[0.9,\"#4d9221\"],[1,\"#276419\"]],\"sequential\":[[0.0,\"#0d0887\"],[0.1111111111111111,\"#46039f\"],[0.2222222222222222,\"#7201a8\"],[0.3333333333333333,\"#9c179e\"],[0.4444444444444444,\"#bd3786\"],[0.5555555555555556,\"#d8576b\"],[0.6666666666666666,\"#ed7953\"],[0.7777777777777778,\"#fb9f3a\"],[0.8888888888888888,\"#fdca26\"],[1.0,\"#f0f921\"]],\"sequentialminus\":[[0.0,\"#0d0887\"],[0.1111111111111111,\"#46039f\"],[0.2222222222222222,\"#7201a8\"],[0.3333333333333333,\"#9c179e\"],[0.4444444444444444,\"#bd3786\"],[0.5555555555555556,\"#d8576b\"],[0.6666666666666666,\"#ed7953\"],[0.7777777777777778,\"#fb9f3a\"],[0.8888888888888888,\"#fdca26\"],[1.0,\"#f0f921\"]]},\"colorway\":[\"#636efa\",\"#EF553B\",\"#00cc96\",\"#ab63fa\",\"#FFA15A\",\"#19d3f3\",\"#FF6692\",\"#B6E880\",\"#FF97FF\",\"#FECB52\"],\"font\":{\"color\":\"#2a3f5f\"},\"geo\":{\"bgcolor\":\"white\",\"lakecolor\":\"white\",\"landcolor\":\"#E5ECF6\",\"showlakes\":true,\"showland\":true,\"subunitcolor\":\"white\"},\"hoverlabel\":{\"align\":\"left\"},\"hovermode\":\"closest\",\"mapbox\":{\"style\":\"light\"},\"paper_bgcolor\":\"white\",\"plot_bgcolor\":\"#E5ECF6\",\"polar\":{\"angularaxis\":{\"gridcolor\":\"white\",\"linecolor\":\"white\",\"ticks\":\"\"},\"bgcolor\":\"#E5ECF6\",\"radialaxis\":{\"gridcolor\":\"white\",\"linecolor\":\"white\",\"ticks\":\"\"}},\"scene\":{\"xaxis\":{\"backgroundcolor\":\"#E5ECF6\",\"gridcolor\":\"white\",\"gridwidth\":2,\"linecolor\":\"white\",\"showbackground\":true,\"ticks\":\"\",\"zerolinecolor\":\"white\"},\"yaxis\":{\"backgroundcolor\":\"#E5ECF6\",\"gridcolor\":\"white\",\"gridwidth\":2,\"linecolor\":\"white\",\"showbackground\":true,\"ticks\":\"\",\"zerolinecolor\":\"white\"},\"zaxis\":{\"backgroundcolor\":\"#E5ECF6\",\"gridcolor\":\"white\",\"gridwidth\":2,\"linecolor\":\"white\",\"showbackground\":true,\"ticks\":\"\",\"zerolinecolor\":\"white\"}},\"shapedefaults\":{\"line\":{\"color\":\"#2a3f5f\"}},\"ternary\":{\"aaxis\":{\"gridcolor\":\"white\",\"linecolor\":\"white\",\"ticks\":\"\"},\"baxis\":{\"gridcolor\":\"white\",\"linecolor\":\"white\",\"ticks\":\"\"},\"bgcolor\":\"#E5ECF6\",\"caxis\":{\"gridcolor\":\"white\",\"linecolor\":\"white\",\"ticks\":\"\"}},\"title\":{\"x\":0.05},\"xaxis\":{\"automargin\":true,\"gridcolor\":\"white\",\"linecolor\":\"white\",\"ticks\":\"\",\"title\":{\"standoff\":15},\"zerolinecolor\":\"white\",\"zerolinewidth\":2},\"yaxis\":{\"automargin\":true,\"gridcolor\":\"white\",\"linecolor\":\"white\",\"ticks\":\"\",\"title\":{\"standoff\":15},\"zerolinecolor\":\"white\",\"zerolinewidth\":2}}},\"title\":{\"text\":\"Embedding Plot with Class Labels\"},\"width\":1200,\"xaxis\":{\"showgrid\":false,\"showticklabels\":false,\"zeroline\":false},\"yaxis\":{\"showgrid\":false,\"showticklabels\":false,\"zeroline\":false}},                        {\"displayModeBar\": false, \"responsive\": true}                    ).then(function(){\n",
       "                            \n",
       "var gd = document.getElementById('847de038-9042-4ef7-b848-157439bea5d3');\n",
       "var x = new MutationObserver(function (mutations, observer) {{\n",
       "        var display = window.getComputedStyle(gd).display;\n",
       "        if (!display || display === 'none') {{\n",
       "            console.log([gd, 'removed!']);\n",
       "            Plotly.purge(gd);\n",
       "            observer.disconnect();\n",
       "        }}\n",
       "}});\n",
       "\n",
       "// Listen for the removal of the full notebook cells\n",
       "var notebookContainer = gd.closest('#notebook-container');\n",
       "if (notebookContainer) {{\n",
       "    x.observe(notebookContainer, {childList: true});\n",
       "}}\n",
       "\n",
       "// Listen for the clearing of the current output cell\n",
       "var outputEl = gd.closest('.output');\n",
       "if (outputEl) {{\n",
       "    x.observe(outputEl, {childList: true});\n",
       "}}\n",
       "\n",
       "                        })                };                });            </script>        </div>"
      ]
     },
     "metadata": {},
     "output_type": "display_data"
    }
   ],
   "source": [
    "init_notebook_mode(connected=True)\n",
    "\n",
    "X = np.vstack(df['glove_embedding'].values)\n",
    "pca = PCA(n_components=2)\n",
    "X_pca = pca.fit_transform(X)\n",
    "\n",
    "hover_plot(X_pca, df)"
   ]
  },
  {
   "cell_type": "markdown",
   "metadata": {},
   "source": [
    "We see poor separation."
   ]
  },
  {
   "cell_type": "code",
   "execution_count": null,
   "metadata": {},
   "outputs": [],
   "source": [
    "df['SBERT_embedding'] = df['Text'].apply(get_embedding_SBERT)"
   ]
  },
  {
   "cell_type": "code",
   "execution_count": 13,
   "metadata": {},
   "outputs": [
    {
     "data": {
      "application/vnd.plotly.v1+json": {
       "config": {
        "displayModeBar": false,
        "linkText": "Export to plot.ly",
        "plotlyServerURL": "https://plot.ly",
        "showLink": false
       },
       "data": [
        {
         "hoverinfo": "text",
         "marker": {
          "line": {
           "color": "white",
           "width": 0.5
          },
          "size": 15
         },
         "mode": "markers",
         "name": "Class sci.crypt",
         "opacity": 0.7,
         "text": [
          " security? Lines: 24  \t (Graham Toal) writes: \t> \t>In the UK, it's impossible to get approval to att...",
          "r over the internet... Lines: 92  Well, after a lot of trawling through archives, I found the post I...",
          "od cover for other encryption method? Nntp-Posting-Host: rac2.wam.umd.edu Organization: University o...",
          "no good any more. Reply-To:  Organization: Virus Test Center, University of Hamburg Distribution: na...",
          "o good any more. Organization: Univ. of Southwestern Louisiana Lines: 52   (David Sternlight) writes...",
          "r Chip and crypto key-escrow] Reply-To:  Organization: Chaos Lines: 76 X-Newsreader: Archimedes Read...",
          "-core hackers & spooks only Organization: C-Set/2 Development, IBM Canada Lab. Disclaimer: This post...",
          "no good any more. Nntp-Posting-Host: lonestar.utsa.edu Organization: University of Texas at San Anto...",
          "on: Turing Police Lines: 22   > (Carl Ellison) writes: >For example, if I had a program on my disk w...",
          "each machine (Was: Re: Corporate acceptance of the wiretap chip) Organization: AT&T Bell Laboratorie...",
          "s Online Communications, Greenbelt, MD USA Lines: 13 NNTP-Posting-Host: access.digex.net   > Second ...",
          "ic packages In-Reply-To: 's message of 20 Apr 1993 16: 47:03 GMT Organization: York U. Student Infor...",
          "bution: world Organization: Thibault & Friends Lines: 34  In article <1qg8m2$>  (Edward Vielmetti) w...",
          "ive Organization: Silicon Graphics, Inc.  Mountain View, CA Lines: 20  In article <>,  (David Sternl...",
          "rgraph's Name? Organization: NETCOM On-line Communication Services (408 241-9760 guest) X-Newsreader...",
          "o good any more. Organization: Univ. of Southwestern Louisiana Distribution: na Lines: 25   (douglas...",
          "e Summary: Ways to fight it  Organization: Climate and Global Dynamics Division/NCAR, Boulder, CO Li...",
          "ip and crypto key-escrow] Summary: Whatever... Keywords: Hmm... Organization:  George Mason Universi...",
          "gow University Computing Science Dept. Distribution: net Lines: 7  I am a PhD student. Can I get the...",
          "was: Re: More technical details) Reply-To:  Organization: New Technology, Inc. Lines: 53  ( Below is...",
          " Organization: Harvey Mudd College, Claremont, CA 91711 Lines: 23  In article <>  (Robert Lewis Glen...",
          "law enforcement blocks? Organization: Loral Rolm Mil-Spec Computers Lines: 43  The M code stream  mi...",
          "ization: Swiss Federal Institute of Technology (ETH), Zurich, CH Lines: 120  Hmm, followup on my own...",
          "ors (large state) Organization: UTexas Mail-to-News Gateway Lines: 171 NNTP-Posting-Host: cs.utexas....",
          " \t  The points raised about checking what is actually -in- the chip, as \topposed to what is allegedl...",
          " drive security) Nntp-Posting-Host: servo.qualcomm.com Reply-To:  Organization: Qualcomm, Inc Lines:...",
          "p, subvert or replace it ! Organization: Netcom - Online Communication Services (408 241-9760 guest)...",
          "ent and Q&As on clipper chip encryption Distribution: na Organization: ClariNet Communications Corp....",
          "ganization: Express Access Online Communications, Greenbelt, MD USA Lines: 25 NNTP-Posting-Host: acc...",
          " machine (Was: Re: Corporate acceptance of the wiretap chip) Lines: 16  : At the company I worked fo...",
          "ent and Q&As on clipper chip encryption Organization: ClariNet Communications Corp. Distribution: na...",
          "rganization: Sun Microsystems, Inc. Lines: 70 Nntp-Posting-Host: sunspot.ece.clarkson.edu Cc: tuinst...",
          "y-To:  (Jim McCoy) Organization: The University of Texas - Austin Lines: 53 NNTP-Posting-Host: tramp...",
          " 7  :    I've been thinking about how difficult it would be to make PGP available : in some form on ...",
          "D.: ole.1993Apr20.173039.4722 Organization: Cascade Design Automation Lines: 17       Notwithstandin...",
          "phy Patents) Organization: Oce Graphics USA X-Newsreader: TIN [version 1.1 PL7] Lines: 41  Charles K...",
          "tion: Cold Media  Lines: 13   (Ze'ev Wurman) writes:  >But do we really believe that the various gov...",
          "ative Organization: Metatron Press / Human Systems Performance Group, Austin, TX X-Newsreader: rusne...",
          "P: A TECHNICAL SUMMARY Organization: Brought to you by the numbers 2, 3, and 7 In-Reply-To: 's messa...",
          "r? Organization: Kaleida Labs, Inc. Lines: 10 Distribution: world NNTP-Posting-Host: jfenton.kaleida...",
          "anization: AT&T Bell Laboratories Lines: 55  I'd *desparately* prefer it if we didn't rehash the sam...",
          "ormation Sheet Keywords: Big Bubba Is Watching. Organization: NASA Science Internet Project Office L...",
          " and Q&As on clipper chip encryption Lines: 16  \t (Brad Templeton)  \tLet's assume, for the moment, t...",
          "s for over the internet... Lines: 27  I forwarded an old posting about CELP speech compression:  \tIn...",
          "secret Organization: Panix, (New Yawk City) Lines: 29  In <>  (John R. Levine) writes: (quoting some...",
          " security? Lines: 25  : There are chips which perform the voice compression/expansion.  They can't :...",
          " any more. Nntp-Posting-Host: spot.colorado.edu Organization: University of Colorado, Boulder Distri...",
          "osting-Host: spot.colorado.edu Organization: University of Colorado, Boulder Distribution: na Lines:...",
          "ion: Express Access Online Communications, Greenbelt, MD USA Lines: 10 NNTP-Posting-Host: access.dig...",
          "e Organization: Express Access Online Communications, Greenbelt, MD USA Lines: 7 NNTP-Posting-Host: ...",
          "e is no good any more. Originator:  Nntp-Posting-Host: qualcom.qualcomm.com Organization: Qualcomm, ...",
          "ver for other encryption method? Organization: Optilink Corporation, Petaluma, CA Lines: 19  In arti...",
          "g-Host: wardibm2.med.yale.edu Organization: Yale U. - Genetics Lines: 30  In article <>,  (Vesselin ...",
          "od any more. Organization: Little to None Distribution: na Lines: 13  >>\tWith E-Mail, if they can't ...",
          ")  (Tal Kubo) Distribution: inet Organization: Dept. of Math, Harvard Univ. Nntp-Posting-Host: zaris...",
          "machine (Was: Re: Corporate acceptance of the wiretap chip) In-Reply-To: 's message of Wed, 21 Apr 1...",
          "uncement Organization: capriccioso X-Newsreader: TIN [version 1.1 PL6] Lines: 35  I guess the crypto...",
          "tails Organization: AT&T Bell Laboratories Lines: 20  In article <>,  (D. J. Bernstein) writes: > Sh...",
          " is no good any more. Distribution: na Nntp-Posting-Host: beethoven.cs.colostate.edu Organization: C...",
          "ets Originator:  Keywords: entropy Nntp-Posting-Host: pizzabox.demon.co.uk Reply-To: Graham Toal <> ...",
          "y Patents)  (Arthur Rubin) Organization: Beckman Instruments, Inc. Nntp-Posting-Host: dsg4.dse.beckm...",
          "ood any more. Organization: TRW Systems Division, Fairfax VA Distribution: na Lines: 65   (Timothy C...",
          "nnouncement Organization: Department of Mathematical Sciences Lines: 29 Distribution: inet NNTP-Post...",
          "Chip and crypto key-escrow] Organization: InterCon Systems Corporation - Herndon, VA  USA Lines: 30 ...",
          "s Organization: Swiss Federal Institute of Technology (ETH), Zurich, CH Lines: 28  In article <1qv83...",
          " Kubo) Organization: Dept. of Math, Harvard Univ. Nntp-Posting-Host: zariski.harvard.edu Lines: 55  ...",
          "uncement Lines: 19  \tEven more interesting: the SMTP server at csrc.ncsl.nist.gov no longer \trecogni...",
          "hine (Was: Re: Corporate acceptance of the wiretap chip) Organization: CSRI, University of Toronto L...",
          "no good any more. Organization: ITC/UVA Community Access UNIX/Internet Project Lines: 16  In article...",
          "ap security? Organization: InterCon Systems Corporation - Herndon, VA  USA Lines: 68 Distribution: w...",
          " Organization: Center For High Perf. Computing of WPI; Marlboro Ma Lines: 35  In article <1qn1ic$>  ...",
          "cademic Computer Center <>Re: Clipper -- some new thoughts Lines: 7  The cryptographic algorythm MUS...",
          " any more. Summary: But, for all its flaws, the domino theory was right... Organization: Chinet - Pu...",
          "d any more. Organization: Center For High Perf. Computing of WPI; Marlboro Ma Distribution: na Lines...",
          " any more. Distribution: na Organization: VisiCom Laboratories, Inc., San Diego, California Lines: 1...",
          "and crypto key-escrow] Keywords: encryption, wiretap, clipper, key-escrow, Mykotronx Organization: B...",
          "plementations Reply-To:  Organization: Virus Test Center, University of Hamburg Lines: 23   (David S...",
          "f that announcement Organization: Stanford University Lines: 22  In article <> Rick Miller <> writes...",
          "on: Partnership for an America Free Drug Lines: 77  Here is a disturbing thought.  Now, we no longer...",
          "p security? Organization: CSIR, South AFrica Lines: 27 NNTP-Posting-Host: nuustak.csir.co.za X-Discl...",
          " ask for? (Re: Clipper) Lines: 19 Organization: Curtin University of Technology  In article <>,  (St...",
          " and Q&As on clipper chip encryption Organization: capriccioso X-Newsreader: TIN [version 1.1 PL6] D...",
          "tive Organization: DSI/USCRPAC Lines: 32  In article <1r0nov$>  (Steve Brinich) writes:   > > 1. Ame...",
          "bution: usa Reply-To:  Disclaimer: This posting represents the poster's views, not necessarily those...",
          " machine (Was: Re: Corporate acceptance of the wiretap chip) Organization: Computing Research Lab Li...",
          "d any more. Organization: University of Nebraska at Omaha Distribution: na Lines: 18   (Geoffrey Kue...",
          "re hackers & spooks only Summary: (We need privacy chips for phones, not computer-bound station)_ Ar...",
          "(Tal Kubo) Distribution: inet Organization: Dept. of Math, Harvard Univ. Nntp-Posting-Host: zariski....",
          "id it Originator:  Keywords: Big Bubba Is Watching! Nntp-Posting-Host: qualcom.qualcomm.com Organiza...",
          "ard-core hackers & spooks only Nntp-Posting-Host: bistromath.mitre.org Organization: The MITRE Corpo...",
          "ood any more. Organization: Express Access Online Communications, Greenbelt, MD USA Lines: 6 Distrib...",
          "tribution: world Organization: boring Reply-To:  X-Mailer: Simple NEWS 1.90 (ka9q DIS 1.19) Lines: 2...",
          " is no good any more. Organization: Society for the conservation of momentum Distribution: na Lines:...",
          "ganization: Mail to News Gateway at Wang Labs Distribution: na Lines: 47   (Jerry Han) writes: > The...",
          "tography Organization: Yale University Lines: 21 Distribution: inet Reply-To:  NNTP-Posting-Host: mi...",
          "ata Lines: 46  \t (Marc Anderson)  \t>Also.. how about a box that you plug your phone into, which woul...",
          "each machine (Was: Re: Corporate acceptance of the wiretap chip) Organization: AT&T Bell Laboratorie...",
          "Clipper Chip and crypto key-escrow] Nntp-Posting-Host: beethoven.cs.colostate.edu Organization: Colo...",
          "oso X-Newsreader: TIN [version 1.1 PL6] Lines: 11  I am testing IDEA block cipher implementations fo...",
          "r Chip and crypto key-escrow] Keywords: encryption, wiretap, clipper, key-escrow, Mykotronx Nntp-Pos...",
          " Distribution: sci Lines: 12 Organization: Networked Systems Architecture   \tI have a bunch of quest...",
          "ood any more. Organization: Express Access Online Communications, Greenbelt, MD USA Lines: 5 Distrib...",
          "tography Patents) Nntp-Posting-Host: next4.cs.umr.edu Organization: University of Missouri - Rolla, ...",
          "for other encryption method? Originator:  Nntp-Posting-Host: eff.org Organization: The Electronic Fr...",
          "no good any more. Nntp-Posting-Host: ogmore.cs.ucla.edu Organization: UCLA, Computer Science Departm...",
          "ment and Q&As on clipper chip encryption Organization: Engineering Computer Network Distribution: na...",
          " any Nntp-Posting-Host: tidss2.asic.sc.ti.com Reply-To:  Organization: Design Automaton Div., Texas ...",
          " is us Organization: Minnesota Supercomputer Center, Minneapolis, MN Lines: 18  I agree that notifyi...",
          "tion: NETCOM On-line Communication Services (408 241-9760 guest) X-Newsreader: Tin 1.1 PL5 Lines: 41...",
          "ilable  Organization: capriccioso X-Newsreader: TIN [version 1.1 PL6] Lines: 84  *** SOURCE code to ...",
          " for hard-core hackers & spooks only Organization: DSI/USCRPAC Lines: 39  In article <>  (Derek Atki...",
          "agement Fact Sheet News-Software: VAX/VMS VNEWS 1.41     Organization: Mission Operations and Data S...",
          "p-Posting-Host: bistromath.mitre.org Organization: The MITRE Corporation Lines: 67  In article <>  (...",
          "bilities Article-I.D.: usenet.C4qoH8.CHE Expires: Thu, 20 May 1993 00:00:00 GMT Organization: Comput...",
          "swer Organization: Michigan State University Lines: 21 NNTP-Posting-Host: scss3.cl.msu.edu X-Newsrea...",
          "ood any more. Organization: InterCon Systems Corporation - Herndon, VA  USA Lines: 35 Distribution: ...",
          "mmary: Buckets of blood pouring from peoples' heads! Organization: Kubota Pacific Computer, Inc. Lin...",
          ": Harvey Mudd College, Claremont, CA 91711 Lines: 13  In article <>  (Phil Karn) writes: >It looks l...",
          ": world Organization: Georgetown University Lines: 139  The following document summarizes the Clippe...",
          "ement and Q&As on clipper chip encryption Organization: Partnership for an America Free Drug Distrib...",
          "anization: Private Computer, Totowa, NJ Lines: 21  In article <:  (Peter Trei) writes: :Judge: \"I gr...",
          "ood any more. Distribution: na Organization: Kendall Square Research Corp. Lines: 20   (Steve Johnso...",
          " more.  (Arthur Rubin)  <> <> Distribution: na Organization: Beckman Instruments, Inc. Nntp-Posting-...",
          "tion: The Crypt Cabal Lines: 187 Expires: 22 May 1993 04:00:07 GMT Reply-To:  NNTP-Posting-Host: pad...",
          "ative Organization: University of Iowa, Iowa City, IA, USA Lines: 43   (Philip Zimmermann) writes:  ...",
          "s Reply-To:  Organization: University of Chicago Lines: 23  In article <>  (Kenneth Ng) writes: >In ...",
          "ert or replace it ! Reply-To:  Distribution: na Organization: Thibault & Friends Lines: 10  In artic...",
          " Organization: is a nice thing... Lines: 28  Having read the various \"Clipper\" announcements on the ...",
          "machine (Was: Re: Corporate acceptance of the wiretap chip) Organization: Harvey Mudd College, Clare...",
          "aphy Organization: University of Illinois, Dept. of Comp. Sci., Urbana, IL Lines: 18   (Tal Kubo) wr...",
          "n: The Crypt Cabal Lines: 92 Expires: 22 May 1993 04:00:07 GMT Reply-To:  NNTP-Posting-Host: pad-tha...",
          "s us X-Xxmessage-Id: <> X-Xxdate: Wed, 21 Apr 93 17:40:17 GMT Nntp-Posting-Host: l-b-johnson.eff.org...",
          "heap security? Organization: Swiss Federal Institute of Technology (ETH), Zurich, CH Lines: 19  In a...",
          "o good any more. Organization: DSI/USCRPAC Distribution: na Lines: 26  In article <>  (Karl Barrus) ...",
          "ecrecy Reply-To:  Organization: Sun Microsystems, Inc. Lines: 38 Nntp-Posting-Host: signal.ece.clark...",
          "e Crypt Cabal Lines: 138 Expires: 22 May 1993 04:00:07 GMT Reply-To:  NNTP-Posting-Host: pad-thai.ak...",
          "aphy Reply-To:  (Paul Crowley) Organization: Edinburgh University Distribution: inet Lines: 12  Quot...",
          "rganization: University of Illinois, Dept. of Comp. Sci., Urbana, IL Lines: 42   (Andrew S Hall) wri...",
          "d any more. Organization: University of Houston Lines: 27 Distribution: na \t<> NNTP-Posting-Host: me...",
          "any more. Article-I.D.: rwing.2091 Distribution: na Organization: Totally Unorganized Lines: 17  In ...",
          "al number, possibly fixed S1 and S2 Organization: Universitaetsrechenzentrum, Heinrich-Heine-Univers...",
          "Costs/Benefits Organization: Netcom - Online Communication Services (408 241-9760 guest) Lines: 61  ...",
          "nization: Totally Unorganized Lines: 48  In article <>  writes: < (David Sternlight) writes: < <> He...",
          "ral comments Nntp-Posting-Host: bloch.informatik.uni-kl.de Organization: University of Kaiserslauter...",
          ": Citicorp Lines: 15 NNTP-Posting-Host: charon.cto.citicorp.com X-Newsreader: TIN [version 1.1 PL6] ...",
          "st: castor.se.houston.geoquest.slb.com Organization: GeoQuest System, Inc. Houston Lines: 17  In art...",
          "Data Research Associates, St. Louis MO Lines: 22  In article <>,  (Vernon Schryver) writes: > In art...",
          "Chip and crypto key-escrow] Organization: InterCon Systems Corporation - Herndon, VA  USA Lines: 34 ...",
          "otes.cus.cam.ac.uk Organization: U of Cambridge, England Lines: 25  -----BEGIN PGP SIGNED MESSAGE---...",
          "n: Stratus Computer, Software Engineering Lines: 18 NNTP-Posting-Host: ellisun.sw.stratus.com Keywor..."
         ],
         "type": "scatter",
         "x": [
          0.36198750138282776,
          0.29612675309181213,
          0.37987020611763,
          0.4369024336338043,
          0.5080187916755676,
          0.4112412631511688,
          0.5548891425132751,
          0.28862977027893066,
          0.20859815180301666,
          0.38533058762550354,
          0.18708300590515137,
          0.0068240417167544365,
          0.033261969685554504,
          0.14878755807876587,
          0.36555615067481995,
          0.40493324398994446,
          0.3578844964504242,
          0.5839831233024597,
          0.19443711638450623,
          0.25386273860931396,
          0.27732348442077637,
          0.45706793665885925,
          0.4505883753299713,
          0.012790238484740257,
          0.38126420974731445,
          0.3374856412410736,
          0.5158719420433044,
          0.5359323620796204,
          0.4543030560016632,
          0.2927502393722534,
          0.5701291561126709,
          0.43308794498443604,
          0.12982486188411713,
          0.04146508499979973,
          0.4800243079662323,
          0.2824260890483856,
          0.5739335417747498,
          0.1356443613767624,
          0.35745900869369507,
          0.36759766936302185,
          0.39785006642341614,
          0.5319200158119202,
          0.5433909296989441,
          0.19771844148635864,
          0.514100193977356,
          0.33586838841438293,
          0.34808266162872314,
          0.16145971417427063,
          0.40873199701309204,
          0.330583781003952,
          0.22811266779899597,
          0.48391270637512207,
          -0.0191873200237751,
          0.21624977886676788,
          0.3247412443161011,
          0.3448045551776886,
          0.23972155153751373,
          0.4152308404445648,
          0.45307809114456177,
          0.1516897827386856,
          0.2706395983695984,
          0.5103623270988464,
          0.4084993600845337,
          0.554673433303833,
          0.3516097664833069,
          0.32194358110427856,
          0.1872512698173523,
          0.5458364486694336,
          0.08115354180335999,
          0.43409496545791626,
          0.5372484922409058,
          0.5240861773490906,
          0.11399137228727341,
          0.3758038580417633,
          0.08406896144151688,
          0.5408043265342712,
          0.27133336663246155,
          0.0842139720916748,
          0.35412779450416565,
          0.2869567275047302,
          0.4612080454826355,
          0.4336095154285431,
          0.3559533357620239,
          0.32419896125793457,
          0.3074224889278412,
          0.3570643961429596,
          0.5901864171028137,
          0.33654195070266724,
          0.22903737425804138,
          0.45240044593811035,
          0.09169607609510422,
          0.16641102731227875,
          0.047528818249702454,
          0.10907183587551117,
          0.31212493777275085,
          0.42384088039398193,
          0.39190250635147095,
          0.6183862090110779,
          0.027086200192570686,
          0.45061662793159485,
          0.20361009240150452,
          0.24849848449230194,
          0.2597438097000122,
          0.4102131426334381,
          0.25756412744522095,
          0.5053092837333679,
          0.258076012134552,
          0.18092456459999084,
          0.3931901752948761,
          0.07221373170614243,
          0.5503185391426086,
          0.46519631147384644,
          0.33691954612731934,
          0.20208199322223663,
          -0.021249525249004364,
          0.5612431168556213,
          0.549450695514679,
          0.07614102959632874,
          0.5792770385742188,
          0.18426021933555603,
          0.32450392842292786,
          0.3370572328567505,
          0.36173808574676514,
          0.1542460024356842,
          0.3506906032562256,
          0.2529269754886627,
          0.11777761578559875,
          0.49623364210128784,
          0.47986719012260437,
          0.1963646411895752,
          0.2168627828359604,
          0.19212821125984192,
          0.24327749013900757,
          0.39556628465652466,
          0.5066092610359192,
          0.30132192373275757,
          0.31250354647636414,
          0.37701740860939026,
          0.3473939299583435,
          0.28870445489883423,
          0.3559926748275757,
          0.38766053318977356,
          0.5262134075164795,
          0.17609131336212158,
          0.3851112127304077,
          0.39826178550720215,
          0.4004276394844055,
          0.35219037532806396,
          0.2152557522058487,
          0.35923153162002563
         ],
         "y": [
          0.021171459928154945,
          0.06606075167655945,
          -0.21541136503219604,
          -0.27764028310775757,
          -0.14565810561180115,
          -0.174784854054451,
          -0.18692484498023987,
          -0.11299943923950195,
          -0.12993130087852478,
          -0.04289223998785019,
          -0.04527631402015686,
          0.1853700578212738,
          -0.022926827892661095,
          -0.10783842951059341,
          -0.05256678909063339,
          -0.05049380660057068,
          -0.054705988615751266,
          -0.2347961664199829,
          0.11805751174688339,
          -0.13275325298309326,
          0.1139301210641861,
          -0.08195111900568008,
          -0.033242035657167435,
          0.04501601308584213,
          -0.19421853125095367,
          -0.15662367641925812,
          -0.1252727508544922,
          -0.23141230642795563,
          -0.18036547303199768,
          -0.021684996783733368,
          -0.1560051143169403,
          -0.07094982266426086,
          -0.3784918487071991,
          0.1198895275592804,
          -0.08356355130672455,
          -0.017044996842741966,
          -0.14489099383354187,
          0.015313378535211086,
          -0.004770746920257807,
          -0.25967884063720703,
          -0.0567406564950943,
          -0.1364017128944397,
          -0.20825396478176117,
          0.12378210574388504,
          -0.11122073978185654,
          0.08741115033626556,
          -0.09418674558401108,
          -0.32982558012008667,
          -0.20024001598358154,
          -0.11261680722236633,
          -0.06716196238994598,
          -0.16998332738876343,
          -0.11983878910541534,
          0.059211716055870056,
          -0.13154664635658264,
          0.0034678333904594183,
          -0.16069486737251282,
          -0.11821041256189346,
          -0.22550898790359497,
          0.03143557533621788,
          -0.08949004113674164,
          -0.1654781699180603,
          -0.12020701915025711,
          -0.15908756852149963,
          -0.19761277735233307,
          -0.0891118273139,
          -0.09900844842195511,
          -0.1434558629989624,
          -0.0929223895072937,
          0.007218307815492153,
          -0.1785503476858139,
          -0.13914979994297028,
          -0.03615672141313553,
          -0.07524027675390244,
          -0.0980585590004921,
          -0.1026357114315033,
          -0.08797761052846909,
          -0.03700537979602814,
          -0.0967005118727684,
          0.0693478062748909,
          -0.16743218898773193,
          -0.2183949500322342,
          -0.1613205224275589,
          -0.12389897555112839,
          -0.09037937968969345,
          -0.12700770795345306,
          -0.20402027666568756,
          -0.23781004548072815,
          -0.2505165934562683,
          -0.25033339858055115,
          0.08820165693759918,
          0.09289677441120148,
          -0.1365763247013092,
          -0.0976748839020729,
          -0.20004643499851227,
          -0.05707428976893425,
          -0.004803612362593412,
          -0.09967906028032303,
          0.07934102416038513,
          -0.18793395161628723,
          -0.04756074771285057,
          -0.07620277255773544,
          -0.18159939348697662,
          -0.2204931676387787,
          -0.10032402724027634,
          -0.27025583386421204,
          -0.07878800481557846,
          0.025074761360883713,
          -0.18133462965488434,
          0.054399240761995316,
          -0.2456480711698532,
          -0.13334600627422333,
          -0.32046568393707275,
          -0.062162578105926514,
          0.10710383206605911,
          -0.15586914122104645,
          -0.21589866280555725,
          -0.12157894670963287,
          -0.0804535299539566,
          -0.15643306076526642,
          -0.2950776219367981,
          -0.21580089628696442,
          -0.05204185098409653,
          0.047507353127002716,
          -0.12708640098571777,
          -0.26797786355018616,
          -0.0708962231874466,
          -0.050557155162096024,
          -0.035678062587976456,
          -0.1926691085100174,
          0.020099526271224022,
          0.028102312237024307,
          0.10302872955799103,
          -0.11865024268627167,
          -0.14653608202934265,
          0.04091536998748779,
          -0.16467463970184326,
          -0.37893038988113403,
          -0.09543495625257492,
          -0.1352064609527588,
          0.03831439092755318,
          0.0035923218820244074,
          -0.18129290640354156,
          -0.1630166918039322,
          -0.03767869248986244,
          0.06972640007734299,
          -0.05312749743461609,
          0.0169632937759161,
          -0.13956813514232635,
          -0.18293890357017517
         ]
        },
        {
         "hoverinfo": "text",
         "marker": {
          "line": {
           "color": "white",
           "width": 0.5
          },
          "size": 15
         },
         "mode": "markers",
         "name": "Class sci.electronics",
         "opacity": 0.7,
         "text": [
          "Used BMW Question ..... ???) Organization: University of Minnesota, Duluth Lines: 28 NNTP-Posting-Ho...",
          "ale:was $200, sell for $150 Organization: Case Western Reserve University, Cleveland, Ohio (USA) Lin...",
          "ization: Netcom Online Communications Services (408-241-9760 login: guest) Lines: 25   (Neal Patrick...",
          "exer for digital signals? Organization: University of Illinois at Urbana Lines: 14  As the subject s...",
          ":  () Organization: Materials Research Lab Lines: 17    I would like to be able to amplify a voltage...",
          "hpfcmgw.fc.hp.com Organization: Hewlett-Packard Fort Collins Site X-Newsreader: TIN [version 1.1 PL8...",
          "tlist examples Originator:  Keywords: ACS,SPICE,simulation Organization: Harris Controls Lines: 18  ...",
          "hat is [a] \"Storage scope\" Distribution: na Organization: Medical Informatics, Pittsburgh, PA USA Li...",
          "i channel receiver system? Keywords: telemetry, receiver system Organization: National Hospitals, Ic...",
          ",  Has anyone used the Requirements Analsys methodology Hatley & Pirbhai ? I am a British final year...",
          "d. Nntp-Posting-Host: silene Organization: Institut Imag, Grenoble, France Lines: 38  In article <>,...",
          "on card Organization: University at Buffalo Lines: 8 News-Software: VAX/VMS VNEWS 1.41 Nntp-Posting-...",
          "s Freeway traffic reports Organization: Michigan Technological University X-Newsreader: TIN [version...",
          "p-Posting-Host: cec1 Organization: Washington University, St. Louis MO Lines: 88  In article <>  (St...",
          " Organization: University of Auckland, New Zealand. Keywords: pattern Summary: MDA/EGA/VGA pat. gen....",
          "work?? Reply-To:  Organization: Intergraph Corporation, Huntsville AL Lines: 25  In article <>,  (Mi...",
          "e-Help! Organization: /etc/organization Lines: 26  We have a setup with with 13 polaroid transducers...",
          "m Modules Organization: HP Lake Stevens, WA Lines: 12   (Ronald W. Butts, Jr.) writes:  >I am lookin...",
          "C50 Keywords: Motorola, FPU, 68882, 68030, 33/50 MHz, problems (FPU exception) Nntp-Posting-Host: pr...",
          "et wiring.. Organization: Eastman Kodak Lines: 29  In article <>  writes: >In article <>,  (Russ Cri...",
          "anization: The Software Engineering Institute Lines: 10   In article <>, Joseph Chiu writes:  > The ...",
          " Organization: Netcom Online Communications Services (408-241-9760 login: guest) Lines: 32  Sci.E(E)...",
          "et wiring.. Nntp-Posting-Host: techmac10.tech.mtu.edu Organization: Michigan Technological Universit...",
          "Organization: University of Cape Town X-Newsreader: TIN [version 1.1 PL8] Lines: 15   Hi there  Does...",
          ": AT&T Bell Laboratories Distribution: na Lines: 14  Can anybody recommend a good, application-orien...",
          "anization: Boston Computer Society / ISIG Lines: 10  Does any one know if the 6551 is timing/pin com...",
          "32  AllMartin MccormickWhat's Exactly in a Flour  MM> (Martin McCormick) MM>Organization: Oklahoma S...",
          "gital Nntp-Posting-Host: hacke9.dtek.chalmers.se Organization: Chalmers University of Technology, Go...",
          "ntp-Posting-Host: hprtnyc.cup.hp.com Organization: Hewlett-Packard X-Newsreader: TIN [version 1.1 PL...",
          " Organization: ACSYS, Inc. Lines: 19   For all people that are interested in every aspect of the 260...",
          "ut number to a phone Organization:  Wright State University  Lines: 12  Since I have seen various di...",
          "Organization: Megatest Corporation Lines: 23  In article <>  (Billy Quinn) writes: >I built a little...",
          "I.D.: larc.babb-060493164354 Distribution: usa Organization: SDSU - LARC Lines: 16 NNTP-Posting-Host...",
          "from two 0.047 in series?! Organization: U of Toronto Zoology Lines: 13  In article <>  (Michael Gol...",
          "c Modems, RF Modem, etc -- Best Offer Distribution: na Organization: APG-Edgewood, MD, USA Lines: 26...",
          "(Robert Ganter) Organization: Institut fuer Informatik Nntp-Posting-Host: schroeder.ifi.unibas.ch Li...",
          "OM POWERED Nntp-Posting-Host: liu.cns.nyu.edu Reply-To:  Organization: New York University Lines: 13...",
          "anization: Performance Technologies, Incorporated Lines: 12  Any info on modern 20MHZ or better dual...",
          "r Bar Needed Organization: Netcom - Online Communication Services (408 241-9760 guest) Lines: 25   I...",
          "rce? Nntp-Posting-Host: chip Reply-To:  (David Vanderbyl) Organization: MPR Teltech Ltd. Lines: 30  ...",
          "on: Boston University, Boston, MA, USA Lines: 19  In article <>  (Stephe Lewis Foskett) writes: > >I...",
          " Coordinates  (Weston R Beal) Distribution: world Organization: Utah State Univ. EE Nntp-Posting-Hos...",
          "r chip Organization: NETCOM On-line Communication Services (408 241-9760 guest) Distribution: usa Li...",
          "rade Nntp-Posting-Host: cec1 Organization: Washington University, St. Louis MO Lines: 32  In article...",
          "ntp-Posting-Host: aisun3.ai.uga.edu Organization: AI Programs, University of Georgia, Athens Lines: ...",
          "Austrailia  (BYRNES,Graham) Organization: La Trobe University In-Reply-To: 's message of Mon, 19 Apr...",
          "ur service Lines: 10 Distribution: usa NNTP-Posting-Host: hpctdkz.col.hp.com  >   Does anybody out t...",
          "cted. Lines: 31 Nntp-Posting-Host: hengill.rhi.hi.is  In <>  (Ketil Albertsen,TIH) writes:  >May we ...",
          "? Organization: Computer Science Department at Rose-Hulman Lines: 14 NNTP-Posting-Host: g222-26.next...",
          "hie) Organization: DSG Development Eng Beckman Instruments Inc. Nntp-Posting-Host: 134.217.245.87 Li...",
          "erlin, Germany Lines: 7  Have anyone some idea about how to build a cheap, low resolution (or high :...",
          " M2321K, M2322K, Fujitsu, Microdisk (-: Organization: University of Wales, Aberystwyth Lines: 23  I ...",
          "Article-I.D.: reed.1993Apr20.230749.12821 Organization: Reed College, Portland, Oregon Lines: 36  In...",
          "55.11 Organization: Motorola Western MCU Design Center, Chandler Arizona Lines: 17  In article <>,  ...",
          "ware Nntp-Posting-Host: flux.isr.alaska.edu Organization: Geophysical Institute, Fairbanks, AK Lines...",
          "1pli7gINNi6b Organization: California Institute of Technology, Pasadena Lines: 8 NNTP-Posting-Host: ...",
          "Reply-To:  Organization: Intergraph Corporation, Huntsville AL Lines: 41  In article <>,  (Mark Zeni...",
          "GS AND JUMPER SETTINGS FOR 386SX MOTHERBOARD Keywords: JUMPER SETTINGS DIP-SWITCH SETTINGS, HELP, CO...",
          "ndustrial Research Ltd., New Zealand. NNTP-Posting-Host: grv.grace.cri.nz Lines: 37  From:\tMX%\"\"  6-...",
          "rticle-I.D.: hippo.1993Apr16.105738.20864 Organization: Rhodes University, Grahamstown, South Africa...",
          "To:  Organization: Universitaet Hannover, Theoretische Nachrichtentechnik Lines: 41  This is for a f...",
          " (for Easter? Keywords: xmas Organization: AT&T Lines: 54   Yes, I know it's nowhere near Christmas ...",
          "cle-I.D.: shelley.1r4cucINNham Distribution: na Organization: University of Washington, Seattle Line...",
          "tlet wiring.. (the truth) Keywords: outlet Reply-To:  Organization: Univ. of Lowell CS Dept. Lines: ...",
          "nization: U of Toronto Zoology Lines: 17  In article <>  (Wayne Smith) writes: >>No restriction was ...",
          "-fi) Organization: NASA Langley Research Center and Reptile Farm Lines: 20 NNTP-Posting-Host: grisso...",
          "eo amp chip Nntp-Posting-Host: cns9.cns.ucalgary.ca Organization: University of Calgary Lines: 13  L...",
          "y Mountain Computer Organization: Case Western Reserve University, Cleveland, Ohio (USA) Lines: 25 N...",
          "o a phone line Organization: Chalmers University of Technology Lines: 11  In article <>  (Sean Olive...",
          "ticle-I.D.: shelley.1pr91aINNikg Distribution: world Organization: University of Washington, Seattle...",
          ".19930406.072523.946 Lines: 7  If you can find a copy of \"8088 Assembler Language Programming: The I...",
          "ne line Organization: The University of Western Australia Lines: 14 NNTP-Posting-Host: mackerel.gu.u...",
          " Nacional de I+D Lines: 24  In article <>,  (John Thomson) writes: > Joseph Chiu () wrote: >  > : An...",
          "93828.1 Organization: Lawrence Livermore National Laboratory Lines: 15 NNTP-Posting-Host: travis.lln...",
          "icle-I.D.: spk.C52I89.GEq Distribution: na Organization: Hewlett-Packard Lines: 31 X-Newsreader: TIN...",
          "sticks Organization: University of Stellenbosch, SA Lines: 8  In article <>  (David F. Newman) write...",
          " circuit ~ Organization: Helsinki University of Technology, Finland Lines: 17 \t<> \t<1ptolq$> NNTP-Po...",
          "ost: v9001.ntu.ac.sg Organization: Nanyang Technological University - Singapore   currently I am usi...",
          " filter ICs wanted. Organization: University of Orleans, France. Lines: 9      Hi All!     I would l...",
          "or Organization: The Inquiring Mind BBS  1 204 488-1607 Lines: 43   (Bob Myers) writes:  > > I am lo...",
          "Towers do? Organization: NRK Clinic for habitual NetNews abusers - Beltway Annex Lines: 19 Reply-To:...",
          "Posting-Host: fenian.dell.com Reply-To:  Organization: SLAMDANZ CYBRNETX Lines: 13  Anyone know a re...",
          "m a schematic -> PCB? Organization: Comp.Center (RUS), U of Stuttgart, FRG Lines: 38 NNTP-Posting-Ho...",
          "bopper2.phx.mcd.mot.com Organization: Motorola Computer Group, Tempe, Az. Distribution: usa Lines: 9...",
          " Article-I.D.: nic.1993Apr5.213718.4721 Distribution: usa Organization: Triacus Inc. Lines: 26 Nntp-...",
          "ilt battery for 3rd grade sci report Keywords: 3rd grade science report Distribution: usa Organizati...",
          "e with MC68HC16 Keywords: DRAM, HC16 Nntp-Posting-Host: wu2.wl.aecl.ca Organization: AECL Research, ...",
          "ntrollers ? Article-I.D.: stellenb.mabbot.30.0 Organization: CSIR Lines: 15 NNTP-Posting-Host: 146.6...",
          "NRK Clinic for habitual NetNews abusers - Beltway Annex Lines: 24 Reply-To:  (David Lesher) NNTP-Pos...",
          "tion: Humber College Technology Dept. Lines: 29   According to my TI databook, the pinouts for the T...",
          ".ca:735344986:trsvax:288200082:000:164 Nf-trsvax.tandy.com!pauls    Apr 21 09:31:00 1993 Lines: 6   ...",
          " Department of Computer Science, University of Toronto Distribution: na Lines: 11  The subject line ...",
          "munications Systems, Melbourne, AustraliaRe: RAMs &ROMs with ALE latches (for 8051's) Lines: 28   (S...",
          "ation: Digital Equipment Corporation Lines: 31 Nntp-Posting-Host: cimill  In article <>,  (Peter Try...",
          " Organization: Northeastern Ohio Universities College of Medicine Lines: 19  If the set is direct li...",
          "rganization: Megatest Corporation Lines: 26  In article <>  (G. Stewart Beal) writes: >In article <>...",
          " world Nntp-Posting-Host: verdi.eng.unipr.it Lines: 19  Hi, I've got a PACE MODEM , Series Four 2400...",
          " book Article-I.D.: toontown.627 Reply-To:  (Craig S. Williamson) Organization: NCR E&M Columbia, SC...",
          " Nntp-Posting-Host: storm.cfnr.colostate.edu Organization:  Colorado Concert Sound Lines: 25  In art...",
          "siemens-austria Organization: Siemens AG Oesterreich Lines: 15  Hi !!!  Is there somebody using a 56...",
          "s? Organization: Computer Science Department at Rose-Hulman Lines: 11 NNTP-Posting-Host: g222-26.nex...",
          "ganization: School of MPCE, Macquarie University, Australia. Lines: 19 Distribution: world NNTP-Post...",
          "ion: University of Washington, Seattle Lines: 2 Distribution: na NNTP-Posting-Host: hardy.u.washingt...",
          " phone line Reply-To:  <Paula Stockholm> Organization: The Northern Lights BBS, Portland, ME  * 207-...",
          "one line Organization: NASA Langley Research Center and Reptile Farm Lines: 16 NNTP-Posting-Host: gr...",
          ": catv cable television tvi Organization: NCR Corporation Wichita, KS Lines: 14   (Victor Laking) wr...",
          " System 6626 BBS, Winnipeg Manitoba Canada Lines: 21            On an A/D board I've got, I'm using ...",
          "tp-Posting-Host: eigen.ee.ualberta.ca Organization: University Of Alberta, Edmonton Canada Lines: 28...",
          "n: The Inquiring Mind BBS  1 204 488-1607 Lines: 41   (Joel Kolstad) writes:  > In article <>  > > >...",
          "ion: De Montfort University, Leicester, UK Lines: 26 X-Newsreader: TIN [version 1.1 PL8]  Frank Hiel...",
          "Host: dexter.psych.umn.edu Organization: University of Minnesota Lines: 18  I have a stereo compress...",
          "n: Netcom - Online Communication Services (408 241-9760 guest) Lines: 20  In article <>  (Brian Day)...",
          "  X-Posted-InterNews  Organization: Dartmouth College, Hanover, NH Lines: 12  We are Dartmouth engin...",
          "A Langley Research Center and Reptile Farm Lines: 9 Distribution: world NNTP-Posting-Host: grissom.l...",
          "0 Organization: University of Houston Lines: 17 Distribution: world NNTP-Posting-Host: rosie.uh.edu ...",
          "Decoders  Organization: University of Canberra Lines: 9  Could someone please tell me if a 1/4 decod...",
          "S work??? Organization: Capital Area Central Texas UNIX Society, Austin, Tx Lines: 15    I understan...",
          " it work?? X-Disclaimer: Nyx is a public access Unix system run by the University \tof Denver for the...",
          "ibution: na Nntp-Posting-Host: sun_shine.mentorg.com Organization: Mentor Graphics Keywords:  Lines:...",
          "'s Cooling Towers do? Nntp-Posting-Host: levy.fnal.gov Organization: Fermilab Computing Division Lin...",
          "Week in Toronto. Organization: S Lines: 10   Does anybody know if there is a mailing list or newsgro...",
          "nd. Nntp-Posting-Host: 211.2.1.197 Organization: Texaco Lines: 16  I had a catalog with membrane key...",
          "Lehigh University Lines: 12  Well, I'm not too sure if this would be the right place to post this, b...",
          "ds: fluorescent bulb starter neon Nntp-Posting-Host: turbo_f.seas.smu.edu Organization: SMU - School...",
          "8051's) X-Xxdate: Wed, 21 Apr 93 03:04:18 GMT Nntp-Posting-Host: dialup-slip-1-88.gw.umn.edu Organiz...",
          "ion: TRIUMF: Tri-University Meson Facility Lines: 24 Distribution: world NNTP-Posting-Host: reg.triu...",
          "rganization: NASA Langley Research Center and Reptile Farm Lines: 9 NNTP-Posting-Host: grissom.larc....",
          "s: Used BMW Question ..... ???) Organization: Netcom Online Communications Services (408-241-9760 lo...",
          "Nntp-Posting-Host: aisun1.ai.uga.edu Organization: AI Programs, University of Georgia, Athens Lines:...",
          "ization: The World Public Access UNIX, Brookline, MA Lines: 27   (Mike Donahue) writes:   >I do NOT ...",
          " many electronics Questions Organization: Michigan Technological University X-Newsreader: TIN [versi...",
          "ie University Lines: 54 Distribution: world NNTP-Posting-Host: macadam.mpce.mq.edu.au  In article <>...",
          " two 0.047 in series?! Originator:  Nntp-Posting-Host: elan.princeton.edu Organization: Princeton Un...",
          "on: The Portal System (TM) Distribution: usa Lines: 6  Sounds like the picture tube lost vacuum.  Th...",
          "n: Horizon Research, Inc. Lines: 7 Distribution: world Reply-To:  NNTP-Posting-Host: sparc28.hri.com...",
          "ply Article-I.D.: jato.1993Apr15.225326.22831 Organization: JPL Pasadena CA Lines: 25 Nntp-Posting-H...",
          "ster Polytechnic Institute Lines: 11 NNTP-Posting-Host: wpi.wpi.edu  Hey everyone, I'm new to this  ...",
          "uestion about 120VAC outlet wiring. Nntp-Posting-Host: aisun3.ai.uga.edu Organization: AI Programs, ...",
          "nization: PANIX Public Access Unix, NYC Lines: 11  There are also a couple or three places on West 4...",
          "e line Nntp-Posting-Host: churchill.columbiasc.ncr.com Organization: NCR Corp., Columbia SC Lines: 3...",
          "UT? That's a joke. Lines: 24 NNTP-Posting-Host: thing1.cc.utexas.edu  It is illegal to use anything ...",
          "ly-To: 's message of 15 Apr 93 15:02:28 Lines: 38 Organization: University of Oulu, Dept. of EE, Fin...",
          " Philosophical Question Summary: How do we preferentially amplify holes instead of electrons? Keywor...",
          "t........Nanaimo Campus)Re: Suggestions  on Audio relays ??? Organization: Malaspina College Lines: ...",
          "930406.131941.134 Lines: 3   They detect the oscillator operating in the detector. Saw a story about...",
          "ersity of Kansas Academic Computing Services Lines: 33  Thanks for the resposes as they were all goo...",
          " IR detector cards..??? Keywords: IR card  Organization: Monash University, Melb., Australia. Lines:...",
          "mputer, Marlboro Ma. Lines: 22 NNTP-Posting-Host: m21.eng.stratus.com  In article <>  (Roger A Willi...",
          "8051's) Organization: Harris Allied Broadcast Div., Quincy, IL Lines: 22   Intel also makes some nea...",
          "n: world Organization: Ozone Online Operations, Inc. - New Orleans, LA Reply-To:  (Gerald Belton)  L..."
         ],
         "type": "scatter",
         "x": [
          -0.12169167399406433,
          0.05482344701886177,
          0.08180051296949387,
          -0.010897655971348286,
          -0.07056395709514618,
          -0.070436991751194,
          -0.11036049574613571,
          -0.0748053640127182,
          -0.04294595494866371,
          -0.09607209265232086,
          0.2625456750392914,
          0.06574545055627823,
          0.06771528720855713,
          -0.08497483283281326,
          -0.05736439675092697,
          -0.020780330523848534,
          -0.11412008851766586,
          0.011765128001570702,
          -0.053035300225019455,
          -0.08444631099700928,
          -0.07931910455226898,
          -0.018103573471307755,
          -0.057554952800273895,
          -0.07382509857416153,
          0.004903085064142942,
          -0.02435629814863205,
          -0.08199845254421234,
          0.14529384672641754,
          0.08510934561491013,
          0.023426461964845657,
          0.13793355226516724,
          -0.04943058267235756,
          -0.11769510060548782,
          -0.11090119183063507,
          0.029881417751312256,
          0.04435398802161217,
          -0.12179043889045715,
          -0.09005557000637054,
          0.15591472387313843,
          -0.13656336069107056,
          0.06260755658149719,
          0.05598689243197441,
          0.037733349949121475,
          0.04759862646460533,
          0.02857758291065693,
          -0.05216570198535919,
          -0.17640440165996552,
          0.2398369163274765,
          -0.0021354190539568663,
          -0.022851917892694473,
          -0.04963551461696625,
          -0.11053425073623657,
          0.33030131459236145,
          0.09904473274946213,
          -0.04028951749205589,
          -0.05359392240643501,
          -0.054579611867666245,
          -0.08316687494516373,
          -0.05830558389425278,
          -0.08366934210062027,
          -0.022692792117595673,
          -0.07004852592945099,
          0.09166540205478668,
          -0.06806720048189163,
          0.22263728082180023,
          -0.13963337242603302,
          -0.01703294739127159,
          -0.038130003958940506,
          0.025053145363926888,
          -0.10333660244941711,
          -0.10058050602674484,
          0.01816192828118801,
          -0.12212355434894562,
          -0.09477271139621735,
          -0.005017383955419064,
          -0.10265409201383591,
          0.08619020879268646,
          -0.11577938497066498,
          -0.018272804096341133,
          -0.02214604988694191,
          -0.05434317886829376,
          0.06240342557430267,
          -0.07222583144903183,
          -0.16453686356544495,
          -0.11821790039539337,
          -0.0523049421608448,
          -0.00926418136805296,
          -0.02151654101908207,
          -0.01544090174138546,
          -0.02326447330415249,
          0.01590360328555107,
          -0.04271778464317322,
          0.024553973227739334,
          -0.06981535255908966,
          -0.1022011935710907,
          0.09937287867069244,
          -0.12095364928245544,
          -0.12041673064231873,
          -0.05907559394836426,
          -0.12908527255058289,
          0.07899333536624908,
          -0.06855545938014984,
          -0.01249039825052023,
          0.04094545543193817,
          0.13219718635082245,
          0.04893513023853302,
          -0.0827808529138565,
          0.10861530900001526,
          -0.16940376162528992,
          0.028689784929156303,
          -0.0335669070482254,
          0.015580943785607815,
          -0.11866919696331024,
          -0.012537146918475628,
          -0.1179036796092987,
          -0.025343753397464752,
          -0.06626462936401367,
          0.051750846207141876,
          0.2629205286502838,
          -0.027189476415514946,
          -0.08683263510465622,
          0.04818670451641083,
          -0.12390431016683578,
          -0.18300651013851166,
          0.06779453903436661,
          0.13951648771762848,
          -0.13244564831256866,
          -0.08879600465297699,
          0.14177562296390533,
          -0.06472010165452957,
          0.02558339759707451,
          -0.029818817973136902,
          -0.054998837411403656,
          -0.09936411678791046,
          -0.19151198863983154,
          -0.06304652243852615,
          -0.1979893296957016,
          -0.0835990309715271,
          0.0559711679816246,
          0.16386424005031586,
          0.1631557047367096,
          0.031110817566514015,
          -0.04929370433092117,
          -0.09288269281387329,
          -0.002241868758574128,
          -0.002120796823874116,
          0.031155936419963837,
          -0.01882735639810562,
          0.08006474375724792,
          0.05188990384340286
         ],
         "y": [
          0.09418503195047379,
          0.25640761852264404,
          0.018907496705651283,
          0.14198905229568481,
          0.0735856145620346,
          0.17430780827999115,
          0.16631537675857544,
          0.1371101438999176,
          0.17325253784656525,
          -0.012491660192608833,
          -0.010642320849001408,
          0.2226169854402542,
          0.018300414085388184,
          0.130613312125206,
          0.18936215341091156,
          0.03405386209487915,
          0.10709431022405624,
          0.15429018437862396,
          0.037253912538290024,
          0.005450460594147444,
          0.09633173048496246,
          0.22552356123924255,
          -0.01110886875540018,
          0.2311367392539978,
          0.16994036734104156,
          0.05316264554858208,
          0.01135717798024416,
          0.2003406584262848,
          0.1158251017332077,
          0.23150719702243805,
          0.10904571413993835,
          0.08690793067216873,
          0.1024690791964531,
          0.02507253736257553,
          0.1274319589138031,
          0.28983309864997864,
          0.1606024205684662,
          0.3209674060344696,
          0.015806330367922783,
          0.03225817158818245,
          0.18513359129428864,
          0.26200732588768005,
          0.2249118983745575,
          0.17229032516479492,
          0.151232048869133,
          0.20550580322742462,
          0.006572223734110594,
          -0.15519767999649048,
          0.18152111768722534,
          0.22827258706092834,
          0.28286418318748474,
          0.13524487614631653,
          -0.09219197183847427,
          0.07162082195281982,
          0.24908983707427979,
          0.1389913260936737,
          -0.00215176772326231,
          0.14294210076332092,
          0.10436206310987473,
          0.1418069303035736,
          0.1738673448562622,
          0.1251516044139862,
          -0.03818604722619057,
          0.014867033809423447,
          -0.0590205080807209,
          0.183071106672287,
          0.17323800921440125,
          0.14256633818149567,
          0.07819262146949768,
          0.011558535508811474,
          0.17166246473789215,
          0.14368857443332672,
          0.06687411665916443,
          0.13163544237613678,
          -0.175601065158844,
          0.12501847743988037,
          0.008651950396597385,
          0.031223636120557785,
          0.20194442570209503,
          0.19252751767635345,
          0.09850288182497025,
          0.19224315881729126,
          0.09839975088834763,
          0.03250022605061531,
          0.10830467939376831,
          -0.0008890926255844533,
          0.07033637166023254,
          0.20601852238178253,
          0.10481680184602737,
          0.0564114972949028,
          0.2919844090938568,
          0.14520986378192902,
          0.1011723205447197,
          0.13856001198291779,
          -0.016797609627246857,
          0.1756136268377304,
          0.06425391882658005,
          0.04690857231616974,
          0.093672975897789,
          0.17867466807365417,
          0.1636270433664322,
          0.19754739105701447,
          0.19635315239429474,
          0.15902552008628845,
          0.10632569342851639,
          0.16939695179462433,
          0.012016029097139835,
          0.12189428508281708,
          0.2128908336162567,
          0.1254240721464157,
          0.07406863570213318,
          0.25070416927337646,
          -0.012006220407783985,
          0.13861213624477386,
          0.08653336763381958,
          0.19194841384887695,
          0.09605803340673447,
          -0.11415603756904602,
          -0.054409563541412354,
          0.07867276668548584,
          0.3011406660079956,
          0.03609645739197731,
          0.12565594911575317,
          0.007586234714835882,
          0.12441530078649521,
          -0.046871718019247055,
          0.009249741211533546,
          0.09842060506343842,
          0.1924818754196167,
          0.18351159989833832,
          0.1755048632621765,
          0.16208216547966003,
          0.19150972366333008,
          0.034341685473918915,
          0.18787552416324615,
          0.10167084634304047,
          0.19918674230575562,
          -0.014787632040679455,
          0.13463395833969116,
          0.025697214528918266,
          -0.09986655414104462,
          0.12048467248678207,
          -0.027178263291716576,
          0.08469697833061218,
          0.08951395750045776,
          0.12924763560295105,
          0.12450136989355087,
          0.23179996013641357,
          0.10918018966913223,
          0.13391035795211792
         ]
        },
        {
         "hoverinfo": "text",
         "marker": {
          "line": {
           "color": "white",
           "width": 0.5
          },
          "size": 15
         },
         "mode": "markers",
         "name": "Class sci.med",
         "opacity": 0.7,
         "text": [
          "rnal Article - Whiplash/Cervical Pain Lines: 37 Organization: Colonial Mutual Life Australia X-Newsr...",
          "ganization: Invention Factory's BBS - New York City, NY - 212-274-8298v.32bis Reply-To:  (Jim Zisfei...",
          "rganization: The Santa Cruz Operation, Inc. Distribution: usa Lines: 18   In article <>  (Evan Hunt)...",
          "KS GREAT !!!! Organization: Omen Technology INC, Portland Rain Forest Lines: 34  In article <>  (Bet...",
          "me Organization: Sun Microsystems, Inc.  Mt. View, Ca. Lines: 18 Distribution: world Reply-To:  (Jim...",
          "nization: CS Dept, University of Texas at Austin Lines: 17 NNTP-Posting-Host: saltillo.cs.utexas.edu...",
          "weet (aspartame) Organization: S.P. Dyer Computer Consulting, Cambridge MA Lines: 30  In article <> ...",
          " Organization: The Portal System (TM)   <> <> Lines: 41  A person posted certain stuff to this newsg...",
          "-Host: drums.reasoning.com Organization: Reasoning Systems, Inc., Palo Alto, CA Lines: 11   My insur...",
          "s Organization: Computing Services Division, University of Wisconsin - Milwaukee Lines: 19 NNTP-Post...",
          "srael Hospital, Harvard Medical School, Boston Mass., USA Lines: 11 NNTP-Posting-Host: enterprise.bi...",
          "ation: Pittsburgh TRansplant Institute Lines: 41  In article <>  (Steve Heffner) writes: >A bit more...",
          "riptan) available in CA Article-I.D.: vela.1psee5$c3t Distribution: na Organization: Oakland Univers...",
          "s In-Reply-To: 's message of Tue, 6 Apr 1993 03:28:57 GMT Nntp-Posting-Host: crux3.cit.cornell.edu O...",
          "et for Crohn's (IBD) Organization: Gastroenterology - Univ. of Alabama Distribution: usa Lines: 36  ...",
          "is [Is it Lyme's?]\"] Organization: Lamont-Doherty Earth Observatory Lines: 50  In article <>,  (Gord...",
          "trix Networks Lines: 21   > In article <>  (Richard Silver) writes: > > > >Is there a right-eye domi...",
          "bicans: what is it?) Article-I.D.: bunyip.C5wwGz.17G Organization: Prentice Centre, University of Qu...",
          "ects Organization: George Washington University Lines: 28  In article <>  (Steve Dyer) writes: >In a...",
          ": West Virginia Network for Educational Telecomputing Lines: 11  My girlfriend is in pain from kidne...",
          "ruzio.5254 Reply-To:  Lines: 12   I have a friend who has just been diagnosed with Lupus, and I know...",
          "pathy ... tradition?) Summary: Science is not mere methodology.   Organization: University of Hawaii...",
          "tient relationship problem Organization: NETCOM On-line Communication Services (408 241-9760 guest) ...",
          "ead an Ultrasound? Organization: Dixie Communications Public Access.  The Mouth of the South. Lines:...",
          "ation: University of New Mexico, Albuquerque Lines: 27 NNTP-Posting-Host: carina.unm.edu   Gordon Ba...",
          "e of Veterinary Medicine WSU X-Newsreader: TIN [version 1.1 PL9] Lines: 45  kathleen richards () wro...",
          "ael Hospital, Harvard Medical School, Boston Mass., USA Lines: 26 NNTP-Posting-Host: enterprise.bih....",
          "Organization: U.C. Berkeley -- ERL Lines: 16 Distribution: world NNTP-Posting-Host: zion.berkeley.ed...",
          " Flying? Article-I.D.: rigel.SHAFER.93Apr6095951 Organization: NASA Dryden, Edwards, Cal. Lines: 33 ...",
          "rdon Banks) Organization: Univ. of Pittsburgh Computer Science Lines: 28  In article <>  (David Nye)...",
          " of medical terms Organization: Ecole Polytechnique Federale de Lausanne Lines: 41 NNTP-Posting-Host...",
          "p, depression Nntp-Posting-Host: bottom.magnus.acs.ohio-state.edu Organization: The Ohio State Unive...",
          "obert Allison) Organization: The National Capital Freenet Lines: 18   I have between 15 and 25 noseb...",
          "Semantic War. Organization: University of Illinois at Urbana Lines: 6  Also remember that most peopl...",
          " Banks) Organization: Univ. of Pittsburgh Computer Science Lines: 17  In article <>  (Ken Mitchum) w...",
          "Nntp-Posting-Host: wind.bellcore.com Reply-To:  Organization: Bell Communications Research Lines: 31...",
          "p-Posting-Host: aisun3.ai.uga.edu Organization: AI Programs, University of Georgia, Athens Lines: 12...",
          "ingers Article-I.D.: pitt.19424 Reply-To:  (Ken Mitchum) Organization: Univ. of Pittsburgh Computer ...",
          "al research? Organization: University of Northern Iowa Lines: 22  In article <>,  (Ken Mitchum) writ...",
          "words: gene pool; wisdom; virtue Nntp-Posting-Host: naples.med.unc.edu Organization: UNC-CH School o...",
          "ion? Organization: Center for Reliable and High-Performance Computing, University of Illinois at Urb...",
          "s: Homeopathy ... tradition?) Nntp-Posting-Host: engws5.ic.sunysb.edu Organization: State University...",
          "m.stortek.com Organization: StorageTek SW Engineering X-Newsreader: NNR/VM S_1.3.2 Lines: 53  In art...",
          "n: Acadia University Lines: 15   (James R. Skinner) writes:  >\t >\tI have seen a couple of postings r...",
          "ion? Organization: sdf public access Unix, Dallas TX 214/436-3281 Lines: 27  In article <>  (Andrew ...",
          " skin - problem? Article-I.D.: aio.1993Apr6.133244.14717 Distribution: sci.med Organization: Lockhee...",
          "al tradition? Reply-To:  (Gordon Banks) Organization: Univ. of Pittsburgh Computer Science Lines: 26...",
          " S.P. Dyer Computer Consulting, Cambridge MA Lines: 25  In article <>  (Robert Allison) writes: >Doe...",
          "eywords: seizures epilepsy Reply-To:  (Gordon Banks) Organization: Univ. of Pittsburgh Computer Scie...",
          "nization: University of Wisconsin Eau Claire Lines: 19  [reply to  (MD)]   >After many metabolic tes...",
          "ute of Theoretical and Experimental Biophysics Lines: 29 NNTP-Posting-Host: venus.iteb.serpukhov.su ...",
          "anization: University of Kuopio, Finland Lines: 10   There is this newsgroup sci.med.physics and the...",
          "AT&T Distribution: usa Keywords: San Francisco Lines: 9   \tI was kind of half watching Street Storie...",
          "=> RoseMail Gateway (v1.70) Organization: Rose Media Inc, Toronto, Ontario. Lines: 23  L(>   (Joel B...",
          "riginator:  Nntp-Posting-Host: sasquatch Reply-To:  Organization: Clinical Diagnostics Division, Eas...",
          "-I.D.: cs.1993Apr22.055958.2377 Organization: nCUBE, Sandia Park, NM Lines: 31  In article <>  (Vida...",
          "? Reply-To:  (Betty Harvey) Organization: Carderock Division, NSWC, Bethesda, MD Lines: 30  In rec.f...",
          "cle-I.D.: pitt.19396 Reply-To:  (Gordon Banks) Organization: Univ. of Pittsburgh Computer Science Li...",
          "ation: AT&T Keywords: seizures Lines: 8  Here is the tollfree hotline for the Epilepsy Foundation of...",
          "tronet Communications Services, Dallas Tx Distribution: usa Lines: 13  I am 35 and am recovering fro...",
          "Keywords: Daypro Lines: 7  Anyone have any information on the effects/origin of oxaprozin? It's mark...",
          "ans: what is it?) Organization: University of Wisconsin Eau Claire Lines: 29  [reply to  (Jacquelin ...",
          "  (Grant Edwards) Organization: Rosemount, Inc. Lines: 41 Nntp-Posting-Host: aquarius   (Richard Ott...",
          " Reply-To:  Organization: University of Chicago Lines: 27  One thing that I haven't seen in this thr...",
          "ization: CS Dept, University of Texas at Austin Lines: 67 Distribution: inet NNTP-Posting-Host: im4u...",
          "omeopathy ... tradition?) Originator:  Nntp-Posting-Host: theseus.unx.sas.com Organization: SAS Inst...",
          "ghts from the DSM-IIIR Organization: Digital Equipment Corporation Lines: 45 NNTP-Posting-Host: DWOV...",
          "s (PDR)? Reply-To:  (Gordon Banks) Organization: Univ. of Pittsburgh Computer Science Lines: 48  In ...",
          "zation: Stratus Computer, Inc. Lines: 14 Distribution: world NNTP-Posting-Host: coyoacan.sw.stratus....",
          "omeopathy ... tradition?) Originator:  Nntp-Posting-Host: theseus.unx.sas.com Organization: SAS Inst...",
          "opathy ... tradition?) Organization: University of Rochester  In article <>  (Gary Merrill) writes: ...",
          "rdon Banks) Organization: Univ. of Pittsburgh Computer Science Lines: 22  In article <>  (daniel fed...",
          "rstition? Organization: University of Illinois at Urbana Lines: 26   (Steve Dyer) writes:  >In artic...",
          "nks) Reply-To:  Organization: University of Chicago Lines: 12  There were a few people who responded...",
          " Organization: Locus Computing Corporation, Los Angeles, California Distribution: usa Lines: 12   Hi...",
          "To:  (Gordon Banks) Distribution: na Organization: Univ. of Pittsburgh Computer Science Lines: 19  >...",
          "ntp-Posting-Host: huey.udel.edu Organization: little scraps of paper, mostly Lines: 10   I think he ...",
          "alif State Univ/Electronic Information Services Lines: 3  Can anyone help me find any information on...",
          "e of Veterinary Medicine WSU X-Newsreader: TIN [version 1.1 PL9] Lines: 13  kathleen richards () wro...",
          "ems Organization: University of Colorado at Denver Lines: 29   \tA friend has the following symptoms ...",
          " Organization: NASA Langley Research Center, Hampton, VA Lines: 28 Reply-To: Jason C. Austin <> NNTP...",
          "zation: Space Telescope Science Institute Distribution: na  Am I justified in being pissed off at th...",
          "ctose intolerance Organization: Gastroenterology - Univ of Alabama Lines: 19  In article <>,  (Ho Le...",
          " Robinson <>Reasons for hospitals to join Internet? Lines: 8  What resources and services are availa...",
          "n: Actrix Networks Lines: 26   My 14-y-o son has the usual teenage spotty chin and greasy nose.  I b...",
          " Switzerland Lines: 21  Hello to everybody, I write here because I am kind of desperate. For about s...",
          "Gordon Banks) Organization: Univ. of Pittsburgh Computer Science Lines: 16  In article <>  (Daniel P...",
          "itt.19440 Reply-To:  (Gordon Banks) Organization: Univ. of Pittsburgh Computer Science Lines: 23  In...",
          "versity of Wisconsin Eau Claire Lines: 13  [reply to  (Gordon Banks)]   >>I believe it is illegal fo...",
          "Organization: S.P. Dyer Computer Consulting, Cambridge MA Lines: 14  In article <1qnns0$>  (Steve Po...",
          "is [Is it Lyme's?]\"] Reply-To:  (Gordon Banks) Organization: Univ. of Pittsburgh Computer Science Li...",
          "or? Organization: HP Colorado Springs Division Lines: 5 Distribution: na NNTP-Posting-Host: hpcspe17...",
          "KS GREAT !!!! Organization: Omen Technology INC, Portland Rain Forest Lines: 33  In article <>  (Gor...",
          " Utah State University Lines: 35  >>Between who? Over what? I would be most interested in seeing you...",
          "icle-I.D.: cup.79700 Organization: The Portal System (TM) Lines: 36  > Probably within 50 years, a n...",
          "on Banks) Organization: Univ. of Pittsburgh Computer Science Lines: 12  In article <>  (John E. Rodw...",
          "rriage Organization: worldbank.org Lines: 17        Following a series of miscarriages, my wife was ...",
          "cle-I.D.: pitt.19422 Reply-To:  (Ken Mitchum) Organization: Univ. of Pittsburgh Computer Science Lin...",
          "since last month [monthly posting] Supersedes: <typing-injury-faq/> Organization: University of Cali...",
          " Vasomotor Rhinitis Organization: University of Pittsburgh Lines: 21  In article <1r1t1a$>  writes: ...",
          " Albicans: what is it?) Nntp-Posting-Host: magnusug.magnus.acs.ohio-state.edu Organization: The Ohio...",
          ": world Organization: Invention Factory's BBS - New York City, NY - 212-274-8298v.32bis Reply-To:  (...",
          "er Corporation Nntp-Posting-Host: condor.encore.com Lines: 20  A bit more than a year ago, a hernia ...",
          "ewsj.1993Apr6.161858.12132 Distribution: na Organization: AT&T Lines: 15  In article <>,  writes: > ...",
          "blue.7936 Lines: 23 X-Newsreader: TIN [version 1.1 PL8]  David Nye () wrote: : [reply to  (ron roth)...",
          "ines: 43 Nntp-Posting-Host: vms.ocom.okstate.edu Organization: OSU College of Osteopathic Medicine  ...",
          "n? Lines: 12   To:  (Alex Milshteyn)   AM> Having said that, i might add, that in MHO, MSG does not ...",
          ": The Old Frog's Almanac, Nanaimo, B.C. Keywords: Bates method Summary: Proven a hoax long ago Lines...",
          "Sybase, Inc. Lines: 18  My mom has just been diagnosed with cystic breast disease -- a big relief, a...",
          "National Accelerator Laboratory, Batavia IL Lines: 14 Distribution: world NNTP-Posting-Host: adcs01....",
          "sa Organization: Beth Israel Hospital, Harvard Medical School, Boston Mass., USA Lines: 15 NNTP-Post...",
          "core, Piscataway, NJ Lines: 14  In article <>  (Gordon Banks) writes: >In article <>  (Richard Silve...",
          "ry: Kaiser has been doing it for a while Article-I.D.: pegasus.1993Apr22.221508.10196 Organization: ...",
          "anization: Lehigh University Lines: 22  The following 4 addresses are on the LymeNet mailing list, b...",
          "Host: vms.ocom.okstate.edu Organization: OSU College of Osteopathic Medicine Distribution: usa  In a...",
          " UM Anesthesiology Lines: 21 Distribution: world NNTP-Posting-Host: 141.214.86.38 X-UserAgent: Nunti...",
          "t current trends in diabetes. Lines: 63 Organization: The Information Deli - via Netcom / San Jose, ...",
          "rganization: The World Public Access UNIX, Brookline, MA Lines: 10   Some recent postings remind me ...",
          "es Organization: Hitachi Computer Products, OSSD division Lines: 16 NNTP-Posting-Host: duca.hi.com  ...",
          "eet (aspartame) Organization: University of Vermont -- Division of EMBA Computer Facility Lines: 21 ...",
          "? Keywords: cancer Organization: Digital Equipment Corporation Lines: 13   What does a lack of taste...",
          "ization: Carleton University, Ottawa, Canada Lines: 44  In article <>  (Gong Tong) writes: >In artic...",
          "n: Department of Computer Science, UWO, Canada Keywords: volvulus Nntp-Posting-Host: berfert.csd.uwo...",
          "ationship problem Distribution: world Organization: Invention Factory's BBS - New York City, NY - 21...",
          "icle-I.D.: oregon.21APR199316170714 Distribution: world Organization: University of Oregon Lines: 14...",
          "sity of Wisconsin Eau Claire Lines: 15  [reply to  (ron roth)]   >While you're right that the S vert...",
          "anks) Organization: Univ. of Pittsburgh Computer Science Lines: 18  In article <>  (John Werner) wri...",
          " Organization: University of Pittsburgh Lines: 14  In article <>  (Fiberman) writes: :Is erythromyci...",
          "ion: McDonnell Douglas Aerospace Lines: 20 Distribution: world NNTP-Posting-Host: q5020598.mdc.com  ...",
          "s [Is it Lyme's?]\"] Article-I.D.: pitt.19421 Reply-To:  (Ken Mitchum) Organization: Univ. of Pittsbu...",
          "22 X-Newsreader: Tin 1.1 PL5  Sharon Paulson () wrote: :  {much deleted] :  :  : The fact that this ...",
          "g's Almanac, Nanaimo, B.C. Keywords: advice needed Summary: thanx for the comeback Lines: 7  Hello ,...",
          "'s message of Mon, 12 Apr 1993 21:02:31 GMT Nntp-Posting-Host: kyanite Organization: Telesciences CO...",
          "I.D.: pitt.19423 Reply-To:  (Ken Mitchum) Organization: Univ. of Pittsburgh Computer Science Lines: ...",
          "anization: Virginia's Public Education Network (Radford) Lines: 13  Thanks for all your assistance. ...",
          "zation: NASA Langley Research Center, Hampton VA, USA Lines: 48 \t<> <> NNTP-Posting-Host: cmb00.larc...",
          "ERT-CONNECT -- Public Access UNIX Lines: 15   can anyone give me more information regarding endometr...",
          "r:  Organization: Citibank IBISM Lines: 11    has any one heard of a sedative called \"Rhoepnol\"? Mad...",
          "ngstown State University Lines: 5 NNTP-Posting-Host: ysub.ysu.edu  Does the Proventil inhaler for as...",
          "P-Posting-Host: fred.bbn.com   (ron roth) writes:  |JB>   (Ella I Baff) writes: |JB>   |JB>    Ron R...",
          "nline Communication Services (408 241-9760 guest) Lines: 7  In article <>  (Gordon Banks) writes: >w...",
          "yer Computer Consulting, Cambridge MA  In article <>  (Craig MacDonald) writes: >>  It may be extrem...",
          " slit operation Article-I.D.: pegasus.1993Apr22.221111.9678 Organization: Pegasus,  Honolulu Lines: ...",
          "zation: NASA Langley Research Center, Hampton VA, USA Lines: 52 \t<> NNTP-Posting-Host: cmb00.larc.na...",
          " Nntp-Posting-Host: sdcmvs.mvs.sas.com Organization: SAS Institute Inc. Lines: 16  In article <>,  (...",
          "ization: Carleton University, Ottawa, Canada Lines: 43  In article <>  (David Thomas) writes:  >>In ...",
          "T !!!! Organization: Express Access Public Access UNIX, Greenbelt, Maryland USA Lines: 58 NNTP-Posti...",
          "zation: NASA Langley Research Center, Hampton VA, USA Lines: 53 NNTP-Posting-Host: cmb00.larc.nasa.g...",
          "zation: Unocal Corporation Lines: 20  Living things maintain small electric fields to (1) enhance ce...",
          "formix Software, Inc. Lines: 11  In article <>  (Dick King) writes: > >I recall reading somewhere, d..."
         ],
         "type": "scatter",
         "x": [
          -0.2562260627746582,
          -0.31174129247665405,
          -0.1085151806473732,
          -0.15818481147289276,
          -0.35933464765548706,
          -0.05822087079286575,
          -0.2437688261270523,
          0.029492974281311035,
          -0.19978024065494537,
          -0.39245980978012085,
          -0.282295286655426,
          -0.2031387835741043,
          -0.22895890474319458,
          -0.2887246608734131,
          -0.29525941610336304,
          -0.23703503608703613,
          -0.1926264464855194,
          -0.30381014943122864,
          -0.4132738709449768,
          -0.22066442668437958,
          -0.3765575885772705,
          -0.1648847460746765,
          -0.22884808480739594,
          -0.16453534364700317,
          -0.1924474984407425,
          -0.2965051829814911,
          -0.27677401900291443,
          -0.31700533628463745,
          -0.19199137389659882,
          -0.1279594451189041,
          -0.2321234494447708,
          -0.2574097514152527,
          -0.28867706656455994,
          -0.23271769285202026,
          -0.19238486886024475,
          -0.2659120559692383,
          -0.30121946334838867,
          -0.2622353732585907,
          -0.39537370204925537,
          -0.18203425407409668,
          -0.3388730585575104,
          -0.18093650043010712,
          -0.16586998105049133,
          -0.33550912141799927,
          -0.2505146861076355,
          -0.2959120273590088,
          -0.31679779291152954,
          -0.3403657376766205,
          -0.3408716320991516,
          -0.39409521222114563,
          -0.30321407318115234,
          -0.31129127740859985,
          -0.2019633948802948,
          -0.027571510523557663,
          -0.2785252332687378,
          -0.3920917510986328,
          -0.3715905547142029,
          -0.3261496126651764,
          -0.1809176355600357,
          -0.2559874653816223,
          -0.2550250291824341,
          -0.2599348723888397,
          -0.17152239382266998,
          -0.22787129878997803,
          -0.1682209074497223,
          -0.2745067775249481,
          -0.17167186737060547,
          -0.0703541487455368,
          -0.21577459573745728,
          -0.12467116117477417,
          -0.12874895334243774,
          -0.3185095489025116,
          -0.11298660933971405,
          -0.29429763555526733,
          -0.06616093963384628,
          -0.23801013827323914,
          -0.09075574576854706,
          -0.17384499311447144,
          -0.3103720545768738,
          -0.4185018241405487,
          -0.277640700340271,
          -0.1624012142419815,
          -0.36449089646339417,
          -0.07476066797971725,
          -0.30693742632865906,
          -0.4171975553035736,
          -0.14189885556697845,
          -0.2152274250984192,
          -0.1875004768371582,
          -0.17014911770820618,
          -0.2966609001159668,
          -0.16694562137126923,
          -0.27565330266952515,
          -0.20013603568077087,
          0.047530341893434525,
          -0.15963196754455566,
          -0.14060938358306885,
          -0.2509412467479706,
          -0.08713485300540924,
          -0.34441956877708435,
          -0.334960401058197,
          -0.19340120255947113,
          -0.21027323603630066,
          -0.25764116644859314,
          -0.18311764299869537,
          -0.3040744960308075,
          -0.2431926727294922,
          -0.12026755511760712,
          -0.37737712264060974,
          -0.24672327935695648,
          -0.3039706349372864,
          -0.2513989210128784,
          -0.18438571691513062,
          -0.08351951092481613,
          -0.3267342746257782,
          -0.08812785893678665,
          -0.2772614359855652,
          -0.2915332615375519,
          -0.22096021473407745,
          -0.27208778262138367,
          -0.3753149211406708,
          -0.2893001139163971,
          -0.36619895696640015,
          -0.15862922370433807,
          -0.18166375160217285,
          -0.192873015999794,
          -0.1148729920387268,
          -0.2675003409385681,
          -0.38056886196136475,
          -0.2315269112586975,
          -0.3048642575740814,
          -0.2641153633594513,
          -0.15888802707195282,
          -0.2827582359313965,
          -0.29931333661079407,
          -0.28988024592399597,
          -0.2275848686695099,
          -0.1539323329925537,
          -0.24389749765396118,
          -0.20127831399440765,
          -0.046357546001672745,
          -0.3224118649959564,
          -0.07180330902338028,
          -0.32337695360183716,
          -0.30722662806510925,
          -0.2643109858036041,
          -0.12720611691474915,
          -0.38933050632476807,
          -0.21487100422382355,
          -0.27411091327667236
         ],
         "y": [
          -0.18911808729171753,
          -0.28250986337661743,
          -0.27204081416130066,
          -0.19462400674819946,
          -0.1670231968164444,
          -0.26726609468460083,
          -0.30231812596321106,
          -0.12055408209562302,
          -0.01589345932006836,
          -0.3317989408969879,
          -0.18744193017482758,
          -0.21180890500545502,
          -0.13312841951847076,
          -0.28808048367500305,
          -0.3224216103553772,
          -0.23817048966884613,
          -0.09841298311948776,
          -0.39165598154067993,
          -0.32956063747406006,
          -0.18750104308128357,
          -0.21887901425361633,
          -0.18507975339889526,
          -0.16134954988956451,
          -0.04765048995614052,
          -0.1845492422580719,
          -0.288434237241745,
          -0.26408711075782776,
          -0.3347630500793457,
          -0.0848214328289032,
          -0.2253943532705307,
          -0.003023078665137291,
          -0.20812226831912994,
          -0.2456831932067871,
          -0.12171752750873566,
          -0.39464014768600464,
          -0.3915383815765381,
          -0.3902999460697174,
          -0.31054121255874634,
          -0.4005168378353119,
          -0.11184711009263992,
          -0.38985341787338257,
          -0.2606469690799713,
          0.13495472073554993,
          -0.2202637642621994,
          -0.27021855115890503,
          -0.18730080127716064,
          -0.2698911726474762,
          -0.2656346261501312,
          -0.23339277505874634,
          -0.36576294898986816,
          -0.07693130522966385,
          -0.07019522041082382,
          -0.05513730272650719,
          -0.07244089245796204,
          -0.2954017221927643,
          -0.19300667941570282,
          -0.42075347900390625,
          -0.16903525590896606,
          -0.19281895458698273,
          -0.2611704170703888,
          -0.1775941550731659,
          -0.31211838126182556,
          0.03566138818860054,
          -0.2936004102230072,
          -0.07700104266405106,
          -0.09474080801010132,
          -0.21383187174797058,
          -0.28405582904815674,
          0.0815582200884819,
          -0.20996752381324768,
          -0.18286284804344177,
          -0.3253985643386841,
          -0.287837952375412,
          -0.11713416874408722,
          0.045270439237356186,
          -0.25907668471336365,
          0.13798463344573975,
          -0.11734199523925781,
          -0.16546165943145752,
          -0.2445799857378006,
          -0.19097843766212463,
          -0.25650063157081604,
          -0.20039992034435272,
          -0.017353281378746033,
          -0.24693439900875092,
          -0.2169136106967926,
          -0.29685428738594055,
          -0.29446402192115784,
          -0.22375370562076569,
          -0.2659980356693268,
          -0.17873050272464752,
          -0.15133830904960632,
          -0.14889706671237946,
          -0.4149068295955658,
          -0.16579067707061768,
          -0.38326436281204224,
          -0.25886890292167664,
          -0.23872123658657074,
          -0.02808215469121933,
          -0.24092091619968414,
          -0.3416646718978882,
          -0.33467280864715576,
          -0.2128738909959793,
          -0.17643222212791443,
          -0.18769438564777374,
          -0.26391077041625977,
          -0.2930343449115753,
          -0.23193171620368958,
          -0.3014882504940033,
          -0.2638072073459625,
          -0.29126426577568054,
          -0.12972211837768555,
          -0.04929659143090248,
          -0.023779332637786865,
          -0.2876889109611511,
          -0.1106395348906517,
          -0.1396346241235733,
          -0.2519551217556,
          -0.189687579870224,
          -0.30722054839134216,
          -0.27276313304901123,
          -0.4148944616317749,
          -0.26308661699295044,
          -0.21408186852931976,
          -0.07203755527734756,
          -0.20329901576042175,
          -0.15224291384220123,
          -0.2868834137916565,
          -0.29839009046554565,
          -0.32610177993774414,
          -0.41592633724212646,
          -0.07735554128885269,
          -0.09023837000131607,
          -0.30648449063301086,
          -0.26216697692871094,
          -0.28120920062065125,
          -0.08695190399885178,
          -0.2592952847480774,
          -0.11249598860740662,
          -0.18933990597724915,
          -0.12331444025039673,
          -0.2812299430370331,
          -0.12348048388957977,
          -0.42082640528678894,
          -0.2511921525001526,
          -0.40295445919036865,
          -0.23551346361637115,
          -0.4353266954421997,
          -0.06951772421598434,
          -0.22002917528152466
         ]
        },
        {
         "hoverinfo": "text",
         "marker": {
          "line": {
           "color": "white",
           "width": 0.5
          },
          "size": 15
         },
         "mode": "markers",
         "name": "Class sci.space",
         "opacity": 0.7,
         "text": [
          "ation: NASA Langley Research Center Lines: 7 Distribution: world Reply-To:  (CLAUDIO OLIVEIRA EGALON...",
          "ce? Organization: Texas Instruments Inc Lines: 16  In <>  (Dillon Pyron) writes:   >There are actual...",
          " Space Launcer Organization: Boeing AI Center, Huntsville, AL Lines: 22  In reference to the limits ...",
          "zation: University of Washington Lines: 33 NNTP-Posting-Host: stein2.u.washington.edu   (Doug Loss) ...",
          "on: Netcom - Online Communication Services (408 241-9760 guest) Lines: 23  In article <>  (kevin mar...",
          "ining. Nntp-Posting-Host: 128.158.30.103 Reply-To:  (G. Patrick Molloy) Organization: NASA/MSFC Line...",
          " Beacons! In-Reply-To: 's message of 21 Apr 93 08:15:55 GMT Nntp-Posting-Host: leo-gw Organization: ...",
          "n: Boeing AI Center, Huntsville, AL Lines: 39  I have before me a pertinent report from the United S...",
          "niv. of Florida CIS Dept. Lines: 17 Distribution: world NNTP-Posting-Host: beach.cis.ufl.edu   Is an...",
          "o Update - 04/22/93) Organization: U of Toronto Zoology Lines: 17  In article <>  (Alan Carter) writ...",
          "on to first year-long moon residents? Organization: Texas Instruments Inc Lines: 22  In <>  (Allen W...",
          "decentralize & automate functions Keywords: space station, constellation Article-I.D.: techbook.C51z...",
          " not give $1G) Organization: MDSSC Lines: 32  In article <>,  (Layne Cook) writes: > All of this tal...",
          "ief Resigns for Health Reasons Organization: NASA Lewis Research Center / Cleveland, Ohio Lines: 30 ...",
          "of the future. Organization: University of Western Ontario, London Nntp-Posting-Host: prism.engrg.uw...",
          "on: Jet Propulsion Laboratory Lines: 16 Distribution: world NNTP-Posting-Host: kelvin.jpl.nasa.gov N...",
          "tion: RIP Organization: Univ. of Southwestern Louisiana Lines: 43   (Brian Yamauchi) writes:  >Any c...",
          "press Access Online Communications USA Lines: 30 NNTP-Posting-Host: access.digex.net  In article <> ...",
          "93 Organization: Express Access Online Communications, Greenbelt, MD USA Lines: 33 Distribution: wor...",
          " University of South Australia Lines: 5  Does anyone know how to size cold gas roll control thruster...",
          "eral Systems Co. Software Services               IBM, Federal Systems Co. Software Services Disclaim...",
          "rwarded by Space Digest Organization: [via International Space University] Original-Sender:  Distrib...",
          "ed News-Software: VAX/VMS VNEWS 1.41     Nntp-Posting-Host: tm0006.lerc.nasa.gov Organization: NASA ...",
          " do it. Organization: SED, Stanford Telecom, Reston, VA 22090 Lines: 16  In article <>  writes: >Thi...",
          "oards (was Re: Vandalizing the sky.) Organization: LLNL Lines: 96 Distribution: world NNTP-Posting-H...",
          " Organization: Express Access Online Communications USA Lines: 23 Distribution: world NNTP-Posting-H...",
          "ization: Brunel University, West London, UK Lines: 26  <>  writes:  >So some of my ideas are a bit o...",
          " Moon first? Nntp-Posting-Host: unseen1.acns.nwu.edu Organization: Northwestern University, Evanston...",
          "unding Cuts. Organization: California Polytechnic State University, San Luis Obispo Lines: 51  Why d...",
          "-Xxmessage-Id: <> X-Xxdate: Fri, 16 Apr 93 06:33:17 GMT Organization: Simon Fraser University X-User...",
          "ng Cuts. Organization: Jet Propulsion Laboratory Lines: 15 Distribution: world NNTP-Posting-Host: ke...",
          " with the ears!) Organization: California Polytechnic State University, San Luis Obispo Lines: 31  >...",
          "es on the moon Organization: Lick Observatory/UCO Lines: 42 \t<> \t<> NNTP-Posting-Host: topaz.ucsc.ed...",
          "t year-lo Organization: ARCO Oil and Gas Company Lines: 44   (Craig Keithley) writes: > > All in all...",
          "TO type stuff from a shareholder perspective. Organization: Netcom Online Communications Services (4...",
          "ned Lunar Exploration. May 7 Crystal City Organization: Fermi National Accelerator Laboratory Lines:...",
          " Space Launcer Organization: Boeing AI Center, Huntsville, AL Lines: 72   Okay, lets get the record ...",
          "Jet Propulsion Laboratory Lines: 79 Distribution: world NNTP-Posting-Host: kelvin.jpl.nasa.gov News-...",
          "x (was:*Doppelganger*) Organization: NASA Langley Research Center Lines: 14 Distribution: world Repl...",
          "3.124722.1 Organization: University of Alaska Fairbanks Lines: 11 Nntp-Posting-Host: acad3.alaska.ed...",
          "e <>Re: Apollo Training in Iceland Distribution: sci Lines: 10  The Apollo astronauts also trained a...",
          "ss Access Online Communications USA Lines: 20 NNTP-Posting-Host: access.digex.net  In article <>  (G...",
          "akala BBS (ClanZen Radio Network) Sunnyvale, CA +1-408-734-2289 Lines: 20   (Doug Mohney) writes:  >...",
          "Access Online Communications USA Lines: 9 NNTP-Posting-Host: access.digex.net Keywords: food  dillon...",
          "cs Supersedes: <> Organization: University of North Carolina, Chapel Hill Lines: 95 Distribution: wo...",
          "ization: Express Access Online Communications USA Lines: 25 NNTP-Posting-Host: access.digex.net  In ...",
          "cle on Federal R&D Organization: Fermi National Accelerator Laboratory Lines: 24 NNTP-Posting-Host: ...",
          "uttle Keywords: Space Shuttle, Orbital Elements, Keplerian Nntp-Posting-Host: scgraph.afit.af.mil Or...",
          "on <>Re: Gamma Ray Bursters. Where are they?  <> Lines: 8  If all of these things have been detected...",
          "n residents? Article-I.D.: aurora.1993Apr19.130503.1 Organization: University of Alaska Fairbanks Li...",
          "g-Host: cc_sysk Organization: Coventry University Lines: 31  In article <> Callec Dradja <> writes: ...",
          " 7  Crystal City Organization: Express Access Online Communications, Greenbelt MD USA Lines: 9 Distr...",
          "ronto Zoology Lines: 18  In article <1raejd$>  (Pat) writes: >what ever happened to the hypothesis  ...",
          " 04/22/93) Organization: Express Access Online Communications USA Lines: 20 NNTP-Posting-Host: acces...",
          "n residents? Article-I.D.: aurora.1993Apr20.141137.1 Organization: University of Alaska Fairbanks Li...",
          "U of Toronto Zoology Lines: 24  In article <>  (Don Schiewer) writes: >What is the deal with life on...",
          "pdate - 04/22/93) Organization: Jet Propulsion Laboratory Lines: 22 Distribution: world NNTP-Posting...",
          "ound Jupiter? Article-I.D.: srl03.pgf.734063192 Organization: Univ. of Southwestern Louisiana Lines:...",
          " object found? X-Added: Forwarded by Space Digest Organization: [via International Space University]...",
          "e: Vulcan? No, not Spock or Haphaestus) Organization: Fermi National Accelerator Laboratory Lines: 2...",
          "od Article-I.D.: news.1pscc6INNebg Organization: Organization?  You must be kidding. Lines: 35 NNTP-...",
          ": University of Denver, Dept. of Math & Comp. Sci. Lines: 114    ARIANESPACE FLIGHT 56  (Flight V.56...",
          "d Lines: 25 Nntp-Posting-Host: skndiv.dseg.ti.com Reply-To:  Organization: TI/DSEG VAX Support   In ...",
          "ploration. May 7 Crystal City Organization: NASA Ames Research Center Distribution: na Lines: 14   (...",
          "ation: Worcester Polytechnic Institute, Worcester, MA 01609-2280 Lines: 11 NNTP-Posting-Host: wpi.wp...",
          "lboards (was Re: Vandalizing the sky.) Organization: stanford Lines: 38  In article <>,  (Brian Yama...",
          "tion: University of Denver, Dept. of Math & Comp. Sci. Lines: 22   And one of my profs is the chief ...",
          "on <>Re: What if the USSR had reached the Moon first?  <> <>  <> <>  <> <> Lines: 38  In article <>,...",
          "ronto Zoology Lines: 31  In article <>  (fred j mccall 575-3539) writes: >>>(given that I've heard t...",
          "SME? X-Added: Forwarded by Space Digest Organization: [via International Space University] Original-...",
          "No, not Spock or Haphaestus) Article-I.D.: mojo.1qkn6rINNett Reply-To:  Distribution: world Organiza...",
          "g. Organization: U of Toronto Zoology Lines: 22  In article <>  writes: >Here is a way to get the co...",
          "oration. May 7 Crystal City Distribution: na Organization: University of Illinois at Urbana Lines: 1...",
          "Nntp-Posting-Host: acad3.alaska.edu Organization: University of Alaska Fairbanks  In article <>,  (D...",
          " Organization: [via International Space University] Original-Sender:  Distribution: sci Lines: 14   ...",
          "Organization: Texas Instruments Inc Distribution: na Lines: 35  In <>  (Elijah Millgram) writes:   >...",
          "es on the moon Organization: Lick Observatory/UCO Lines: 26 \t<>\t<>\t<>,<> \t<> NNTP-Posting-Host: topa...",
          "ds: DC-X Nntp-Posting-Host: husc8.harvard.edu Lines: 17       I've been following discussions about ...",
          "ation: Express Access Online Communications USA Lines: 25 NNTP-Posting-Host: access.digex.net  In ar...",
          ", why? Organization: Apple Computer, Inc. Lines: 44  In article <>,  (Henry Spencer) wrote: >  > The...",
          "tion: U of Toronto Zoology Lines: 21  In article <>  (Steve Collins) writes: >The difficulties of a ...",
          "y Space Digest Organization: [via International Space University] Original-Sender:  Distribution: sc...",
          "Jupiter? Organization: SoftQuad Inc., Toronto, Canada Lines: 20   > > > Also, peri[jove]s of Gehrels...",
          "ation: U of Toronto Zoology Lines: 21  In article <>  (CLAUDIO OLIVEIRA EGALON) writes: >> there is ...",
          "ne 5 Distribution: sci Organization: Goddard Space Flight Center - Robotics Lab Lines: 26 News-Softw...",
          "eply-To: 's message of Sat, 17 Apr 1993 12: 52:09 GMT Organization: National Radio Astronomy Observa...",
          "d by Space Digest Organization: [via International Space University] Original-Sender:  Distribution:...",
          "b Space Station?) Article-I.D.: iti.1993Apr6.124456.14123 Organization: Evil Geniuses for a Better T...",
          "ion: University of Central Florida Lines: 19  I posted this over in sci.astro, but it didn't make it...",
          " Alternative #4 Organization: NASA/JSC/GM2, Space Shuttle Program Office  X-Newsreader: TIN [version...",
          "uestions list Supersedes: <> Organization: University of North Carolina, Chapel Hill Lines: 36 Distr...",
          "t year-long moon residents? Organization: Alpha Science Computer Network, Denver, Co. Lines: 5  The ...",
          "University of Texas at Austin Computation Center Lines: 20 Distribution: world NNTP-Posting-Host: ga...",
          "ting-Host: well.sf.ca.us Organization: Whole Earth 'Lectronic Link Lines: 29   The difficulties of a...",
          "tronaut) Organization: Statistics, Pure & Applied Mathematics, University of Adelaide Lines: 25  In ...",
          "ng for a little research help [ addendum] Organization: Dynamic Graphics Inc. Lines: 10 Distribution...",
          "ganization: Worcester Polytechnic Institute Lines: 15 NNTP-Posting-Host: bigwpi.wpi.edu    Hello eve...",
          "n: U of Toronto Zoology Lines: 21  In article <>  (David M. Palmer) writes: >>orbiting billboard... ...",
          "e Moon first? Reply-To:  (Gary Coffman) Organization: Destructive Testing Systems Lines: 63  In arti...",
          "nization: University of Western Ontario, London Nntp-Posting-Host: prism.engrg.uwo.ca Lines: 15  In ...",
          " not give $1G) Organization: University of Illinois at Urbana Lines: 42   (Keith Mancus) writes:  > ...",
          "n: Jet Propulsion Laboratory Lines: 113 Distribution: world NNTP-Posting-Host: kelvin.jpl.nasa.gov K...",
          "ound Jupiter? Organization: Univ. of Southwestern Louisiana Lines: 28   (Mark Brader) writes:   >Tha...",
          "ess Access Online Communications USA Lines: 18 NNTP-Posting-Host: access.digex.net  In article <1r6f...",
          "eles, CA X-Added: Forwarded by Space Digest Organization: [via International Space University] Origi...",
          "oon Organization: University of Rochester Lines: 38  In article <>  (Gary Coffman) writes:   > be th...",
          " Organization: NASA/GSFC Greenbelt Maryland Lines: 13  A brief political/cultural item.  Radio stati...",
          "uter Aided Design Lab, U. of Maryland College Park Lines: 13 Reply-To:  NNTP-Posting-Host: queen.eng...",
          " Forwarded by Space Digest Mmdf-Warning: Parse error in original version of preceding line at VACATI...",
          "T BY ETHER TWIST Reply-To:  Organization: Tektronix, Inc., Beaverton,  OR. Lines: 31   ----- News sa...",
          "cess.1psghn$s7r Organization: Express Access Online Communications USA Lines: 19 NNTP-Posting-Host: ...",
          "st year-long moon residents? Organization: U of Toronto Zoology Lines: 15  In article <>  (Allen W. ...",
          "cago Organization: Motorola Distribution: usa Nntp-Posting-Host: 145.1.146.43 Lines: 59  I am postin...",
          "o... Article-I.D.: aurora.1993Apr23.000021.1 Organization: University of Alaska Fairbanks Lines: 55 ...",
          "icle-I.D.: aurora.1993Apr25.150437.1 Organization: University of Alaska Fairbanks Lines: 28 Nntp-Pos...",
          "1 Nntp-Posting-Host: skndiv.dseg.ti.com Reply-To:  Organization: TI/DSEG VAX Support   In article <>...",
          "ganization: Jet Propulsion Laboratory Lines: 23 Distribution: world NNTP-Posting-Host: kelvin.jpl.na...",
          "ribution: na Organization: Space Telescope Science Institute Lines: 42  In article <>,   (Victor Lak...",
          " Feb 23 1993 Lines: 27  Mark Prado    >Please go just one step further: >How has the word \"Clementin...",
          ": aurora.1993Apr5.185700.1 Organization: University of Alaska Fairbanks Lines: 21 Nntp-Posting-Host:...",
          "ss Online Communications USA Lines: 20 Distribution: sci NNTP-Posting-Host: access.digex.net    I am...",
          "zation: UTexas Mail-to-News Gateway Lines: 37 NNTP-Posting-Host: cs.utexas.edu  In article <1raee7$>...",
          "light Test Organization: Texas Instruments Inc Lines: 14  In <>  writes:  >Since the DC-X is to take...",
          "k or Haphaestus Organization: NASA Langley Research Center Lines: 16 Distribution: world Reply-To:  ...",
          "d for 11 Days Organization: U of Toronto Zoology Lines: 35  In article <1rd1g0$>  (Pat) writes: >How...",
          "rganization: Fermi National Accelerator Laboratory Lines: 56 NNTP-Posting-Host: fnalf.fnal.gov  In a...",
          " not give $1G) Organization: MDSSC Lines: 60   (Josh Hopkins) writes: > (Keith Mancus) writes: >> (L...",
          "ator:  Reply-To:  (Mitch) Organization: North Carolina State University, Project Eos Lines: 21   Hi ...",
          " netnews Organization: The Trystro System (617) 625-7155 v.32/v.42bis Lines: 27  In article <> mwm+@...",
          " Article-I.D.: rave.1psogpINNksq Reply-To:  (CLAUDIO OLIVEIRA EGALON) Distribution: world Organizati...",
          "Feb 23 1993 Lines: 81  Brian Yamauchi asks: [Regarding orbital billboards...] >And does anyone have ...",
          " TWIST  (Ross Smith) Distribution: world Organization: Muppet Labs Lines: 27  In article <>  (fred j...",
          "g? Organization: NASA Langley Research Center Lines: 13 Distribution: world Reply-To:  (CLAUDIO OLIV...",
          ": 's message of Wed, 21 Apr 93 16:28:00 GMT Originator:  Nntp-Posting-Host: snow.fox.cs.cmu.edu Orga...",
          "xpress Access Online Communications USA Lines: 9 NNTP-Posting-Host: access.digex.net  In article <> ...",
          "nding Cuts. Organization: University of Virginia Lines: 13  In article <1r6aqr$>  (Pat) writes: #The...",
          "ion: California Institute of Technology, Pasadena Lines: 39 NNTP-Posting-Host: alumni.caltech.edu   ...",
          "uter Aided Design Lab, U. of Maryland College Park Lines: 22 Reply-To:  NNTP-Posting-Host: queen.eng...",
          " Organization: Space Telescope Science Institute, Baltimore MD Lines: 14  Another fish to check out ...",
          " NASA/MSFC Lines: 40   (Dennis Newkirk) writes: The Centaur is controlled technology.. State Dept wi...",
          "ntp-Posting-Host: ngis.geod.emr.ca Organization: Dept. of Energy, Mines, and Resources, Ottawa Lines...",
          "osting-Host: ugl-gw.uvic.ca Organization: University of Victoria, Victoria, BC, Canada Lines: 33  In...",
          "n: Science Applications Int'l Corp./San Diego Lines: 111        Ethnocentric USian that I am, I've a...",
          "osting-Host: sor.cs.colostate.edu Organization: Colorado State University -=- Computer Science Dept....",
          "ion: Inland Steel Company, East Chicago, IN Nntp-Posting-Host: pa881a Nntp-Posting-User: schiewer Li...",
          "cess Online Communications USA Lines: 15 NNTP-Posting-Host: access.digex.net   Well thank you dennis...",
          "ting-Host: nucleus.ps.uci.edu Organization: University of California, Irvine Lines: 30  Actually, th...",
          "axy.29034 Organization: University of California, Riverside Lines: 82 Nntp-Posting-Host: guitar.ucr....",
          "ie Organization: Trinity College Dublin Lines: 11  I need as much information about Cosmos 2238 and ...",
          "Russian Space Cooperation Organization: NASA/GSFC Greenbelt Maryland Lines: 23  Reported yesterday i..."
         ],
         "type": "scatter",
         "x": [
          -0.114670529961586,
          -0.09074877947568893,
          -0.1431959718465805,
          -0.16492296755313873,
          -0.08804124593734741,
          -0.01581761986017227,
          -0.0375521220266819,
          -0.011830292642116547,
          -0.04442577436566353,
          -0.08047068119049072,
          0.09545916318893433,
          -0.012440521270036697,
          -0.02538558840751648,
          -0.17652279138565063,
          -0.06671025604009628,
          -0.22435720264911652,
          0.068416528403759,
          0.0494375117123127,
          0.01988130621612072,
          -0.13481314480304718,
          0.006207807920873165,
          -0.014235825277864933,
          -0.07116135954856873,
          0.03345717117190361,
          -0.06584609299898148,
          -0.20661933720111847,
          -0.08906545490026474,
          -0.06320198625326157,
          0.024094045162200928,
          -0.12680184841156006,
          -0.02362867444753647,
          -0.2116471827030182,
          -0.012628969736397266,
          0.011367936618626118,
          -0.01167080644518137,
          -0.10909760743379593,
          -0.020026560872793198,
          -0.13863861560821533,
          -0.17063909769058228,
          -0.12236493080854416,
          -0.1754644811153412,
          0.1700587272644043,
          0.00011864611587952822,
          -0.15957076847553253,
          -0.19984591007232666,
          0.2425411343574524,
          0.033083267509937286,
          -0.03408695012331009,
          -0.09393642097711563,
          0.02528909221291542,
          -0.16612248122692108,
          -0.14852315187454224,
          -0.3074513375759125,
          -0.20175617933273315,
          0.05176025256514549,
          -0.19690541923046112,
          -0.14368638396263123,
          -0.21779705584049225,
          -0.1415252536535263,
          -0.15856806933879852,
          -0.24266111850738525,
          -0.09575106203556061,
          -0.27051758766174316,
          -0.15740226209163666,
          -0.19594384729862213,
          -0.05037631839513779,
          -0.07230059802532196,
          -0.006238081026822329,
          -0.07264688611030579,
          -0.11769350618124008,
          -0.0280979722738266,
          -0.07192941009998322,
          -0.1715054214000702,
          0.1493208110332489,
          -0.08941544592380524,
          0.010759145021438599,
          -0.029027778655290604,
          -0.06187073886394501,
          0.02444620244204998,
          -0.02979244664311409,
          -0.08224955946207047,
          -0.08197500556707382,
          -0.10794886946678162,
          -0.18340913951396942,
          -0.00835491344332695,
          0.0008339840569533408,
          -0.06838798522949219,
          -0.012448979541659355,
          -0.08533509820699692,
          -0.046670980751514435,
          -0.11335577070713043,
          -0.04826446250081062,
          -0.006000824272632599,
          -0.03170911222696304,
          -0.2727114260196686,
          -0.11623504012823105,
          -0.18558895587921143,
          -0.11967479437589645,
          0.008378012105822563,
          0.052823200821876526,
          -0.03317157179117203,
          -0.16516225039958954,
          -0.1288650780916214,
          -0.15635709464550018,
          -0.09561828523874283,
          -0.1300637274980545,
          -0.04969688504934311,
          0.12153667956590652,
          0.00867136288434267,
          -0.126995250582695,
          -0.19171291589736938,
          -0.01962992362678051,
          -0.10404450446367264,
          0.061171166598796844,
          -0.01930365152657032,
          0.002017291495576501,
          -0.21450525522232056,
          -0.22152812778949738,
          -0.1388423591852188,
          -0.0939730703830719,
          -0.09941919893026352,
          -0.1084984764456749,
          -0.07914048433303833,
          -0.22674767673015594,
          -0.20586983859539032,
          -0.13517563045024872,
          -0.06303352117538452,
          -0.03755886107683182,
          0.020554194226861,
          -0.11480207741260529,
          -0.009004294872283936,
          -0.08809315413236618,
          -0.18390414118766785,
          0.041376642882823944,
          -0.009904523380100727,
          -0.0179575365036726,
          -0.06473962217569351,
          0.14781557023525238,
          -0.006261308677494526,
          -0.13240867853164673,
          -0.10959894210100174,
          -0.05152612924575806,
          0.12987521290779114,
          -0.025738639757037163,
          -0.15551036596298218,
          0.005549243185669184,
          -0.03518399968743324,
          -0.11204351484775543,
          -0.09337516874074936,
          -0.011514784768223763
         ],
         "y": [
          0.2321871668100357,
          -0.016903795301914215,
          0.09890605509281158,
          -0.09843776375055313,
          0.2971900701522827,
          0.1402583122253418,
          0.18340861797332764,
          0.33616092801094055,
          0.344154417514801,
          0.08782042562961578,
          0.2638697028160095,
          0.3728739619255066,
          0.2973143458366394,
          0.011465970426797867,
          0.19924548268318176,
          0.2519315481185913,
          0.17337729036808014,
          0.145175039768219,
          0.19506318867206573,
          0.2860790491104126,
          0.16140837967395782,
          0.32927876710891724,
          0.22235071659088135,
          0.23712891340255737,
          0.2549229562282562,
          0.19881568849086761,
          -0.04198252037167549,
          0.2261999249458313,
          0.10128839313983917,
          0.2781546711921692,
          0.2140265256166458,
          0.09407329559326172,
          -0.01900501362979412,
          0.3105146884918213,
          0.28068414330482483,
          0.302015483379364,
          0.07953052222728729,
          0.26120951771736145,
          0.24437880516052246,
          0.30984002351760864,
          0.4524741768836975,
          -0.001571164932101965,
          0.4020397663116455,
          -0.04958386719226837,
          0.04248861223459244,
          0.15585757791996002,
          0.15787319839000702,
          0.3784196078777313,
          0.09620817750692368,
          0.34418976306915283,
          -0.1521356999874115,
          0.3759625256061554,
          0.02480689063668251,
          0.20468482375144958,
          0.33297836780548096,
          0.05218883603811264,
          0.1499030739068985,
          0.15761926770210266,
          0.25658613443374634,
          0.2985908091068268,
          -0.03631923720240593,
          0.3206758201122284,
          -0.06524006277322769,
          0.3861986994743347,
          0.3335738182067871,
          0.22370141744613647,
          0.08768594264984131,
          0.26468273997306824,
          0.1546088457107544,
          0.050421807914972305,
          0.33503061532974243,
          0.1482996940612793,
          0.3398003578186035,
          0.39163336157798767,
          0.1248152032494545,
          0.05938376113772392,
          0.20957854390144348,
          0.1348440796136856,
          0.05135920271277428,
          0.3344007134437561,
          0.20923878252506256,
          0.17181529104709625,
          0.15479707717895508,
          0.18147990107536316,
          0.3527916967868805,
          0.23203520476818085,
          0.30229392647743225,
          0.2450573742389679,
          0.231803759932518,
          0.2066638171672821,
          0.3071848154067993,
          0.29511815309524536,
          0.1657613217830658,
          0.2682332396507263,
          0.24858041107654572,
          0.20327088236808777,
          0.32110583782196045,
          0.25532886385917664,
          0.344593346118927,
          0.21757641434669495,
          0.32918581366539,
          0.3076259195804596,
          0.16959726810455322,
          0.1969379484653473,
          0.3650463819503784,
          0.18358482420444489,
          0.24405862390995026,
          0.36385950446128845,
          0.29754170775413513,
          0.08077274262905121,
          -0.030560502782464027,
          0.26451271772384644,
          0.35540518164634705,
          0.14271263778209686,
          0.3363604247570038,
          0.010714743286371231,
          0.21554245054721832,
          0.09243842959403992,
          0.12104187160730362,
          0.34998106956481934,
          0.008281189948320389,
          0.14559204876422882,
          0.12623901665210724,
          0.0639306902885437,
          0.22819873690605164,
          0.3764955699443817,
          0.25654855370521545,
          0.3073277175426483,
          0.2284422218799591,
          0.20431563258171082,
          0.23704908788204193,
          0.09936472773551941,
          0.1944522261619568,
          0.1734372079372406,
          0.11510268598794937,
          0.25757768750190735,
          0.259179949760437,
          0.3771234154701233,
          0.20933474600315094,
          0.1697901487350464,
          0.27950572967529297,
          0.0538574755191803,
          0.06452244520187378,
          0.08728975057601929,
          0.15088941156864166,
          0.2237965613603592,
          0.18365870416164398,
          0.2046588957309723,
          0.3994770050048828,
          0.19478489458560944
         ]
        }
       ],
       "layout": {
        "height": 800,
        "hovermode": "closest",
        "template": {
         "data": {
          "bar": [
           {
            "error_x": {
             "color": "#2a3f5f"
            },
            "error_y": {
             "color": "#2a3f5f"
            },
            "marker": {
             "line": {
              "color": "#E5ECF6",
              "width": 0.5
             },
             "pattern": {
              "fillmode": "overlay",
              "size": 10,
              "solidity": 0.2
             }
            },
            "type": "bar"
           }
          ],
          "barpolar": [
           {
            "marker": {
             "line": {
              "color": "#E5ECF6",
              "width": 0.5
             },
             "pattern": {
              "fillmode": "overlay",
              "size": 10,
              "solidity": 0.2
             }
            },
            "type": "barpolar"
           }
          ],
          "carpet": [
           {
            "aaxis": {
             "endlinecolor": "#2a3f5f",
             "gridcolor": "white",
             "linecolor": "white",
             "minorgridcolor": "white",
             "startlinecolor": "#2a3f5f"
            },
            "baxis": {
             "endlinecolor": "#2a3f5f",
             "gridcolor": "white",
             "linecolor": "white",
             "minorgridcolor": "white",
             "startlinecolor": "#2a3f5f"
            },
            "type": "carpet"
           }
          ],
          "choropleth": [
           {
            "colorbar": {
             "outlinewidth": 0,
             "ticks": ""
            },
            "type": "choropleth"
           }
          ],
          "contour": [
           {
            "colorbar": {
             "outlinewidth": 0,
             "ticks": ""
            },
            "colorscale": [
             [
              0,
              "#0d0887"
             ],
             [
              0.1111111111111111,
              "#46039f"
             ],
             [
              0.2222222222222222,
              "#7201a8"
             ],
             [
              0.3333333333333333,
              "#9c179e"
             ],
             [
              0.4444444444444444,
              "#bd3786"
             ],
             [
              0.5555555555555556,
              "#d8576b"
             ],
             [
              0.6666666666666666,
              "#ed7953"
             ],
             [
              0.7777777777777778,
              "#fb9f3a"
             ],
             [
              0.8888888888888888,
              "#fdca26"
             ],
             [
              1,
              "#f0f921"
             ]
            ],
            "type": "contour"
           }
          ],
          "contourcarpet": [
           {
            "colorbar": {
             "outlinewidth": 0,
             "ticks": ""
            },
            "type": "contourcarpet"
           }
          ],
          "heatmap": [
           {
            "colorbar": {
             "outlinewidth": 0,
             "ticks": ""
            },
            "colorscale": [
             [
              0,
              "#0d0887"
             ],
             [
              0.1111111111111111,
              "#46039f"
             ],
             [
              0.2222222222222222,
              "#7201a8"
             ],
             [
              0.3333333333333333,
              "#9c179e"
             ],
             [
              0.4444444444444444,
              "#bd3786"
             ],
             [
              0.5555555555555556,
              "#d8576b"
             ],
             [
              0.6666666666666666,
              "#ed7953"
             ],
             [
              0.7777777777777778,
              "#fb9f3a"
             ],
             [
              0.8888888888888888,
              "#fdca26"
             ],
             [
              1,
              "#f0f921"
             ]
            ],
            "type": "heatmap"
           }
          ],
          "heatmapgl": [
           {
            "colorbar": {
             "outlinewidth": 0,
             "ticks": ""
            },
            "colorscale": [
             [
              0,
              "#0d0887"
             ],
             [
              0.1111111111111111,
              "#46039f"
             ],
             [
              0.2222222222222222,
              "#7201a8"
             ],
             [
              0.3333333333333333,
              "#9c179e"
             ],
             [
              0.4444444444444444,
              "#bd3786"
             ],
             [
              0.5555555555555556,
              "#d8576b"
             ],
             [
              0.6666666666666666,
              "#ed7953"
             ],
             [
              0.7777777777777778,
              "#fb9f3a"
             ],
             [
              0.8888888888888888,
              "#fdca26"
             ],
             [
              1,
              "#f0f921"
             ]
            ],
            "type": "heatmapgl"
           }
          ],
          "histogram": [
           {
            "marker": {
             "pattern": {
              "fillmode": "overlay",
              "size": 10,
              "solidity": 0.2
             }
            },
            "type": "histogram"
           }
          ],
          "histogram2d": [
           {
            "colorbar": {
             "outlinewidth": 0,
             "ticks": ""
            },
            "colorscale": [
             [
              0,
              "#0d0887"
             ],
             [
              0.1111111111111111,
              "#46039f"
             ],
             [
              0.2222222222222222,
              "#7201a8"
             ],
             [
              0.3333333333333333,
              "#9c179e"
             ],
             [
              0.4444444444444444,
              "#bd3786"
             ],
             [
              0.5555555555555556,
              "#d8576b"
             ],
             [
              0.6666666666666666,
              "#ed7953"
             ],
             [
              0.7777777777777778,
              "#fb9f3a"
             ],
             [
              0.8888888888888888,
              "#fdca26"
             ],
             [
              1,
              "#f0f921"
             ]
            ],
            "type": "histogram2d"
           }
          ],
          "histogram2dcontour": [
           {
            "colorbar": {
             "outlinewidth": 0,
             "ticks": ""
            },
            "colorscale": [
             [
              0,
              "#0d0887"
             ],
             [
              0.1111111111111111,
              "#46039f"
             ],
             [
              0.2222222222222222,
              "#7201a8"
             ],
             [
              0.3333333333333333,
              "#9c179e"
             ],
             [
              0.4444444444444444,
              "#bd3786"
             ],
             [
              0.5555555555555556,
              "#d8576b"
             ],
             [
              0.6666666666666666,
              "#ed7953"
             ],
             [
              0.7777777777777778,
              "#fb9f3a"
             ],
             [
              0.8888888888888888,
              "#fdca26"
             ],
             [
              1,
              "#f0f921"
             ]
            ],
            "type": "histogram2dcontour"
           }
          ],
          "mesh3d": [
           {
            "colorbar": {
             "outlinewidth": 0,
             "ticks": ""
            },
            "type": "mesh3d"
           }
          ],
          "parcoords": [
           {
            "line": {
             "colorbar": {
              "outlinewidth": 0,
              "ticks": ""
             }
            },
            "type": "parcoords"
           }
          ],
          "pie": [
           {
            "automargin": true,
            "type": "pie"
           }
          ],
          "scatter": [
           {
            "fillpattern": {
             "fillmode": "overlay",
             "size": 10,
             "solidity": 0.2
            },
            "type": "scatter"
           }
          ],
          "scatter3d": [
           {
            "line": {
             "colorbar": {
              "outlinewidth": 0,
              "ticks": ""
             }
            },
            "marker": {
             "colorbar": {
              "outlinewidth": 0,
              "ticks": ""
             }
            },
            "type": "scatter3d"
           }
          ],
          "scattercarpet": [
           {
            "marker": {
             "colorbar": {
              "outlinewidth": 0,
              "ticks": ""
             }
            },
            "type": "scattercarpet"
           }
          ],
          "scattergeo": [
           {
            "marker": {
             "colorbar": {
              "outlinewidth": 0,
              "ticks": ""
             }
            },
            "type": "scattergeo"
           }
          ],
          "scattergl": [
           {
            "marker": {
             "colorbar": {
              "outlinewidth": 0,
              "ticks": ""
             }
            },
            "type": "scattergl"
           }
          ],
          "scattermapbox": [
           {
            "marker": {
             "colorbar": {
              "outlinewidth": 0,
              "ticks": ""
             }
            },
            "type": "scattermapbox"
           }
          ],
          "scatterpolar": [
           {
            "marker": {
             "colorbar": {
              "outlinewidth": 0,
              "ticks": ""
             }
            },
            "type": "scatterpolar"
           }
          ],
          "scatterpolargl": [
           {
            "marker": {
             "colorbar": {
              "outlinewidth": 0,
              "ticks": ""
             }
            },
            "type": "scatterpolargl"
           }
          ],
          "scatterternary": [
           {
            "marker": {
             "colorbar": {
              "outlinewidth": 0,
              "ticks": ""
             }
            },
            "type": "scatterternary"
           }
          ],
          "surface": [
           {
            "colorbar": {
             "outlinewidth": 0,
             "ticks": ""
            },
            "colorscale": [
             [
              0,
              "#0d0887"
             ],
             [
              0.1111111111111111,
              "#46039f"
             ],
             [
              0.2222222222222222,
              "#7201a8"
             ],
             [
              0.3333333333333333,
              "#9c179e"
             ],
             [
              0.4444444444444444,
              "#bd3786"
             ],
             [
              0.5555555555555556,
              "#d8576b"
             ],
             [
              0.6666666666666666,
              "#ed7953"
             ],
             [
              0.7777777777777778,
              "#fb9f3a"
             ],
             [
              0.8888888888888888,
              "#fdca26"
             ],
             [
              1,
              "#f0f921"
             ]
            ],
            "type": "surface"
           }
          ],
          "table": [
           {
            "cells": {
             "fill": {
              "color": "#EBF0F8"
             },
             "line": {
              "color": "white"
             }
            },
            "header": {
             "fill": {
              "color": "#C8D4E3"
             },
             "line": {
              "color": "white"
             }
            },
            "type": "table"
           }
          ]
         },
         "layout": {
          "annotationdefaults": {
           "arrowcolor": "#2a3f5f",
           "arrowhead": 0,
           "arrowwidth": 1
          },
          "autotypenumbers": "strict",
          "coloraxis": {
           "colorbar": {
            "outlinewidth": 0,
            "ticks": ""
           }
          },
          "colorscale": {
           "diverging": [
            [
             0,
             "#8e0152"
            ],
            [
             0.1,
             "#c51b7d"
            ],
            [
             0.2,
             "#de77ae"
            ],
            [
             0.3,
             "#f1b6da"
            ],
            [
             0.4,
             "#fde0ef"
            ],
            [
             0.5,
             "#f7f7f7"
            ],
            [
             0.6,
             "#e6f5d0"
            ],
            [
             0.7,
             "#b8e186"
            ],
            [
             0.8,
             "#7fbc41"
            ],
            [
             0.9,
             "#4d9221"
            ],
            [
             1,
             "#276419"
            ]
           ],
           "sequential": [
            [
             0,
             "#0d0887"
            ],
            [
             0.1111111111111111,
             "#46039f"
            ],
            [
             0.2222222222222222,
             "#7201a8"
            ],
            [
             0.3333333333333333,
             "#9c179e"
            ],
            [
             0.4444444444444444,
             "#bd3786"
            ],
            [
             0.5555555555555556,
             "#d8576b"
            ],
            [
             0.6666666666666666,
             "#ed7953"
            ],
            [
             0.7777777777777778,
             "#fb9f3a"
            ],
            [
             0.8888888888888888,
             "#fdca26"
            ],
            [
             1,
             "#f0f921"
            ]
           ],
           "sequentialminus": [
            [
             0,
             "#0d0887"
            ],
            [
             0.1111111111111111,
             "#46039f"
            ],
            [
             0.2222222222222222,
             "#7201a8"
            ],
            [
             0.3333333333333333,
             "#9c179e"
            ],
            [
             0.4444444444444444,
             "#bd3786"
            ],
            [
             0.5555555555555556,
             "#d8576b"
            ],
            [
             0.6666666666666666,
             "#ed7953"
            ],
            [
             0.7777777777777778,
             "#fb9f3a"
            ],
            [
             0.8888888888888888,
             "#fdca26"
            ],
            [
             1,
             "#f0f921"
            ]
           ]
          },
          "colorway": [
           "#636efa",
           "#EF553B",
           "#00cc96",
           "#ab63fa",
           "#FFA15A",
           "#19d3f3",
           "#FF6692",
           "#B6E880",
           "#FF97FF",
           "#FECB52"
          ],
          "font": {
           "color": "#2a3f5f"
          },
          "geo": {
           "bgcolor": "white",
           "lakecolor": "white",
           "landcolor": "#E5ECF6",
           "showlakes": true,
           "showland": true,
           "subunitcolor": "white"
          },
          "hoverlabel": {
           "align": "left"
          },
          "hovermode": "closest",
          "mapbox": {
           "style": "light"
          },
          "paper_bgcolor": "white",
          "plot_bgcolor": "#E5ECF6",
          "polar": {
           "angularaxis": {
            "gridcolor": "white",
            "linecolor": "white",
            "ticks": ""
           },
           "bgcolor": "#E5ECF6",
           "radialaxis": {
            "gridcolor": "white",
            "linecolor": "white",
            "ticks": ""
           }
          },
          "scene": {
           "xaxis": {
            "backgroundcolor": "#E5ECF6",
            "gridcolor": "white",
            "gridwidth": 2,
            "linecolor": "white",
            "showbackground": true,
            "ticks": "",
            "zerolinecolor": "white"
           },
           "yaxis": {
            "backgroundcolor": "#E5ECF6",
            "gridcolor": "white",
            "gridwidth": 2,
            "linecolor": "white",
            "showbackground": true,
            "ticks": "",
            "zerolinecolor": "white"
           },
           "zaxis": {
            "backgroundcolor": "#E5ECF6",
            "gridcolor": "white",
            "gridwidth": 2,
            "linecolor": "white",
            "showbackground": true,
            "ticks": "",
            "zerolinecolor": "white"
           }
          },
          "shapedefaults": {
           "line": {
            "color": "#2a3f5f"
           }
          },
          "ternary": {
           "aaxis": {
            "gridcolor": "white",
            "linecolor": "white",
            "ticks": ""
           },
           "baxis": {
            "gridcolor": "white",
            "linecolor": "white",
            "ticks": ""
           },
           "bgcolor": "#E5ECF6",
           "caxis": {
            "gridcolor": "white",
            "linecolor": "white",
            "ticks": ""
           }
          },
          "title": {
           "x": 0.05
          },
          "xaxis": {
           "automargin": true,
           "gridcolor": "white",
           "linecolor": "white",
           "ticks": "",
           "title": {
            "standoff": 15
           },
           "zerolinecolor": "white",
           "zerolinewidth": 2
          },
          "yaxis": {
           "automargin": true,
           "gridcolor": "white",
           "linecolor": "white",
           "ticks": "",
           "title": {
            "standoff": 15
           },
           "zerolinecolor": "white",
           "zerolinewidth": 2
          }
         }
        },
        "title": {
         "text": "Embedding Plot with Class Labels"
        },
        "width": 1200,
        "xaxis": {
         "showgrid": false,
         "showticklabels": false,
         "zeroline": false
        },
        "yaxis": {
         "showgrid": false,
         "showticklabels": false,
         "zeroline": false
        }
       }
      },
      "text/html": [
       "<div>                            <div id=\"d800a2ab-0825-474e-8810-ed34169b2086\" class=\"plotly-graph-div\" style=\"height:800px; width:1200px;\"></div>            <script type=\"text/javascript\">                require([\"plotly\"], function(Plotly) {                    window.PLOTLYENV=window.PLOTLYENV || {};                                    if (document.getElementById(\"d800a2ab-0825-474e-8810-ed34169b2086\")) {                    Plotly.newPlot(                        \"d800a2ab-0825-474e-8810-ed34169b2086\",                        [{\"hoverinfo\":\"text\",\"marker\":{\"line\":{\"color\":\"white\",\"width\":0.5},\"size\":15},\"mode\":\"markers\",\"name\":\"Class sci.crypt\",\"opacity\":0.7,\"text\":[\" security? Lines: 24  \\t (Graham Toal) writes: \\t\\u003e \\t\\u003eIn the UK, it's impossible to get approval to att...\",\"r over the internet... Lines: 92  Well, after a lot of trawling through archives, I found the post I...\",\"od cover for other encryption method? Nntp-Posting-Host: rac2.wam.umd.edu Organization: University o...\",\"no good any more. Reply-To:  Organization: Virus Test Center, University of Hamburg Distribution: na...\",\"o good any more. Organization: Univ. of Southwestern Louisiana Lines: 52   (David Sternlight) writes...\",\"r Chip and crypto key-escrow] Reply-To:  Organization: Chaos Lines: 76 X-Newsreader: Archimedes Read...\",\"-core hackers & spooks only Organization: C-Set\\u002f2 Development, IBM Canada Lab. Disclaimer: This post...\",\"no good any more. Nntp-Posting-Host: lonestar.utsa.edu Organization: University of Texas at San Anto...\",\"on: Turing Police Lines: 22   \\u003e (Carl Ellison) writes: \\u003eFor example, if I had a program on my disk w...\",\"each machine (Was: Re: Corporate acceptance of the wiretap chip) Organization: AT&T Bell Laboratorie...\",\"s Online Communications, Greenbelt, MD USA Lines: 13 NNTP-Posting-Host: access.digex.net   \\u003e Second ...\",\"ic packages In-Reply-To: 's message of 20 Apr 1993 16: 47:03 GMT Organization: York U. Student Infor...\",\"bution: world Organization: Thibault & Friends Lines: 34  In article \\u003c1qg8m2$\\u003e  (Edward Vielmetti) w...\",\"ive Organization: Silicon Graphics, Inc.  Mountain View, CA Lines: 20  In article \\u003c\\u003e,  (David Sternl...\",\"rgraph's Name? Organization: NETCOM On-line Communication Services (408 241-9760 guest) X-Newsreader...\",\"o good any more. Organization: Univ. of Southwestern Louisiana Distribution: na Lines: 25   (douglas...\",\"e Summary: Ways to fight it  Organization: Climate and Global Dynamics Division\\u002fNCAR, Boulder, CO Li...\",\"ip and crypto key-escrow] Summary: Whatever... Keywords: Hmm... Organization:  George Mason Universi...\",\"gow University Computing Science Dept. Distribution: net Lines: 7  I am a PhD student. Can I get the...\",\"was: Re: More technical details) Reply-To:  Organization: New Technology, Inc. Lines: 53  ( Below is...\",\" Organization: Harvey Mudd College, Claremont, CA 91711 Lines: 23  In article \\u003c\\u003e  (Robert Lewis Glen...\",\"law enforcement blocks? Organization: Loral Rolm Mil-Spec Computers Lines: 43  The M code stream  mi...\",\"ization: Swiss Federal Institute of Technology (ETH), Zurich, CH Lines: 120  Hmm, followup on my own...\",\"ors (large state) Organization: UTexas Mail-to-News Gateway Lines: 171 NNTP-Posting-Host: cs.utexas....\",\" \\t  The points raised about checking what is actually -in- the chip, as \\topposed to what is allegedl...\",\" drive security) Nntp-Posting-Host: servo.qualcomm.com Reply-To:  Organization: Qualcomm, Inc Lines:...\",\"p, subvert or replace it ! Organization: Netcom - Online Communication Services (408 241-9760 guest)...\",\"ent and Q&As on clipper chip encryption Distribution: na Organization: ClariNet Communications Corp....\",\"ganization: Express Access Online Communications, Greenbelt, MD USA Lines: 25 NNTP-Posting-Host: acc...\",\" machine (Was: Re: Corporate acceptance of the wiretap chip) Lines: 16  : At the company I worked fo...\",\"ent and Q&As on clipper chip encryption Organization: ClariNet Communications Corp. Distribution: na...\",\"rganization: Sun Microsystems, Inc. Lines: 70 Nntp-Posting-Host: sunspot.ece.clarkson.edu Cc: tuinst...\",\"y-To:  (Jim McCoy) Organization: The University of Texas - Austin Lines: 53 NNTP-Posting-Host: tramp...\",\" 7  :    I've been thinking about how difficult it would be to make PGP available : in some form on ...\",\"D.: ole.1993Apr20.173039.4722 Organization: Cascade Design Automation Lines: 17       Notwithstandin...\",\"phy Patents) Organization: Oce Graphics USA X-Newsreader: TIN [version 1.1 PL7] Lines: 41  Charles K...\",\"tion: Cold Media  Lines: 13   (Ze'ev Wurman) writes:  \\u003eBut do we really believe that the various gov...\",\"ative Organization: Metatron Press \\u002f Human Systems Performance Group, Austin, TX X-Newsreader: rusne...\",\"P: A TECHNICAL SUMMARY Organization: Brought to you by the numbers 2, 3, and 7 In-Reply-To: 's messa...\",\"r? Organization: Kaleida Labs, Inc. Lines: 10 Distribution: world NNTP-Posting-Host: jfenton.kaleida...\",\"anization: AT&T Bell Laboratories Lines: 55  I'd *desparately* prefer it if we didn't rehash the sam...\",\"ormation Sheet Keywords: Big Bubba Is Watching. Organization: NASA Science Internet Project Office L...\",\" and Q&As on clipper chip encryption Lines: 16  \\t (Brad Templeton)  \\tLet's assume, for the moment, t...\",\"s for over the internet... Lines: 27  I forwarded an old posting about CELP speech compression:  \\tIn...\",\"secret Organization: Panix, (New Yawk City) Lines: 29  In \\u003c\\u003e  (John R. Levine) writes: (quoting some...\",\" security? Lines: 25  : There are chips which perform the voice compression\\u002fexpansion.  They can't :...\",\" any more. Nntp-Posting-Host: spot.colorado.edu Organization: University of Colorado, Boulder Distri...\",\"osting-Host: spot.colorado.edu Organization: University of Colorado, Boulder Distribution: na Lines:...\",\"ion: Express Access Online Communications, Greenbelt, MD USA Lines: 10 NNTP-Posting-Host: access.dig...\",\"e Organization: Express Access Online Communications, Greenbelt, MD USA Lines: 7 NNTP-Posting-Host: ...\",\"e is no good any more. Originator:  Nntp-Posting-Host: qualcom.qualcomm.com Organization: Qualcomm, ...\",\"ver for other encryption method? Organization: Optilink Corporation, Petaluma, CA Lines: 19  In arti...\",\"g-Host: wardibm2.med.yale.edu Organization: Yale U. - Genetics Lines: 30  In article \\u003c\\u003e,  (Vesselin ...\",\"od any more. Organization: Little to None Distribution: na Lines: 13  \\u003e\\u003e\\tWith E-Mail, if they can't ...\",\")  (Tal Kubo) Distribution: inet Organization: Dept. of Math, Harvard Univ. Nntp-Posting-Host: zaris...\",\"machine (Was: Re: Corporate acceptance of the wiretap chip) In-Reply-To: 's message of Wed, 21 Apr 1...\",\"uncement Organization: capriccioso X-Newsreader: TIN [version 1.1 PL6] Lines: 35  I guess the crypto...\",\"tails Organization: AT&T Bell Laboratories Lines: 20  In article \\u003c\\u003e,  (D. J. Bernstein) writes: \\u003e Sh...\",\" is no good any more. Distribution: na Nntp-Posting-Host: beethoven.cs.colostate.edu Organization: C...\",\"ets Originator:  Keywords: entropy Nntp-Posting-Host: pizzabox.demon.co.uk Reply-To: Graham Toal \\u003c\\u003e ...\",\"y Patents)  (Arthur Rubin) Organization: Beckman Instruments, Inc. Nntp-Posting-Host: dsg4.dse.beckm...\",\"ood any more. Organization: TRW Systems Division, Fairfax VA Distribution: na Lines: 65   (Timothy C...\",\"nnouncement Organization: Department of Mathematical Sciences Lines: 29 Distribution: inet NNTP-Post...\",\"Chip and crypto key-escrow] Organization: InterCon Systems Corporation - Herndon, VA  USA Lines: 30 ...\",\"s Organization: Swiss Federal Institute of Technology (ETH), Zurich, CH Lines: 28  In article \\u003c1qv83...\",\" Kubo) Organization: Dept. of Math, Harvard Univ. Nntp-Posting-Host: zariski.harvard.edu Lines: 55  ...\",\"uncement Lines: 19  \\tEven more interesting: the SMTP server at csrc.ncsl.nist.gov no longer \\trecogni...\",\"hine (Was: Re: Corporate acceptance of the wiretap chip) Organization: CSRI, University of Toronto L...\",\"no good any more. Organization: ITC\\u002fUVA Community Access UNIX\\u002fInternet Project Lines: 16  In article...\",\"ap security? Organization: InterCon Systems Corporation - Herndon, VA  USA Lines: 68 Distribution: w...\",\" Organization: Center For High Perf. Computing of WPI; Marlboro Ma Lines: 35  In article \\u003c1qn1ic$\\u003e  ...\",\"cademic Computer Center \\u003c\\u003eRe: Clipper -- some new thoughts Lines: 7  The cryptographic algorythm MUS...\",\" any more. Summary: But, for all its flaws, the domino theory was right... Organization: Chinet - Pu...\",\"d any more. Organization: Center For High Perf. Computing of WPI; Marlboro Ma Distribution: na Lines...\",\" any more. Distribution: na Organization: VisiCom Laboratories, Inc., San Diego, California Lines: 1...\",\"and crypto key-escrow] Keywords: encryption, wiretap, clipper, key-escrow, Mykotronx Organization: B...\",\"plementations Reply-To:  Organization: Virus Test Center, University of Hamburg Lines: 23   (David S...\",\"f that announcement Organization: Stanford University Lines: 22  In article \\u003c\\u003e Rick Miller \\u003c\\u003e writes...\",\"on: Partnership for an America Free Drug Lines: 77  Here is a disturbing thought.  Now, we no longer...\",\"p security? Organization: CSIR, South AFrica Lines: 27 NNTP-Posting-Host: nuustak.csir.co.za X-Discl...\",\" ask for? (Re: Clipper) Lines: 19 Organization: Curtin University of Technology  In article \\u003c\\u003e,  (St...\",\" and Q&As on clipper chip encryption Organization: capriccioso X-Newsreader: TIN [version 1.1 PL6] D...\",\"tive Organization: DSI\\u002fUSCRPAC Lines: 32  In article \\u003c1r0nov$\\u003e  (Steve Brinich) writes:   \\u003e \\u003e 1. Ame...\",\"bution: usa Reply-To:  Disclaimer: This posting represents the poster's views, not necessarily those...\",\" machine (Was: Re: Corporate acceptance of the wiretap chip) Organization: Computing Research Lab Li...\",\"d any more. Organization: University of Nebraska at Omaha Distribution: na Lines: 18   (Geoffrey Kue...\",\"re hackers & spooks only Summary: (We need privacy chips for phones, not computer-bound station)_ Ar...\",\"(Tal Kubo) Distribution: inet Organization: Dept. of Math, Harvard Univ. Nntp-Posting-Host: zariski....\",\"id it Originator:  Keywords: Big Bubba Is Watching! Nntp-Posting-Host: qualcom.qualcomm.com Organiza...\",\"ard-core hackers & spooks only Nntp-Posting-Host: bistromath.mitre.org Organization: The MITRE Corpo...\",\"ood any more. Organization: Express Access Online Communications, Greenbelt, MD USA Lines: 6 Distrib...\",\"tribution: world Organization: boring Reply-To:  X-Mailer: Simple NEWS 1.90 (ka9q DIS 1.19) Lines: 2...\",\" is no good any more. Organization: Society for the conservation of momentum Distribution: na Lines:...\",\"ganization: Mail to News Gateway at Wang Labs Distribution: na Lines: 47   (Jerry Han) writes: \\u003e The...\",\"tography Organization: Yale University Lines: 21 Distribution: inet Reply-To:  NNTP-Posting-Host: mi...\",\"ata Lines: 46  \\t (Marc Anderson)  \\t\\u003eAlso.. how about a box that you plug your phone into, which woul...\",\"each machine (Was: Re: Corporate acceptance of the wiretap chip) Organization: AT&T Bell Laboratorie...\",\"Clipper Chip and crypto key-escrow] Nntp-Posting-Host: beethoven.cs.colostate.edu Organization: Colo...\",\"oso X-Newsreader: TIN [version 1.1 PL6] Lines: 11  I am testing IDEA block cipher implementations fo...\",\"r Chip and crypto key-escrow] Keywords: encryption, wiretap, clipper, key-escrow, Mykotronx Nntp-Pos...\",\" Distribution: sci Lines: 12 Organization: Networked Systems Architecture   \\tI have a bunch of quest...\",\"ood any more. Organization: Express Access Online Communications, Greenbelt, MD USA Lines: 5 Distrib...\",\"tography Patents) Nntp-Posting-Host: next4.cs.umr.edu Organization: University of Missouri - Rolla, ...\",\"for other encryption method? Originator:  Nntp-Posting-Host: eff.org Organization: The Electronic Fr...\",\"no good any more. Nntp-Posting-Host: ogmore.cs.ucla.edu Organization: UCLA, Computer Science Departm...\",\"ment and Q&As on clipper chip encryption Organization: Engineering Computer Network Distribution: na...\",\" any Nntp-Posting-Host: tidss2.asic.sc.ti.com Reply-To:  Organization: Design Automaton Div., Texas ...\",\" is us Organization: Minnesota Supercomputer Center, Minneapolis, MN Lines: 18  I agree that notifyi...\",\"tion: NETCOM On-line Communication Services (408 241-9760 guest) X-Newsreader: Tin 1.1 PL5 Lines: 41...\",\"ilable  Organization: capriccioso X-Newsreader: TIN [version 1.1 PL6] Lines: 84  *** SOURCE code to ...\",\" for hard-core hackers & spooks only Organization: DSI\\u002fUSCRPAC Lines: 39  In article \\u003c\\u003e  (Derek Atki...\",\"agement Fact Sheet News-Software: VAX\\u002fVMS VNEWS 1.41     Organization: Mission Operations and Data S...\",\"p-Posting-Host: bistromath.mitre.org Organization: The MITRE Corporation Lines: 67  In article \\u003c\\u003e  (...\",\"bilities Article-I.D.: usenet.C4qoH8.CHE Expires: Thu, 20 May 1993 00:00:00 GMT Organization: Comput...\",\"swer Organization: Michigan State University Lines: 21 NNTP-Posting-Host: scss3.cl.msu.edu X-Newsrea...\",\"ood any more. Organization: InterCon Systems Corporation - Herndon, VA  USA Lines: 35 Distribution: ...\",\"mmary: Buckets of blood pouring from peoples' heads! Organization: Kubota Pacific Computer, Inc. Lin...\",\": Harvey Mudd College, Claremont, CA 91711 Lines: 13  In article \\u003c\\u003e  (Phil Karn) writes: \\u003eIt looks l...\",\": world Organization: Georgetown University Lines: 139  The following document summarizes the Clippe...\",\"ement and Q&As on clipper chip encryption Organization: Partnership for an America Free Drug Distrib...\",\"anization: Private Computer, Totowa, NJ Lines: 21  In article \\u003c:  (Peter Trei) writes: :Judge: \\\"I gr...\",\"ood any more. Distribution: na Organization: Kendall Square Research Corp. Lines: 20   (Steve Johnso...\",\" more.  (Arthur Rubin)  \\u003c\\u003e \\u003c\\u003e Distribution: na Organization: Beckman Instruments, Inc. Nntp-Posting-...\",\"tion: The Crypt Cabal Lines: 187 Expires: 22 May 1993 04:00:07 GMT Reply-To:  NNTP-Posting-Host: pad...\",\"ative Organization: University of Iowa, Iowa City, IA, USA Lines: 43   (Philip Zimmermann) writes:  ...\",\"s Reply-To:  Organization: University of Chicago Lines: 23  In article \\u003c\\u003e  (Kenneth Ng) writes: \\u003eIn ...\",\"ert or replace it ! Reply-To:  Distribution: na Organization: Thibault & Friends Lines: 10  In artic...\",\" Organization: is a nice thing... Lines: 28  Having read the various \\\"Clipper\\\" announcements on the ...\",\"machine (Was: Re: Corporate acceptance of the wiretap chip) Organization: Harvey Mudd College, Clare...\",\"aphy Organization: University of Illinois, Dept. of Comp. Sci., Urbana, IL Lines: 18   (Tal Kubo) wr...\",\"n: The Crypt Cabal Lines: 92 Expires: 22 May 1993 04:00:07 GMT Reply-To:  NNTP-Posting-Host: pad-tha...\",\"s us X-Xxmessage-Id: \\u003c\\u003e X-Xxdate: Wed, 21 Apr 93 17:40:17 GMT Nntp-Posting-Host: l-b-johnson.eff.org...\",\"heap security? Organization: Swiss Federal Institute of Technology (ETH), Zurich, CH Lines: 19  In a...\",\"o good any more. Organization: DSI\\u002fUSCRPAC Distribution: na Lines: 26  In article \\u003c\\u003e  (Karl Barrus) ...\",\"ecrecy Reply-To:  Organization: Sun Microsystems, Inc. Lines: 38 Nntp-Posting-Host: signal.ece.clark...\",\"e Crypt Cabal Lines: 138 Expires: 22 May 1993 04:00:07 GMT Reply-To:  NNTP-Posting-Host: pad-thai.ak...\",\"aphy Reply-To:  (Paul Crowley) Organization: Edinburgh University Distribution: inet Lines: 12  Quot...\",\"rganization: University of Illinois, Dept. of Comp. Sci., Urbana, IL Lines: 42   (Andrew S Hall) wri...\",\"d any more. Organization: University of Houston Lines: 27 Distribution: na \\t\\u003c\\u003e NNTP-Posting-Host: me...\",\"any more. Article-I.D.: rwing.2091 Distribution: na Organization: Totally Unorganized Lines: 17  In ...\",\"al number, possibly fixed S1 and S2 Organization: Universitaetsrechenzentrum, Heinrich-Heine-Univers...\",\"Costs\\u002fBenefits Organization: Netcom - Online Communication Services (408 241-9760 guest) Lines: 61  ...\",\"nization: Totally Unorganized Lines: 48  In article \\u003c\\u003e  writes: \\u003c (David Sternlight) writes: \\u003c \\u003c\\u003e He...\",\"ral comments Nntp-Posting-Host: bloch.informatik.uni-kl.de Organization: University of Kaiserslauter...\",\": Citicorp Lines: 15 NNTP-Posting-Host: charon.cto.citicorp.com X-Newsreader: TIN [version 1.1 PL6] ...\",\"st: castor.se.houston.geoquest.slb.com Organization: GeoQuest System, Inc. Houston Lines: 17  In art...\",\"Data Research Associates, St. Louis MO Lines: 22  In article \\u003c\\u003e,  (Vernon Schryver) writes: \\u003e In art...\",\"Chip and crypto key-escrow] Organization: InterCon Systems Corporation - Herndon, VA  USA Lines: 34 ...\",\"otes.cus.cam.ac.uk Organization: U of Cambridge, England Lines: 25  -----BEGIN PGP SIGNED MESSAGE---...\",\"n: Stratus Computer, Software Engineering Lines: 18 NNTP-Posting-Host: ellisun.sw.stratus.com Keywor...\"],\"x\":[0.36198750138282776,0.29612675309181213,0.37987020611763,0.4369024336338043,0.5080187916755676,0.4112412631511688,0.5548891425132751,0.28862977027893066,0.20859815180301666,0.38533058762550354,0.18708300590515137,0.0068240417167544365,0.033261969685554504,0.14878755807876587,0.36555615067481995,0.40493324398994446,0.3578844964504242,0.5839831233024597,0.19443711638450623,0.25386273860931396,0.27732348442077637,0.45706793665885925,0.4505883753299713,0.012790238484740257,0.38126420974731445,0.3374856412410736,0.5158719420433044,0.5359323620796204,0.4543030560016632,0.2927502393722534,0.5701291561126709,0.43308794498443604,0.12982486188411713,0.04146508499979973,0.4800243079662323,0.2824260890483856,0.5739335417747498,0.1356443613767624,0.35745900869369507,0.36759766936302185,0.39785006642341614,0.5319200158119202,0.5433909296989441,0.19771844148635864,0.514100193977356,0.33586838841438293,0.34808266162872314,0.16145971417427063,0.40873199701309204,0.330583781003952,0.22811266779899597,0.48391270637512207,-0.0191873200237751,0.21624977886676788,0.3247412443161011,0.3448045551776886,0.23972155153751373,0.4152308404445648,0.45307809114456177,0.1516897827386856,0.2706395983695984,0.5103623270988464,0.4084993600845337,0.554673433303833,0.3516097664833069,0.32194358110427856,0.1872512698173523,0.5458364486694336,0.08115354180335999,0.43409496545791626,0.5372484922409058,0.5240861773490906,0.11399137228727341,0.3758038580417633,0.08406896144151688,0.5408043265342712,0.27133336663246155,0.0842139720916748,0.35412779450416565,0.2869567275047302,0.4612080454826355,0.4336095154285431,0.3559533357620239,0.32419896125793457,0.3074224889278412,0.3570643961429596,0.5901864171028137,0.33654195070266724,0.22903737425804138,0.45240044593811035,0.09169607609510422,0.16641102731227875,0.047528818249702454,0.10907183587551117,0.31212493777275085,0.42384088039398193,0.39190250635147095,0.6183862090110779,0.027086200192570686,0.45061662793159485,0.20361009240150452,0.24849848449230194,0.2597438097000122,0.4102131426334381,0.25756412744522095,0.5053092837333679,0.258076012134552,0.18092456459999084,0.3931901752948761,0.07221373170614243,0.5503185391426086,0.46519631147384644,0.33691954612731934,0.20208199322223663,-0.021249525249004364,0.5612431168556213,0.549450695514679,0.07614102959632874,0.5792770385742188,0.18426021933555603,0.32450392842292786,0.3370572328567505,0.36173808574676514,0.1542460024356842,0.3506906032562256,0.2529269754886627,0.11777761578559875,0.49623364210128784,0.47986719012260437,0.1963646411895752,0.2168627828359604,0.19212821125984192,0.24327749013900757,0.39556628465652466,0.5066092610359192,0.30132192373275757,0.31250354647636414,0.37701740860939026,0.3473939299583435,0.28870445489883423,0.3559926748275757,0.38766053318977356,0.5262134075164795,0.17609131336212158,0.3851112127304077,0.39826178550720215,0.4004276394844055,0.35219037532806396,0.2152557522058487,0.35923153162002563],\"y\":[0.021171459928154945,0.06606075167655945,-0.21541136503219604,-0.27764028310775757,-0.14565810561180115,-0.174784854054451,-0.18692484498023987,-0.11299943923950195,-0.12993130087852478,-0.04289223998785019,-0.04527631402015686,0.1853700578212738,-0.022926827892661095,-0.10783842951059341,-0.05256678909063339,-0.05049380660057068,-0.054705988615751266,-0.2347961664199829,0.11805751174688339,-0.13275325298309326,0.1139301210641861,-0.08195111900568008,-0.033242035657167435,0.04501601308584213,-0.19421853125095367,-0.15662367641925812,-0.1252727508544922,-0.23141230642795563,-0.18036547303199768,-0.021684996783733368,-0.1560051143169403,-0.07094982266426086,-0.3784918487071991,0.1198895275592804,-0.08356355130672455,-0.017044996842741966,-0.14489099383354187,0.015313378535211086,-0.004770746920257807,-0.25967884063720703,-0.0567406564950943,-0.1364017128944397,-0.20825396478176117,0.12378210574388504,-0.11122073978185654,0.08741115033626556,-0.09418674558401108,-0.32982558012008667,-0.20024001598358154,-0.11261680722236633,-0.06716196238994598,-0.16998332738876343,-0.11983878910541534,0.059211716055870056,-0.13154664635658264,0.0034678333904594183,-0.16069486737251282,-0.11821041256189346,-0.22550898790359497,0.03143557533621788,-0.08949004113674164,-0.1654781699180603,-0.12020701915025711,-0.15908756852149963,-0.19761277735233307,-0.0891118273139,-0.09900844842195511,-0.1434558629989624,-0.0929223895072937,0.007218307815492153,-0.1785503476858139,-0.13914979994297028,-0.03615672141313553,-0.07524027675390244,-0.0980585590004921,-0.1026357114315033,-0.08797761052846909,-0.03700537979602814,-0.0967005118727684,0.0693478062748909,-0.16743218898773193,-0.2183949500322342,-0.1613205224275589,-0.12389897555112839,-0.09037937968969345,-0.12700770795345306,-0.20402027666568756,-0.23781004548072815,-0.2505165934562683,-0.25033339858055115,0.08820165693759918,0.09289677441120148,-0.1365763247013092,-0.0976748839020729,-0.20004643499851227,-0.05707428976893425,-0.004803612362593412,-0.09967906028032303,0.07934102416038513,-0.18793395161628723,-0.04756074771285057,-0.07620277255773544,-0.18159939348697662,-0.2204931676387787,-0.10032402724027634,-0.27025583386421204,-0.07878800481557846,0.025074761360883713,-0.18133462965488434,0.054399240761995316,-0.2456480711698532,-0.13334600627422333,-0.32046568393707275,-0.062162578105926514,0.10710383206605911,-0.15586914122104645,-0.21589866280555725,-0.12157894670963287,-0.0804535299539566,-0.15643306076526642,-0.2950776219367981,-0.21580089628696442,-0.05204185098409653,0.047507353127002716,-0.12708640098571777,-0.26797786355018616,-0.0708962231874466,-0.050557155162096024,-0.035678062587976456,-0.1926691085100174,0.020099526271224022,0.028102312237024307,0.10302872955799103,-0.11865024268627167,-0.14653608202934265,0.04091536998748779,-0.16467463970184326,-0.37893038988113403,-0.09543495625257492,-0.1352064609527588,0.03831439092755318,0.0035923218820244074,-0.18129290640354156,-0.1630166918039322,-0.03767869248986244,0.06972640007734299,-0.05312749743461609,0.0169632937759161,-0.13956813514232635,-0.18293890357017517],\"type\":\"scatter\"},{\"hoverinfo\":\"text\",\"marker\":{\"line\":{\"color\":\"white\",\"width\":0.5},\"size\":15},\"mode\":\"markers\",\"name\":\"Class sci.electronics\",\"opacity\":0.7,\"text\":[\"Used BMW Question ..... ???) Organization: University of Minnesota, Duluth Lines: 28 NNTP-Posting-Ho...\",\"ale:was $200, sell for $150 Organization: Case Western Reserve University, Cleveland, Ohio (USA) Lin...\",\"ization: Netcom Online Communications Services (408-241-9760 login: guest) Lines: 25   (Neal Patrick...\",\"exer for digital signals? Organization: University of Illinois at Urbana Lines: 14  As the subject s...\",\":  () Organization: Materials Research Lab Lines: 17    I would like to be able to amplify a voltage...\",\"hpfcmgw.fc.hp.com Organization: Hewlett-Packard Fort Collins Site X-Newsreader: TIN [version 1.1 PL8...\",\"tlist examples Originator:  Keywords: ACS,SPICE,simulation Organization: Harris Controls Lines: 18  ...\",\"hat is [a] \\\"Storage scope\\\" Distribution: na Organization: Medical Informatics, Pittsburgh, PA USA Li...\",\"i channel receiver system? Keywords: telemetry, receiver system Organization: National Hospitals, Ic...\",\",  Has anyone used the Requirements Analsys methodology Hatley & Pirbhai ? I am a British final year...\",\"d. Nntp-Posting-Host: silene Organization: Institut Imag, Grenoble, France Lines: 38  In article \\u003c\\u003e,...\",\"on card Organization: University at Buffalo Lines: 8 News-Software: VAX\\u002fVMS VNEWS 1.41 Nntp-Posting-...\",\"s Freeway traffic reports Organization: Michigan Technological University X-Newsreader: TIN [version...\",\"p-Posting-Host: cec1 Organization: Washington University, St. Louis MO Lines: 88  In article \\u003c\\u003e  (St...\",\" Organization: University of Auckland, New Zealand. Keywords: pattern Summary: MDA\\u002fEGA\\u002fVGA pat. gen....\",\"work?? Reply-To:  Organization: Intergraph Corporation, Huntsville AL Lines: 25  In article \\u003c\\u003e,  (Mi...\",\"e-Help! Organization: \\u002fetc\\u002forganization Lines: 26  We have a setup with with 13 polaroid transducers...\",\"m Modules Organization: HP Lake Stevens, WA Lines: 12   (Ronald W. Butts, Jr.) writes:  \\u003eI am lookin...\",\"C50 Keywords: Motorola, FPU, 68882, 68030, 33\\u002f50 MHz, problems (FPU exception) Nntp-Posting-Host: pr...\",\"et wiring.. Organization: Eastman Kodak Lines: 29  In article \\u003c\\u003e  writes: \\u003eIn article \\u003c\\u003e,  (Russ Cri...\",\"anization: The Software Engineering Institute Lines: 10   In article \\u003c\\u003e, Joseph Chiu writes:  \\u003e The ...\",\" Organization: Netcom Online Communications Services (408-241-9760 login: guest) Lines: 32  Sci.E(E)...\",\"et wiring.. Nntp-Posting-Host: techmac10.tech.mtu.edu Organization: Michigan Technological Universit...\",\"Organization: University of Cape Town X-Newsreader: TIN [version 1.1 PL8] Lines: 15   Hi there  Does...\",\": AT&T Bell Laboratories Distribution: na Lines: 14  Can anybody recommend a good, application-orien...\",\"anization: Boston Computer Society \\u002f ISIG Lines: 10  Does any one know if the 6551 is timing\\u002fpin com...\",\"32  AllMartin MccormickWhat's Exactly in a Flour  MM\\u003e (Martin McCormick) MM\\u003eOrganization: Oklahoma S...\",\"gital Nntp-Posting-Host: hacke9.dtek.chalmers.se Organization: Chalmers University of Technology, Go...\",\"ntp-Posting-Host: hprtnyc.cup.hp.com Organization: Hewlett-Packard X-Newsreader: TIN [version 1.1 PL...\",\" Organization: ACSYS, Inc. Lines: 19   For all people that are interested in every aspect of the 260...\",\"ut number to a phone Organization:  Wright State University  Lines: 12  Since I have seen various di...\",\"Organization: Megatest Corporation Lines: 23  In article \\u003c\\u003e  (Billy Quinn) writes: \\u003eI built a little...\",\"I.D.: larc.babb-060493164354 Distribution: usa Organization: SDSU - LARC Lines: 16 NNTP-Posting-Host...\",\"from two 0.047 in series?! Organization: U of Toronto Zoology Lines: 13  In article \\u003c\\u003e  (Michael Gol...\",\"c Modems, RF Modem, etc -- Best Offer Distribution: na Organization: APG-Edgewood, MD, USA Lines: 26...\",\"(Robert Ganter) Organization: Institut fuer Informatik Nntp-Posting-Host: schroeder.ifi.unibas.ch Li...\",\"OM POWERED Nntp-Posting-Host: liu.cns.nyu.edu Reply-To:  Organization: New York University Lines: 13...\",\"anization: Performance Technologies, Incorporated Lines: 12  Any info on modern 20MHZ or better dual...\",\"r Bar Needed Organization: Netcom - Online Communication Services (408 241-9760 guest) Lines: 25   I...\",\"rce? Nntp-Posting-Host: chip Reply-To:  (David Vanderbyl) Organization: MPR Teltech Ltd. Lines: 30  ...\",\"on: Boston University, Boston, MA, USA Lines: 19  In article \\u003c\\u003e  (Stephe Lewis Foskett) writes: \\u003e \\u003eI...\",\" Coordinates  (Weston R Beal) Distribution: world Organization: Utah State Univ. EE Nntp-Posting-Hos...\",\"r chip Organization: NETCOM On-line Communication Services (408 241-9760 guest) Distribution: usa Li...\",\"rade Nntp-Posting-Host: cec1 Organization: Washington University, St. Louis MO Lines: 32  In article...\",\"ntp-Posting-Host: aisun3.ai.uga.edu Organization: AI Programs, University of Georgia, Athens Lines: ...\",\"Austrailia  (BYRNES,Graham) Organization: La Trobe University In-Reply-To: 's message of Mon, 19 Apr...\",\"ur service Lines: 10 Distribution: usa NNTP-Posting-Host: hpctdkz.col.hp.com  \\u003e   Does anybody out t...\",\"cted. Lines: 31 Nntp-Posting-Host: hengill.rhi.hi.is  In \\u003c\\u003e  (Ketil Albertsen,TIH) writes:  \\u003eMay we ...\",\"? Organization: Computer Science Department at Rose-Hulman Lines: 14 NNTP-Posting-Host: g222-26.next...\",\"hie) Organization: DSG Development Eng Beckman Instruments Inc. Nntp-Posting-Host: 134.217.245.87 Li...\",\"erlin, Germany Lines: 7  Have anyone some idea about how to build a cheap, low resolution (or high :...\",\" M2321K, M2322K, Fujitsu, Microdisk (-: Organization: University of Wales, Aberystwyth Lines: 23  I ...\",\"Article-I.D.: reed.1993Apr20.230749.12821 Organization: Reed College, Portland, Oregon Lines: 36  In...\",\"55.11 Organization: Motorola Western MCU Design Center, Chandler Arizona Lines: 17  In article \\u003c\\u003e,  ...\",\"ware Nntp-Posting-Host: flux.isr.alaska.edu Organization: Geophysical Institute, Fairbanks, AK Lines...\",\"1pli7gINNi6b Organization: California Institute of Technology, Pasadena Lines: 8 NNTP-Posting-Host: ...\",\"Reply-To:  Organization: Intergraph Corporation, Huntsville AL Lines: 41  In article \\u003c\\u003e,  (Mark Zeni...\",\"GS AND JUMPER SETTINGS FOR 386SX MOTHERBOARD Keywords: JUMPER SETTINGS DIP-SWITCH SETTINGS, HELP, CO...\",\"ndustrial Research Ltd., New Zealand. NNTP-Posting-Host: grv.grace.cri.nz Lines: 37  From:\\tMX%\\\"\\\"  6-...\",\"rticle-I.D.: hippo.1993Apr16.105738.20864 Organization: Rhodes University, Grahamstown, South Africa...\",\"To:  Organization: Universitaet Hannover, Theoretische Nachrichtentechnik Lines: 41  This is for a f...\",\" (for Easter? Keywords: xmas Organization: AT&T Lines: 54   Yes, I know it's nowhere near Christmas ...\",\"cle-I.D.: shelley.1r4cucINNham Distribution: na Organization: University of Washington, Seattle Line...\",\"tlet wiring.. (the truth) Keywords: outlet Reply-To:  Organization: Univ. of Lowell CS Dept. Lines: ...\",\"nization: U of Toronto Zoology Lines: 17  In article \\u003c\\u003e  (Wayne Smith) writes: \\u003e\\u003eNo restriction was ...\",\"-fi) Organization: NASA Langley Research Center and Reptile Farm Lines: 20 NNTP-Posting-Host: grisso...\",\"eo amp chip Nntp-Posting-Host: cns9.cns.ucalgary.ca Organization: University of Calgary Lines: 13  L...\",\"y Mountain Computer Organization: Case Western Reserve University, Cleveland, Ohio (USA) Lines: 25 N...\",\"o a phone line Organization: Chalmers University of Technology Lines: 11  In article \\u003c\\u003e  (Sean Olive...\",\"ticle-I.D.: shelley.1pr91aINNikg Distribution: world Organization: University of Washington, Seattle...\",\".19930406.072523.946 Lines: 7  If you can find a copy of \\\"8088 Assembler Language Programming: The I...\",\"ne line Organization: The University of Western Australia Lines: 14 NNTP-Posting-Host: mackerel.gu.u...\",\" Nacional de I+D Lines: 24  In article \\u003c\\u003e,  (John Thomson) writes: \\u003e Joseph Chiu () wrote: \\u003e  \\u003e : An...\",\"93828.1 Organization: Lawrence Livermore National Laboratory Lines: 15 NNTP-Posting-Host: travis.lln...\",\"icle-I.D.: spk.C52I89.GEq Distribution: na Organization: Hewlett-Packard Lines: 31 X-Newsreader: TIN...\",\"sticks Organization: University of Stellenbosch, SA Lines: 8  In article \\u003c\\u003e  (David F. Newman) write...\",\" circuit ~ Organization: Helsinki University of Technology, Finland Lines: 17 \\t\\u003c\\u003e \\t\\u003c1ptolq$\\u003e NNTP-Po...\",\"ost: v9001.ntu.ac.sg Organization: Nanyang Technological University - Singapore   currently I am usi...\",\" filter ICs wanted. Organization: University of Orleans, France. Lines: 9      Hi All!     I would l...\",\"or Organization: The Inquiring Mind BBS  1 204 488-1607 Lines: 43   (Bob Myers) writes:  \\u003e \\u003e I am lo...\",\"Towers do? Organization: NRK Clinic for habitual NetNews abusers - Beltway Annex Lines: 19 Reply-To:...\",\"Posting-Host: fenian.dell.com Reply-To:  Organization: SLAMDANZ CYBRNETX Lines: 13  Anyone know a re...\",\"m a schematic -\\u003e PCB? Organization: Comp.Center (RUS), U of Stuttgart, FRG Lines: 38 NNTP-Posting-Ho...\",\"bopper2.phx.mcd.mot.com Organization: Motorola Computer Group, Tempe, Az. Distribution: usa Lines: 9...\",\" Article-I.D.: nic.1993Apr5.213718.4721 Distribution: usa Organization: Triacus Inc. Lines: 26 Nntp-...\",\"ilt battery for 3rd grade sci report Keywords: 3rd grade science report Distribution: usa Organizati...\",\"e with MC68HC16 Keywords: DRAM, HC16 Nntp-Posting-Host: wu2.wl.aecl.ca Organization: AECL Research, ...\",\"ntrollers ? Article-I.D.: stellenb.mabbot.30.0 Organization: CSIR Lines: 15 NNTP-Posting-Host: 146.6...\",\"NRK Clinic for habitual NetNews abusers - Beltway Annex Lines: 24 Reply-To:  (David Lesher) NNTP-Pos...\",\"tion: Humber College Technology Dept. Lines: 29   According to my TI databook, the pinouts for the T...\",\".ca:735344986:trsvax:288200082:000:164 Nf-trsvax.tandy.com!pauls    Apr 21 09:31:00 1993 Lines: 6   ...\",\" Department of Computer Science, University of Toronto Distribution: na Lines: 11  The subject line ...\",\"munications Systems, Melbourne, AustraliaRe: RAMs &ROMs with ALE latches (for 8051's) Lines: 28   (S...\",\"ation: Digital Equipment Corporation Lines: 31 Nntp-Posting-Host: cimill  In article \\u003c\\u003e,  (Peter Try...\",\" Organization: Northeastern Ohio Universities College of Medicine Lines: 19  If the set is direct li...\",\"rganization: Megatest Corporation Lines: 26  In article \\u003c\\u003e  (G. Stewart Beal) writes: \\u003eIn article \\u003c\\u003e...\",\" world Nntp-Posting-Host: verdi.eng.unipr.it Lines: 19  Hi, I've got a PACE MODEM , Series Four 2400...\",\" book Article-I.D.: toontown.627 Reply-To:  (Craig S. Williamson) Organization: NCR E&M Columbia, SC...\",\" Nntp-Posting-Host: storm.cfnr.colostate.edu Organization:  Colorado Concert Sound Lines: 25  In art...\",\"siemens-austria Organization: Siemens AG Oesterreich Lines: 15  Hi !!!  Is there somebody using a 56...\",\"s? Organization: Computer Science Department at Rose-Hulman Lines: 11 NNTP-Posting-Host: g222-26.nex...\",\"ganization: School of MPCE, Macquarie University, Australia. Lines: 19 Distribution: world NNTP-Post...\",\"ion: University of Washington, Seattle Lines: 2 Distribution: na NNTP-Posting-Host: hardy.u.washingt...\",\" phone line Reply-To:  \\u003cPaula Stockholm\\u003e Organization: The Northern Lights BBS, Portland, ME  * 207-...\",\"one line Organization: NASA Langley Research Center and Reptile Farm Lines: 16 NNTP-Posting-Host: gr...\",\": catv cable television tvi Organization: NCR Corporation Wichita, KS Lines: 14   (Victor Laking) wr...\",\" System 6626 BBS, Winnipeg Manitoba Canada Lines: 21            On an A\\u002fD board I've got, I'm using ...\",\"tp-Posting-Host: eigen.ee.ualberta.ca Organization: University Of Alberta, Edmonton Canada Lines: 28...\",\"n: The Inquiring Mind BBS  1 204 488-1607 Lines: 41   (Joel Kolstad) writes:  \\u003e In article \\u003c\\u003e  \\u003e \\u003e \\u003e...\",\"ion: De Montfort University, Leicester, UK Lines: 26 X-Newsreader: TIN [version 1.1 PL8]  Frank Hiel...\",\"Host: dexter.psych.umn.edu Organization: University of Minnesota Lines: 18  I have a stereo compress...\",\"n: Netcom - Online Communication Services (408 241-9760 guest) Lines: 20  In article \\u003c\\u003e  (Brian Day)...\",\"  X-Posted-InterNews  Organization: Dartmouth College, Hanover, NH Lines: 12  We are Dartmouth engin...\",\"A Langley Research Center and Reptile Farm Lines: 9 Distribution: world NNTP-Posting-Host: grissom.l...\",\"0 Organization: University of Houston Lines: 17 Distribution: world NNTP-Posting-Host: rosie.uh.edu ...\",\"Decoders  Organization: University of Canberra Lines: 9  Could someone please tell me if a 1\\u002f4 decod...\",\"S work??? Organization: Capital Area Central Texas UNIX Society, Austin, Tx Lines: 15    I understan...\",\" it work?? X-Disclaimer: Nyx is a public access Unix system run by the University \\tof Denver for the...\",\"ibution: na Nntp-Posting-Host: sun_shine.mentorg.com Organization: Mentor Graphics Keywords:  Lines:...\",\"'s Cooling Towers do? Nntp-Posting-Host: levy.fnal.gov Organization: Fermilab Computing Division Lin...\",\"Week in Toronto. Organization: S Lines: 10   Does anybody know if there is a mailing list or newsgro...\",\"nd. Nntp-Posting-Host: 211.2.1.197 Organization: Texaco Lines: 16  I had a catalog with membrane key...\",\"Lehigh University Lines: 12  Well, I'm not too sure if this would be the right place to post this, b...\",\"ds: fluorescent bulb starter neon Nntp-Posting-Host: turbo_f.seas.smu.edu Organization: SMU - School...\",\"8051's) X-Xxdate: Wed, 21 Apr 93 03:04:18 GMT Nntp-Posting-Host: dialup-slip-1-88.gw.umn.edu Organiz...\",\"ion: TRIUMF: Tri-University Meson Facility Lines: 24 Distribution: world NNTP-Posting-Host: reg.triu...\",\"rganization: NASA Langley Research Center and Reptile Farm Lines: 9 NNTP-Posting-Host: grissom.larc....\",\"s: Used BMW Question ..... ???) Organization: Netcom Online Communications Services (408-241-9760 lo...\",\"Nntp-Posting-Host: aisun1.ai.uga.edu Organization: AI Programs, University of Georgia, Athens Lines:...\",\"ization: The World Public Access UNIX, Brookline, MA Lines: 27   (Mike Donahue) writes:   \\u003eI do NOT ...\",\" many electronics Questions Organization: Michigan Technological University X-Newsreader: TIN [versi...\",\"ie University Lines: 54 Distribution: world NNTP-Posting-Host: macadam.mpce.mq.edu.au  In article \\u003c\\u003e...\",\" two 0.047 in series?! Originator:  Nntp-Posting-Host: elan.princeton.edu Organization: Princeton Un...\",\"on: The Portal System (TM) Distribution: usa Lines: 6  Sounds like the picture tube lost vacuum.  Th...\",\"n: Horizon Research, Inc. Lines: 7 Distribution: world Reply-To:  NNTP-Posting-Host: sparc28.hri.com...\",\"ply Article-I.D.: jato.1993Apr15.225326.22831 Organization: JPL Pasadena CA Lines: 25 Nntp-Posting-H...\",\"ster Polytechnic Institute Lines: 11 NNTP-Posting-Host: wpi.wpi.edu  Hey everyone, I'm new to this  ...\",\"uestion about 120VAC outlet wiring. Nntp-Posting-Host: aisun3.ai.uga.edu Organization: AI Programs, ...\",\"nization: PANIX Public Access Unix, NYC Lines: 11  There are also a couple or three places on West 4...\",\"e line Nntp-Posting-Host: churchill.columbiasc.ncr.com Organization: NCR Corp., Columbia SC Lines: 3...\",\"UT? That's a joke. Lines: 24 NNTP-Posting-Host: thing1.cc.utexas.edu  It is illegal to use anything ...\",\"ly-To: 's message of 15 Apr 93 15:02:28 Lines: 38 Organization: University of Oulu, Dept. of EE, Fin...\",\" Philosophical Question Summary: How do we preferentially amplify holes instead of electrons? Keywor...\",\"t........Nanaimo Campus)Re: Suggestions  on Audio relays ??? Organization: Malaspina College Lines: ...\",\"930406.131941.134 Lines: 3   They detect the oscillator operating in the detector. Saw a story about...\",\"ersity of Kansas Academic Computing Services Lines: 33  Thanks for the resposes as they were all goo...\",\" IR detector cards..??? Keywords: IR card  Organization: Monash University, Melb., Australia. Lines:...\",\"mputer, Marlboro Ma. Lines: 22 NNTP-Posting-Host: m21.eng.stratus.com  In article \\u003c\\u003e  (Roger A Willi...\",\"8051's) Organization: Harris Allied Broadcast Div., Quincy, IL Lines: 22   Intel also makes some nea...\",\"n: world Organization: Ozone Online Operations, Inc. - New Orleans, LA Reply-To:  (Gerald Belton)  L...\"],\"x\":[-0.12169167399406433,0.05482344701886177,0.08180051296949387,-0.010897655971348286,-0.07056395709514618,-0.070436991751194,-0.11036049574613571,-0.0748053640127182,-0.04294595494866371,-0.09607209265232086,0.2625456750392914,0.06574545055627823,0.06771528720855713,-0.08497483283281326,-0.05736439675092697,-0.020780330523848534,-0.11412008851766586,0.011765128001570702,-0.053035300225019455,-0.08444631099700928,-0.07931910455226898,-0.018103573471307755,-0.057554952800273895,-0.07382509857416153,0.004903085064142942,-0.02435629814863205,-0.08199845254421234,0.14529384672641754,0.08510934561491013,0.023426461964845657,0.13793355226516724,-0.04943058267235756,-0.11769510060548782,-0.11090119183063507,0.029881417751312256,0.04435398802161217,-0.12179043889045715,-0.09005557000637054,0.15591472387313843,-0.13656336069107056,0.06260755658149719,0.05598689243197441,0.037733349949121475,0.04759862646460533,0.02857758291065693,-0.05216570198535919,-0.17640440165996552,0.2398369163274765,-0.0021354190539568663,-0.022851917892694473,-0.04963551461696625,-0.11053425073623657,0.33030131459236145,0.09904473274946213,-0.04028951749205589,-0.05359392240643501,-0.054579611867666245,-0.08316687494516373,-0.05830558389425278,-0.08366934210062027,-0.022692792117595673,-0.07004852592945099,0.09166540205478668,-0.06806720048189163,0.22263728082180023,-0.13963337242603302,-0.01703294739127159,-0.038130003958940506,0.025053145363926888,-0.10333660244941711,-0.10058050602674484,0.01816192828118801,-0.12212355434894562,-0.09477271139621735,-0.005017383955419064,-0.10265409201383591,0.08619020879268646,-0.11577938497066498,-0.018272804096341133,-0.02214604988694191,-0.05434317886829376,0.06240342557430267,-0.07222583144903183,-0.16453686356544495,-0.11821790039539337,-0.0523049421608448,-0.00926418136805296,-0.02151654101908207,-0.01544090174138546,-0.02326447330415249,0.01590360328555107,-0.04271778464317322,0.024553973227739334,-0.06981535255908966,-0.1022011935710907,0.09937287867069244,-0.12095364928245544,-0.12041673064231873,-0.05907559394836426,-0.12908527255058289,0.07899333536624908,-0.06855545938014984,-0.01249039825052023,0.04094545543193817,0.13219718635082245,0.04893513023853302,-0.0827808529138565,0.10861530900001526,-0.16940376162528992,0.028689784929156303,-0.0335669070482254,0.015580943785607815,-0.11866919696331024,-0.012537146918475628,-0.1179036796092987,-0.025343753397464752,-0.06626462936401367,0.051750846207141876,0.2629205286502838,-0.027189476415514946,-0.08683263510465622,0.04818670451641083,-0.12390431016683578,-0.18300651013851166,0.06779453903436661,0.13951648771762848,-0.13244564831256866,-0.08879600465297699,0.14177562296390533,-0.06472010165452957,0.02558339759707451,-0.029818817973136902,-0.054998837411403656,-0.09936411678791046,-0.19151198863983154,-0.06304652243852615,-0.1979893296957016,-0.0835990309715271,0.0559711679816246,0.16386424005031586,0.1631557047367096,0.031110817566514015,-0.04929370433092117,-0.09288269281387329,-0.002241868758574128,-0.002120796823874116,0.031155936419963837,-0.01882735639810562,0.08006474375724792,0.05188990384340286],\"y\":[0.09418503195047379,0.25640761852264404,0.018907496705651283,0.14198905229568481,0.0735856145620346,0.17430780827999115,0.16631537675857544,0.1371101438999176,0.17325253784656525,-0.012491660192608833,-0.010642320849001408,0.2226169854402542,0.018300414085388184,0.130613312125206,0.18936215341091156,0.03405386209487915,0.10709431022405624,0.15429018437862396,0.037253912538290024,0.005450460594147444,0.09633173048496246,0.22552356123924255,-0.01110886875540018,0.2311367392539978,0.16994036734104156,0.05316264554858208,0.01135717798024416,0.2003406584262848,0.1158251017332077,0.23150719702243805,0.10904571413993835,0.08690793067216873,0.1024690791964531,0.02507253736257553,0.1274319589138031,0.28983309864997864,0.1606024205684662,0.3209674060344696,0.015806330367922783,0.03225817158818245,0.18513359129428864,0.26200732588768005,0.2249118983745575,0.17229032516479492,0.151232048869133,0.20550580322742462,0.006572223734110594,-0.15519767999649048,0.18152111768722534,0.22827258706092834,0.28286418318748474,0.13524487614631653,-0.09219197183847427,0.07162082195281982,0.24908983707427979,0.1389913260936737,-0.00215176772326231,0.14294210076332092,0.10436206310987473,0.1418069303035736,0.1738673448562622,0.1251516044139862,-0.03818604722619057,0.014867033809423447,-0.0590205080807209,0.183071106672287,0.17323800921440125,0.14256633818149567,0.07819262146949768,0.011558535508811474,0.17166246473789215,0.14368857443332672,0.06687411665916443,0.13163544237613678,-0.175601065158844,0.12501847743988037,0.008651950396597385,0.031223636120557785,0.20194442570209503,0.19252751767635345,0.09850288182497025,0.19224315881729126,0.09839975088834763,0.03250022605061531,0.10830467939376831,-0.0008890926255844533,0.07033637166023254,0.20601852238178253,0.10481680184602737,0.0564114972949028,0.2919844090938568,0.14520986378192902,0.1011723205447197,0.13856001198291779,-0.016797609627246857,0.1756136268377304,0.06425391882658005,0.04690857231616974,0.093672975897789,0.17867466807365417,0.1636270433664322,0.19754739105701447,0.19635315239429474,0.15902552008628845,0.10632569342851639,0.16939695179462433,0.012016029097139835,0.12189428508281708,0.2128908336162567,0.1254240721464157,0.07406863570213318,0.25070416927337646,-0.012006220407783985,0.13861213624477386,0.08653336763381958,0.19194841384887695,0.09605803340673447,-0.11415603756904602,-0.054409563541412354,0.07867276668548584,0.3011406660079956,0.03609645739197731,0.12565594911575317,0.007586234714835882,0.12441530078649521,-0.046871718019247055,0.009249741211533546,0.09842060506343842,0.1924818754196167,0.18351159989833832,0.1755048632621765,0.16208216547966003,0.19150972366333008,0.034341685473918915,0.18787552416324615,0.10167084634304047,0.19918674230575562,-0.014787632040679455,0.13463395833969116,0.025697214528918266,-0.09986655414104462,0.12048467248678207,-0.027178263291716576,0.08469697833061218,0.08951395750045776,0.12924763560295105,0.12450136989355087,0.23179996013641357,0.10918018966913223,0.13391035795211792],\"type\":\"scatter\"},{\"hoverinfo\":\"text\",\"marker\":{\"line\":{\"color\":\"white\",\"width\":0.5},\"size\":15},\"mode\":\"markers\",\"name\":\"Class sci.med\",\"opacity\":0.7,\"text\":[\"rnal Article - Whiplash\\u002fCervical Pain Lines: 37 Organization: Colonial Mutual Life Australia X-Newsr...\",\"ganization: Invention Factory's BBS - New York City, NY - 212-274-8298v.32bis Reply-To:  (Jim Zisfei...\",\"rganization: The Santa Cruz Operation, Inc. Distribution: usa Lines: 18   In article \\u003c\\u003e  (Evan Hunt)...\",\"KS GREAT !!!! Organization: Omen Technology INC, Portland Rain Forest Lines: 34  In article \\u003c\\u003e  (Bet...\",\"me Organization: Sun Microsystems, Inc.  Mt. View, Ca. Lines: 18 Distribution: world Reply-To:  (Jim...\",\"nization: CS Dept, University of Texas at Austin Lines: 17 NNTP-Posting-Host: saltillo.cs.utexas.edu...\",\"weet (aspartame) Organization: S.P. Dyer Computer Consulting, Cambridge MA Lines: 30  In article \\u003c\\u003e ...\",\" Organization: The Portal System (TM)   \\u003c\\u003e \\u003c\\u003e Lines: 41  A person posted certain stuff to this newsg...\",\"-Host: drums.reasoning.com Organization: Reasoning Systems, Inc., Palo Alto, CA Lines: 11   My insur...\",\"s Organization: Computing Services Division, University of Wisconsin - Milwaukee Lines: 19 NNTP-Post...\",\"srael Hospital, Harvard Medical School, Boston Mass., USA Lines: 11 NNTP-Posting-Host: enterprise.bi...\",\"ation: Pittsburgh TRansplant Institute Lines: 41  In article \\u003c\\u003e  (Steve Heffner) writes: \\u003eA bit more...\",\"riptan) available in CA Article-I.D.: vela.1psee5$c3t Distribution: na Organization: Oakland Univers...\",\"s In-Reply-To: 's message of Tue, 6 Apr 1993 03:28:57 GMT Nntp-Posting-Host: crux3.cit.cornell.edu O...\",\"et for Crohn's (IBD) Organization: Gastroenterology - Univ. of Alabama Distribution: usa Lines: 36  ...\",\"is [Is it Lyme's?]\\\"] Organization: Lamont-Doherty Earth Observatory Lines: 50  In article \\u003c\\u003e,  (Gord...\",\"trix Networks Lines: 21   \\u003e In article \\u003c\\u003e  (Richard Silver) writes: \\u003e \\u003e \\u003e \\u003eIs there a right-eye domi...\",\"bicans: what is it?) Article-I.D.: bunyip.C5wwGz.17G Organization: Prentice Centre, University of Qu...\",\"ects Organization: George Washington University Lines: 28  In article \\u003c\\u003e  (Steve Dyer) writes: \\u003eIn a...\",\": West Virginia Network for Educational Telecomputing Lines: 11  My girlfriend is in pain from kidne...\",\"ruzio.5254 Reply-To:  Lines: 12   I have a friend who has just been diagnosed with Lupus, and I know...\",\"pathy ... tradition?) Summary: Science is not mere methodology.   Organization: University of Hawaii...\",\"tient relationship problem Organization: NETCOM On-line Communication Services (408 241-9760 guest) ...\",\"ead an Ultrasound? Organization: Dixie Communications Public Access.  The Mouth of the South. Lines:...\",\"ation: University of New Mexico, Albuquerque Lines: 27 NNTP-Posting-Host: carina.unm.edu   Gordon Ba...\",\"e of Veterinary Medicine WSU X-Newsreader: TIN [version 1.1 PL9] Lines: 45  kathleen richards () wro...\",\"ael Hospital, Harvard Medical School, Boston Mass., USA Lines: 26 NNTP-Posting-Host: enterprise.bih....\",\"Organization: U.C. Berkeley -- ERL Lines: 16 Distribution: world NNTP-Posting-Host: zion.berkeley.ed...\",\" Flying? Article-I.D.: rigel.SHAFER.93Apr6095951 Organization: NASA Dryden, Edwards, Cal. Lines: 33 ...\",\"rdon Banks) Organization: Univ. of Pittsburgh Computer Science Lines: 28  In article \\u003c\\u003e  (David Nye)...\",\" of medical terms Organization: Ecole Polytechnique Federale de Lausanne Lines: 41 NNTP-Posting-Host...\",\"p, depression Nntp-Posting-Host: bottom.magnus.acs.ohio-state.edu Organization: The Ohio State Unive...\",\"obert Allison) Organization: The National Capital Freenet Lines: 18   I have between 15 and 25 noseb...\",\"Semantic War. Organization: University of Illinois at Urbana Lines: 6  Also remember that most peopl...\",\" Banks) Organization: Univ. of Pittsburgh Computer Science Lines: 17  In article \\u003c\\u003e  (Ken Mitchum) w...\",\"Nntp-Posting-Host: wind.bellcore.com Reply-To:  Organization: Bell Communications Research Lines: 31...\",\"p-Posting-Host: aisun3.ai.uga.edu Organization: AI Programs, University of Georgia, Athens Lines: 12...\",\"ingers Article-I.D.: pitt.19424 Reply-To:  (Ken Mitchum) Organization: Univ. of Pittsburgh Computer ...\",\"al research? Organization: University of Northern Iowa Lines: 22  In article \\u003c\\u003e,  (Ken Mitchum) writ...\",\"words: gene pool; wisdom; virtue Nntp-Posting-Host: naples.med.unc.edu Organization: UNC-CH School o...\",\"ion? Organization: Center for Reliable and High-Performance Computing, University of Illinois at Urb...\",\"s: Homeopathy ... tradition?) Nntp-Posting-Host: engws5.ic.sunysb.edu Organization: State University...\",\"m.stortek.com Organization: StorageTek SW Engineering X-Newsreader: NNR\\u002fVM S_1.3.2 Lines: 53  In art...\",\"n: Acadia University Lines: 15   (James R. Skinner) writes:  \\u003e\\t \\u003e\\tI have seen a couple of postings r...\",\"ion? Organization: sdf public access Unix, Dallas TX 214\\u002f436-3281 Lines: 27  In article \\u003c\\u003e  (Andrew ...\",\" skin - problem? Article-I.D.: aio.1993Apr6.133244.14717 Distribution: sci.med Organization: Lockhee...\",\"al tradition? Reply-To:  (Gordon Banks) Organization: Univ. of Pittsburgh Computer Science Lines: 26...\",\" S.P. Dyer Computer Consulting, Cambridge MA Lines: 25  In article \\u003c\\u003e  (Robert Allison) writes: \\u003eDoe...\",\"eywords: seizures epilepsy Reply-To:  (Gordon Banks) Organization: Univ. of Pittsburgh Computer Scie...\",\"nization: University of Wisconsin Eau Claire Lines: 19  [reply to  (MD)]   \\u003eAfter many metabolic tes...\",\"ute of Theoretical and Experimental Biophysics Lines: 29 NNTP-Posting-Host: venus.iteb.serpukhov.su ...\",\"anization: University of Kuopio, Finland Lines: 10   There is this newsgroup sci.med.physics and the...\",\"AT&T Distribution: usa Keywords: San Francisco Lines: 9   \\tI was kind of half watching Street Storie...\",\"=\\u003e RoseMail Gateway (v1.70) Organization: Rose Media Inc, Toronto, Ontario. Lines: 23  L(\\u003e   (Joel B...\",\"riginator:  Nntp-Posting-Host: sasquatch Reply-To:  Organization: Clinical Diagnostics Division, Eas...\",\"-I.D.: cs.1993Apr22.055958.2377 Organization: nCUBE, Sandia Park, NM Lines: 31  In article \\u003c\\u003e  (Vida...\",\"? Reply-To:  (Betty Harvey) Organization: Carderock Division, NSWC, Bethesda, MD Lines: 30  In rec.f...\",\"cle-I.D.: pitt.19396 Reply-To:  (Gordon Banks) Organization: Univ. of Pittsburgh Computer Science Li...\",\"ation: AT&T Keywords: seizures Lines: 8  Here is the tollfree hotline for the Epilepsy Foundation of...\",\"tronet Communications Services, Dallas Tx Distribution: usa Lines: 13  I am 35 and am recovering fro...\",\"Keywords: Daypro Lines: 7  Anyone have any information on the effects\\u002forigin of oxaprozin? It's mark...\",\"ans: what is it?) Organization: University of Wisconsin Eau Claire Lines: 29  [reply to  (Jacquelin ...\",\"  (Grant Edwards) Organization: Rosemount, Inc. Lines: 41 Nntp-Posting-Host: aquarius   (Richard Ott...\",\" Reply-To:  Organization: University of Chicago Lines: 27  One thing that I haven't seen in this thr...\",\"ization: CS Dept, University of Texas at Austin Lines: 67 Distribution: inet NNTP-Posting-Host: im4u...\",\"omeopathy ... tradition?) Originator:  Nntp-Posting-Host: theseus.unx.sas.com Organization: SAS Inst...\",\"ghts from the DSM-IIIR Organization: Digital Equipment Corporation Lines: 45 NNTP-Posting-Host: DWOV...\",\"s (PDR)? Reply-To:  (Gordon Banks) Organization: Univ. of Pittsburgh Computer Science Lines: 48  In ...\",\"zation: Stratus Computer, Inc. Lines: 14 Distribution: world NNTP-Posting-Host: coyoacan.sw.stratus....\",\"omeopathy ... tradition?) Originator:  Nntp-Posting-Host: theseus.unx.sas.com Organization: SAS Inst...\",\"opathy ... tradition?) Organization: University of Rochester  In article \\u003c\\u003e  (Gary Merrill) writes: ...\",\"rdon Banks) Organization: Univ. of Pittsburgh Computer Science Lines: 22  In article \\u003c\\u003e  (daniel fed...\",\"rstition? Organization: University of Illinois at Urbana Lines: 26   (Steve Dyer) writes:  \\u003eIn artic...\",\"nks) Reply-To:  Organization: University of Chicago Lines: 12  There were a few people who responded...\",\" Organization: Locus Computing Corporation, Los Angeles, California Distribution: usa Lines: 12   Hi...\",\"To:  (Gordon Banks) Distribution: na Organization: Univ. of Pittsburgh Computer Science Lines: 19  \\u003e...\",\"ntp-Posting-Host: huey.udel.edu Organization: little scraps of paper, mostly Lines: 10   I think he ...\",\"alif State Univ\\u002fElectronic Information Services Lines: 3  Can anyone help me find any information on...\",\"e of Veterinary Medicine WSU X-Newsreader: TIN [version 1.1 PL9] Lines: 13  kathleen richards () wro...\",\"ems Organization: University of Colorado at Denver Lines: 29   \\tA friend has the following symptoms ...\",\" Organization: NASA Langley Research Center, Hampton, VA Lines: 28 Reply-To: Jason C. Austin \\u003c\\u003e NNTP...\",\"zation: Space Telescope Science Institute Distribution: na  Am I justified in being pissed off at th...\",\"ctose intolerance Organization: Gastroenterology - Univ of Alabama Lines: 19  In article \\u003c\\u003e,  (Ho Le...\",\" Robinson \\u003c\\u003eReasons for hospitals to join Internet? Lines: 8  What resources and services are availa...\",\"n: Actrix Networks Lines: 26   My 14-y-o son has the usual teenage spotty chin and greasy nose.  I b...\",\" Switzerland Lines: 21  Hello to everybody, I write here because I am kind of desperate. For about s...\",\"Gordon Banks) Organization: Univ. of Pittsburgh Computer Science Lines: 16  In article \\u003c\\u003e  (Daniel P...\",\"itt.19440 Reply-To:  (Gordon Banks) Organization: Univ. of Pittsburgh Computer Science Lines: 23  In...\",\"versity of Wisconsin Eau Claire Lines: 13  [reply to  (Gordon Banks)]   \\u003e\\u003eI believe it is illegal fo...\",\"Organization: S.P. Dyer Computer Consulting, Cambridge MA Lines: 14  In article \\u003c1qnns0$\\u003e  (Steve Po...\",\"is [Is it Lyme's?]\\\"] Reply-To:  (Gordon Banks) Organization: Univ. of Pittsburgh Computer Science Li...\",\"or? Organization: HP Colorado Springs Division Lines: 5 Distribution: na NNTP-Posting-Host: hpcspe17...\",\"KS GREAT !!!! Organization: Omen Technology INC, Portland Rain Forest Lines: 33  In article \\u003c\\u003e  (Gor...\",\" Utah State University Lines: 35  \\u003e\\u003eBetween who? Over what? I would be most interested in seeing you...\",\"icle-I.D.: cup.79700 Organization: The Portal System (TM) Lines: 36  \\u003e Probably within 50 years, a n...\",\"on Banks) Organization: Univ. of Pittsburgh Computer Science Lines: 12  In article \\u003c\\u003e  (John E. Rodw...\",\"rriage Organization: worldbank.org Lines: 17        Following a series of miscarriages, my wife was ...\",\"cle-I.D.: pitt.19422 Reply-To:  (Ken Mitchum) Organization: Univ. of Pittsburgh Computer Science Lin...\",\"since last month [monthly posting] Supersedes: \\u003ctyping-injury-faq\\u002f\\u003e Organization: University of Cali...\",\" Vasomotor Rhinitis Organization: University of Pittsburgh Lines: 21  In article \\u003c1r1t1a$\\u003e  writes: ...\",\" Albicans: what is it?) Nntp-Posting-Host: magnusug.magnus.acs.ohio-state.edu Organization: The Ohio...\",\": world Organization: Invention Factory's BBS - New York City, NY - 212-274-8298v.32bis Reply-To:  (...\",\"er Corporation Nntp-Posting-Host: condor.encore.com Lines: 20  A bit more than a year ago, a hernia ...\",\"ewsj.1993Apr6.161858.12132 Distribution: na Organization: AT&T Lines: 15  In article \\u003c\\u003e,  writes: \\u003e ...\",\"blue.7936 Lines: 23 X-Newsreader: TIN [version 1.1 PL8]  David Nye () wrote: : [reply to  (ron roth)...\",\"ines: 43 Nntp-Posting-Host: vms.ocom.okstate.edu Organization: OSU College of Osteopathic Medicine  ...\",\"n? Lines: 12   To:  (Alex Milshteyn)   AM\\u003e Having said that, i might add, that in MHO, MSG does not ...\",\": The Old Frog's Almanac, Nanaimo, B.C. Keywords: Bates method Summary: Proven a hoax long ago Lines...\",\"Sybase, Inc. Lines: 18  My mom has just been diagnosed with cystic breast disease -- a big relief, a...\",\"National Accelerator Laboratory, Batavia IL Lines: 14 Distribution: world NNTP-Posting-Host: adcs01....\",\"sa Organization: Beth Israel Hospital, Harvard Medical School, Boston Mass., USA Lines: 15 NNTP-Post...\",\"core, Piscataway, NJ Lines: 14  In article \\u003c\\u003e  (Gordon Banks) writes: \\u003eIn article \\u003c\\u003e  (Richard Silve...\",\"ry: Kaiser has been doing it for a while Article-I.D.: pegasus.1993Apr22.221508.10196 Organization: ...\",\"anization: Lehigh University Lines: 22  The following 4 addresses are on the LymeNet mailing list, b...\",\"Host: vms.ocom.okstate.edu Organization: OSU College of Osteopathic Medicine Distribution: usa  In a...\",\" UM Anesthesiology Lines: 21 Distribution: world NNTP-Posting-Host: 141.214.86.38 X-UserAgent: Nunti...\",\"t current trends in diabetes. Lines: 63 Organization: The Information Deli - via Netcom \\u002f San Jose, ...\",\"rganization: The World Public Access UNIX, Brookline, MA Lines: 10   Some recent postings remind me ...\",\"es Organization: Hitachi Computer Products, OSSD division Lines: 16 NNTP-Posting-Host: duca.hi.com  ...\",\"eet (aspartame) Organization: University of Vermont -- Division of EMBA Computer Facility Lines: 21 ...\",\"? Keywords: cancer Organization: Digital Equipment Corporation Lines: 13   What does a lack of taste...\",\"ization: Carleton University, Ottawa, Canada Lines: 44  In article \\u003c\\u003e  (Gong Tong) writes: \\u003eIn artic...\",\"n: Department of Computer Science, UWO, Canada Keywords: volvulus Nntp-Posting-Host: berfert.csd.uwo...\",\"ationship problem Distribution: world Organization: Invention Factory's BBS - New York City, NY - 21...\",\"icle-I.D.: oregon.21APR199316170714 Distribution: world Organization: University of Oregon Lines: 14...\",\"sity of Wisconsin Eau Claire Lines: 15  [reply to  (ron roth)]   \\u003eWhile you're right that the S vert...\",\"anks) Organization: Univ. of Pittsburgh Computer Science Lines: 18  In article \\u003c\\u003e  (John Werner) wri...\",\" Organization: University of Pittsburgh Lines: 14  In article \\u003c\\u003e  (Fiberman) writes: :Is erythromyci...\",\"ion: McDonnell Douglas Aerospace Lines: 20 Distribution: world NNTP-Posting-Host: q5020598.mdc.com  ...\",\"s [Is it Lyme's?]\\\"] Article-I.D.: pitt.19421 Reply-To:  (Ken Mitchum) Organization: Univ. of Pittsbu...\",\"22 X-Newsreader: Tin 1.1 PL5  Sharon Paulson () wrote: :  {much deleted] :  :  : The fact that this ...\",\"g's Almanac, Nanaimo, B.C. Keywords: advice needed Summary: thanx for the comeback Lines: 7  Hello ,...\",\"'s message of Mon, 12 Apr 1993 21:02:31 GMT Nntp-Posting-Host: kyanite Organization: Telesciences CO...\",\"I.D.: pitt.19423 Reply-To:  (Ken Mitchum) Organization: Univ. of Pittsburgh Computer Science Lines: ...\",\"anization: Virginia's Public Education Network (Radford) Lines: 13  Thanks for all your assistance. ...\",\"zation: NASA Langley Research Center, Hampton VA, USA Lines: 48 \\t\\u003c\\u003e \\u003c\\u003e NNTP-Posting-Host: cmb00.larc...\",\"ERT-CONNECT -- Public Access UNIX Lines: 15   can anyone give me more information regarding endometr...\",\"r:  Organization: Citibank IBISM Lines: 11    has any one heard of a sedative called \\\"Rhoepnol\\\"? Mad...\",\"ngstown State University Lines: 5 NNTP-Posting-Host: ysub.ysu.edu  Does the Proventil inhaler for as...\",\"P-Posting-Host: fred.bbn.com   (ron roth) writes:  |JB\\u003e   (Ella I Baff) writes: |JB\\u003e   |JB\\u003e    Ron R...\",\"nline Communication Services (408 241-9760 guest) Lines: 7  In article \\u003c\\u003e  (Gordon Banks) writes: \\u003ew...\",\"yer Computer Consulting, Cambridge MA  In article \\u003c\\u003e  (Craig MacDonald) writes: \\u003e\\u003e  It may be extrem...\",\" slit operation Article-I.D.: pegasus.1993Apr22.221111.9678 Organization: Pegasus,  Honolulu Lines: ...\",\"zation: NASA Langley Research Center, Hampton VA, USA Lines: 52 \\t\\u003c\\u003e NNTP-Posting-Host: cmb00.larc.na...\",\" Nntp-Posting-Host: sdcmvs.mvs.sas.com Organization: SAS Institute Inc. Lines: 16  In article \\u003c\\u003e,  (...\",\"ization: Carleton University, Ottawa, Canada Lines: 43  In article \\u003c\\u003e  (David Thomas) writes:  \\u003e\\u003eIn ...\",\"T !!!! Organization: Express Access Public Access UNIX, Greenbelt, Maryland USA Lines: 58 NNTP-Posti...\",\"zation: NASA Langley Research Center, Hampton VA, USA Lines: 53 NNTP-Posting-Host: cmb00.larc.nasa.g...\",\"zation: Unocal Corporation Lines: 20  Living things maintain small electric fields to (1) enhance ce...\",\"formix Software, Inc. Lines: 11  In article \\u003c\\u003e  (Dick King) writes: \\u003e \\u003eI recall reading somewhere, d...\"],\"x\":[-0.2562260627746582,-0.31174129247665405,-0.1085151806473732,-0.15818481147289276,-0.35933464765548706,-0.05822087079286575,-0.2437688261270523,0.029492974281311035,-0.19978024065494537,-0.39245980978012085,-0.282295286655426,-0.2031387835741043,-0.22895890474319458,-0.2887246608734131,-0.29525941610336304,-0.23703503608703613,-0.1926264464855194,-0.30381014943122864,-0.4132738709449768,-0.22066442668437958,-0.3765575885772705,-0.1648847460746765,-0.22884808480739594,-0.16453534364700317,-0.1924474984407425,-0.2965051829814911,-0.27677401900291443,-0.31700533628463745,-0.19199137389659882,-0.1279594451189041,-0.2321234494447708,-0.2574097514152527,-0.28867706656455994,-0.23271769285202026,-0.19238486886024475,-0.2659120559692383,-0.30121946334838867,-0.2622353732585907,-0.39537370204925537,-0.18203425407409668,-0.3388730585575104,-0.18093650043010712,-0.16586998105049133,-0.33550912141799927,-0.2505146861076355,-0.2959120273590088,-0.31679779291152954,-0.3403657376766205,-0.3408716320991516,-0.39409521222114563,-0.30321407318115234,-0.31129127740859985,-0.2019633948802948,-0.027571510523557663,-0.2785252332687378,-0.3920917510986328,-0.3715905547142029,-0.3261496126651764,-0.1809176355600357,-0.2559874653816223,-0.2550250291824341,-0.2599348723888397,-0.17152239382266998,-0.22787129878997803,-0.1682209074497223,-0.2745067775249481,-0.17167186737060547,-0.0703541487455368,-0.21577459573745728,-0.12467116117477417,-0.12874895334243774,-0.3185095489025116,-0.11298660933971405,-0.29429763555526733,-0.06616093963384628,-0.23801013827323914,-0.09075574576854706,-0.17384499311447144,-0.3103720545768738,-0.4185018241405487,-0.277640700340271,-0.1624012142419815,-0.36449089646339417,-0.07476066797971725,-0.30693742632865906,-0.4171975553035736,-0.14189885556697845,-0.2152274250984192,-0.1875004768371582,-0.17014911770820618,-0.2966609001159668,-0.16694562137126923,-0.27565330266952515,-0.20013603568077087,0.047530341893434525,-0.15963196754455566,-0.14060938358306885,-0.2509412467479706,-0.08713485300540924,-0.34441956877708435,-0.334960401058197,-0.19340120255947113,-0.21027323603630066,-0.25764116644859314,-0.18311764299869537,-0.3040744960308075,-0.2431926727294922,-0.12026755511760712,-0.37737712264060974,-0.24672327935695648,-0.3039706349372864,-0.2513989210128784,-0.18438571691513062,-0.08351951092481613,-0.3267342746257782,-0.08812785893678665,-0.2772614359855652,-0.2915332615375519,-0.22096021473407745,-0.27208778262138367,-0.3753149211406708,-0.2893001139163971,-0.36619895696640015,-0.15862922370433807,-0.18166375160217285,-0.192873015999794,-0.1148729920387268,-0.2675003409385681,-0.38056886196136475,-0.2315269112586975,-0.3048642575740814,-0.2641153633594513,-0.15888802707195282,-0.2827582359313965,-0.29931333661079407,-0.28988024592399597,-0.2275848686695099,-0.1539323329925537,-0.24389749765396118,-0.20127831399440765,-0.046357546001672745,-0.3224118649959564,-0.07180330902338028,-0.32337695360183716,-0.30722662806510925,-0.2643109858036041,-0.12720611691474915,-0.38933050632476807,-0.21487100422382355,-0.27411091327667236],\"y\":[-0.18911808729171753,-0.28250986337661743,-0.27204081416130066,-0.19462400674819946,-0.1670231968164444,-0.26726609468460083,-0.30231812596321106,-0.12055408209562302,-0.01589345932006836,-0.3317989408969879,-0.18744193017482758,-0.21180890500545502,-0.13312841951847076,-0.28808048367500305,-0.3224216103553772,-0.23817048966884613,-0.09841298311948776,-0.39165598154067993,-0.32956063747406006,-0.18750104308128357,-0.21887901425361633,-0.18507975339889526,-0.16134954988956451,-0.04765048995614052,-0.1845492422580719,-0.288434237241745,-0.26408711075782776,-0.3347630500793457,-0.0848214328289032,-0.2253943532705307,-0.003023078665137291,-0.20812226831912994,-0.2456831932067871,-0.12171752750873566,-0.39464014768600464,-0.3915383815765381,-0.3902999460697174,-0.31054121255874634,-0.4005168378353119,-0.11184711009263992,-0.38985341787338257,-0.2606469690799713,0.13495472073554993,-0.2202637642621994,-0.27021855115890503,-0.18730080127716064,-0.2698911726474762,-0.2656346261501312,-0.23339277505874634,-0.36576294898986816,-0.07693130522966385,-0.07019522041082382,-0.05513730272650719,-0.07244089245796204,-0.2954017221927643,-0.19300667941570282,-0.42075347900390625,-0.16903525590896606,-0.19281895458698273,-0.2611704170703888,-0.1775941550731659,-0.31211838126182556,0.03566138818860054,-0.2936004102230072,-0.07700104266405106,-0.09474080801010132,-0.21383187174797058,-0.28405582904815674,0.0815582200884819,-0.20996752381324768,-0.18286284804344177,-0.3253985643386841,-0.287837952375412,-0.11713416874408722,0.045270439237356186,-0.25907668471336365,0.13798463344573975,-0.11734199523925781,-0.16546165943145752,-0.2445799857378006,-0.19097843766212463,-0.25650063157081604,-0.20039992034435272,-0.017353281378746033,-0.24693439900875092,-0.2169136106967926,-0.29685428738594055,-0.29446402192115784,-0.22375370562076569,-0.2659980356693268,-0.17873050272464752,-0.15133830904960632,-0.14889706671237946,-0.4149068295955658,-0.16579067707061768,-0.38326436281204224,-0.25886890292167664,-0.23872123658657074,-0.02808215469121933,-0.24092091619968414,-0.3416646718978882,-0.33467280864715576,-0.2128738909959793,-0.17643222212791443,-0.18769438564777374,-0.26391077041625977,-0.2930343449115753,-0.23193171620368958,-0.3014882504940033,-0.2638072073459625,-0.29126426577568054,-0.12972211837768555,-0.04929659143090248,-0.023779332637786865,-0.2876889109611511,-0.1106395348906517,-0.1396346241235733,-0.2519551217556,-0.189687579870224,-0.30722054839134216,-0.27276313304901123,-0.4148944616317749,-0.26308661699295044,-0.21408186852931976,-0.07203755527734756,-0.20329901576042175,-0.15224291384220123,-0.2868834137916565,-0.29839009046554565,-0.32610177993774414,-0.41592633724212646,-0.07735554128885269,-0.09023837000131607,-0.30648449063301086,-0.26216697692871094,-0.28120920062065125,-0.08695190399885178,-0.2592952847480774,-0.11249598860740662,-0.18933990597724915,-0.12331444025039673,-0.2812299430370331,-0.12348048388957977,-0.42082640528678894,-0.2511921525001526,-0.40295445919036865,-0.23551346361637115,-0.4353266954421997,-0.06951772421598434,-0.22002917528152466],\"type\":\"scatter\"},{\"hoverinfo\":\"text\",\"marker\":{\"line\":{\"color\":\"white\",\"width\":0.5},\"size\":15},\"mode\":\"markers\",\"name\":\"Class sci.space\",\"opacity\":0.7,\"text\":[\"ation: NASA Langley Research Center Lines: 7 Distribution: world Reply-To:  (CLAUDIO OLIVEIRA EGALON...\",\"ce? Organization: Texas Instruments Inc Lines: 16  In \\u003c\\u003e  (Dillon Pyron) writes:   \\u003eThere are actual...\",\" Space Launcer Organization: Boeing AI Center, Huntsville, AL Lines: 22  In reference to the limits ...\",\"zation: University of Washington Lines: 33 NNTP-Posting-Host: stein2.u.washington.edu   (Doug Loss) ...\",\"on: Netcom - Online Communication Services (408 241-9760 guest) Lines: 23  In article \\u003c\\u003e  (kevin mar...\",\"ining. Nntp-Posting-Host: 128.158.30.103 Reply-To:  (G. Patrick Molloy) Organization: NASA\\u002fMSFC Line...\",\" Beacons! In-Reply-To: 's message of 21 Apr 93 08:15:55 GMT Nntp-Posting-Host: leo-gw Organization: ...\",\"n: Boeing AI Center, Huntsville, AL Lines: 39  I have before me a pertinent report from the United S...\",\"niv. of Florida CIS Dept. Lines: 17 Distribution: world NNTP-Posting-Host: beach.cis.ufl.edu   Is an...\",\"o Update - 04\\u002f22\\u002f93) Organization: U of Toronto Zoology Lines: 17  In article \\u003c\\u003e  (Alan Carter) writ...\",\"on to first year-long moon residents? Organization: Texas Instruments Inc Lines: 22  In \\u003c\\u003e  (Allen W...\",\"decentralize & automate functions Keywords: space station, constellation Article-I.D.: techbook.C51z...\",\" not give $1G) Organization: MDSSC Lines: 32  In article \\u003c\\u003e,  (Layne Cook) writes: \\u003e All of this tal...\",\"ief Resigns for Health Reasons Organization: NASA Lewis Research Center \\u002f Cleveland, Ohio Lines: 30 ...\",\"of the future. Organization: University of Western Ontario, London Nntp-Posting-Host: prism.engrg.uw...\",\"on: Jet Propulsion Laboratory Lines: 16 Distribution: world NNTP-Posting-Host: kelvin.jpl.nasa.gov N...\",\"tion: RIP Organization: Univ. of Southwestern Louisiana Lines: 43   (Brian Yamauchi) writes:  \\u003eAny c...\",\"press Access Online Communications USA Lines: 30 NNTP-Posting-Host: access.digex.net  In article \\u003c\\u003e ...\",\"93 Organization: Express Access Online Communications, Greenbelt, MD USA Lines: 33 Distribution: wor...\",\" University of South Australia Lines: 5  Does anyone know how to size cold gas roll control thruster...\",\"eral Systems Co. Software Services               IBM, Federal Systems Co. Software Services Disclaim...\",\"rwarded by Space Digest Organization: [via International Space University] Original-Sender:  Distrib...\",\"ed News-Software: VAX\\u002fVMS VNEWS 1.41     Nntp-Posting-Host: tm0006.lerc.nasa.gov Organization: NASA ...\",\" do it. Organization: SED, Stanford Telecom, Reston, VA 22090 Lines: 16  In article \\u003c\\u003e  writes: \\u003eThi...\",\"oards (was Re: Vandalizing the sky.) Organization: LLNL Lines: 96 Distribution: world NNTP-Posting-H...\",\" Organization: Express Access Online Communications USA Lines: 23 Distribution: world NNTP-Posting-H...\",\"ization: Brunel University, West London, UK Lines: 26  \\u003c\\u003e  writes:  \\u003eSo some of my ideas are a bit o...\",\" Moon first? Nntp-Posting-Host: unseen1.acns.nwu.edu Organization: Northwestern University, Evanston...\",\"unding Cuts. Organization: California Polytechnic State University, San Luis Obispo Lines: 51  Why d...\",\"-Xxmessage-Id: \\u003c\\u003e X-Xxdate: Fri, 16 Apr 93 06:33:17 GMT Organization: Simon Fraser University X-User...\",\"ng Cuts. Organization: Jet Propulsion Laboratory Lines: 15 Distribution: world NNTP-Posting-Host: ke...\",\" with the ears!) Organization: California Polytechnic State University, San Luis Obispo Lines: 31  \\u003e...\",\"es on the moon Organization: Lick Observatory\\u002fUCO Lines: 42 \\t\\u003c\\u003e \\t\\u003c\\u003e NNTP-Posting-Host: topaz.ucsc.ed...\",\"t year-lo Organization: ARCO Oil and Gas Company Lines: 44   (Craig Keithley) writes: \\u003e \\u003e All in all...\",\"TO type stuff from a shareholder perspective. Organization: Netcom Online Communications Services (4...\",\"ned Lunar Exploration. May 7 Crystal City Organization: Fermi National Accelerator Laboratory Lines:...\",\" Space Launcer Organization: Boeing AI Center, Huntsville, AL Lines: 72   Okay, lets get the record ...\",\"Jet Propulsion Laboratory Lines: 79 Distribution: world NNTP-Posting-Host: kelvin.jpl.nasa.gov News-...\",\"x (was:*Doppelganger*) Organization: NASA Langley Research Center Lines: 14 Distribution: world Repl...\",\"3.124722.1 Organization: University of Alaska Fairbanks Lines: 11 Nntp-Posting-Host: acad3.alaska.ed...\",\"e \\u003c\\u003eRe: Apollo Training in Iceland Distribution: sci Lines: 10  The Apollo astronauts also trained a...\",\"ss Access Online Communications USA Lines: 20 NNTP-Posting-Host: access.digex.net  In article \\u003c\\u003e  (G...\",\"akala BBS (ClanZen Radio Network) Sunnyvale, CA +1-408-734-2289 Lines: 20   (Doug Mohney) writes:  \\u003e...\",\"Access Online Communications USA Lines: 9 NNTP-Posting-Host: access.digex.net Keywords: food  dillon...\",\"cs Supersedes: \\u003c\\u003e Organization: University of North Carolina, Chapel Hill Lines: 95 Distribution: wo...\",\"ization: Express Access Online Communications USA Lines: 25 NNTP-Posting-Host: access.digex.net  In ...\",\"cle on Federal R&D Organization: Fermi National Accelerator Laboratory Lines: 24 NNTP-Posting-Host: ...\",\"uttle Keywords: Space Shuttle, Orbital Elements, Keplerian Nntp-Posting-Host: scgraph.afit.af.mil Or...\",\"on \\u003c\\u003eRe: Gamma Ray Bursters. Where are they?  \\u003c\\u003e Lines: 8  If all of these things have been detected...\",\"n residents? Article-I.D.: aurora.1993Apr19.130503.1 Organization: University of Alaska Fairbanks Li...\",\"g-Host: cc_sysk Organization: Coventry University Lines: 31  In article \\u003c\\u003e Callec Dradja \\u003c\\u003e writes: ...\",\" 7  Crystal City Organization: Express Access Online Communications, Greenbelt MD USA Lines: 9 Distr...\",\"ronto Zoology Lines: 18  In article \\u003c1raejd$\\u003e  (Pat) writes: \\u003ewhat ever happened to the hypothesis  ...\",\" 04\\u002f22\\u002f93) Organization: Express Access Online Communications USA Lines: 20 NNTP-Posting-Host: acces...\",\"n residents? Article-I.D.: aurora.1993Apr20.141137.1 Organization: University of Alaska Fairbanks Li...\",\"U of Toronto Zoology Lines: 24  In article \\u003c\\u003e  (Don Schiewer) writes: \\u003eWhat is the deal with life on...\",\"pdate - 04\\u002f22\\u002f93) Organization: Jet Propulsion Laboratory Lines: 22 Distribution: world NNTP-Posting...\",\"ound Jupiter? Article-I.D.: srl03.pgf.734063192 Organization: Univ. of Southwestern Louisiana Lines:...\",\" object found? X-Added: Forwarded by Space Digest Organization: [via International Space University]...\",\"e: Vulcan? No, not Spock or Haphaestus) Organization: Fermi National Accelerator Laboratory Lines: 2...\",\"od Article-I.D.: news.1pscc6INNebg Organization: Organization?  You must be kidding. Lines: 35 NNTP-...\",\": University of Denver, Dept. of Math & Comp. Sci. Lines: 114    ARIANESPACE FLIGHT 56  (Flight V.56...\",\"d Lines: 25 Nntp-Posting-Host: skndiv.dseg.ti.com Reply-To:  Organization: TI\\u002fDSEG VAX Support   In ...\",\"ploration. May 7 Crystal City Organization: NASA Ames Research Center Distribution: na Lines: 14   (...\",\"ation: Worcester Polytechnic Institute, Worcester, MA 01609-2280 Lines: 11 NNTP-Posting-Host: wpi.wp...\",\"lboards (was Re: Vandalizing the sky.) Organization: stanford Lines: 38  In article \\u003c\\u003e,  (Brian Yama...\",\"tion: University of Denver, Dept. of Math & Comp. Sci. Lines: 22   And one of my profs is the chief ...\",\"on \\u003c\\u003eRe: What if the USSR had reached the Moon first?  \\u003c\\u003e \\u003c\\u003e  \\u003c\\u003e \\u003c\\u003e  \\u003c\\u003e \\u003c\\u003e Lines: 38  In article \\u003c\\u003e,...\",\"ronto Zoology Lines: 31  In article \\u003c\\u003e  (fred j mccall 575-3539) writes: \\u003e\\u003e\\u003e(given that I've heard t...\",\"SME? X-Added: Forwarded by Space Digest Organization: [via International Space University] Original-...\",\"No, not Spock or Haphaestus) Article-I.D.: mojo.1qkn6rINNett Reply-To:  Distribution: world Organiza...\",\"g. Organization: U of Toronto Zoology Lines: 22  In article \\u003c\\u003e  writes: \\u003eHere is a way to get the co...\",\"oration. May 7 Crystal City Distribution: na Organization: University of Illinois at Urbana Lines: 1...\",\"Nntp-Posting-Host: acad3.alaska.edu Organization: University of Alaska Fairbanks  In article \\u003c\\u003e,  (D...\",\" Organization: [via International Space University] Original-Sender:  Distribution: sci Lines: 14   ...\",\"Organization: Texas Instruments Inc Distribution: na Lines: 35  In \\u003c\\u003e  (Elijah Millgram) writes:   \\u003e...\",\"es on the moon Organization: Lick Observatory\\u002fUCO Lines: 26 \\t\\u003c\\u003e\\t\\u003c\\u003e\\t\\u003c\\u003e,\\u003c\\u003e \\t\\u003c\\u003e NNTP-Posting-Host: topa...\",\"ds: DC-X Nntp-Posting-Host: husc8.harvard.edu Lines: 17       I've been following discussions about ...\",\"ation: Express Access Online Communications USA Lines: 25 NNTP-Posting-Host: access.digex.net  In ar...\",\", why? Organization: Apple Computer, Inc. Lines: 44  In article \\u003c\\u003e,  (Henry Spencer) wrote: \\u003e  \\u003e The...\",\"tion: U of Toronto Zoology Lines: 21  In article \\u003c\\u003e  (Steve Collins) writes: \\u003eThe difficulties of a ...\",\"y Space Digest Organization: [via International Space University] Original-Sender:  Distribution: sc...\",\"Jupiter? Organization: SoftQuad Inc., Toronto, Canada Lines: 20   \\u003e \\u003e \\u003e Also, peri[jove]s of Gehrels...\",\"ation: U of Toronto Zoology Lines: 21  In article \\u003c\\u003e  (CLAUDIO OLIVEIRA EGALON) writes: \\u003e\\u003e there is ...\",\"ne 5 Distribution: sci Organization: Goddard Space Flight Center - Robotics Lab Lines: 26 News-Softw...\",\"eply-To: 's message of Sat, 17 Apr 1993 12: 52:09 GMT Organization: National Radio Astronomy Observa...\",\"d by Space Digest Organization: [via International Space University] Original-Sender:  Distribution:...\",\"b Space Station?) Article-I.D.: iti.1993Apr6.124456.14123 Organization: Evil Geniuses for a Better T...\",\"ion: University of Central Florida Lines: 19  I posted this over in sci.astro, but it didn't make it...\",\" Alternative #4 Organization: NASA\\u002fJSC\\u002fGM2, Space Shuttle Program Office  X-Newsreader: TIN [version...\",\"uestions list Supersedes: \\u003c\\u003e Organization: University of North Carolina, Chapel Hill Lines: 36 Distr...\",\"t year-long moon residents? Organization: Alpha Science Computer Network, Denver, Co. Lines: 5  The ...\",\"University of Texas at Austin Computation Center Lines: 20 Distribution: world NNTP-Posting-Host: ga...\",\"ting-Host: well.sf.ca.us Organization: Whole Earth 'Lectronic Link Lines: 29   The difficulties of a...\",\"tronaut) Organization: Statistics, Pure & Applied Mathematics, University of Adelaide Lines: 25  In ...\",\"ng for a little research help [ addendum] Organization: Dynamic Graphics Inc. Lines: 10 Distribution...\",\"ganization: Worcester Polytechnic Institute Lines: 15 NNTP-Posting-Host: bigwpi.wpi.edu    Hello eve...\",\"n: U of Toronto Zoology Lines: 21  In article \\u003c\\u003e  (David M. Palmer) writes: \\u003e\\u003eorbiting billboard... ...\",\"e Moon first? Reply-To:  (Gary Coffman) Organization: Destructive Testing Systems Lines: 63  In arti...\",\"nization: University of Western Ontario, London Nntp-Posting-Host: prism.engrg.uwo.ca Lines: 15  In ...\",\" not give $1G) Organization: University of Illinois at Urbana Lines: 42   (Keith Mancus) writes:  \\u003e ...\",\"n: Jet Propulsion Laboratory Lines: 113 Distribution: world NNTP-Posting-Host: kelvin.jpl.nasa.gov K...\",\"ound Jupiter? Organization: Univ. of Southwestern Louisiana Lines: 28   (Mark Brader) writes:   \\u003eTha...\",\"ess Access Online Communications USA Lines: 18 NNTP-Posting-Host: access.digex.net  In article \\u003c1r6f...\",\"eles, CA X-Added: Forwarded by Space Digest Organization: [via International Space University] Origi...\",\"oon Organization: University of Rochester Lines: 38  In article \\u003c\\u003e  (Gary Coffman) writes:   \\u003e be th...\",\" Organization: NASA\\u002fGSFC Greenbelt Maryland Lines: 13  A brief political\\u002fcultural item.  Radio stati...\",\"uter Aided Design Lab, U. of Maryland College Park Lines: 13 Reply-To:  NNTP-Posting-Host: queen.eng...\",\" Forwarded by Space Digest Mmdf-Warning: Parse error in original version of preceding line at VACATI...\",\"T BY ETHER TWIST Reply-To:  Organization: Tektronix, Inc., Beaverton,  OR. Lines: 31   ----- News sa...\",\"cess.1psghn$s7r Organization: Express Access Online Communications USA Lines: 19 NNTP-Posting-Host: ...\",\"st year-long moon residents? Organization: U of Toronto Zoology Lines: 15  In article \\u003c\\u003e  (Allen W. ...\",\"cago Organization: Motorola Distribution: usa Nntp-Posting-Host: 145.1.146.43 Lines: 59  I am postin...\",\"o... Article-I.D.: aurora.1993Apr23.000021.1 Organization: University of Alaska Fairbanks Lines: 55 ...\",\"icle-I.D.: aurora.1993Apr25.150437.1 Organization: University of Alaska Fairbanks Lines: 28 Nntp-Pos...\",\"1 Nntp-Posting-Host: skndiv.dseg.ti.com Reply-To:  Organization: TI\\u002fDSEG VAX Support   In article \\u003c\\u003e...\",\"ganization: Jet Propulsion Laboratory Lines: 23 Distribution: world NNTP-Posting-Host: kelvin.jpl.na...\",\"ribution: na Organization: Space Telescope Science Institute Lines: 42  In article \\u003c\\u003e,   (Victor Lak...\",\" Feb 23 1993 Lines: 27  Mark Prado    \\u003ePlease go just one step further: \\u003eHow has the word \\\"Clementin...\",\": aurora.1993Apr5.185700.1 Organization: University of Alaska Fairbanks Lines: 21 Nntp-Posting-Host:...\",\"ss Online Communications USA Lines: 20 Distribution: sci NNTP-Posting-Host: access.digex.net    I am...\",\"zation: UTexas Mail-to-News Gateway Lines: 37 NNTP-Posting-Host: cs.utexas.edu  In article \\u003c1raee7$\\u003e...\",\"light Test Organization: Texas Instruments Inc Lines: 14  In \\u003c\\u003e  writes:  \\u003eSince the DC-X is to take...\",\"k or Haphaestus Organization: NASA Langley Research Center Lines: 16 Distribution: world Reply-To:  ...\",\"d for 11 Days Organization: U of Toronto Zoology Lines: 35  In article \\u003c1rd1g0$\\u003e  (Pat) writes: \\u003eHow...\",\"rganization: Fermi National Accelerator Laboratory Lines: 56 NNTP-Posting-Host: fnalf.fnal.gov  In a...\",\" not give $1G) Organization: MDSSC Lines: 60   (Josh Hopkins) writes: \\u003e (Keith Mancus) writes: \\u003e\\u003e (L...\",\"ator:  Reply-To:  (Mitch) Organization: North Carolina State University, Project Eos Lines: 21   Hi ...\",\" netnews Organization: The Trystro System (617) 625-7155 v.32\\u002fv.42bis Lines: 27  In article \\u003c\\u003e mwm+@...\",\" Article-I.D.: rave.1psogpINNksq Reply-To:  (CLAUDIO OLIVEIRA EGALON) Distribution: world Organizati...\",\"Feb 23 1993 Lines: 81  Brian Yamauchi asks: [Regarding orbital billboards...] \\u003eAnd does anyone have ...\",\" TWIST  (Ross Smith) Distribution: world Organization: Muppet Labs Lines: 27  In article \\u003c\\u003e  (fred j...\",\"g? Organization: NASA Langley Research Center Lines: 13 Distribution: world Reply-To:  (CLAUDIO OLIV...\",\": 's message of Wed, 21 Apr 93 16:28:00 GMT Originator:  Nntp-Posting-Host: snow.fox.cs.cmu.edu Orga...\",\"xpress Access Online Communications USA Lines: 9 NNTP-Posting-Host: access.digex.net  In article \\u003c\\u003e ...\",\"nding Cuts. Organization: University of Virginia Lines: 13  In article \\u003c1r6aqr$\\u003e  (Pat) writes: #The...\",\"ion: California Institute of Technology, Pasadena Lines: 39 NNTP-Posting-Host: alumni.caltech.edu   ...\",\"uter Aided Design Lab, U. of Maryland College Park Lines: 22 Reply-To:  NNTP-Posting-Host: queen.eng...\",\" Organization: Space Telescope Science Institute, Baltimore MD Lines: 14  Another fish to check out ...\",\" NASA\\u002fMSFC Lines: 40   (Dennis Newkirk) writes: The Centaur is controlled technology.. State Dept wi...\",\"ntp-Posting-Host: ngis.geod.emr.ca Organization: Dept. of Energy, Mines, and Resources, Ottawa Lines...\",\"osting-Host: ugl-gw.uvic.ca Organization: University of Victoria, Victoria, BC, Canada Lines: 33  In...\",\"n: Science Applications Int'l Corp.\\u002fSan Diego Lines: 111        Ethnocentric USian that I am, I've a...\",\"osting-Host: sor.cs.colostate.edu Organization: Colorado State University -=- Computer Science Dept....\",\"ion: Inland Steel Company, East Chicago, IN Nntp-Posting-Host: pa881a Nntp-Posting-User: schiewer Li...\",\"cess Online Communications USA Lines: 15 NNTP-Posting-Host: access.digex.net   Well thank you dennis...\",\"ting-Host: nucleus.ps.uci.edu Organization: University of California, Irvine Lines: 30  Actually, th...\",\"axy.29034 Organization: University of California, Riverside Lines: 82 Nntp-Posting-Host: guitar.ucr....\",\"ie Organization: Trinity College Dublin Lines: 11  I need as much information about Cosmos 2238 and ...\",\"Russian Space Cooperation Organization: NASA\\u002fGSFC Greenbelt Maryland Lines: 23  Reported yesterday i...\"],\"x\":[-0.114670529961586,-0.09074877947568893,-0.1431959718465805,-0.16492296755313873,-0.08804124593734741,-0.01581761986017227,-0.0375521220266819,-0.011830292642116547,-0.04442577436566353,-0.08047068119049072,0.09545916318893433,-0.012440521270036697,-0.02538558840751648,-0.17652279138565063,-0.06671025604009628,-0.22435720264911652,0.068416528403759,0.0494375117123127,0.01988130621612072,-0.13481314480304718,0.006207807920873165,-0.014235825277864933,-0.07116135954856873,0.03345717117190361,-0.06584609299898148,-0.20661933720111847,-0.08906545490026474,-0.06320198625326157,0.024094045162200928,-0.12680184841156006,-0.02362867444753647,-0.2116471827030182,-0.012628969736397266,0.011367936618626118,-0.01167080644518137,-0.10909760743379593,-0.020026560872793198,-0.13863861560821533,-0.17063909769058228,-0.12236493080854416,-0.1754644811153412,0.1700587272644043,0.00011864611587952822,-0.15957076847553253,-0.19984591007232666,0.2425411343574524,0.033083267509937286,-0.03408695012331009,-0.09393642097711563,0.02528909221291542,-0.16612248122692108,-0.14852315187454224,-0.3074513375759125,-0.20175617933273315,0.05176025256514549,-0.19690541923046112,-0.14368638396263123,-0.21779705584049225,-0.1415252536535263,-0.15856806933879852,-0.24266111850738525,-0.09575106203556061,-0.27051758766174316,-0.15740226209163666,-0.19594384729862213,-0.05037631839513779,-0.07230059802532196,-0.006238081026822329,-0.07264688611030579,-0.11769350618124008,-0.0280979722738266,-0.07192941009998322,-0.1715054214000702,0.1493208110332489,-0.08941544592380524,0.010759145021438599,-0.029027778655290604,-0.06187073886394501,0.02444620244204998,-0.02979244664311409,-0.08224955946207047,-0.08197500556707382,-0.10794886946678162,-0.18340913951396942,-0.00835491344332695,0.0008339840569533408,-0.06838798522949219,-0.012448979541659355,-0.08533509820699692,-0.046670980751514435,-0.11335577070713043,-0.04826446250081062,-0.006000824272632599,-0.03170911222696304,-0.2727114260196686,-0.11623504012823105,-0.18558895587921143,-0.11967479437589645,0.008378012105822563,0.052823200821876526,-0.03317157179117203,-0.16516225039958954,-0.1288650780916214,-0.15635709464550018,-0.09561828523874283,-0.1300637274980545,-0.04969688504934311,0.12153667956590652,0.00867136288434267,-0.126995250582695,-0.19171291589736938,-0.01962992362678051,-0.10404450446367264,0.061171166598796844,-0.01930365152657032,0.002017291495576501,-0.21450525522232056,-0.22152812778949738,-0.1388423591852188,-0.0939730703830719,-0.09941919893026352,-0.1084984764456749,-0.07914048433303833,-0.22674767673015594,-0.20586983859539032,-0.13517563045024872,-0.06303352117538452,-0.03755886107683182,0.020554194226861,-0.11480207741260529,-0.009004294872283936,-0.08809315413236618,-0.18390414118766785,0.041376642882823944,-0.009904523380100727,-0.0179575365036726,-0.06473962217569351,0.14781557023525238,-0.006261308677494526,-0.13240867853164673,-0.10959894210100174,-0.05152612924575806,0.12987521290779114,-0.025738639757037163,-0.15551036596298218,0.005549243185669184,-0.03518399968743324,-0.11204351484775543,-0.09337516874074936,-0.011514784768223763],\"y\":[0.2321871668100357,-0.016903795301914215,0.09890605509281158,-0.09843776375055313,0.2971900701522827,0.1402583122253418,0.18340861797332764,0.33616092801094055,0.344154417514801,0.08782042562961578,0.2638697028160095,0.3728739619255066,0.2973143458366394,0.011465970426797867,0.19924548268318176,0.2519315481185913,0.17337729036808014,0.145175039768219,0.19506318867206573,0.2860790491104126,0.16140837967395782,0.32927876710891724,0.22235071659088135,0.23712891340255737,0.2549229562282562,0.19881568849086761,-0.04198252037167549,0.2261999249458313,0.10128839313983917,0.2781546711921692,0.2140265256166458,0.09407329559326172,-0.01900501362979412,0.3105146884918213,0.28068414330482483,0.302015483379364,0.07953052222728729,0.26120951771736145,0.24437880516052246,0.30984002351760864,0.4524741768836975,-0.001571164932101965,0.4020397663116455,-0.04958386719226837,0.04248861223459244,0.15585757791996002,0.15787319839000702,0.3784196078777313,0.09620817750692368,0.34418976306915283,-0.1521356999874115,0.3759625256061554,0.02480689063668251,0.20468482375144958,0.33297836780548096,0.05218883603811264,0.1499030739068985,0.15761926770210266,0.25658613443374634,0.2985908091068268,-0.03631923720240593,0.3206758201122284,-0.06524006277322769,0.3861986994743347,0.3335738182067871,0.22370141744613647,0.08768594264984131,0.26468273997306824,0.1546088457107544,0.050421807914972305,0.33503061532974243,0.1482996940612793,0.3398003578186035,0.39163336157798767,0.1248152032494545,0.05938376113772392,0.20957854390144348,0.1348440796136856,0.05135920271277428,0.3344007134437561,0.20923878252506256,0.17181529104709625,0.15479707717895508,0.18147990107536316,0.3527916967868805,0.23203520476818085,0.30229392647743225,0.2450573742389679,0.231803759932518,0.2066638171672821,0.3071848154067993,0.29511815309524536,0.1657613217830658,0.2682332396507263,0.24858041107654572,0.20327088236808777,0.32110583782196045,0.25532886385917664,0.344593346118927,0.21757641434669495,0.32918581366539,0.3076259195804596,0.16959726810455322,0.1969379484653473,0.3650463819503784,0.18358482420444489,0.24405862390995026,0.36385950446128845,0.29754170775413513,0.08077274262905121,-0.030560502782464027,0.26451271772384644,0.35540518164634705,0.14271263778209686,0.3363604247570038,0.010714743286371231,0.21554245054721832,0.09243842959403992,0.12104187160730362,0.34998106956481934,0.008281189948320389,0.14559204876422882,0.12623901665210724,0.0639306902885437,0.22819873690605164,0.3764955699443817,0.25654855370521545,0.3073277175426483,0.2284422218799591,0.20431563258171082,0.23704908788204193,0.09936472773551941,0.1944522261619568,0.1734372079372406,0.11510268598794937,0.25757768750190735,0.259179949760437,0.3771234154701233,0.20933474600315094,0.1697901487350464,0.27950572967529297,0.0538574755191803,0.06452244520187378,0.08728975057601929,0.15088941156864166,0.2237965613603592,0.18365870416164398,0.2046588957309723,0.3994770050048828,0.19478489458560944],\"type\":\"scatter\"}],                        {\"height\":800,\"hovermode\":\"closest\",\"template\":{\"data\":{\"barpolar\":[{\"marker\":{\"line\":{\"color\":\"#E5ECF6\",\"width\":0.5},\"pattern\":{\"fillmode\":\"overlay\",\"size\":10,\"solidity\":0.2}},\"type\":\"barpolar\"}],\"bar\":[{\"error_x\":{\"color\":\"#2a3f5f\"},\"error_y\":{\"color\":\"#2a3f5f\"},\"marker\":{\"line\":{\"color\":\"#E5ECF6\",\"width\":0.5},\"pattern\":{\"fillmode\":\"overlay\",\"size\":10,\"solidity\":0.2}},\"type\":\"bar\"}],\"carpet\":[{\"aaxis\":{\"endlinecolor\":\"#2a3f5f\",\"gridcolor\":\"white\",\"linecolor\":\"white\",\"minorgridcolor\":\"white\",\"startlinecolor\":\"#2a3f5f\"},\"baxis\":{\"endlinecolor\":\"#2a3f5f\",\"gridcolor\":\"white\",\"linecolor\":\"white\",\"minorgridcolor\":\"white\",\"startlinecolor\":\"#2a3f5f\"},\"type\":\"carpet\"}],\"choropleth\":[{\"colorbar\":{\"outlinewidth\":0,\"ticks\":\"\"},\"type\":\"choropleth\"}],\"contourcarpet\":[{\"colorbar\":{\"outlinewidth\":0,\"ticks\":\"\"},\"type\":\"contourcarpet\"}],\"contour\":[{\"colorbar\":{\"outlinewidth\":0,\"ticks\":\"\"},\"colorscale\":[[0.0,\"#0d0887\"],[0.1111111111111111,\"#46039f\"],[0.2222222222222222,\"#7201a8\"],[0.3333333333333333,\"#9c179e\"],[0.4444444444444444,\"#bd3786\"],[0.5555555555555556,\"#d8576b\"],[0.6666666666666666,\"#ed7953\"],[0.7777777777777778,\"#fb9f3a\"],[0.8888888888888888,\"#fdca26\"],[1.0,\"#f0f921\"]],\"type\":\"contour\"}],\"heatmapgl\":[{\"colorbar\":{\"outlinewidth\":0,\"ticks\":\"\"},\"colorscale\":[[0.0,\"#0d0887\"],[0.1111111111111111,\"#46039f\"],[0.2222222222222222,\"#7201a8\"],[0.3333333333333333,\"#9c179e\"],[0.4444444444444444,\"#bd3786\"],[0.5555555555555556,\"#d8576b\"],[0.6666666666666666,\"#ed7953\"],[0.7777777777777778,\"#fb9f3a\"],[0.8888888888888888,\"#fdca26\"],[1.0,\"#f0f921\"]],\"type\":\"heatmapgl\"}],\"heatmap\":[{\"colorbar\":{\"outlinewidth\":0,\"ticks\":\"\"},\"colorscale\":[[0.0,\"#0d0887\"],[0.1111111111111111,\"#46039f\"],[0.2222222222222222,\"#7201a8\"],[0.3333333333333333,\"#9c179e\"],[0.4444444444444444,\"#bd3786\"],[0.5555555555555556,\"#d8576b\"],[0.6666666666666666,\"#ed7953\"],[0.7777777777777778,\"#fb9f3a\"],[0.8888888888888888,\"#fdca26\"],[1.0,\"#f0f921\"]],\"type\":\"heatmap\"}],\"histogram2dcontour\":[{\"colorbar\":{\"outlinewidth\":0,\"ticks\":\"\"},\"colorscale\":[[0.0,\"#0d0887\"],[0.1111111111111111,\"#46039f\"],[0.2222222222222222,\"#7201a8\"],[0.3333333333333333,\"#9c179e\"],[0.4444444444444444,\"#bd3786\"],[0.5555555555555556,\"#d8576b\"],[0.6666666666666666,\"#ed7953\"],[0.7777777777777778,\"#fb9f3a\"],[0.8888888888888888,\"#fdca26\"],[1.0,\"#f0f921\"]],\"type\":\"histogram2dcontour\"}],\"histogram2d\":[{\"colorbar\":{\"outlinewidth\":0,\"ticks\":\"\"},\"colorscale\":[[0.0,\"#0d0887\"],[0.1111111111111111,\"#46039f\"],[0.2222222222222222,\"#7201a8\"],[0.3333333333333333,\"#9c179e\"],[0.4444444444444444,\"#bd3786\"],[0.5555555555555556,\"#d8576b\"],[0.6666666666666666,\"#ed7953\"],[0.7777777777777778,\"#fb9f3a\"],[0.8888888888888888,\"#fdca26\"],[1.0,\"#f0f921\"]],\"type\":\"histogram2d\"}],\"histogram\":[{\"marker\":{\"pattern\":{\"fillmode\":\"overlay\",\"size\":10,\"solidity\":0.2}},\"type\":\"histogram\"}],\"mesh3d\":[{\"colorbar\":{\"outlinewidth\":0,\"ticks\":\"\"},\"type\":\"mesh3d\"}],\"parcoords\":[{\"line\":{\"colorbar\":{\"outlinewidth\":0,\"ticks\":\"\"}},\"type\":\"parcoords\"}],\"pie\":[{\"automargin\":true,\"type\":\"pie\"}],\"scatter3d\":[{\"line\":{\"colorbar\":{\"outlinewidth\":0,\"ticks\":\"\"}},\"marker\":{\"colorbar\":{\"outlinewidth\":0,\"ticks\":\"\"}},\"type\":\"scatter3d\"}],\"scattercarpet\":[{\"marker\":{\"colorbar\":{\"outlinewidth\":0,\"ticks\":\"\"}},\"type\":\"scattercarpet\"}],\"scattergeo\":[{\"marker\":{\"colorbar\":{\"outlinewidth\":0,\"ticks\":\"\"}},\"type\":\"scattergeo\"}],\"scattergl\":[{\"marker\":{\"colorbar\":{\"outlinewidth\":0,\"ticks\":\"\"}},\"type\":\"scattergl\"}],\"scattermapbox\":[{\"marker\":{\"colorbar\":{\"outlinewidth\":0,\"ticks\":\"\"}},\"type\":\"scattermapbox\"}],\"scatterpolargl\":[{\"marker\":{\"colorbar\":{\"outlinewidth\":0,\"ticks\":\"\"}},\"type\":\"scatterpolargl\"}],\"scatterpolar\":[{\"marker\":{\"colorbar\":{\"outlinewidth\":0,\"ticks\":\"\"}},\"type\":\"scatterpolar\"}],\"scatter\":[{\"fillpattern\":{\"fillmode\":\"overlay\",\"size\":10,\"solidity\":0.2},\"type\":\"scatter\"}],\"scatterternary\":[{\"marker\":{\"colorbar\":{\"outlinewidth\":0,\"ticks\":\"\"}},\"type\":\"scatterternary\"}],\"surface\":[{\"colorbar\":{\"outlinewidth\":0,\"ticks\":\"\"},\"colorscale\":[[0.0,\"#0d0887\"],[0.1111111111111111,\"#46039f\"],[0.2222222222222222,\"#7201a8\"],[0.3333333333333333,\"#9c179e\"],[0.4444444444444444,\"#bd3786\"],[0.5555555555555556,\"#d8576b\"],[0.6666666666666666,\"#ed7953\"],[0.7777777777777778,\"#fb9f3a\"],[0.8888888888888888,\"#fdca26\"],[1.0,\"#f0f921\"]],\"type\":\"surface\"}],\"table\":[{\"cells\":{\"fill\":{\"color\":\"#EBF0F8\"},\"line\":{\"color\":\"white\"}},\"header\":{\"fill\":{\"color\":\"#C8D4E3\"},\"line\":{\"color\":\"white\"}},\"type\":\"table\"}]},\"layout\":{\"annotationdefaults\":{\"arrowcolor\":\"#2a3f5f\",\"arrowhead\":0,\"arrowwidth\":1},\"autotypenumbers\":\"strict\",\"coloraxis\":{\"colorbar\":{\"outlinewidth\":0,\"ticks\":\"\"}},\"colorscale\":{\"diverging\":[[0,\"#8e0152\"],[0.1,\"#c51b7d\"],[0.2,\"#de77ae\"],[0.3,\"#f1b6da\"],[0.4,\"#fde0ef\"],[0.5,\"#f7f7f7\"],[0.6,\"#e6f5d0\"],[0.7,\"#b8e186\"],[0.8,\"#7fbc41\"],[0.9,\"#4d9221\"],[1,\"#276419\"]],\"sequential\":[[0.0,\"#0d0887\"],[0.1111111111111111,\"#46039f\"],[0.2222222222222222,\"#7201a8\"],[0.3333333333333333,\"#9c179e\"],[0.4444444444444444,\"#bd3786\"],[0.5555555555555556,\"#d8576b\"],[0.6666666666666666,\"#ed7953\"],[0.7777777777777778,\"#fb9f3a\"],[0.8888888888888888,\"#fdca26\"],[1.0,\"#f0f921\"]],\"sequentialminus\":[[0.0,\"#0d0887\"],[0.1111111111111111,\"#46039f\"],[0.2222222222222222,\"#7201a8\"],[0.3333333333333333,\"#9c179e\"],[0.4444444444444444,\"#bd3786\"],[0.5555555555555556,\"#d8576b\"],[0.6666666666666666,\"#ed7953\"],[0.7777777777777778,\"#fb9f3a\"],[0.8888888888888888,\"#fdca26\"],[1.0,\"#f0f921\"]]},\"colorway\":[\"#636efa\",\"#EF553B\",\"#00cc96\",\"#ab63fa\",\"#FFA15A\",\"#19d3f3\",\"#FF6692\",\"#B6E880\",\"#FF97FF\",\"#FECB52\"],\"font\":{\"color\":\"#2a3f5f\"},\"geo\":{\"bgcolor\":\"white\",\"lakecolor\":\"white\",\"landcolor\":\"#E5ECF6\",\"showlakes\":true,\"showland\":true,\"subunitcolor\":\"white\"},\"hoverlabel\":{\"align\":\"left\"},\"hovermode\":\"closest\",\"mapbox\":{\"style\":\"light\"},\"paper_bgcolor\":\"white\",\"plot_bgcolor\":\"#E5ECF6\",\"polar\":{\"angularaxis\":{\"gridcolor\":\"white\",\"linecolor\":\"white\",\"ticks\":\"\"},\"bgcolor\":\"#E5ECF6\",\"radialaxis\":{\"gridcolor\":\"white\",\"linecolor\":\"white\",\"ticks\":\"\"}},\"scene\":{\"xaxis\":{\"backgroundcolor\":\"#E5ECF6\",\"gridcolor\":\"white\",\"gridwidth\":2,\"linecolor\":\"white\",\"showbackground\":true,\"ticks\":\"\",\"zerolinecolor\":\"white\"},\"yaxis\":{\"backgroundcolor\":\"#E5ECF6\",\"gridcolor\":\"white\",\"gridwidth\":2,\"linecolor\":\"white\",\"showbackground\":true,\"ticks\":\"\",\"zerolinecolor\":\"white\"},\"zaxis\":{\"backgroundcolor\":\"#E5ECF6\",\"gridcolor\":\"white\",\"gridwidth\":2,\"linecolor\":\"white\",\"showbackground\":true,\"ticks\":\"\",\"zerolinecolor\":\"white\"}},\"shapedefaults\":{\"line\":{\"color\":\"#2a3f5f\"}},\"ternary\":{\"aaxis\":{\"gridcolor\":\"white\",\"linecolor\":\"white\",\"ticks\":\"\"},\"baxis\":{\"gridcolor\":\"white\",\"linecolor\":\"white\",\"ticks\":\"\"},\"bgcolor\":\"#E5ECF6\",\"caxis\":{\"gridcolor\":\"white\",\"linecolor\":\"white\",\"ticks\":\"\"}},\"title\":{\"x\":0.05},\"xaxis\":{\"automargin\":true,\"gridcolor\":\"white\",\"linecolor\":\"white\",\"ticks\":\"\",\"title\":{\"standoff\":15},\"zerolinecolor\":\"white\",\"zerolinewidth\":2},\"yaxis\":{\"automargin\":true,\"gridcolor\":\"white\",\"linecolor\":\"white\",\"ticks\":\"\",\"title\":{\"standoff\":15},\"zerolinecolor\":\"white\",\"zerolinewidth\":2}}},\"title\":{\"text\":\"Embedding Plot with Class Labels\"},\"width\":1200,\"xaxis\":{\"showgrid\":false,\"showticklabels\":false,\"zeroline\":false},\"yaxis\":{\"showgrid\":false,\"showticklabels\":false,\"zeroline\":false}},                        {\"displayModeBar\": false, \"responsive\": true}                    ).then(function(){\n",
       "                            \n",
       "var gd = document.getElementById('d800a2ab-0825-474e-8810-ed34169b2086');\n",
       "var x = new MutationObserver(function (mutations, observer) {{\n",
       "        var display = window.getComputedStyle(gd).display;\n",
       "        if (!display || display === 'none') {{\n",
       "            console.log([gd, 'removed!']);\n",
       "            Plotly.purge(gd);\n",
       "            observer.disconnect();\n",
       "        }}\n",
       "}});\n",
       "\n",
       "// Listen for the removal of the full notebook cells\n",
       "var notebookContainer = gd.closest('#notebook-container');\n",
       "if (notebookContainer) {{\n",
       "    x.observe(notebookContainer, {childList: true});\n",
       "}}\n",
       "\n",
       "// Listen for the clearing of the current output cell\n",
       "var outputEl = gd.closest('.output');\n",
       "if (outputEl) {{\n",
       "    x.observe(outputEl, {childList: true});\n",
       "}}\n",
       "\n",
       "                        })                };                });            </script>        </div>"
      ]
     },
     "metadata": {},
     "output_type": "display_data"
    }
   ],
   "source": [
    "X = np.vstack(df['SBERT_embedding'].values)\n",
    "\n",
    "tsne = PCA(n_components=2)\n",
    "X_tsne = tsne.fit_transform(X)\n",
    "\n",
    "hover_plot(X_tsne, df)"
   ]
  },
  {
   "cell_type": "markdown",
   "metadata": {},
   "source": [
    "We are now starting to see true separation, but, can we do better? What can we change?"
   ]
  },
  {
   "cell_type": "markdown",
   "metadata": {},
   "source": [
    "## Exercise:\n",
    "\n",
    "Change the dimensionality reduction technique. Try t-sne."
   ]
  },
  {
   "cell_type": "code",
   "execution_count": 14,
   "metadata": {},
   "outputs": [
    {
     "data": {
      "application/vnd.plotly.v1+json": {
       "config": {
        "displayModeBar": false,
        "linkText": "Export to plot.ly",
        "plotlyServerURL": "https://plot.ly",
        "showLink": false
       },
       "data": [
        {
         "hoverinfo": "text",
         "marker": {
          "line": {
           "color": "white",
           "width": 0.5
          },
          "size": 15
         },
         "mode": "markers",
         "name": "Class sci.crypt",
         "opacity": 0.7,
         "text": [
          " security? Lines: 24  \t (Graham Toal) writes: \t> \t>In the UK, it's impossible to get approval to att...",
          "r over the internet... Lines: 92  Well, after a lot of trawling through archives, I found the post I...",
          "od cover for other encryption method? Nntp-Posting-Host: rac2.wam.umd.edu Organization: University o...",
          "no good any more. Reply-To:  Organization: Virus Test Center, University of Hamburg Distribution: na...",
          "o good any more. Organization: Univ. of Southwestern Louisiana Lines: 52   (David Sternlight) writes...",
          "r Chip and crypto key-escrow] Reply-To:  Organization: Chaos Lines: 76 X-Newsreader: Archimedes Read...",
          "-core hackers & spooks only Organization: C-Set/2 Development, IBM Canada Lab. Disclaimer: This post...",
          "no good any more. Nntp-Posting-Host: lonestar.utsa.edu Organization: University of Texas at San Anto...",
          "on: Turing Police Lines: 22   > (Carl Ellison) writes: >For example, if I had a program on my disk w...",
          "each machine (Was: Re: Corporate acceptance of the wiretap chip) Organization: AT&T Bell Laboratorie...",
          "s Online Communications, Greenbelt, MD USA Lines: 13 NNTP-Posting-Host: access.digex.net   > Second ...",
          "ic packages In-Reply-To: 's message of 20 Apr 1993 16: 47:03 GMT Organization: York U. Student Infor...",
          "bution: world Organization: Thibault & Friends Lines: 34  In article <1qg8m2$>  (Edward Vielmetti) w...",
          "ive Organization: Silicon Graphics, Inc.  Mountain View, CA Lines: 20  In article <>,  (David Sternl...",
          "rgraph's Name? Organization: NETCOM On-line Communication Services (408 241-9760 guest) X-Newsreader...",
          "o good any more. Organization: Univ. of Southwestern Louisiana Distribution: na Lines: 25   (douglas...",
          "e Summary: Ways to fight it  Organization: Climate and Global Dynamics Division/NCAR, Boulder, CO Li...",
          "ip and crypto key-escrow] Summary: Whatever... Keywords: Hmm... Organization:  George Mason Universi...",
          "gow University Computing Science Dept. Distribution: net Lines: 7  I am a PhD student. Can I get the...",
          "was: Re: More technical details) Reply-To:  Organization: New Technology, Inc. Lines: 53  ( Below is...",
          " Organization: Harvey Mudd College, Claremont, CA 91711 Lines: 23  In article <>  (Robert Lewis Glen...",
          "law enforcement blocks? Organization: Loral Rolm Mil-Spec Computers Lines: 43  The M code stream  mi...",
          "ization: Swiss Federal Institute of Technology (ETH), Zurich, CH Lines: 120  Hmm, followup on my own...",
          "ors (large state) Organization: UTexas Mail-to-News Gateway Lines: 171 NNTP-Posting-Host: cs.utexas....",
          " \t  The points raised about checking what is actually -in- the chip, as \topposed to what is allegedl...",
          " drive security) Nntp-Posting-Host: servo.qualcomm.com Reply-To:  Organization: Qualcomm, Inc Lines:...",
          "p, subvert or replace it ! Organization: Netcom - Online Communication Services (408 241-9760 guest)...",
          "ent and Q&As on clipper chip encryption Distribution: na Organization: ClariNet Communications Corp....",
          "ganization: Express Access Online Communications, Greenbelt, MD USA Lines: 25 NNTP-Posting-Host: acc...",
          " machine (Was: Re: Corporate acceptance of the wiretap chip) Lines: 16  : At the company I worked fo...",
          "ent and Q&As on clipper chip encryption Organization: ClariNet Communications Corp. Distribution: na...",
          "rganization: Sun Microsystems, Inc. Lines: 70 Nntp-Posting-Host: sunspot.ece.clarkson.edu Cc: tuinst...",
          "y-To:  (Jim McCoy) Organization: The University of Texas - Austin Lines: 53 NNTP-Posting-Host: tramp...",
          " 7  :    I've been thinking about how difficult it would be to make PGP available : in some form on ...",
          "D.: ole.1993Apr20.173039.4722 Organization: Cascade Design Automation Lines: 17       Notwithstandin...",
          "phy Patents) Organization: Oce Graphics USA X-Newsreader: TIN [version 1.1 PL7] Lines: 41  Charles K...",
          "tion: Cold Media  Lines: 13   (Ze'ev Wurman) writes:  >But do we really believe that the various gov...",
          "ative Organization: Metatron Press / Human Systems Performance Group, Austin, TX X-Newsreader: rusne...",
          "P: A TECHNICAL SUMMARY Organization: Brought to you by the numbers 2, 3, and 7 In-Reply-To: 's messa...",
          "r? Organization: Kaleida Labs, Inc. Lines: 10 Distribution: world NNTP-Posting-Host: jfenton.kaleida...",
          "anization: AT&T Bell Laboratories Lines: 55  I'd *desparately* prefer it if we didn't rehash the sam...",
          "ormation Sheet Keywords: Big Bubba Is Watching. Organization: NASA Science Internet Project Office L...",
          " and Q&As on clipper chip encryption Lines: 16  \t (Brad Templeton)  \tLet's assume, for the moment, t...",
          "s for over the internet... Lines: 27  I forwarded an old posting about CELP speech compression:  \tIn...",
          "secret Organization: Panix, (New Yawk City) Lines: 29  In <>  (John R. Levine) writes: (quoting some...",
          " security? Lines: 25  : There are chips which perform the voice compression/expansion.  They can't :...",
          " any more. Nntp-Posting-Host: spot.colorado.edu Organization: University of Colorado, Boulder Distri...",
          "osting-Host: spot.colorado.edu Organization: University of Colorado, Boulder Distribution: na Lines:...",
          "ion: Express Access Online Communications, Greenbelt, MD USA Lines: 10 NNTP-Posting-Host: access.dig...",
          "e Organization: Express Access Online Communications, Greenbelt, MD USA Lines: 7 NNTP-Posting-Host: ...",
          "e is no good any more. Originator:  Nntp-Posting-Host: qualcom.qualcomm.com Organization: Qualcomm, ...",
          "ver for other encryption method? Organization: Optilink Corporation, Petaluma, CA Lines: 19  In arti...",
          "g-Host: wardibm2.med.yale.edu Organization: Yale U. - Genetics Lines: 30  In article <>,  (Vesselin ...",
          "od any more. Organization: Little to None Distribution: na Lines: 13  >>\tWith E-Mail, if they can't ...",
          ")  (Tal Kubo) Distribution: inet Organization: Dept. of Math, Harvard Univ. Nntp-Posting-Host: zaris...",
          "machine (Was: Re: Corporate acceptance of the wiretap chip) In-Reply-To: 's message of Wed, 21 Apr 1...",
          "uncement Organization: capriccioso X-Newsreader: TIN [version 1.1 PL6] Lines: 35  I guess the crypto...",
          "tails Organization: AT&T Bell Laboratories Lines: 20  In article <>,  (D. J. Bernstein) writes: > Sh...",
          " is no good any more. Distribution: na Nntp-Posting-Host: beethoven.cs.colostate.edu Organization: C...",
          "ets Originator:  Keywords: entropy Nntp-Posting-Host: pizzabox.demon.co.uk Reply-To: Graham Toal <> ...",
          "y Patents)  (Arthur Rubin) Organization: Beckman Instruments, Inc. Nntp-Posting-Host: dsg4.dse.beckm...",
          "ood any more. Organization: TRW Systems Division, Fairfax VA Distribution: na Lines: 65   (Timothy C...",
          "nnouncement Organization: Department of Mathematical Sciences Lines: 29 Distribution: inet NNTP-Post...",
          "Chip and crypto key-escrow] Organization: InterCon Systems Corporation - Herndon, VA  USA Lines: 30 ...",
          "s Organization: Swiss Federal Institute of Technology (ETH), Zurich, CH Lines: 28  In article <1qv83...",
          " Kubo) Organization: Dept. of Math, Harvard Univ. Nntp-Posting-Host: zariski.harvard.edu Lines: 55  ...",
          "uncement Lines: 19  \tEven more interesting: the SMTP server at csrc.ncsl.nist.gov no longer \trecogni...",
          "hine (Was: Re: Corporate acceptance of the wiretap chip) Organization: CSRI, University of Toronto L...",
          "no good any more. Organization: ITC/UVA Community Access UNIX/Internet Project Lines: 16  In article...",
          "ap security? Organization: InterCon Systems Corporation - Herndon, VA  USA Lines: 68 Distribution: w...",
          " Organization: Center For High Perf. Computing of WPI; Marlboro Ma Lines: 35  In article <1qn1ic$>  ...",
          "cademic Computer Center <>Re: Clipper -- some new thoughts Lines: 7  The cryptographic algorythm MUS...",
          " any more. Summary: But, for all its flaws, the domino theory was right... Organization: Chinet - Pu...",
          "d any more. Organization: Center For High Perf. Computing of WPI; Marlboro Ma Distribution: na Lines...",
          " any more. Distribution: na Organization: VisiCom Laboratories, Inc., San Diego, California Lines: 1...",
          "and crypto key-escrow] Keywords: encryption, wiretap, clipper, key-escrow, Mykotronx Organization: B...",
          "plementations Reply-To:  Organization: Virus Test Center, University of Hamburg Lines: 23   (David S...",
          "f that announcement Organization: Stanford University Lines: 22  In article <> Rick Miller <> writes...",
          "on: Partnership for an America Free Drug Lines: 77  Here is a disturbing thought.  Now, we no longer...",
          "p security? Organization: CSIR, South AFrica Lines: 27 NNTP-Posting-Host: nuustak.csir.co.za X-Discl...",
          " ask for? (Re: Clipper) Lines: 19 Organization: Curtin University of Technology  In article <>,  (St...",
          " and Q&As on clipper chip encryption Organization: capriccioso X-Newsreader: TIN [version 1.1 PL6] D...",
          "tive Organization: DSI/USCRPAC Lines: 32  In article <1r0nov$>  (Steve Brinich) writes:   > > 1. Ame...",
          "bution: usa Reply-To:  Disclaimer: This posting represents the poster's views, not necessarily those...",
          " machine (Was: Re: Corporate acceptance of the wiretap chip) Organization: Computing Research Lab Li...",
          "d any more. Organization: University of Nebraska at Omaha Distribution: na Lines: 18   (Geoffrey Kue...",
          "re hackers & spooks only Summary: (We need privacy chips for phones, not computer-bound station)_ Ar...",
          "(Tal Kubo) Distribution: inet Organization: Dept. of Math, Harvard Univ. Nntp-Posting-Host: zariski....",
          "id it Originator:  Keywords: Big Bubba Is Watching! Nntp-Posting-Host: qualcom.qualcomm.com Organiza...",
          "ard-core hackers & spooks only Nntp-Posting-Host: bistromath.mitre.org Organization: The MITRE Corpo...",
          "ood any more. Organization: Express Access Online Communications, Greenbelt, MD USA Lines: 6 Distrib...",
          "tribution: world Organization: boring Reply-To:  X-Mailer: Simple NEWS 1.90 (ka9q DIS 1.19) Lines: 2...",
          " is no good any more. Organization: Society for the conservation of momentum Distribution: na Lines:...",
          "ganization: Mail to News Gateway at Wang Labs Distribution: na Lines: 47   (Jerry Han) writes: > The...",
          "tography Organization: Yale University Lines: 21 Distribution: inet Reply-To:  NNTP-Posting-Host: mi...",
          "ata Lines: 46  \t (Marc Anderson)  \t>Also.. how about a box that you plug your phone into, which woul...",
          "each machine (Was: Re: Corporate acceptance of the wiretap chip) Organization: AT&T Bell Laboratorie...",
          "Clipper Chip and crypto key-escrow] Nntp-Posting-Host: beethoven.cs.colostate.edu Organization: Colo...",
          "oso X-Newsreader: TIN [version 1.1 PL6] Lines: 11  I am testing IDEA block cipher implementations fo...",
          "r Chip and crypto key-escrow] Keywords: encryption, wiretap, clipper, key-escrow, Mykotronx Nntp-Pos...",
          " Distribution: sci Lines: 12 Organization: Networked Systems Architecture   \tI have a bunch of quest...",
          "ood any more. Organization: Express Access Online Communications, Greenbelt, MD USA Lines: 5 Distrib...",
          "tography Patents) Nntp-Posting-Host: next4.cs.umr.edu Organization: University of Missouri - Rolla, ...",
          "for other encryption method? Originator:  Nntp-Posting-Host: eff.org Organization: The Electronic Fr...",
          "no good any more. Nntp-Posting-Host: ogmore.cs.ucla.edu Organization: UCLA, Computer Science Departm...",
          "ment and Q&As on clipper chip encryption Organization: Engineering Computer Network Distribution: na...",
          " any Nntp-Posting-Host: tidss2.asic.sc.ti.com Reply-To:  Organization: Design Automaton Div., Texas ...",
          " is us Organization: Minnesota Supercomputer Center, Minneapolis, MN Lines: 18  I agree that notifyi...",
          "tion: NETCOM On-line Communication Services (408 241-9760 guest) X-Newsreader: Tin 1.1 PL5 Lines: 41...",
          "ilable  Organization: capriccioso X-Newsreader: TIN [version 1.1 PL6] Lines: 84  *** SOURCE code to ...",
          " for hard-core hackers & spooks only Organization: DSI/USCRPAC Lines: 39  In article <>  (Derek Atki...",
          "agement Fact Sheet News-Software: VAX/VMS VNEWS 1.41     Organization: Mission Operations and Data S...",
          "p-Posting-Host: bistromath.mitre.org Organization: The MITRE Corporation Lines: 67  In article <>  (...",
          "bilities Article-I.D.: usenet.C4qoH8.CHE Expires: Thu, 20 May 1993 00:00:00 GMT Organization: Comput...",
          "swer Organization: Michigan State University Lines: 21 NNTP-Posting-Host: scss3.cl.msu.edu X-Newsrea...",
          "ood any more. Organization: InterCon Systems Corporation - Herndon, VA  USA Lines: 35 Distribution: ...",
          "mmary: Buckets of blood pouring from peoples' heads! Organization: Kubota Pacific Computer, Inc. Lin...",
          ": Harvey Mudd College, Claremont, CA 91711 Lines: 13  In article <>  (Phil Karn) writes: >It looks l...",
          ": world Organization: Georgetown University Lines: 139  The following document summarizes the Clippe...",
          "ement and Q&As on clipper chip encryption Organization: Partnership for an America Free Drug Distrib...",
          "anization: Private Computer, Totowa, NJ Lines: 21  In article <:  (Peter Trei) writes: :Judge: \"I gr...",
          "ood any more. Distribution: na Organization: Kendall Square Research Corp. Lines: 20   (Steve Johnso...",
          " more.  (Arthur Rubin)  <> <> Distribution: na Organization: Beckman Instruments, Inc. Nntp-Posting-...",
          "tion: The Crypt Cabal Lines: 187 Expires: 22 May 1993 04:00:07 GMT Reply-To:  NNTP-Posting-Host: pad...",
          "ative Organization: University of Iowa, Iowa City, IA, USA Lines: 43   (Philip Zimmermann) writes:  ...",
          "s Reply-To:  Organization: University of Chicago Lines: 23  In article <>  (Kenneth Ng) writes: >In ...",
          "ert or replace it ! Reply-To:  Distribution: na Organization: Thibault & Friends Lines: 10  In artic...",
          " Organization: is a nice thing... Lines: 28  Having read the various \"Clipper\" announcements on the ...",
          "machine (Was: Re: Corporate acceptance of the wiretap chip) Organization: Harvey Mudd College, Clare...",
          "aphy Organization: University of Illinois, Dept. of Comp. Sci., Urbana, IL Lines: 18   (Tal Kubo) wr...",
          "n: The Crypt Cabal Lines: 92 Expires: 22 May 1993 04:00:07 GMT Reply-To:  NNTP-Posting-Host: pad-tha...",
          "s us X-Xxmessage-Id: <> X-Xxdate: Wed, 21 Apr 93 17:40:17 GMT Nntp-Posting-Host: l-b-johnson.eff.org...",
          "heap security? Organization: Swiss Federal Institute of Technology (ETH), Zurich, CH Lines: 19  In a...",
          "o good any more. Organization: DSI/USCRPAC Distribution: na Lines: 26  In article <>  (Karl Barrus) ...",
          "ecrecy Reply-To:  Organization: Sun Microsystems, Inc. Lines: 38 Nntp-Posting-Host: signal.ece.clark...",
          "e Crypt Cabal Lines: 138 Expires: 22 May 1993 04:00:07 GMT Reply-To:  NNTP-Posting-Host: pad-thai.ak...",
          "aphy Reply-To:  (Paul Crowley) Organization: Edinburgh University Distribution: inet Lines: 12  Quot...",
          "rganization: University of Illinois, Dept. of Comp. Sci., Urbana, IL Lines: 42   (Andrew S Hall) wri...",
          "d any more. Organization: University of Houston Lines: 27 Distribution: na \t<> NNTP-Posting-Host: me...",
          "any more. Article-I.D.: rwing.2091 Distribution: na Organization: Totally Unorganized Lines: 17  In ...",
          "al number, possibly fixed S1 and S2 Organization: Universitaetsrechenzentrum, Heinrich-Heine-Univers...",
          "Costs/Benefits Organization: Netcom - Online Communication Services (408 241-9760 guest) Lines: 61  ...",
          "nization: Totally Unorganized Lines: 48  In article <>  writes: < (David Sternlight) writes: < <> He...",
          "ral comments Nntp-Posting-Host: bloch.informatik.uni-kl.de Organization: University of Kaiserslauter...",
          ": Citicorp Lines: 15 NNTP-Posting-Host: charon.cto.citicorp.com X-Newsreader: TIN [version 1.1 PL6] ...",
          "st: castor.se.houston.geoquest.slb.com Organization: GeoQuest System, Inc. Houston Lines: 17  In art...",
          "Data Research Associates, St. Louis MO Lines: 22  In article <>,  (Vernon Schryver) writes: > In art...",
          "Chip and crypto key-escrow] Organization: InterCon Systems Corporation - Herndon, VA  USA Lines: 34 ...",
          "otes.cus.cam.ac.uk Organization: U of Cambridge, England Lines: 25  -----BEGIN PGP SIGNED MESSAGE---...",
          "n: Stratus Computer, Software Engineering Lines: 18 NNTP-Posting-Host: ellisun.sw.stratus.com Keywor..."
         ],
         "type": "scatter",
         "x": [
          10.266783714294434,
          12.732219696044922,
          -4.052523612976074,
          -8.867326736450195,
          -3.509150743484497,
          -1.0599391460418701,
          -2.3983821868896484,
          -10.998178482055664,
          -3.4787540435791016,
          6.460593223571777,
          5.880955219268799,
          6.257569313049316,
          -1.2636243104934692,
          -9.251530647277832,
          5.769869327545166,
          2.871511697769165,
          -5.254195213317871,
          -1.9981927871704102,
          0.3478614091873169,
          -6.529821872711182,
          11.329140663146973,
          -2.314399242401123,
          3.9906723499298096,
          10.135632514953613,
          4.230828285217285,
          2.004157304763794,
          1.0109862089157104,
          -4.727141380310059,
          1.405599594116211,
          6.926379203796387,
          0.20067164301872253,
          -7.337328910827637,
          -13.148152351379395,
          19.8243408203125,
          0.5220306515693665,
          3.114320755004883,
          -1.4925991296768188,
          -6.137016773223877,
          4.835646152496338,
          -8.369543075561523,
          2.676544189453125,
          -6.405866622924805,
          -4.656260013580322,
          12.852690696716309,
          -0.18786290287971497,
          10.219882011413574,
          2.661616086959839,
          -12.612483024597168,
          -7.5275774002075195,
          -8.085982322692871,
          5.876389980316162,
          -2.7368836402893066,
          -18.05783462524414,
          2.8154239654541016,
          -0.2455742210149765,
          6.659703254699707,
          -1.0873624086380005,
          3.49812912940979,
          -8.283233642578125,
          -3.780407667160034,
          3.599605083465576,
          -1.057073712348938,
          -2.296036958694458,
          -0.12921662628650665,
          -12.275330543518066,
          -11.2620849609375,
          -4.324586391448975,
          4.207639217376709,
          -9.87503719329834,
          1.9946868419647217,
          1.1955960988998413,
          -2.2553367614746094,
          -8.132282257080078,
          -0.14404799044132233,
          -8.272820472717285,
          -0.8371906876564026,
          5.271821022033691,
          -4.483834743499756,
          -4.645169258117676,
          11.036185264587402,
          -0.06480205059051514,
          -9.172076225280762,
          -8.28424072265625,
          -3.8716132640838623,
          6.713278293609619,
          -11.031867980957031,
          -1.5558068752288818,
          -12.229546546936035,
          -11.21117115020752,
          -0.6405888795852661,
          1.4967076778411865,
          -6.568214416503906,
          -12.391960144042969,
          -12.165109634399414,
          -12.67096996307373,
          2.283761978149414,
          5.438854694366455,
          -1.0032206773757935,
          10.23855972290039,
          -4.716705322265625,
          13.438047409057617,
          -5.611180305480957,
          1.606091856956482,
          -4.244626998901367,
          -11.47597599029541,
          -5.254659175872803,
          -8.579954147338867,
          1.9946882724761963,
          -3.5258922576904297,
          7.627666473388672,
          -1.1341221332550049,
          -7.023129940032959,
          -12.50058364868164,
          -2.535060405731201,
          16.22747039794922,
          0.5501060485839844,
          -0.5725622177124023,
          -12.943718910217285,
          1.056249737739563,
          -10.015670776367188,
          -14.853719711303711,
          -10.190861701965332,
          -6.122480869293213,
          -0.7420091032981873,
          -5.363226890563965,
          -14.991080284118652,
          6.721311092376709,
          1.8421698808670044,
          4.494329929351807,
          -12.19950008392334,
          -0.693256676197052,
          -10.165833473205566,
          11.446603775024414,
          -5.518823623657227,
          0.07757217437028885,
          -1.1392587423324585,
          -13.132022857666016,
          -12.639397621154785,
          -4.836278438568115,
          -5.845953464508057,
          5.187523365020752,
          11.244145393371582,
          -3.371002435684204,
          -2.3956220149993896,
          3.714144229888916,
          -4.888000965118408,
          -2.6481661796569824,
          1.1584391593933105,
          4.228219985961914,
          -4.620652675628662
         ],
         "y": [
          -21.83690071105957,
          -19.57140350341797,
          -23.683380126953125,
          -15.669489860534668,
          -27.668460845947266,
          -18.45404624938965,
          -27.08241844177246,
          -14.858135223388672,
          -35.69219970703125,
          -29.56022834777832,
          -32.93922805786133,
          -14.957625389099121,
          -8.759102821350098,
          -31.435014724731445,
          -21.681812286376953,
          -11.192001342773438,
          -20.758113861083984,
          -23.650047302246094,
          -13.336634635925293,
          -28.59552764892578,
          -27.89999008178711,
          -19.96851348876953,
          -23.999202728271484,
          -15.76596736907959,
          -32.48058319091797,
          -31.841463088989258,
          -21.987024307250977,
          -26.623559951782227,
          -30.107126235961914,
          -27.701961517333984,
          -22.64861297607422,
          -23.335853576660156,
          -27.26311683654785,
          -19.457304000854492,
          -21.400959014892578,
          -15.718058586120605,
          -25.42569923400879,
          -19.564373016357422,
          -24.144615173339844,
          -27.043533325195312,
          -22.685800552368164,
          -25.087915420532227,
          -27.884437561035156,
          -19.467248916625977,
          -25.134294509887695,
          -20.737966537475586,
          -29.29001808166504,
          -17.680673599243164,
          -22.47498321533203,
          -30.051746368408203,
          -21.3834171295166,
          -24.959152221679688,
          -18.494827270507812,
          -10.766429901123047,
          -32.83095932006836,
          -29.932584762573242,
          -15.6954927444458,
          -25.112565994262695,
          -14.46961784362793,
          -36.85591125488281,
          -15.818920135498047,
          -31.255319595336914,
          -16.53392219543457,
          -19.357383728027344,
          -29.86615562438965,
          -21.610980987548828,
          -8.55058479309082,
          -28.80262565612793,
          -11.8357515335083,
          -19.953479766845703,
          -30.2895450592041,
          -21.588150024414062,
          -12.253656387329102,
          -26.6131649017334,
          -18.530738830566406,
          -24.38749885559082,
          -15.888558387756348,
          -8.682806968688965,
          -29.69367790222168,
          -21.41255760192871,
          -31.473979949951172,
          -23.691423416137695,
          -30.23064613342285,
          -17.65932846069336,
          -27.726957321166992,
          -16.63099479675293,
          -22.81960678100586,
          -22.462623596191406,
          -17.778430938720703,
          -29.01363182067871,
          -8.669757843017578,
          -34.546905517578125,
          -11.574665069580078,
          -11.645724296569824,
          -23.036535263061523,
          -26.716028213500977,
          -29.498682022094727,
          -22.109521865844727,
          -15.469198226928711,
          -32.024269104003906,
          -21.98072624206543,
          -14.13459587097168,
          -15.286979675292969,
          -23.483226776123047,
          -16.603506088256836,
          -26.796480178833008,
          -12.71025276184082,
          -4.969308376312256,
          -28.89071273803711,
          -17.064184188842773,
          -28.478302001953125,
          -25.133869171142578,
          -28.540050506591797,
          -10.459704399108887,
          -18.597726821899414,
          -19.786922454833984,
          -21.003053665161133,
          -16.16737937927246,
          -24.084365844726562,
          -24.470399856567383,
          -26.91374397277832,
          -16.093589782714844,
          -16.572208404541016,
          -12.512012481689453,
          -20.50859260559082,
          -26.757667541503906,
          -22.97852325439453,
          -24.35447883605957,
          -28.170400619506836,
          -21.22624397277832,
          -12.331737518310547,
          -21.05077362060547,
          -21.48879051208496,
          -16.739444732666016,
          -24.594392776489258,
          -13.047365188598633,
          -23.11611557006836,
          -28.147043228149414,
          -16.634761810302734,
          -14.311590194702148,
          -32.43000793457031,
          -27.905689239501953,
          -21.86695671081543,
          -14.000746726989746,
          -22.259166717529297,
          -30.179153442382812,
          -30.792896270751953,
          -18.34731101989746,
          -18.6461238861084,
          -34.87509536743164
         ]
        },
        {
         "hoverinfo": "text",
         "marker": {
          "line": {
           "color": "white",
           "width": 0.5
          },
          "size": 15
         },
         "mode": "markers",
         "name": "Class sci.electronics",
         "opacity": 0.7,
         "text": [
          "Used BMW Question ..... ???) Organization: University of Minnesota, Duluth Lines: 28 NNTP-Posting-Ho...",
          "ale:was $200, sell for $150 Organization: Case Western Reserve University, Cleveland, Ohio (USA) Lin...",
          "ization: Netcom Online Communications Services (408-241-9760 login: guest) Lines: 25   (Neal Patrick...",
          "exer for digital signals? Organization: University of Illinois at Urbana Lines: 14  As the subject s...",
          ":  () Organization: Materials Research Lab Lines: 17    I would like to be able to amplify a voltage...",
          "hpfcmgw.fc.hp.com Organization: Hewlett-Packard Fort Collins Site X-Newsreader: TIN [version 1.1 PL8...",
          "tlist examples Originator:  Keywords: ACS,SPICE,simulation Organization: Harris Controls Lines: 18  ...",
          "hat is [a] \"Storage scope\" Distribution: na Organization: Medical Informatics, Pittsburgh, PA USA Li...",
          "i channel receiver system? Keywords: telemetry, receiver system Organization: National Hospitals, Ic...",
          ",  Has anyone used the Requirements Analsys methodology Hatley & Pirbhai ? I am a British final year...",
          "d. Nntp-Posting-Host: silene Organization: Institut Imag, Grenoble, France Lines: 38  In article <>,...",
          "on card Organization: University at Buffalo Lines: 8 News-Software: VAX/VMS VNEWS 1.41 Nntp-Posting-...",
          "s Freeway traffic reports Organization: Michigan Technological University X-Newsreader: TIN [version...",
          "p-Posting-Host: cec1 Organization: Washington University, St. Louis MO Lines: 88  In article <>  (St...",
          " Organization: University of Auckland, New Zealand. Keywords: pattern Summary: MDA/EGA/VGA pat. gen....",
          "work?? Reply-To:  Organization: Intergraph Corporation, Huntsville AL Lines: 25  In article <>,  (Mi...",
          "e-Help! Organization: /etc/organization Lines: 26  We have a setup with with 13 polaroid transducers...",
          "m Modules Organization: HP Lake Stevens, WA Lines: 12   (Ronald W. Butts, Jr.) writes:  >I am lookin...",
          "C50 Keywords: Motorola, FPU, 68882, 68030, 33/50 MHz, problems (FPU exception) Nntp-Posting-Host: pr...",
          "et wiring.. Organization: Eastman Kodak Lines: 29  In article <>  writes: >In article <>,  (Russ Cri...",
          "anization: The Software Engineering Institute Lines: 10   In article <>, Joseph Chiu writes:  > The ...",
          " Organization: Netcom Online Communications Services (408-241-9760 login: guest) Lines: 32  Sci.E(E)...",
          "et wiring.. Nntp-Posting-Host: techmac10.tech.mtu.edu Organization: Michigan Technological Universit...",
          "Organization: University of Cape Town X-Newsreader: TIN [version 1.1 PL8] Lines: 15   Hi there  Does...",
          ": AT&T Bell Laboratories Distribution: na Lines: 14  Can anybody recommend a good, application-orien...",
          "anization: Boston Computer Society / ISIG Lines: 10  Does any one know if the 6551 is timing/pin com...",
          "32  AllMartin MccormickWhat's Exactly in a Flour  MM> (Martin McCormick) MM>Organization: Oklahoma S...",
          "gital Nntp-Posting-Host: hacke9.dtek.chalmers.se Organization: Chalmers University of Technology, Go...",
          "ntp-Posting-Host: hprtnyc.cup.hp.com Organization: Hewlett-Packard X-Newsreader: TIN [version 1.1 PL...",
          " Organization: ACSYS, Inc. Lines: 19   For all people that are interested in every aspect of the 260...",
          "ut number to a phone Organization:  Wright State University  Lines: 12  Since I have seen various di...",
          "Organization: Megatest Corporation Lines: 23  In article <>  (Billy Quinn) writes: >I built a little...",
          "I.D.: larc.babb-060493164354 Distribution: usa Organization: SDSU - LARC Lines: 16 NNTP-Posting-Host...",
          "from two 0.047 in series?! Organization: U of Toronto Zoology Lines: 13  In article <>  (Michael Gol...",
          "c Modems, RF Modem, etc -- Best Offer Distribution: na Organization: APG-Edgewood, MD, USA Lines: 26...",
          "(Robert Ganter) Organization: Institut fuer Informatik Nntp-Posting-Host: schroeder.ifi.unibas.ch Li...",
          "OM POWERED Nntp-Posting-Host: liu.cns.nyu.edu Reply-To:  Organization: New York University Lines: 13...",
          "anization: Performance Technologies, Incorporated Lines: 12  Any info on modern 20MHZ or better dual...",
          "r Bar Needed Organization: Netcom - Online Communication Services (408 241-9760 guest) Lines: 25   I...",
          "rce? Nntp-Posting-Host: chip Reply-To:  (David Vanderbyl) Organization: MPR Teltech Ltd. Lines: 30  ...",
          "on: Boston University, Boston, MA, USA Lines: 19  In article <>  (Stephe Lewis Foskett) writes: > >I...",
          " Coordinates  (Weston R Beal) Distribution: world Organization: Utah State Univ. EE Nntp-Posting-Hos...",
          "r chip Organization: NETCOM On-line Communication Services (408 241-9760 guest) Distribution: usa Li...",
          "rade Nntp-Posting-Host: cec1 Organization: Washington University, St. Louis MO Lines: 32  In article...",
          "ntp-Posting-Host: aisun3.ai.uga.edu Organization: AI Programs, University of Georgia, Athens Lines: ...",
          "Austrailia  (BYRNES,Graham) Organization: La Trobe University In-Reply-To: 's message of Mon, 19 Apr...",
          "ur service Lines: 10 Distribution: usa NNTP-Posting-Host: hpctdkz.col.hp.com  >   Does anybody out t...",
          "cted. Lines: 31 Nntp-Posting-Host: hengill.rhi.hi.is  In <>  (Ketil Albertsen,TIH) writes:  >May we ...",
          "? Organization: Computer Science Department at Rose-Hulman Lines: 14 NNTP-Posting-Host: g222-26.next...",
          "hie) Organization: DSG Development Eng Beckman Instruments Inc. Nntp-Posting-Host: 134.217.245.87 Li...",
          "erlin, Germany Lines: 7  Have anyone some idea about how to build a cheap, low resolution (or high :...",
          " M2321K, M2322K, Fujitsu, Microdisk (-: Organization: University of Wales, Aberystwyth Lines: 23  I ...",
          "Article-I.D.: reed.1993Apr20.230749.12821 Organization: Reed College, Portland, Oregon Lines: 36  In...",
          "55.11 Organization: Motorola Western MCU Design Center, Chandler Arizona Lines: 17  In article <>,  ...",
          "ware Nntp-Posting-Host: flux.isr.alaska.edu Organization: Geophysical Institute, Fairbanks, AK Lines...",
          "1pli7gINNi6b Organization: California Institute of Technology, Pasadena Lines: 8 NNTP-Posting-Host: ...",
          "Reply-To:  Organization: Intergraph Corporation, Huntsville AL Lines: 41  In article <>,  (Mark Zeni...",
          "GS AND JUMPER SETTINGS FOR 386SX MOTHERBOARD Keywords: JUMPER SETTINGS DIP-SWITCH SETTINGS, HELP, CO...",
          "ndustrial Research Ltd., New Zealand. NNTP-Posting-Host: grv.grace.cri.nz Lines: 37  From:\tMX%\"\"  6-...",
          "rticle-I.D.: hippo.1993Apr16.105738.20864 Organization: Rhodes University, Grahamstown, South Africa...",
          "To:  Organization: Universitaet Hannover, Theoretische Nachrichtentechnik Lines: 41  This is for a f...",
          " (for Easter? Keywords: xmas Organization: AT&T Lines: 54   Yes, I know it's nowhere near Christmas ...",
          "cle-I.D.: shelley.1r4cucINNham Distribution: na Organization: University of Washington, Seattle Line...",
          "tlet wiring.. (the truth) Keywords: outlet Reply-To:  Organization: Univ. of Lowell CS Dept. Lines: ...",
          "nization: U of Toronto Zoology Lines: 17  In article <>  (Wayne Smith) writes: >>No restriction was ...",
          "-fi) Organization: NASA Langley Research Center and Reptile Farm Lines: 20 NNTP-Posting-Host: grisso...",
          "eo amp chip Nntp-Posting-Host: cns9.cns.ucalgary.ca Organization: University of Calgary Lines: 13  L...",
          "y Mountain Computer Organization: Case Western Reserve University, Cleveland, Ohio (USA) Lines: 25 N...",
          "o a phone line Organization: Chalmers University of Technology Lines: 11  In article <>  (Sean Olive...",
          "ticle-I.D.: shelley.1pr91aINNikg Distribution: world Organization: University of Washington, Seattle...",
          ".19930406.072523.946 Lines: 7  If you can find a copy of \"8088 Assembler Language Programming: The I...",
          "ne line Organization: The University of Western Australia Lines: 14 NNTP-Posting-Host: mackerel.gu.u...",
          " Nacional de I+D Lines: 24  In article <>,  (John Thomson) writes: > Joseph Chiu () wrote: >  > : An...",
          "93828.1 Organization: Lawrence Livermore National Laboratory Lines: 15 NNTP-Posting-Host: travis.lln...",
          "icle-I.D.: spk.C52I89.GEq Distribution: na Organization: Hewlett-Packard Lines: 31 X-Newsreader: TIN...",
          "sticks Organization: University of Stellenbosch, SA Lines: 8  In article <>  (David F. Newman) write...",
          " circuit ~ Organization: Helsinki University of Technology, Finland Lines: 17 \t<> \t<1ptolq$> NNTP-Po...",
          "ost: v9001.ntu.ac.sg Organization: Nanyang Technological University - Singapore   currently I am usi...",
          " filter ICs wanted. Organization: University of Orleans, France. Lines: 9      Hi All!     I would l...",
          "or Organization: The Inquiring Mind BBS  1 204 488-1607 Lines: 43   (Bob Myers) writes:  > > I am lo...",
          "Towers do? Organization: NRK Clinic for habitual NetNews abusers - Beltway Annex Lines: 19 Reply-To:...",
          "Posting-Host: fenian.dell.com Reply-To:  Organization: SLAMDANZ CYBRNETX Lines: 13  Anyone know a re...",
          "m a schematic -> PCB? Organization: Comp.Center (RUS), U of Stuttgart, FRG Lines: 38 NNTP-Posting-Ho...",
          "bopper2.phx.mcd.mot.com Organization: Motorola Computer Group, Tempe, Az. Distribution: usa Lines: 9...",
          " Article-I.D.: nic.1993Apr5.213718.4721 Distribution: usa Organization: Triacus Inc. Lines: 26 Nntp-...",
          "ilt battery for 3rd grade sci report Keywords: 3rd grade science report Distribution: usa Organizati...",
          "e with MC68HC16 Keywords: DRAM, HC16 Nntp-Posting-Host: wu2.wl.aecl.ca Organization: AECL Research, ...",
          "ntrollers ? Article-I.D.: stellenb.mabbot.30.0 Organization: CSIR Lines: 15 NNTP-Posting-Host: 146.6...",
          "NRK Clinic for habitual NetNews abusers - Beltway Annex Lines: 24 Reply-To:  (David Lesher) NNTP-Pos...",
          "tion: Humber College Technology Dept. Lines: 29   According to my TI databook, the pinouts for the T...",
          ".ca:735344986:trsvax:288200082:000:164 Nf-trsvax.tandy.com!pauls    Apr 21 09:31:00 1993 Lines: 6   ...",
          " Department of Computer Science, University of Toronto Distribution: na Lines: 11  The subject line ...",
          "munications Systems, Melbourne, AustraliaRe: RAMs &ROMs with ALE latches (for 8051's) Lines: 28   (S...",
          "ation: Digital Equipment Corporation Lines: 31 Nntp-Posting-Host: cimill  In article <>,  (Peter Try...",
          " Organization: Northeastern Ohio Universities College of Medicine Lines: 19  If the set is direct li...",
          "rganization: Megatest Corporation Lines: 26  In article <>  (G. Stewart Beal) writes: >In article <>...",
          " world Nntp-Posting-Host: verdi.eng.unipr.it Lines: 19  Hi, I've got a PACE MODEM , Series Four 2400...",
          " book Article-I.D.: toontown.627 Reply-To:  (Craig S. Williamson) Organization: NCR E&M Columbia, SC...",
          " Nntp-Posting-Host: storm.cfnr.colostate.edu Organization:  Colorado Concert Sound Lines: 25  In art...",
          "siemens-austria Organization: Siemens AG Oesterreich Lines: 15  Hi !!!  Is there somebody using a 56...",
          "s? Organization: Computer Science Department at Rose-Hulman Lines: 11 NNTP-Posting-Host: g222-26.nex...",
          "ganization: School of MPCE, Macquarie University, Australia. Lines: 19 Distribution: world NNTP-Post...",
          "ion: University of Washington, Seattle Lines: 2 Distribution: na NNTP-Posting-Host: hardy.u.washingt...",
          " phone line Reply-To:  <Paula Stockholm> Organization: The Northern Lights BBS, Portland, ME  * 207-...",
          "one line Organization: NASA Langley Research Center and Reptile Farm Lines: 16 NNTP-Posting-Host: gr...",
          ": catv cable television tvi Organization: NCR Corporation Wichita, KS Lines: 14   (Victor Laking) wr...",
          " System 6626 BBS, Winnipeg Manitoba Canada Lines: 21            On an A/D board I've got, I'm using ...",
          "tp-Posting-Host: eigen.ee.ualberta.ca Organization: University Of Alberta, Edmonton Canada Lines: 28...",
          "n: The Inquiring Mind BBS  1 204 488-1607 Lines: 41   (Joel Kolstad) writes:  > In article <>  > > >...",
          "ion: De Montfort University, Leicester, UK Lines: 26 X-Newsreader: TIN [version 1.1 PL8]  Frank Hiel...",
          "Host: dexter.psych.umn.edu Organization: University of Minnesota Lines: 18  I have a stereo compress...",
          "n: Netcom - Online Communication Services (408 241-9760 guest) Lines: 20  In article <>  (Brian Day)...",
          "  X-Posted-InterNews  Organization: Dartmouth College, Hanover, NH Lines: 12  We are Dartmouth engin...",
          "A Langley Research Center and Reptile Farm Lines: 9 Distribution: world NNTP-Posting-Host: grissom.l...",
          "0 Organization: University of Houston Lines: 17 Distribution: world NNTP-Posting-Host: rosie.uh.edu ...",
          "Decoders  Organization: University of Canberra Lines: 9  Could someone please tell me if a 1/4 decod...",
          "S work??? Organization: Capital Area Central Texas UNIX Society, Austin, Tx Lines: 15    I understan...",
          " it work?? X-Disclaimer: Nyx is a public access Unix system run by the University \tof Denver for the...",
          "ibution: na Nntp-Posting-Host: sun_shine.mentorg.com Organization: Mentor Graphics Keywords:  Lines:...",
          "'s Cooling Towers do? Nntp-Posting-Host: levy.fnal.gov Organization: Fermilab Computing Division Lin...",
          "Week in Toronto. Organization: S Lines: 10   Does anybody know if there is a mailing list or newsgro...",
          "nd. Nntp-Posting-Host: 211.2.1.197 Organization: Texaco Lines: 16  I had a catalog with membrane key...",
          "Lehigh University Lines: 12  Well, I'm not too sure if this would be the right place to post this, b...",
          "ds: fluorescent bulb starter neon Nntp-Posting-Host: turbo_f.seas.smu.edu Organization: SMU - School...",
          "8051's) X-Xxdate: Wed, 21 Apr 93 03:04:18 GMT Nntp-Posting-Host: dialup-slip-1-88.gw.umn.edu Organiz...",
          "ion: TRIUMF: Tri-University Meson Facility Lines: 24 Distribution: world NNTP-Posting-Host: reg.triu...",
          "rganization: NASA Langley Research Center and Reptile Farm Lines: 9 NNTP-Posting-Host: grissom.larc....",
          "s: Used BMW Question ..... ???) Organization: Netcom Online Communications Services (408-241-9760 lo...",
          "Nntp-Posting-Host: aisun1.ai.uga.edu Organization: AI Programs, University of Georgia, Athens Lines:...",
          "ization: The World Public Access UNIX, Brookline, MA Lines: 27   (Mike Donahue) writes:   >I do NOT ...",
          " many electronics Questions Organization: Michigan Technological University X-Newsreader: TIN [versi...",
          "ie University Lines: 54 Distribution: world NNTP-Posting-Host: macadam.mpce.mq.edu.au  In article <>...",
          " two 0.047 in series?! Originator:  Nntp-Posting-Host: elan.princeton.edu Organization: Princeton Un...",
          "on: The Portal System (TM) Distribution: usa Lines: 6  Sounds like the picture tube lost vacuum.  Th...",
          "n: Horizon Research, Inc. Lines: 7 Distribution: world Reply-To:  NNTP-Posting-Host: sparc28.hri.com...",
          "ply Article-I.D.: jato.1993Apr15.225326.22831 Organization: JPL Pasadena CA Lines: 25 Nntp-Posting-H...",
          "ster Polytechnic Institute Lines: 11 NNTP-Posting-Host: wpi.wpi.edu  Hey everyone, I'm new to this  ...",
          "uestion about 120VAC outlet wiring. Nntp-Posting-Host: aisun3.ai.uga.edu Organization: AI Programs, ...",
          "nization: PANIX Public Access Unix, NYC Lines: 11  There are also a couple or three places on West 4...",
          "e line Nntp-Posting-Host: churchill.columbiasc.ncr.com Organization: NCR Corp., Columbia SC Lines: 3...",
          "UT? That's a joke. Lines: 24 NNTP-Posting-Host: thing1.cc.utexas.edu  It is illegal to use anything ...",
          "ly-To: 's message of 15 Apr 93 15:02:28 Lines: 38 Organization: University of Oulu, Dept. of EE, Fin...",
          " Philosophical Question Summary: How do we preferentially amplify holes instead of electrons? Keywor...",
          "t........Nanaimo Campus)Re: Suggestions  on Audio relays ??? Organization: Malaspina College Lines: ...",
          "930406.131941.134 Lines: 3   They detect the oscillator operating in the detector. Saw a story about...",
          "ersity of Kansas Academic Computing Services Lines: 33  Thanks for the resposes as they were all goo...",
          " IR detector cards..??? Keywords: IR card  Organization: Monash University, Melb., Australia. Lines:...",
          "mputer, Marlboro Ma. Lines: 22 NNTP-Posting-Host: m21.eng.stratus.com  In article <>  (Roger A Willi...",
          "8051's) Organization: Harris Allied Broadcast Div., Quincy, IL Lines: 22   Intel also makes some nea...",
          "n: world Organization: Ozone Online Operations, Inc. - New Orleans, LA Reply-To:  (Gerald Belton)  L..."
         ],
         "type": "scatter",
         "x": [
          21.048969268798828,
          20.143033981323242,
          10.757801055908203,
          20.74326515197754,
          29.71731185913086,
          15.86896800994873,
          32.038536071777344,
          18.059602737426758,
          16.564674377441406,
          -17.57421112060547,
          -5.613811492919922,
          8.36161994934082,
          6.2366533279418945,
          11.880946159362793,
          24.194780349731445,
          8.213001251220703,
          12.074960708618164,
          17.912290573120117,
          27.744911193847656,
          -8.239409446716309,
          -4.163867950439453,
          22.074352264404297,
          -8.479928970336914,
          22.48065948486328,
          15.451452255249023,
          21.5955753326416,
          10.511795997619629,
          21.704814910888672,
          6.073731899261475,
          25.901620864868164,
          0.8339008092880249,
          15.468467712402344,
          6.957895278930664,
          -1.486057996749878,
          21.278911590576172,
          17.493709564208984,
          29.217557907104492,
          18.563026428222656,
          0.773582398891449,
          18.362266540527344,
          26.569625854492188,
          15.352218627929688,
          21.340747833251953,
          6.298594951629639,
          11.301384925842285,
          2.407787322998047,
          -15.788092613220215,
          -6.134336471557617,
          17.62373924255371,
          17.812881469726562,
          22.38202476501465,
          24.60732650756836,
          -6.047048091888428,
          12.020578384399414,
          16.324907302856445,
          24.230453491210938,
          -4.618659973144531,
          26.515867233276367,
          -3.6172165870666504,
          27.273698806762695,
          21.370136260986328,
          11.48766040802002,
          9.988726615905762,
          -7.292791366577148,
          9.852190017700195,
          28.879297256469727,
          19.647281646728516,
          27.797826766967773,
          0.9745444655418396,
          14.089816093444824,
          26.489665985107422,
          1.8702336549758911,
          -4.313185214996338,
          25.156530380249023,
          -9.037177085876465,
          27.830537796020508,
          -0.5347307920455933,
          22.491973876953125,
          20.666095733642578,
          21.055160522460938,
          -2.6030335426330566,
          18.489564895629883,
          31.885950088500977,
          -15.78170108795166,
          20.604475021362305,
          -6.445906162261963,
          26.261335372924805,
          19.051189422607422,
          15.528358459472656,
          23.54335594177246,
          19.255630493164062,
          16.055252075195312,
          23.58477210998535,
          14.721681594848633,
          18.91788673400879,
          28.216127395629883,
          21.842195510864258,
          32.073280334472656,
          16.054378509521484,
          19.12590980529785,
          28.050294876098633,
          25.730121612548828,
          5.583664417266846,
          2.367950201034546,
          1.3151861429214478,
          17.815425872802734,
          22.76385498046875,
          26.948932647705078,
          9.350722312927246,
          31.766605377197266,
          16.400781631469727,
          20.948444366455078,
          21.527013778686523,
          12.275951385498047,
          27.773151397705078,
          24.608257293701172,
          13.841602325439453,
          7.878597736358643,
          9.544299125671387,
          -2.5653204917907715,
          5.441294193267822,
          13.782885551452637,
          25.408231735229492,
          10.533377647399902,
          23.87808609008789,
          9.908147811889648,
          -6.661722183227539,
          21.037784576416016,
          10.824020385742188,
          26.64076042175293,
          14.942972183227539,
          24.62437629699707,
          -1.4459900856018066,
          18.09731674194336,
          26.6029109954834,
          15.590415000915527,
          25.763568878173828,
          -9.40157413482666,
          4.0677170753479,
          1.2243753671646118,
          8.776263236999512,
          26.652177810668945,
          -5.946066856384277,
          15.646308898925781,
          9.770732879638672,
          23.878263473510742,
          10.771876335144043,
          26.67873191833496,
          22.90706443786621,
          2.2618420124053955
         ],
         "y": [
          -25.699356079101562,
          -3.5944478511810303,
          -5.475289821624756,
          -7.914495944976807,
          -1.4320324659347534,
          6.371819019317627,
          -7.80259895324707,
          -3.924081563949585,
          -5.123302936553955,
          -1.4032518863677979,
          -36.15997314453125,
          0.09856494516134262,
          -3.566526174545288,
          -1.9219356775283813,
          -5.881381034851074,
          -4.632343769073486,
          -3.7883737087249756,
          -7.100058078765869,
          -21.97297477722168,
          -1.894217610359192,
          1.4130064249038696,
          -3.4818766117095947,
          -1.9260512590408325,
          -2.403761386871338,
          -0.00587421702221036,
          -17.145082473754883,
          3.687952756881714,
          -13.604729652404785,
          -3.3802244663238525,
          -15.783502578735352,
          -0.6273856163024902,
          -9.79521369934082,
          3.6515870094299316,
          3.724015235900879,
          -12.586613655090332,
          -0.9713053703308105,
          -2.76357102394104,
          -4.015366077423096,
          -4.681586265563965,
          3.8326356410980225,
          -5.351309776306152,
          -5.017395496368408,
          -14.559749603271484,
          0.25366827845573425,
          -0.37114250659942627,
          1.5888715982437134,
          26.1104736328125,
          -36.65682601928711,
          -17.43824005126953,
          -17.215272903442383,
          -4.072555065155029,
          -13.16254711151123,
          -35.79086685180664,
          -12.426108360290527,
          -1.687013030052185,
          -21.22439193725586,
          7.354466438293457,
          -13.090672492980957,
          -7.0695343017578125,
          -1.2187986373901367,
          -7.6892876625061035,
          1.065044641494751,
          -6.627288818359375,
          -1.7957993745803833,
          -7.671601295471191,
          -3.231372833251953,
          -12.794681549072266,
          -13.480609893798828,
          -1.8818154335021973,
          3.2155380249023438,
          -9.886180877685547,
          -0.13305558264255524,
          1.5135047435760498,
          1.9397708177566528,
          5.894647598266602,
          -8.871663093566895,
          -3.595233917236328,
          -20.862924575805664,
          1.3476654291152954,
          -5.827881336212158,
          30.134443283081055,
          -15.459284782409668,
          -10.972132682800293,
          26.10691261291504,
          2.497711420059204,
          7.625096321105957,
          -18.417686462402344,
          -16.50132942199707,
          -13.157307624816895,
          -15.774612426757812,
          -10.167069435119629,
          30.67714500427246,
          -18.201475143432617,
          -2.3585500717163086,
          3.4258666038513184,
          -16.879140853881836,
          -11.85489273071289,
          -7.486237525939941,
          -9.61841106414795,
          -10.183987617492676,
          -16.89488983154297,
          -13.554764747619629,
          0.6415377855300903,
          -0.8397312760353088,
          -3.072127103805542,
          -0.762071430683136,
          -8.290130615234375,
          -17.930328369140625,
          6.3128509521484375,
          -11.24301815032959,
          -12.923561096191406,
          -16.043703079223633,
          -1.2067475318908691,
          -12.435200691223145,
          -21.978979110717773,
          -9.904712677001953,
          -6.360348224639893,
          -5.4695353507995605,
          -7.5102386474609375,
          30.145206451416016,
          2.8560783863067627,
          -15.805570602416992,
          7.5419182777404785,
          3.729278087615967,
          -18.33970069885254,
          -5.5452656745910645,
          7.723573207855225,
          -25.670669555664062,
          -4.194962024688721,
          -2.1025381088256836,
          0.4817720055580139,
          -9.914973258972168,
          3.668867588043213,
          4.154829502105713,
          -12.231569290161133,
          30.16366195678711,
          1.962559700012207,
          -2.035979747772217,
          -1.2212624549865723,
          -3.4715628623962402,
          -6.525604724884033,
          -5.36533784866333,
          2.7289106845855713,
          -9.55305004119873,
          -4.415400981903076,
          -21.132658004760742,
          -1.2739261388778687,
          -2.112121343612671,
          -18.686752319335938,
          -2.3970439434051514
         ]
        },
        {
         "hoverinfo": "text",
         "marker": {
          "line": {
           "color": "white",
           "width": 0.5
          },
          "size": 15
         },
         "mode": "markers",
         "name": "Class sci.med",
         "opacity": 0.7,
         "text": [
          "rnal Article - Whiplash/Cervical Pain Lines: 37 Organization: Colonial Mutual Life Australia X-Newsr...",
          "ganization: Invention Factory's BBS - New York City, NY - 212-274-8298v.32bis Reply-To:  (Jim Zisfei...",
          "rganization: The Santa Cruz Operation, Inc. Distribution: usa Lines: 18   In article <>  (Evan Hunt)...",
          "KS GREAT !!!! Organization: Omen Technology INC, Portland Rain Forest Lines: 34  In article <>  (Bet...",
          "me Organization: Sun Microsystems, Inc.  Mt. View, Ca. Lines: 18 Distribution: world Reply-To:  (Jim...",
          "nization: CS Dept, University of Texas at Austin Lines: 17 NNTP-Posting-Host: saltillo.cs.utexas.edu...",
          "weet (aspartame) Organization: S.P. Dyer Computer Consulting, Cambridge MA Lines: 30  In article <> ...",
          " Organization: The Portal System (TM)   <> <> Lines: 41  A person posted certain stuff to this newsg...",
          "-Host: drums.reasoning.com Organization: Reasoning Systems, Inc., Palo Alto, CA Lines: 11   My insur...",
          "s Organization: Computing Services Division, University of Wisconsin - Milwaukee Lines: 19 NNTP-Post...",
          "srael Hospital, Harvard Medical School, Boston Mass., USA Lines: 11 NNTP-Posting-Host: enterprise.bi...",
          "ation: Pittsburgh TRansplant Institute Lines: 41  In article <>  (Steve Heffner) writes: >A bit more...",
          "riptan) available in CA Article-I.D.: vela.1psee5$c3t Distribution: na Organization: Oakland Univers...",
          "s In-Reply-To: 's message of Tue, 6 Apr 1993 03:28:57 GMT Nntp-Posting-Host: crux3.cit.cornell.edu O...",
          "et for Crohn's (IBD) Organization: Gastroenterology - Univ. of Alabama Distribution: usa Lines: 36  ...",
          "is [Is it Lyme's?]\"] Organization: Lamont-Doherty Earth Observatory Lines: 50  In article <>,  (Gord...",
          "trix Networks Lines: 21   > In article <>  (Richard Silver) writes: > > > >Is there a right-eye domi...",
          "bicans: what is it?) Article-I.D.: bunyip.C5wwGz.17G Organization: Prentice Centre, University of Qu...",
          "ects Organization: George Washington University Lines: 28  In article <>  (Steve Dyer) writes: >In a...",
          ": West Virginia Network for Educational Telecomputing Lines: 11  My girlfriend is in pain from kidne...",
          "ruzio.5254 Reply-To:  Lines: 12   I have a friend who has just been diagnosed with Lupus, and I know...",
          "pathy ... tradition?) Summary: Science is not mere methodology.   Organization: University of Hawaii...",
          "tient relationship problem Organization: NETCOM On-line Communication Services (408 241-9760 guest) ...",
          "ead an Ultrasound? Organization: Dixie Communications Public Access.  The Mouth of the South. Lines:...",
          "ation: University of New Mexico, Albuquerque Lines: 27 NNTP-Posting-Host: carina.unm.edu   Gordon Ba...",
          "e of Veterinary Medicine WSU X-Newsreader: TIN [version 1.1 PL9] Lines: 45  kathleen richards () wro...",
          "ael Hospital, Harvard Medical School, Boston Mass., USA Lines: 26 NNTP-Posting-Host: enterprise.bih....",
          "Organization: U.C. Berkeley -- ERL Lines: 16 Distribution: world NNTP-Posting-Host: zion.berkeley.ed...",
          " Flying? Article-I.D.: rigel.SHAFER.93Apr6095951 Organization: NASA Dryden, Edwards, Cal. Lines: 33 ...",
          "rdon Banks) Organization: Univ. of Pittsburgh Computer Science Lines: 28  In article <>  (David Nye)...",
          " of medical terms Organization: Ecole Polytechnique Federale de Lausanne Lines: 41 NNTP-Posting-Host...",
          "p, depression Nntp-Posting-Host: bottom.magnus.acs.ohio-state.edu Organization: The Ohio State Unive...",
          "obert Allison) Organization: The National Capital Freenet Lines: 18   I have between 15 and 25 noseb...",
          "Semantic War. Organization: University of Illinois at Urbana Lines: 6  Also remember that most peopl...",
          " Banks) Organization: Univ. of Pittsburgh Computer Science Lines: 17  In article <>  (Ken Mitchum) w...",
          "Nntp-Posting-Host: wind.bellcore.com Reply-To:  Organization: Bell Communications Research Lines: 31...",
          "p-Posting-Host: aisun3.ai.uga.edu Organization: AI Programs, University of Georgia, Athens Lines: 12...",
          "ingers Article-I.D.: pitt.19424 Reply-To:  (Ken Mitchum) Organization: Univ. of Pittsburgh Computer ...",
          "al research? Organization: University of Northern Iowa Lines: 22  In article <>,  (Ken Mitchum) writ...",
          "words: gene pool; wisdom; virtue Nntp-Posting-Host: naples.med.unc.edu Organization: UNC-CH School o...",
          "ion? Organization: Center for Reliable and High-Performance Computing, University of Illinois at Urb...",
          "s: Homeopathy ... tradition?) Nntp-Posting-Host: engws5.ic.sunysb.edu Organization: State University...",
          "m.stortek.com Organization: StorageTek SW Engineering X-Newsreader: NNR/VM S_1.3.2 Lines: 53  In art...",
          "n: Acadia University Lines: 15   (James R. Skinner) writes:  >\t >\tI have seen a couple of postings r...",
          "ion? Organization: sdf public access Unix, Dallas TX 214/436-3281 Lines: 27  In article <>  (Andrew ...",
          " skin - problem? Article-I.D.: aio.1993Apr6.133244.14717 Distribution: sci.med Organization: Lockhee...",
          "al tradition? Reply-To:  (Gordon Banks) Organization: Univ. of Pittsburgh Computer Science Lines: 26...",
          " S.P. Dyer Computer Consulting, Cambridge MA Lines: 25  In article <>  (Robert Allison) writes: >Doe...",
          "eywords: seizures epilepsy Reply-To:  (Gordon Banks) Organization: Univ. of Pittsburgh Computer Scie...",
          "nization: University of Wisconsin Eau Claire Lines: 19  [reply to  (MD)]   >After many metabolic tes...",
          "ute of Theoretical and Experimental Biophysics Lines: 29 NNTP-Posting-Host: venus.iteb.serpukhov.su ...",
          "anization: University of Kuopio, Finland Lines: 10   There is this newsgroup sci.med.physics and the...",
          "AT&T Distribution: usa Keywords: San Francisco Lines: 9   \tI was kind of half watching Street Storie...",
          "=> RoseMail Gateway (v1.70) Organization: Rose Media Inc, Toronto, Ontario. Lines: 23  L(>   (Joel B...",
          "riginator:  Nntp-Posting-Host: sasquatch Reply-To:  Organization: Clinical Diagnostics Division, Eas...",
          "-I.D.: cs.1993Apr22.055958.2377 Organization: nCUBE, Sandia Park, NM Lines: 31  In article <>  (Vida...",
          "? Reply-To:  (Betty Harvey) Organization: Carderock Division, NSWC, Bethesda, MD Lines: 30  In rec.f...",
          "cle-I.D.: pitt.19396 Reply-To:  (Gordon Banks) Organization: Univ. of Pittsburgh Computer Science Li...",
          "ation: AT&T Keywords: seizures Lines: 8  Here is the tollfree hotline for the Epilepsy Foundation of...",
          "tronet Communications Services, Dallas Tx Distribution: usa Lines: 13  I am 35 and am recovering fro...",
          "Keywords: Daypro Lines: 7  Anyone have any information on the effects/origin of oxaprozin? It's mark...",
          "ans: what is it?) Organization: University of Wisconsin Eau Claire Lines: 29  [reply to  (Jacquelin ...",
          "  (Grant Edwards) Organization: Rosemount, Inc. Lines: 41 Nntp-Posting-Host: aquarius   (Richard Ott...",
          " Reply-To:  Organization: University of Chicago Lines: 27  One thing that I haven't seen in this thr...",
          "ization: CS Dept, University of Texas at Austin Lines: 67 Distribution: inet NNTP-Posting-Host: im4u...",
          "omeopathy ... tradition?) Originator:  Nntp-Posting-Host: theseus.unx.sas.com Organization: SAS Inst...",
          "ghts from the DSM-IIIR Organization: Digital Equipment Corporation Lines: 45 NNTP-Posting-Host: DWOV...",
          "s (PDR)? Reply-To:  (Gordon Banks) Organization: Univ. of Pittsburgh Computer Science Lines: 48  In ...",
          "zation: Stratus Computer, Inc. Lines: 14 Distribution: world NNTP-Posting-Host: coyoacan.sw.stratus....",
          "omeopathy ... tradition?) Originator:  Nntp-Posting-Host: theseus.unx.sas.com Organization: SAS Inst...",
          "opathy ... tradition?) Organization: University of Rochester  In article <>  (Gary Merrill) writes: ...",
          "rdon Banks) Organization: Univ. of Pittsburgh Computer Science Lines: 22  In article <>  (daniel fed...",
          "rstition? Organization: University of Illinois at Urbana Lines: 26   (Steve Dyer) writes:  >In artic...",
          "nks) Reply-To:  Organization: University of Chicago Lines: 12  There were a few people who responded...",
          " Organization: Locus Computing Corporation, Los Angeles, California Distribution: usa Lines: 12   Hi...",
          "To:  (Gordon Banks) Distribution: na Organization: Univ. of Pittsburgh Computer Science Lines: 19  >...",
          "ntp-Posting-Host: huey.udel.edu Organization: little scraps of paper, mostly Lines: 10   I think he ...",
          "alif State Univ/Electronic Information Services Lines: 3  Can anyone help me find any information on...",
          "e of Veterinary Medicine WSU X-Newsreader: TIN [version 1.1 PL9] Lines: 13  kathleen richards () wro...",
          "ems Organization: University of Colorado at Denver Lines: 29   \tA friend has the following symptoms ...",
          " Organization: NASA Langley Research Center, Hampton, VA Lines: 28 Reply-To: Jason C. Austin <> NNTP...",
          "zation: Space Telescope Science Institute Distribution: na  Am I justified in being pissed off at th...",
          "ctose intolerance Organization: Gastroenterology - Univ of Alabama Lines: 19  In article <>,  (Ho Le...",
          " Robinson <>Reasons for hospitals to join Internet? Lines: 8  What resources and services are availa...",
          "n: Actrix Networks Lines: 26   My 14-y-o son has the usual teenage spotty chin and greasy nose.  I b...",
          " Switzerland Lines: 21  Hello to everybody, I write here because I am kind of desperate. For about s...",
          "Gordon Banks) Organization: Univ. of Pittsburgh Computer Science Lines: 16  In article <>  (Daniel P...",
          "itt.19440 Reply-To:  (Gordon Banks) Organization: Univ. of Pittsburgh Computer Science Lines: 23  In...",
          "versity of Wisconsin Eau Claire Lines: 13  [reply to  (Gordon Banks)]   >>I believe it is illegal fo...",
          "Organization: S.P. Dyer Computer Consulting, Cambridge MA Lines: 14  In article <1qnns0$>  (Steve Po...",
          "is [Is it Lyme's?]\"] Reply-To:  (Gordon Banks) Organization: Univ. of Pittsburgh Computer Science Li...",
          "or? Organization: HP Colorado Springs Division Lines: 5 Distribution: na NNTP-Posting-Host: hpcspe17...",
          "KS GREAT !!!! Organization: Omen Technology INC, Portland Rain Forest Lines: 33  In article <>  (Gor...",
          " Utah State University Lines: 35  >>Between who? Over what? I would be most interested in seeing you...",
          "icle-I.D.: cup.79700 Organization: The Portal System (TM) Lines: 36  > Probably within 50 years, a n...",
          "on Banks) Organization: Univ. of Pittsburgh Computer Science Lines: 12  In article <>  (John E. Rodw...",
          "rriage Organization: worldbank.org Lines: 17        Following a series of miscarriages, my wife was ...",
          "cle-I.D.: pitt.19422 Reply-To:  (Ken Mitchum) Organization: Univ. of Pittsburgh Computer Science Lin...",
          "since last month [monthly posting] Supersedes: <typing-injury-faq/> Organization: University of Cali...",
          " Vasomotor Rhinitis Organization: University of Pittsburgh Lines: 21  In article <1r1t1a$>  writes: ...",
          " Albicans: what is it?) Nntp-Posting-Host: magnusug.magnus.acs.ohio-state.edu Organization: The Ohio...",
          ": world Organization: Invention Factory's BBS - New York City, NY - 212-274-8298v.32bis Reply-To:  (...",
          "er Corporation Nntp-Posting-Host: condor.encore.com Lines: 20  A bit more than a year ago, a hernia ...",
          "ewsj.1993Apr6.161858.12132 Distribution: na Organization: AT&T Lines: 15  In article <>,  writes: > ...",
          "blue.7936 Lines: 23 X-Newsreader: TIN [version 1.1 PL8]  David Nye () wrote: : [reply to  (ron roth)...",
          "ines: 43 Nntp-Posting-Host: vms.ocom.okstate.edu Organization: OSU College of Osteopathic Medicine  ...",
          "n? Lines: 12   To:  (Alex Milshteyn)   AM> Having said that, i might add, that in MHO, MSG does not ...",
          ": The Old Frog's Almanac, Nanaimo, B.C. Keywords: Bates method Summary: Proven a hoax long ago Lines...",
          "Sybase, Inc. Lines: 18  My mom has just been diagnosed with cystic breast disease -- a big relief, a...",
          "National Accelerator Laboratory, Batavia IL Lines: 14 Distribution: world NNTP-Posting-Host: adcs01....",
          "sa Organization: Beth Israel Hospital, Harvard Medical School, Boston Mass., USA Lines: 15 NNTP-Post...",
          "core, Piscataway, NJ Lines: 14  In article <>  (Gordon Banks) writes: >In article <>  (Richard Silve...",
          "ry: Kaiser has been doing it for a while Article-I.D.: pegasus.1993Apr22.221508.10196 Organization: ...",
          "anization: Lehigh University Lines: 22  The following 4 addresses are on the LymeNet mailing list, b...",
          "Host: vms.ocom.okstate.edu Organization: OSU College of Osteopathic Medicine Distribution: usa  In a...",
          " UM Anesthesiology Lines: 21 Distribution: world NNTP-Posting-Host: 141.214.86.38 X-UserAgent: Nunti...",
          "t current trends in diabetes. Lines: 63 Organization: The Information Deli - via Netcom / San Jose, ...",
          "rganization: The World Public Access UNIX, Brookline, MA Lines: 10   Some recent postings remind me ...",
          "es Organization: Hitachi Computer Products, OSSD division Lines: 16 NNTP-Posting-Host: duca.hi.com  ...",
          "eet (aspartame) Organization: University of Vermont -- Division of EMBA Computer Facility Lines: 21 ...",
          "? Keywords: cancer Organization: Digital Equipment Corporation Lines: 13   What does a lack of taste...",
          "ization: Carleton University, Ottawa, Canada Lines: 44  In article <>  (Gong Tong) writes: >In artic...",
          "n: Department of Computer Science, UWO, Canada Keywords: volvulus Nntp-Posting-Host: berfert.csd.uwo...",
          "ationship problem Distribution: world Organization: Invention Factory's BBS - New York City, NY - 21...",
          "icle-I.D.: oregon.21APR199316170714 Distribution: world Organization: University of Oregon Lines: 14...",
          "sity of Wisconsin Eau Claire Lines: 15  [reply to  (ron roth)]   >While you're right that the S vert...",
          "anks) Organization: Univ. of Pittsburgh Computer Science Lines: 18  In article <>  (John Werner) wri...",
          " Organization: University of Pittsburgh Lines: 14  In article <>  (Fiberman) writes: :Is erythromyci...",
          "ion: McDonnell Douglas Aerospace Lines: 20 Distribution: world NNTP-Posting-Host: q5020598.mdc.com  ...",
          "s [Is it Lyme's?]\"] Article-I.D.: pitt.19421 Reply-To:  (Ken Mitchum) Organization: Univ. of Pittsbu...",
          "22 X-Newsreader: Tin 1.1 PL5  Sharon Paulson () wrote: :  {much deleted] :  :  : The fact that this ...",
          "g's Almanac, Nanaimo, B.C. Keywords: advice needed Summary: thanx for the comeback Lines: 7  Hello ,...",
          "'s message of Mon, 12 Apr 1993 21:02:31 GMT Nntp-Posting-Host: kyanite Organization: Telesciences CO...",
          "I.D.: pitt.19423 Reply-To:  (Ken Mitchum) Organization: Univ. of Pittsburgh Computer Science Lines: ...",
          "anization: Virginia's Public Education Network (Radford) Lines: 13  Thanks for all your assistance. ...",
          "zation: NASA Langley Research Center, Hampton VA, USA Lines: 48 \t<> <> NNTP-Posting-Host: cmb00.larc...",
          "ERT-CONNECT -- Public Access UNIX Lines: 15   can anyone give me more information regarding endometr...",
          "r:  Organization: Citibank IBISM Lines: 11    has any one heard of a sedative called \"Rhoepnol\"? Mad...",
          "ngstown State University Lines: 5 NNTP-Posting-Host: ysub.ysu.edu  Does the Proventil inhaler for as...",
          "P-Posting-Host: fred.bbn.com   (ron roth) writes:  |JB>   (Ella I Baff) writes: |JB>   |JB>    Ron R...",
          "nline Communication Services (408 241-9760 guest) Lines: 7  In article <>  (Gordon Banks) writes: >w...",
          "yer Computer Consulting, Cambridge MA  In article <>  (Craig MacDonald) writes: >>  It may be extrem...",
          " slit operation Article-I.D.: pegasus.1993Apr22.221111.9678 Organization: Pegasus,  Honolulu Lines: ...",
          "zation: NASA Langley Research Center, Hampton VA, USA Lines: 52 \t<> NNTP-Posting-Host: cmb00.larc.na...",
          " Nntp-Posting-Host: sdcmvs.mvs.sas.com Organization: SAS Institute Inc. Lines: 16  In article <>,  (...",
          "ization: Carleton University, Ottawa, Canada Lines: 43  In article <>  (David Thomas) writes:  >>In ...",
          "T !!!! Organization: Express Access Public Access UNIX, Greenbelt, Maryland USA Lines: 58 NNTP-Posti...",
          "zation: NASA Langley Research Center, Hampton VA, USA Lines: 53 NNTP-Posting-Host: cmb00.larc.nasa.g...",
          "zation: Unocal Corporation Lines: 20  Living things maintain small electric fields to (1) enhance ce...",
          "formix Software, Inc. Lines: 11  In article <>  (Dick King) writes: > >I recall reading somewhere, d..."
         ],
         "type": "scatter",
         "x": [
          -28.27952766418457,
          -34.10359191894531,
          -23.852869033813477,
          -32.18370056152344,
          -33.56215286254883,
          -17.56775665283203,
          -30.138492584228516,
          -19.51217269897461,
          -24.958511352539062,
          -35.49162673950195,
          -35.146575927734375,
          -35.35187530517578,
          -39.16581726074219,
          -37.77764892578125,
          -32.5728874206543,
          -30.124677658081055,
          -13.744872093200684,
          -32.612335205078125,
          -35.568607330322266,
          -25.908864974975586,
          -34.769203186035156,
          -18.595979690551758,
          -27.722721099853516,
          -24.443077087402344,
          -32.822532653808594,
          -32.93304443359375,
          -37.46352005004883,
          -24.981159210205078,
          -17.9213924407959,
          -24.883586883544922,
          -22.95043182373047,
          -37.798927307128906,
          -39.397491455078125,
          -4.755529880523682,
          -30.406658172607422,
          -24.731884002685547,
          -29.095746994018555,
          -23.061777114868164,
          -32.44574737548828,
          -19.756118774414062,
          -25.860366821289062,
          -15.497118949890137,
          -8.321889877319336,
          -33.986602783203125,
          -25.44169044494629,
          -36.66926193237305,
          -25.80097198486328,
          -39.66404342651367,
          -28.688220977783203,
          -29.32749366760254,
          -21.613920211791992,
          -23.570886611938477,
          -26.510419845581055,
          -14.59074878692627,
          -25.863162994384766,
          -35.69180679321289,
          -26.22243881225586,
          -37.09524154663086,
          -27.795312881469727,
          -35.917808532714844,
          -38.073001861572266,
          -20.732824325561523,
          -9.97152328491211,
          -33.50995635986328,
          -17.904497146606445,
          -14.536025047302246,
          -27.26609992980957,
          -28.933744430541992,
          -8.12448787689209,
          -15.867132186889648,
          -18.920764923095703,
          -34.014713287353516,
          -22.171358108520508,
          -29.722454071044922,
          -17.887128829956055,
          -32.45681381225586,
          -10.135902404785156,
          -34.07312774658203,
          -32.927085876464844,
          -36.991485595703125,
          -25.45620346069336,
          -28.754507064819336,
          -30.731849670410156,
          -23.61026382446289,
          -37.471649169921875,
          -36.230125427246094,
          -18.725486755371094,
          -21.05583381652832,
          -25.488311767578125,
          -22.616411209106445,
          -30.96243667602539,
          -27.417936325073242,
          -31.684432983398438,
          -23.73259925842285,
          -19.552032470703125,
          -32.65999984741211,
          -31.310670852661133,
          -28.684955596923828,
          2.494988441467285,
          -38.6446533203125,
          -31.439102172851562,
          -31.271665573120117,
          -35.38775634765625,
          -23.032785415649414,
          -21.278928756713867,
          -25.768095016479492,
          -24.52345085144043,
          -13.059918403625488,
          -28.309537887573242,
          -33.94935607910156,
          -35.97563552856445,
          -14.486702919006348,
          -25.346607208251953,
          -4.444394588470459,
          -32.55270004272461,
          -25.089998245239258,
          -23.722187042236328,
          -25.68341827392578,
          -28.102148056030273,
          -30.222145080566406,
          -27.396202087402344,
          -27.077051162719727,
          -29.892892837524414,
          -27.84286880493164,
          -10.356084823608398,
          -21.38707160949707,
          -16.888595581054688,
          -34.99655532836914,
          -38.248809814453125,
          -29.683862686157227,
          -29.618579864501953,
          1.264449119567871,
          -14.060498237609863,
          -29.901042938232422,
          -38.188209533691406,
          -28.07223129272461,
          -28.183034896850586,
          -36.1493034362793,
          -38.92036819458008,
          -14.681198120117188,
          -18.795944213867188,
          -35.761959075927734,
          -36.10247802734375,
          -28.01528549194336,
          -28.724430084228516,
          -25.488752365112305,
          -32.169918060302734,
          -29.526248931884766,
          -10.085082054138184,
          -23.660654067993164
         ],
         "y": [
          6.5138163566589355,
          17.261144638061523,
          20.40364646911621,
          24.79662322998047,
          7.780708312988281,
          -9.480883598327637,
          19.091611862182617,
          -9.272624969482422,
          -0.5716381072998047,
          13.621917724609375,
          4.3619704246521,
          -3.63301420211792,
          12.98620891571045,
          11.582805633544922,
          21.263999938964844,
          1.4196033477783203,
          7.8981547355651855,
          6.123331546783447,
          13.663544654846191,
          7.300970554351807,
          7.505284786224365,
          12.197978019714355,
          -1.4396065473556519,
          -2.605498790740967,
          24.921585083007812,
          1.0265785455703735,
          17.49195098876953,
          17.147808074951172,
          19.431154251098633,
          -4.959600448608398,
          -0.3480711877346039,
          14.612725257873535,
          6.072768211364746,
          15.579955101013184,
          4.069417476654053,
          18.355131149291992,
          14.265737533569336,
          7.326521873474121,
          8.204461097717285,
          -7.691728591918945,
          17.798189163208008,
          13.672316551208496,
          14.410406112670898,
          10.912410736083984,
          19.854488372802734,
          6.705175876617432,
          5.133807182312012,
          6.217839241027832,
          11.213650703430176,
          11.738754272460938,
          3.238476276397705,
          2.2110135555267334,
          1.0069594383239746,
          2.019437789916992,
          24.12640953063965,
          17.89705467224121,
          18.93362808227539,
          12.448801040649414,
          10.437921524047852,
          1.1675536632537842,
          9.945119857788086,
          11.256001472473145,
          12.365073204040527,
          21.392642974853516,
          11.951226234436035,
          15.434907913208008,
          12.270225524902344,
          -0.7250860929489136,
          14.471966743469238,
          14.055282592773438,
          12.58091926574707,
          13.484342575073242,
          16.81123924255371,
          6.052469253540039,
          24.785341262817383,
          4.5923357009887695,
          14.764477729797363,
          10.796797752380371,
          1.049431562423706,
          15.357909202575684,
          24.384567260742188,
          -1.9915540218353271,
          21.125234603881836,
          -0.40864288806915283,
          6.767218589782715,
          16.14248275756836,
          8.764808654785156,
          11.387868881225586,
          -4.875429630279541,
          16.637897491455078,
          1.0268704891204834,
          0.4237855076789856,
          25.737590789794922,
          18.06365203857422,
          -9.321856498718262,
          13.449958801269531,
          8.94257926940918,
          2.731060266494751,
          10.033361434936523,
          7.850532054901123,
          6.214065074920654,
          11.704172134399414,
          -3.689664125442505,
          11.219422340393066,
          6.869171619415283,
          5.09667444229126,
          19.457609176635742,
          12.513348579406738,
          4.69921875,
          17.180700302124023,
          1.2062041759490967,
          7.658059120178223,
          1.842790961265564,
          -6.6249799728393555,
          21.199872970581055,
          -5.3526177406311035,
          2.6480958461761475,
          23.768022537231445,
          2.562580108642578,
          19.0947322845459,
          21.07720184326172,
          18.477994918823242,
          10.245245933532715,
          -0.7507343888282776,
          13.920183181762695,
          6.884359836578369,
          8.136280059814453,
          4.549473285675049,
          13.411733627319336,
          1.157080888748169,
          14.564030647277832,
          9.73377513885498,
          7.548116683959961,
          9.31832218170166,
          5.357717514038086,
          15.1383695602417,
          7.752442359924316,
          9.801136016845703,
          8.451672554016113,
          2.1025431156158447,
          -8.647419929504395,
          11.582708358764648,
          -4.641769886016846,
          16.202213287353516,
          10.878621101379395,
          18.7676944732666,
          24.04891586303711,
          15.170129776000977,
          12.132843017578125,
          14.648097038269043
         ]
        },
        {
         "hoverinfo": "text",
         "marker": {
          "line": {
           "color": "white",
           "width": 0.5
          },
          "size": 15
         },
         "mode": "markers",
         "name": "Class sci.space",
         "opacity": 0.7,
         "text": [
          "ation: NASA Langley Research Center Lines: 7 Distribution: world Reply-To:  (CLAUDIO OLIVEIRA EGALON...",
          "ce? Organization: Texas Instruments Inc Lines: 16  In <>  (Dillon Pyron) writes:   >There are actual...",
          " Space Launcer Organization: Boeing AI Center, Huntsville, AL Lines: 22  In reference to the limits ...",
          "zation: University of Washington Lines: 33 NNTP-Posting-Host: stein2.u.washington.edu   (Doug Loss) ...",
          "on: Netcom - Online Communication Services (408 241-9760 guest) Lines: 23  In article <>  (kevin mar...",
          "ining. Nntp-Posting-Host: 128.158.30.103 Reply-To:  (G. Patrick Molloy) Organization: NASA/MSFC Line...",
          " Beacons! In-Reply-To: 's message of 21 Apr 93 08:15:55 GMT Nntp-Posting-Host: leo-gw Organization: ...",
          "n: Boeing AI Center, Huntsville, AL Lines: 39  I have before me a pertinent report from the United S...",
          "niv. of Florida CIS Dept. Lines: 17 Distribution: world NNTP-Posting-Host: beach.cis.ufl.edu   Is an...",
          "o Update - 04/22/93) Organization: U of Toronto Zoology Lines: 17  In article <>  (Alan Carter) writ...",
          "on to first year-long moon residents? Organization: Texas Instruments Inc Lines: 22  In <>  (Allen W...",
          "decentralize & automate functions Keywords: space station, constellation Article-I.D.: techbook.C51z...",
          " not give $1G) Organization: MDSSC Lines: 32  In article <>,  (Layne Cook) writes: > All of this tal...",
          "ief Resigns for Health Reasons Organization: NASA Lewis Research Center / Cleveland, Ohio Lines: 30 ...",
          "of the future. Organization: University of Western Ontario, London Nntp-Posting-Host: prism.engrg.uw...",
          "on: Jet Propulsion Laboratory Lines: 16 Distribution: world NNTP-Posting-Host: kelvin.jpl.nasa.gov N...",
          "tion: RIP Organization: Univ. of Southwestern Louisiana Lines: 43   (Brian Yamauchi) writes:  >Any c...",
          "press Access Online Communications USA Lines: 30 NNTP-Posting-Host: access.digex.net  In article <> ...",
          "93 Organization: Express Access Online Communications, Greenbelt, MD USA Lines: 33 Distribution: wor...",
          " University of South Australia Lines: 5  Does anyone know how to size cold gas roll control thruster...",
          "eral Systems Co. Software Services               IBM, Federal Systems Co. Software Services Disclaim...",
          "rwarded by Space Digest Organization: [via International Space University] Original-Sender:  Distrib...",
          "ed News-Software: VAX/VMS VNEWS 1.41     Nntp-Posting-Host: tm0006.lerc.nasa.gov Organization: NASA ...",
          " do it. Organization: SED, Stanford Telecom, Reston, VA 22090 Lines: 16  In article <>  writes: >Thi...",
          "oards (was Re: Vandalizing the sky.) Organization: LLNL Lines: 96 Distribution: world NNTP-Posting-H...",
          " Organization: Express Access Online Communications USA Lines: 23 Distribution: world NNTP-Posting-H...",
          "ization: Brunel University, West London, UK Lines: 26  <>  writes:  >So some of my ideas are a bit o...",
          " Moon first? Nntp-Posting-Host: unseen1.acns.nwu.edu Organization: Northwestern University, Evanston...",
          "unding Cuts. Organization: California Polytechnic State University, San Luis Obispo Lines: 51  Why d...",
          "-Xxmessage-Id: <> X-Xxdate: Fri, 16 Apr 93 06:33:17 GMT Organization: Simon Fraser University X-User...",
          "ng Cuts. Organization: Jet Propulsion Laboratory Lines: 15 Distribution: world NNTP-Posting-Host: ke...",
          " with the ears!) Organization: California Polytechnic State University, San Luis Obispo Lines: 31  >...",
          "es on the moon Organization: Lick Observatory/UCO Lines: 42 \t<> \t<> NNTP-Posting-Host: topaz.ucsc.ed...",
          "t year-lo Organization: ARCO Oil and Gas Company Lines: 44   (Craig Keithley) writes: > > All in all...",
          "TO type stuff from a shareholder perspective. Organization: Netcom Online Communications Services (4...",
          "ned Lunar Exploration. May 7 Crystal City Organization: Fermi National Accelerator Laboratory Lines:...",
          " Space Launcer Organization: Boeing AI Center, Huntsville, AL Lines: 72   Okay, lets get the record ...",
          "Jet Propulsion Laboratory Lines: 79 Distribution: world NNTP-Posting-Host: kelvin.jpl.nasa.gov News-...",
          "x (was:*Doppelganger*) Organization: NASA Langley Research Center Lines: 14 Distribution: world Repl...",
          "3.124722.1 Organization: University of Alaska Fairbanks Lines: 11 Nntp-Posting-Host: acad3.alaska.ed...",
          "e <>Re: Apollo Training in Iceland Distribution: sci Lines: 10  The Apollo astronauts also trained a...",
          "ss Access Online Communications USA Lines: 20 NNTP-Posting-Host: access.digex.net  In article <>  (G...",
          "akala BBS (ClanZen Radio Network) Sunnyvale, CA +1-408-734-2289 Lines: 20   (Doug Mohney) writes:  >...",
          "Access Online Communications USA Lines: 9 NNTP-Posting-Host: access.digex.net Keywords: food  dillon...",
          "cs Supersedes: <> Organization: University of North Carolina, Chapel Hill Lines: 95 Distribution: wo...",
          "ization: Express Access Online Communications USA Lines: 25 NNTP-Posting-Host: access.digex.net  In ...",
          "cle on Federal R&D Organization: Fermi National Accelerator Laboratory Lines: 24 NNTP-Posting-Host: ...",
          "uttle Keywords: Space Shuttle, Orbital Elements, Keplerian Nntp-Posting-Host: scgraph.afit.af.mil Or...",
          "on <>Re: Gamma Ray Bursters. Where are they?  <> Lines: 8  If all of these things have been detected...",
          "n residents? Article-I.D.: aurora.1993Apr19.130503.1 Organization: University of Alaska Fairbanks Li...",
          "g-Host: cc_sysk Organization: Coventry University Lines: 31  In article <> Callec Dradja <> writes: ...",
          " 7  Crystal City Organization: Express Access Online Communications, Greenbelt MD USA Lines: 9 Distr...",
          "ronto Zoology Lines: 18  In article <1raejd$>  (Pat) writes: >what ever happened to the hypothesis  ...",
          " 04/22/93) Organization: Express Access Online Communications USA Lines: 20 NNTP-Posting-Host: acces...",
          "n residents? Article-I.D.: aurora.1993Apr20.141137.1 Organization: University of Alaska Fairbanks Li...",
          "U of Toronto Zoology Lines: 24  In article <>  (Don Schiewer) writes: >What is the deal with life on...",
          "pdate - 04/22/93) Organization: Jet Propulsion Laboratory Lines: 22 Distribution: world NNTP-Posting...",
          "ound Jupiter? Article-I.D.: srl03.pgf.734063192 Organization: Univ. of Southwestern Louisiana Lines:...",
          " object found? X-Added: Forwarded by Space Digest Organization: [via International Space University]...",
          "e: Vulcan? No, not Spock or Haphaestus) Organization: Fermi National Accelerator Laboratory Lines: 2...",
          "od Article-I.D.: news.1pscc6INNebg Organization: Organization?  You must be kidding. Lines: 35 NNTP-...",
          ": University of Denver, Dept. of Math & Comp. Sci. Lines: 114    ARIANESPACE FLIGHT 56  (Flight V.56...",
          "d Lines: 25 Nntp-Posting-Host: skndiv.dseg.ti.com Reply-To:  Organization: TI/DSEG VAX Support   In ...",
          "ploration. May 7 Crystal City Organization: NASA Ames Research Center Distribution: na Lines: 14   (...",
          "ation: Worcester Polytechnic Institute, Worcester, MA 01609-2280 Lines: 11 NNTP-Posting-Host: wpi.wp...",
          "lboards (was Re: Vandalizing the sky.) Organization: stanford Lines: 38  In article <>,  (Brian Yama...",
          "tion: University of Denver, Dept. of Math & Comp. Sci. Lines: 22   And one of my profs is the chief ...",
          "on <>Re: What if the USSR had reached the Moon first?  <> <>  <> <>  <> <> Lines: 38  In article <>,...",
          "ronto Zoology Lines: 31  In article <>  (fred j mccall 575-3539) writes: >>>(given that I've heard t...",
          "SME? X-Added: Forwarded by Space Digest Organization: [via International Space University] Original-...",
          "No, not Spock or Haphaestus) Article-I.D.: mojo.1qkn6rINNett Reply-To:  Distribution: world Organiza...",
          "g. Organization: U of Toronto Zoology Lines: 22  In article <>  writes: >Here is a way to get the co...",
          "oration. May 7 Crystal City Distribution: na Organization: University of Illinois at Urbana Lines: 1...",
          "Nntp-Posting-Host: acad3.alaska.edu Organization: University of Alaska Fairbanks  In article <>,  (D...",
          " Organization: [via International Space University] Original-Sender:  Distribution: sci Lines: 14   ...",
          "Organization: Texas Instruments Inc Distribution: na Lines: 35  In <>  (Elijah Millgram) writes:   >...",
          "es on the moon Organization: Lick Observatory/UCO Lines: 26 \t<>\t<>\t<>,<> \t<> NNTP-Posting-Host: topa...",
          "ds: DC-X Nntp-Posting-Host: husc8.harvard.edu Lines: 17       I've been following discussions about ...",
          "ation: Express Access Online Communications USA Lines: 25 NNTP-Posting-Host: access.digex.net  In ar...",
          ", why? Organization: Apple Computer, Inc. Lines: 44  In article <>,  (Henry Spencer) wrote: >  > The...",
          "tion: U of Toronto Zoology Lines: 21  In article <>  (Steve Collins) writes: >The difficulties of a ...",
          "y Space Digest Organization: [via International Space University] Original-Sender:  Distribution: sc...",
          "Jupiter? Organization: SoftQuad Inc., Toronto, Canada Lines: 20   > > > Also, peri[jove]s of Gehrels...",
          "ation: U of Toronto Zoology Lines: 21  In article <>  (CLAUDIO OLIVEIRA EGALON) writes: >> there is ...",
          "ne 5 Distribution: sci Organization: Goddard Space Flight Center - Robotics Lab Lines: 26 News-Softw...",
          "eply-To: 's message of Sat, 17 Apr 1993 12: 52:09 GMT Organization: National Radio Astronomy Observa...",
          "d by Space Digest Organization: [via International Space University] Original-Sender:  Distribution:...",
          "b Space Station?) Article-I.D.: iti.1993Apr6.124456.14123 Organization: Evil Geniuses for a Better T...",
          "ion: University of Central Florida Lines: 19  I posted this over in sci.astro, but it didn't make it...",
          " Alternative #4 Organization: NASA/JSC/GM2, Space Shuttle Program Office  X-Newsreader: TIN [version...",
          "uestions list Supersedes: <> Organization: University of North Carolina, Chapel Hill Lines: 36 Distr...",
          "t year-long moon residents? Organization: Alpha Science Computer Network, Denver, Co. Lines: 5  The ...",
          "University of Texas at Austin Computation Center Lines: 20 Distribution: world NNTP-Posting-Host: ga...",
          "ting-Host: well.sf.ca.us Organization: Whole Earth 'Lectronic Link Lines: 29   The difficulties of a...",
          "tronaut) Organization: Statistics, Pure & Applied Mathematics, University of Adelaide Lines: 25  In ...",
          "ng for a little research help [ addendum] Organization: Dynamic Graphics Inc. Lines: 10 Distribution...",
          "ganization: Worcester Polytechnic Institute Lines: 15 NNTP-Posting-Host: bigwpi.wpi.edu    Hello eve...",
          "n: U of Toronto Zoology Lines: 21  In article <>  (David M. Palmer) writes: >>orbiting billboard... ...",
          "e Moon first? Reply-To:  (Gary Coffman) Organization: Destructive Testing Systems Lines: 63  In arti...",
          "nization: University of Western Ontario, London Nntp-Posting-Host: prism.engrg.uwo.ca Lines: 15  In ...",
          " not give $1G) Organization: University of Illinois at Urbana Lines: 42   (Keith Mancus) writes:  > ...",
          "n: Jet Propulsion Laboratory Lines: 113 Distribution: world NNTP-Posting-Host: kelvin.jpl.nasa.gov K...",
          "ound Jupiter? Organization: Univ. of Southwestern Louisiana Lines: 28   (Mark Brader) writes:   >Tha...",
          "ess Access Online Communications USA Lines: 18 NNTP-Posting-Host: access.digex.net  In article <1r6f...",
          "eles, CA X-Added: Forwarded by Space Digest Organization: [via International Space University] Origi...",
          "oon Organization: University of Rochester Lines: 38  In article <>  (Gary Coffman) writes:   > be th...",
          " Organization: NASA/GSFC Greenbelt Maryland Lines: 13  A brief political/cultural item.  Radio stati...",
          "uter Aided Design Lab, U. of Maryland College Park Lines: 13 Reply-To:  NNTP-Posting-Host: queen.eng...",
          " Forwarded by Space Digest Mmdf-Warning: Parse error in original version of preceding line at VACATI...",
          "T BY ETHER TWIST Reply-To:  Organization: Tektronix, Inc., Beaverton,  OR. Lines: 31   ----- News sa...",
          "cess.1psghn$s7r Organization: Express Access Online Communications USA Lines: 19 NNTP-Posting-Host: ...",
          "st year-long moon residents? Organization: U of Toronto Zoology Lines: 15  In article <>  (Allen W. ...",
          "cago Organization: Motorola Distribution: usa Nntp-Posting-Host: 145.1.146.43 Lines: 59  I am postin...",
          "o... Article-I.D.: aurora.1993Apr23.000021.1 Organization: University of Alaska Fairbanks Lines: 55 ...",
          "icle-I.D.: aurora.1993Apr25.150437.1 Organization: University of Alaska Fairbanks Lines: 28 Nntp-Pos...",
          "1 Nntp-Posting-Host: skndiv.dseg.ti.com Reply-To:  Organization: TI/DSEG VAX Support   In article <>...",
          "ganization: Jet Propulsion Laboratory Lines: 23 Distribution: world NNTP-Posting-Host: kelvin.jpl.na...",
          "ribution: na Organization: Space Telescope Science Institute Lines: 42  In article <>,   (Victor Lak...",
          " Feb 23 1993 Lines: 27  Mark Prado    >Please go just one step further: >How has the word \"Clementin...",
          ": aurora.1993Apr5.185700.1 Organization: University of Alaska Fairbanks Lines: 21 Nntp-Posting-Host:...",
          "ss Online Communications USA Lines: 20 Distribution: sci NNTP-Posting-Host: access.digex.net    I am...",
          "zation: UTexas Mail-to-News Gateway Lines: 37 NNTP-Posting-Host: cs.utexas.edu  In article <1raee7$>...",
          "light Test Organization: Texas Instruments Inc Lines: 14  In <>  writes:  >Since the DC-X is to take...",
          "k or Haphaestus Organization: NASA Langley Research Center Lines: 16 Distribution: world Reply-To:  ...",
          "d for 11 Days Organization: U of Toronto Zoology Lines: 35  In article <1rd1g0$>  (Pat) writes: >How...",
          "rganization: Fermi National Accelerator Laboratory Lines: 56 NNTP-Posting-Host: fnalf.fnal.gov  In a...",
          " not give $1G) Organization: MDSSC Lines: 60   (Josh Hopkins) writes: > (Keith Mancus) writes: >> (L...",
          "ator:  Reply-To:  (Mitch) Organization: North Carolina State University, Project Eos Lines: 21   Hi ...",
          " netnews Organization: The Trystro System (617) 625-7155 v.32/v.42bis Lines: 27  In article <> mwm+@...",
          " Article-I.D.: rave.1psogpINNksq Reply-To:  (CLAUDIO OLIVEIRA EGALON) Distribution: world Organizati...",
          "Feb 23 1993 Lines: 81  Brian Yamauchi asks: [Regarding orbital billboards...] >And does anyone have ...",
          " TWIST  (Ross Smith) Distribution: world Organization: Muppet Labs Lines: 27  In article <>  (fred j...",
          "g? Organization: NASA Langley Research Center Lines: 13 Distribution: world Reply-To:  (CLAUDIO OLIV...",
          ": 's message of Wed, 21 Apr 93 16:28:00 GMT Originator:  Nntp-Posting-Host: snow.fox.cs.cmu.edu Orga...",
          "xpress Access Online Communications USA Lines: 9 NNTP-Posting-Host: access.digex.net  In article <> ...",
          "nding Cuts. Organization: University of Virginia Lines: 13  In article <1r6aqr$>  (Pat) writes: #The...",
          "ion: California Institute of Technology, Pasadena Lines: 39 NNTP-Posting-Host: alumni.caltech.edu   ...",
          "uter Aided Design Lab, U. of Maryland College Park Lines: 22 Reply-To:  NNTP-Posting-Host: queen.eng...",
          " Organization: Space Telescope Science Institute, Baltimore MD Lines: 14  Another fish to check out ...",
          " NASA/MSFC Lines: 40   (Dennis Newkirk) writes: The Centaur is controlled technology.. State Dept wi...",
          "ntp-Posting-Host: ngis.geod.emr.ca Organization: Dept. of Energy, Mines, and Resources, Ottawa Lines...",
          "osting-Host: ugl-gw.uvic.ca Organization: University of Victoria, Victoria, BC, Canada Lines: 33  In...",
          "n: Science Applications Int'l Corp./San Diego Lines: 111        Ethnocentric USian that I am, I've a...",
          "osting-Host: sor.cs.colostate.edu Organization: Colorado State University -=- Computer Science Dept....",
          "ion: Inland Steel Company, East Chicago, IN Nntp-Posting-Host: pa881a Nntp-Posting-User: schiewer Li...",
          "cess Online Communications USA Lines: 15 NNTP-Posting-Host: access.digex.net   Well thank you dennis...",
          "ting-Host: nucleus.ps.uci.edu Organization: University of California, Irvine Lines: 30  Actually, th...",
          "axy.29034 Organization: University of California, Riverside Lines: 82 Nntp-Posting-Host: guitar.ucr....",
          "ie Organization: Trinity College Dublin Lines: 11  I need as much information about Cosmos 2238 and ...",
          "Russian Space Cooperation Organization: NASA/GSFC Greenbelt Maryland Lines: 23  Reported yesterday i..."
         ],
         "type": "scatter",
         "x": [
          2.974372625350952,
          -3.6677300930023193,
          3.976686477661133,
          -13.95126724243164,
          6.645753383636475,
          25.392288208007812,
          13.584672927856445,
          10.64731216430664,
          9.064489364624023,
          8.43576431274414,
          20.5411434173584,
          13.641413688659668,
          19.82147216796875,
          14.411641120910645,
          21.91645622253418,
          20.263343811035156,
          6.054239273071289,
          8.732024192810059,
          22.090370178222656,
          26.9475040435791,
          11.802313804626465,
          12.659880638122559,
          14.277955055236816,
          13.724900245666504,
          18.802879333496094,
          5.731210708618164,
          -14.91286849975586,
          22.017261505126953,
          15.771079063415527,
          1.3450734615325928,
          15.604351043701172,
          -1.8789998292922974,
          25.15446662902832,
          20.691112518310547,
          14.210810661315918,
          12.371607780456543,
          1.7861374616622925,
          7.885159969329834,
          10.207732200622559,
          11.524541854858398,
          9.562331199645996,
          4.742591381072998,
          15.947286605834961,
          -22.00383758544922,
          -3.4623265266418457,
          17.25761604309082,
          15.195892333984375,
          8.647200584411621,
          3.593355417251587,
          21.156675338745117,
          -14.374462127685547,
          11.125054359436035,
          0.7113506197929382,
          6.973267555236816,
          21.33035659790039,
          -5.813953876495361,
          8.533127784729004,
          5.420492172241211,
          2.6547834873199463,
          -1.3984454870224,
          -21.27871322631836,
          10.436156272888184,
          -21.422256469726562,
          11.167123794555664,
          8.09396743774414,
          19.220333099365234,
          -2.1026687622070312,
          22.37100601196289,
          11.718222618103027,
          2.7830748558044434,
          -1.2204798460006714,
          25.65165901184082,
          11.690023422241211,
          17.434450149536133,
          -0.5401929020881653,
          6.095333576202393,
          23.847673416137695,
          21.470916748046875,
          25.9584903717041,
          19.09600067138672,
          15.257747650146484,
          1.9258908033370972,
          4.778643608093262,
          21.34466552734375,
          8.986470222473145,
          5.22601318359375,
          5.859963893890381,
          15.42961311340332,
          6.756787300109863,
          2.026820421218872,
          3.3120646476745605,
          22.183429718017578,
          2.01147723197937,
          15.095630645751953,
          10.255473136901855,
          23.061330795288086,
          8.100889205932617,
          6.122915744781494,
          22.125864028930664,
          20.701295852661133,
          19.340259552001953,
          7.799368381500244,
          4.6593241691589355,
          5.566011428833008,
          10.179462432861328,
          24.370468139648438,
          17.115907669067383,
          18.17790412902832,
          5.3136067390441895,
          -1.774672508239746,
          -14.763358116149902,
          20.33457374572754,
          7.882380485534668,
          24.57394027709961,
          19.988004684448242,
          12.414963722229004,
          3.4314913749694824,
          -1.9202396869659424,
          3.3341073989868164,
          14.525887489318848,
          5.671918869018555,
          0.7868850827217102,
          21.429059982299805,
          -2.1801023483276367,
          13.061025619506836,
          7.67732048034668,
          19.517337799072266,
          5.8688249588012695,
          3.9235408306121826,
          6.709420680999756,
          17.74836540222168,
          -0.7736704349517822,
          21.48996925354004,
          17.837522506713867,
          -3.599249839782715,
          15.24629020690918,
          6.274343013763428,
          17.150522232055664,
          2.9883999824523926,
          12.087491989135742,
          17.397815704345703,
          -0.4317745566368103,
          7.505688190460205,
          1.1472641229629517,
          -5.794133186340332,
          12.126907348632812,
          4.126052379608154,
          -0.3975956439971924,
          8.283665657043457,
          14.29983901977539
         ],
         "y": [
          17.416358947753906,
          11.686673164367676,
          31.77158546447754,
          19.369380950927734,
          17.743953704833984,
          17.42927360534668,
          -5.345681667327881,
          14.235496520996094,
          12.878787994384766,
          25.413753509521484,
          18.732547760009766,
          14.204724311828613,
          22.240812301635742,
          10.702720642089844,
          7.303133964538574,
          26.285350799560547,
          -11.092397689819336,
          -10.317373275756836,
          17.457447052001953,
          2.892484664916992,
          8.469151496887207,
          15.558897018432617,
          11.34787368774414,
          12.502161979675293,
          13.097930908203125,
          23.07343101501465,
          13.264967918395996,
          23.537376403808594,
          23.978191375732422,
          20.327116012573242,
          23.78870964050293,
          22.923015594482422,
          22.964445114135742,
          20.784563064575195,
          15.1199369430542,
          20.69346809387207,
          30.624317169189453,
          21.84158706665039,
          29.204238891601562,
          12.318421363830566,
          19.380821228027344,
          -8.267925262451172,
          18.606334686279297,
          23.051435470581055,
          15.591212272644043,
          16.11466407775879,
          7.140789985656738,
          10.030009269714355,
          20.018291473388672,
          19.87470245361328,
          19.219512939453125,
          19.113401412963867,
          23.99752426147461,
          24.83529281616211,
          18.948570251464844,
          19.40194320678711,
          25.319435119628906,
          22.899499893188477,
          22.846960067749023,
          19.723596572875977,
          23.700489044189453,
          16.42412757873535,
          23.452226638793945,
          19.438371658325195,
          12.493600845336914,
          13.328298568725586,
          8.424691200256348,
          21.793834686279297,
          8.61188793182373,
          30.80019187927246,
          19.302146911621094,
          16.228487014770508,
          20.09803581237793,
          17.428306579589844,
          12.88480281829834,
          7.089137077331543,
          20.003820419311523,
          8.980352401733398,
          16.979053497314453,
          19.603429794311523,
          28.332990646362305,
          14.53465461730957,
          21.247135162353516,
          26.55478286743164,
          15.25379753112793,
          12.070510864257812,
          14.72669792175293,
          19.063831329345703,
          19.46507453918457,
          5.749362468719482,
          10.4950590133667,
          19.591772079467773,
          5.695867538452148,
          28.10340118408203,
          29.41259765625,
          -1.7437477111816406,
          10.535265922546387,
          30.404861450195312,
          22.110416412353516,
          13.129968643188477,
          22.215087890625,
          24.159133911132812,
          20.856094360351562,
          17.040977478027344,
          21.063318252563477,
          22.68130111694336,
          11.128552436828613,
          17.989748001098633,
          14.059395790100098,
          15.126214027404785,
          19.49088478088379,
          18.10921287536621,
          13.543905258178711,
          17.832494735717773,
          20.473661422729492,
          7.054248809814453,
          22.32248878479004,
          23.035003662109375,
          25.021656036376953,
          -4.650965690612793,
          6.570674896240234,
          21.231618881225586,
          9.349839210510254,
          21.098356246948242,
          27.638011932373047,
          17.46802520751953,
          22.834693908691406,
          11.111109733581543,
          12.981820106506348,
          7.858654499053955,
          12.518041610717773,
          14.50247859954834,
          26.691164016723633,
          20.97314453125,
          11.663796424865723,
          22.731781005859375,
          30.367464065551758,
          17.921592712402344,
          17.25487518310547,
          24.97368812561035,
          13.031708717346191,
          13.914618492126465,
          -7.2027907371521,
          19.632776260375977,
          19.409055709838867,
          25.073787689208984,
          31.21217155456543,
          15.988740921020508,
          15.387575149536133,
          13.191936492919922
         ]
        }
       ],
       "layout": {
        "height": 800,
        "hovermode": "closest",
        "template": {
         "data": {
          "bar": [
           {
            "error_x": {
             "color": "#2a3f5f"
            },
            "error_y": {
             "color": "#2a3f5f"
            },
            "marker": {
             "line": {
              "color": "#E5ECF6",
              "width": 0.5
             },
             "pattern": {
              "fillmode": "overlay",
              "size": 10,
              "solidity": 0.2
             }
            },
            "type": "bar"
           }
          ],
          "barpolar": [
           {
            "marker": {
             "line": {
              "color": "#E5ECF6",
              "width": 0.5
             },
             "pattern": {
              "fillmode": "overlay",
              "size": 10,
              "solidity": 0.2
             }
            },
            "type": "barpolar"
           }
          ],
          "carpet": [
           {
            "aaxis": {
             "endlinecolor": "#2a3f5f",
             "gridcolor": "white",
             "linecolor": "white",
             "minorgridcolor": "white",
             "startlinecolor": "#2a3f5f"
            },
            "baxis": {
             "endlinecolor": "#2a3f5f",
             "gridcolor": "white",
             "linecolor": "white",
             "minorgridcolor": "white",
             "startlinecolor": "#2a3f5f"
            },
            "type": "carpet"
           }
          ],
          "choropleth": [
           {
            "colorbar": {
             "outlinewidth": 0,
             "ticks": ""
            },
            "type": "choropleth"
           }
          ],
          "contour": [
           {
            "colorbar": {
             "outlinewidth": 0,
             "ticks": ""
            },
            "colorscale": [
             [
              0,
              "#0d0887"
             ],
             [
              0.1111111111111111,
              "#46039f"
             ],
             [
              0.2222222222222222,
              "#7201a8"
             ],
             [
              0.3333333333333333,
              "#9c179e"
             ],
             [
              0.4444444444444444,
              "#bd3786"
             ],
             [
              0.5555555555555556,
              "#d8576b"
             ],
             [
              0.6666666666666666,
              "#ed7953"
             ],
             [
              0.7777777777777778,
              "#fb9f3a"
             ],
             [
              0.8888888888888888,
              "#fdca26"
             ],
             [
              1,
              "#f0f921"
             ]
            ],
            "type": "contour"
           }
          ],
          "contourcarpet": [
           {
            "colorbar": {
             "outlinewidth": 0,
             "ticks": ""
            },
            "type": "contourcarpet"
           }
          ],
          "heatmap": [
           {
            "colorbar": {
             "outlinewidth": 0,
             "ticks": ""
            },
            "colorscale": [
             [
              0,
              "#0d0887"
             ],
             [
              0.1111111111111111,
              "#46039f"
             ],
             [
              0.2222222222222222,
              "#7201a8"
             ],
             [
              0.3333333333333333,
              "#9c179e"
             ],
             [
              0.4444444444444444,
              "#bd3786"
             ],
             [
              0.5555555555555556,
              "#d8576b"
             ],
             [
              0.6666666666666666,
              "#ed7953"
             ],
             [
              0.7777777777777778,
              "#fb9f3a"
             ],
             [
              0.8888888888888888,
              "#fdca26"
             ],
             [
              1,
              "#f0f921"
             ]
            ],
            "type": "heatmap"
           }
          ],
          "heatmapgl": [
           {
            "colorbar": {
             "outlinewidth": 0,
             "ticks": ""
            },
            "colorscale": [
             [
              0,
              "#0d0887"
             ],
             [
              0.1111111111111111,
              "#46039f"
             ],
             [
              0.2222222222222222,
              "#7201a8"
             ],
             [
              0.3333333333333333,
              "#9c179e"
             ],
             [
              0.4444444444444444,
              "#bd3786"
             ],
             [
              0.5555555555555556,
              "#d8576b"
             ],
             [
              0.6666666666666666,
              "#ed7953"
             ],
             [
              0.7777777777777778,
              "#fb9f3a"
             ],
             [
              0.8888888888888888,
              "#fdca26"
             ],
             [
              1,
              "#f0f921"
             ]
            ],
            "type": "heatmapgl"
           }
          ],
          "histogram": [
           {
            "marker": {
             "pattern": {
              "fillmode": "overlay",
              "size": 10,
              "solidity": 0.2
             }
            },
            "type": "histogram"
           }
          ],
          "histogram2d": [
           {
            "colorbar": {
             "outlinewidth": 0,
             "ticks": ""
            },
            "colorscale": [
             [
              0,
              "#0d0887"
             ],
             [
              0.1111111111111111,
              "#46039f"
             ],
             [
              0.2222222222222222,
              "#7201a8"
             ],
             [
              0.3333333333333333,
              "#9c179e"
             ],
             [
              0.4444444444444444,
              "#bd3786"
             ],
             [
              0.5555555555555556,
              "#d8576b"
             ],
             [
              0.6666666666666666,
              "#ed7953"
             ],
             [
              0.7777777777777778,
              "#fb9f3a"
             ],
             [
              0.8888888888888888,
              "#fdca26"
             ],
             [
              1,
              "#f0f921"
             ]
            ],
            "type": "histogram2d"
           }
          ],
          "histogram2dcontour": [
           {
            "colorbar": {
             "outlinewidth": 0,
             "ticks": ""
            },
            "colorscale": [
             [
              0,
              "#0d0887"
             ],
             [
              0.1111111111111111,
              "#46039f"
             ],
             [
              0.2222222222222222,
              "#7201a8"
             ],
             [
              0.3333333333333333,
              "#9c179e"
             ],
             [
              0.4444444444444444,
              "#bd3786"
             ],
             [
              0.5555555555555556,
              "#d8576b"
             ],
             [
              0.6666666666666666,
              "#ed7953"
             ],
             [
              0.7777777777777778,
              "#fb9f3a"
             ],
             [
              0.8888888888888888,
              "#fdca26"
             ],
             [
              1,
              "#f0f921"
             ]
            ],
            "type": "histogram2dcontour"
           }
          ],
          "mesh3d": [
           {
            "colorbar": {
             "outlinewidth": 0,
             "ticks": ""
            },
            "type": "mesh3d"
           }
          ],
          "parcoords": [
           {
            "line": {
             "colorbar": {
              "outlinewidth": 0,
              "ticks": ""
             }
            },
            "type": "parcoords"
           }
          ],
          "pie": [
           {
            "automargin": true,
            "type": "pie"
           }
          ],
          "scatter": [
           {
            "fillpattern": {
             "fillmode": "overlay",
             "size": 10,
             "solidity": 0.2
            },
            "type": "scatter"
           }
          ],
          "scatter3d": [
           {
            "line": {
             "colorbar": {
              "outlinewidth": 0,
              "ticks": ""
             }
            },
            "marker": {
             "colorbar": {
              "outlinewidth": 0,
              "ticks": ""
             }
            },
            "type": "scatter3d"
           }
          ],
          "scattercarpet": [
           {
            "marker": {
             "colorbar": {
              "outlinewidth": 0,
              "ticks": ""
             }
            },
            "type": "scattercarpet"
           }
          ],
          "scattergeo": [
           {
            "marker": {
             "colorbar": {
              "outlinewidth": 0,
              "ticks": ""
             }
            },
            "type": "scattergeo"
           }
          ],
          "scattergl": [
           {
            "marker": {
             "colorbar": {
              "outlinewidth": 0,
              "ticks": ""
             }
            },
            "type": "scattergl"
           }
          ],
          "scattermapbox": [
           {
            "marker": {
             "colorbar": {
              "outlinewidth": 0,
              "ticks": ""
             }
            },
            "type": "scattermapbox"
           }
          ],
          "scatterpolar": [
           {
            "marker": {
             "colorbar": {
              "outlinewidth": 0,
              "ticks": ""
             }
            },
            "type": "scatterpolar"
           }
          ],
          "scatterpolargl": [
           {
            "marker": {
             "colorbar": {
              "outlinewidth": 0,
              "ticks": ""
             }
            },
            "type": "scatterpolargl"
           }
          ],
          "scatterternary": [
           {
            "marker": {
             "colorbar": {
              "outlinewidth": 0,
              "ticks": ""
             }
            },
            "type": "scatterternary"
           }
          ],
          "surface": [
           {
            "colorbar": {
             "outlinewidth": 0,
             "ticks": ""
            },
            "colorscale": [
             [
              0,
              "#0d0887"
             ],
             [
              0.1111111111111111,
              "#46039f"
             ],
             [
              0.2222222222222222,
              "#7201a8"
             ],
             [
              0.3333333333333333,
              "#9c179e"
             ],
             [
              0.4444444444444444,
              "#bd3786"
             ],
             [
              0.5555555555555556,
              "#d8576b"
             ],
             [
              0.6666666666666666,
              "#ed7953"
             ],
             [
              0.7777777777777778,
              "#fb9f3a"
             ],
             [
              0.8888888888888888,
              "#fdca26"
             ],
             [
              1,
              "#f0f921"
             ]
            ],
            "type": "surface"
           }
          ],
          "table": [
           {
            "cells": {
             "fill": {
              "color": "#EBF0F8"
             },
             "line": {
              "color": "white"
             }
            },
            "header": {
             "fill": {
              "color": "#C8D4E3"
             },
             "line": {
              "color": "white"
             }
            },
            "type": "table"
           }
          ]
         },
         "layout": {
          "annotationdefaults": {
           "arrowcolor": "#2a3f5f",
           "arrowhead": 0,
           "arrowwidth": 1
          },
          "autotypenumbers": "strict",
          "coloraxis": {
           "colorbar": {
            "outlinewidth": 0,
            "ticks": ""
           }
          },
          "colorscale": {
           "diverging": [
            [
             0,
             "#8e0152"
            ],
            [
             0.1,
             "#c51b7d"
            ],
            [
             0.2,
             "#de77ae"
            ],
            [
             0.3,
             "#f1b6da"
            ],
            [
             0.4,
             "#fde0ef"
            ],
            [
             0.5,
             "#f7f7f7"
            ],
            [
             0.6,
             "#e6f5d0"
            ],
            [
             0.7,
             "#b8e186"
            ],
            [
             0.8,
             "#7fbc41"
            ],
            [
             0.9,
             "#4d9221"
            ],
            [
             1,
             "#276419"
            ]
           ],
           "sequential": [
            [
             0,
             "#0d0887"
            ],
            [
             0.1111111111111111,
             "#46039f"
            ],
            [
             0.2222222222222222,
             "#7201a8"
            ],
            [
             0.3333333333333333,
             "#9c179e"
            ],
            [
             0.4444444444444444,
             "#bd3786"
            ],
            [
             0.5555555555555556,
             "#d8576b"
            ],
            [
             0.6666666666666666,
             "#ed7953"
            ],
            [
             0.7777777777777778,
             "#fb9f3a"
            ],
            [
             0.8888888888888888,
             "#fdca26"
            ],
            [
             1,
             "#f0f921"
            ]
           ],
           "sequentialminus": [
            [
             0,
             "#0d0887"
            ],
            [
             0.1111111111111111,
             "#46039f"
            ],
            [
             0.2222222222222222,
             "#7201a8"
            ],
            [
             0.3333333333333333,
             "#9c179e"
            ],
            [
             0.4444444444444444,
             "#bd3786"
            ],
            [
             0.5555555555555556,
             "#d8576b"
            ],
            [
             0.6666666666666666,
             "#ed7953"
            ],
            [
             0.7777777777777778,
             "#fb9f3a"
            ],
            [
             0.8888888888888888,
             "#fdca26"
            ],
            [
             1,
             "#f0f921"
            ]
           ]
          },
          "colorway": [
           "#636efa",
           "#EF553B",
           "#00cc96",
           "#ab63fa",
           "#FFA15A",
           "#19d3f3",
           "#FF6692",
           "#B6E880",
           "#FF97FF",
           "#FECB52"
          ],
          "font": {
           "color": "#2a3f5f"
          },
          "geo": {
           "bgcolor": "white",
           "lakecolor": "white",
           "landcolor": "#E5ECF6",
           "showlakes": true,
           "showland": true,
           "subunitcolor": "white"
          },
          "hoverlabel": {
           "align": "left"
          },
          "hovermode": "closest",
          "mapbox": {
           "style": "light"
          },
          "paper_bgcolor": "white",
          "plot_bgcolor": "#E5ECF6",
          "polar": {
           "angularaxis": {
            "gridcolor": "white",
            "linecolor": "white",
            "ticks": ""
           },
           "bgcolor": "#E5ECF6",
           "radialaxis": {
            "gridcolor": "white",
            "linecolor": "white",
            "ticks": ""
           }
          },
          "scene": {
           "xaxis": {
            "backgroundcolor": "#E5ECF6",
            "gridcolor": "white",
            "gridwidth": 2,
            "linecolor": "white",
            "showbackground": true,
            "ticks": "",
            "zerolinecolor": "white"
           },
           "yaxis": {
            "backgroundcolor": "#E5ECF6",
            "gridcolor": "white",
            "gridwidth": 2,
            "linecolor": "white",
            "showbackground": true,
            "ticks": "",
            "zerolinecolor": "white"
           },
           "zaxis": {
            "backgroundcolor": "#E5ECF6",
            "gridcolor": "white",
            "gridwidth": 2,
            "linecolor": "white",
            "showbackground": true,
            "ticks": "",
            "zerolinecolor": "white"
           }
          },
          "shapedefaults": {
           "line": {
            "color": "#2a3f5f"
           }
          },
          "ternary": {
           "aaxis": {
            "gridcolor": "white",
            "linecolor": "white",
            "ticks": ""
           },
           "baxis": {
            "gridcolor": "white",
            "linecolor": "white",
            "ticks": ""
           },
           "bgcolor": "#E5ECF6",
           "caxis": {
            "gridcolor": "white",
            "linecolor": "white",
            "ticks": ""
           }
          },
          "title": {
           "x": 0.05
          },
          "xaxis": {
           "automargin": true,
           "gridcolor": "white",
           "linecolor": "white",
           "ticks": "",
           "title": {
            "standoff": 15
           },
           "zerolinecolor": "white",
           "zerolinewidth": 2
          },
          "yaxis": {
           "automargin": true,
           "gridcolor": "white",
           "linecolor": "white",
           "ticks": "",
           "title": {
            "standoff": 15
           },
           "zerolinecolor": "white",
           "zerolinewidth": 2
          }
         }
        },
        "title": {
         "text": "Embedding Plot with Class Labels"
        },
        "width": 1200,
        "xaxis": {
         "showgrid": false,
         "showticklabels": false,
         "zeroline": false
        },
        "yaxis": {
         "showgrid": false,
         "showticklabels": false,
         "zeroline": false
        }
       }
      },
      "text/html": [
       "<div>                            <div id=\"4ad786b7-7d76-4bcb-8c16-2c85828dd976\" class=\"plotly-graph-div\" style=\"height:800px; width:1200px;\"></div>            <script type=\"text/javascript\">                require([\"plotly\"], function(Plotly) {                    window.PLOTLYENV=window.PLOTLYENV || {};                                    if (document.getElementById(\"4ad786b7-7d76-4bcb-8c16-2c85828dd976\")) {                    Plotly.newPlot(                        \"4ad786b7-7d76-4bcb-8c16-2c85828dd976\",                        [{\"hoverinfo\":\"text\",\"marker\":{\"line\":{\"color\":\"white\",\"width\":0.5},\"size\":15},\"mode\":\"markers\",\"name\":\"Class sci.crypt\",\"opacity\":0.7,\"text\":[\" security? Lines: 24  \\t (Graham Toal) writes: \\t\\u003e \\t\\u003eIn the UK, it's impossible to get approval to att...\",\"r over the internet... Lines: 92  Well, after a lot of trawling through archives, I found the post I...\",\"od cover for other encryption method? Nntp-Posting-Host: rac2.wam.umd.edu Organization: University o...\",\"no good any more. Reply-To:  Organization: Virus Test Center, University of Hamburg Distribution: na...\",\"o good any more. Organization: Univ. of Southwestern Louisiana Lines: 52   (David Sternlight) writes...\",\"r Chip and crypto key-escrow] Reply-To:  Organization: Chaos Lines: 76 X-Newsreader: Archimedes Read...\",\"-core hackers & spooks only Organization: C-Set\\u002f2 Development, IBM Canada Lab. Disclaimer: This post...\",\"no good any more. Nntp-Posting-Host: lonestar.utsa.edu Organization: University of Texas at San Anto...\",\"on: Turing Police Lines: 22   \\u003e (Carl Ellison) writes: \\u003eFor example, if I had a program on my disk w...\",\"each machine (Was: Re: Corporate acceptance of the wiretap chip) Organization: AT&T Bell Laboratorie...\",\"s Online Communications, Greenbelt, MD USA Lines: 13 NNTP-Posting-Host: access.digex.net   \\u003e Second ...\",\"ic packages In-Reply-To: 's message of 20 Apr 1993 16: 47:03 GMT Organization: York U. Student Infor...\",\"bution: world Organization: Thibault & Friends Lines: 34  In article \\u003c1qg8m2$\\u003e  (Edward Vielmetti) w...\",\"ive Organization: Silicon Graphics, Inc.  Mountain View, CA Lines: 20  In article \\u003c\\u003e,  (David Sternl...\",\"rgraph's Name? Organization: NETCOM On-line Communication Services (408 241-9760 guest) X-Newsreader...\",\"o good any more. Organization: Univ. of Southwestern Louisiana Distribution: na Lines: 25   (douglas...\",\"e Summary: Ways to fight it  Organization: Climate and Global Dynamics Division\\u002fNCAR, Boulder, CO Li...\",\"ip and crypto key-escrow] Summary: Whatever... Keywords: Hmm... Organization:  George Mason Universi...\",\"gow University Computing Science Dept. Distribution: net Lines: 7  I am a PhD student. Can I get the...\",\"was: Re: More technical details) Reply-To:  Organization: New Technology, Inc. Lines: 53  ( Below is...\",\" Organization: Harvey Mudd College, Claremont, CA 91711 Lines: 23  In article \\u003c\\u003e  (Robert Lewis Glen...\",\"law enforcement blocks? Organization: Loral Rolm Mil-Spec Computers Lines: 43  The M code stream  mi...\",\"ization: Swiss Federal Institute of Technology (ETH), Zurich, CH Lines: 120  Hmm, followup on my own...\",\"ors (large state) Organization: UTexas Mail-to-News Gateway Lines: 171 NNTP-Posting-Host: cs.utexas....\",\" \\t  The points raised about checking what is actually -in- the chip, as \\topposed to what is allegedl...\",\" drive security) Nntp-Posting-Host: servo.qualcomm.com Reply-To:  Organization: Qualcomm, Inc Lines:...\",\"p, subvert or replace it ! Organization: Netcom - Online Communication Services (408 241-9760 guest)...\",\"ent and Q&As on clipper chip encryption Distribution: na Organization: ClariNet Communications Corp....\",\"ganization: Express Access Online Communications, Greenbelt, MD USA Lines: 25 NNTP-Posting-Host: acc...\",\" machine (Was: Re: Corporate acceptance of the wiretap chip) Lines: 16  : At the company I worked fo...\",\"ent and Q&As on clipper chip encryption Organization: ClariNet Communications Corp. Distribution: na...\",\"rganization: Sun Microsystems, Inc. Lines: 70 Nntp-Posting-Host: sunspot.ece.clarkson.edu Cc: tuinst...\",\"y-To:  (Jim McCoy) Organization: The University of Texas - Austin Lines: 53 NNTP-Posting-Host: tramp...\",\" 7  :    I've been thinking about how difficult it would be to make PGP available : in some form on ...\",\"D.: ole.1993Apr20.173039.4722 Organization: Cascade Design Automation Lines: 17       Notwithstandin...\",\"phy Patents) Organization: Oce Graphics USA X-Newsreader: TIN [version 1.1 PL7] Lines: 41  Charles K...\",\"tion: Cold Media  Lines: 13   (Ze'ev Wurman) writes:  \\u003eBut do we really believe that the various gov...\",\"ative Organization: Metatron Press \\u002f Human Systems Performance Group, Austin, TX X-Newsreader: rusne...\",\"P: A TECHNICAL SUMMARY Organization: Brought to you by the numbers 2, 3, and 7 In-Reply-To: 's messa...\",\"r? Organization: Kaleida Labs, Inc. Lines: 10 Distribution: world NNTP-Posting-Host: jfenton.kaleida...\",\"anization: AT&T Bell Laboratories Lines: 55  I'd *desparately* prefer it if we didn't rehash the sam...\",\"ormation Sheet Keywords: Big Bubba Is Watching. Organization: NASA Science Internet Project Office L...\",\" and Q&As on clipper chip encryption Lines: 16  \\t (Brad Templeton)  \\tLet's assume, for the moment, t...\",\"s for over the internet... Lines: 27  I forwarded an old posting about CELP speech compression:  \\tIn...\",\"secret Organization: Panix, (New Yawk City) Lines: 29  In \\u003c\\u003e  (John R. Levine) writes: (quoting some...\",\" security? Lines: 25  : There are chips which perform the voice compression\\u002fexpansion.  They can't :...\",\" any more. Nntp-Posting-Host: spot.colorado.edu Organization: University of Colorado, Boulder Distri...\",\"osting-Host: spot.colorado.edu Organization: University of Colorado, Boulder Distribution: na Lines:...\",\"ion: Express Access Online Communications, Greenbelt, MD USA Lines: 10 NNTP-Posting-Host: access.dig...\",\"e Organization: Express Access Online Communications, Greenbelt, MD USA Lines: 7 NNTP-Posting-Host: ...\",\"e is no good any more. Originator:  Nntp-Posting-Host: qualcom.qualcomm.com Organization: Qualcomm, ...\",\"ver for other encryption method? Organization: Optilink Corporation, Petaluma, CA Lines: 19  In arti...\",\"g-Host: wardibm2.med.yale.edu Organization: Yale U. - Genetics Lines: 30  In article \\u003c\\u003e,  (Vesselin ...\",\"od any more. Organization: Little to None Distribution: na Lines: 13  \\u003e\\u003e\\tWith E-Mail, if they can't ...\",\")  (Tal Kubo) Distribution: inet Organization: Dept. of Math, Harvard Univ. Nntp-Posting-Host: zaris...\",\"machine (Was: Re: Corporate acceptance of the wiretap chip) In-Reply-To: 's message of Wed, 21 Apr 1...\",\"uncement Organization: capriccioso X-Newsreader: TIN [version 1.1 PL6] Lines: 35  I guess the crypto...\",\"tails Organization: AT&T Bell Laboratories Lines: 20  In article \\u003c\\u003e,  (D. J. Bernstein) writes: \\u003e Sh...\",\" is no good any more. Distribution: na Nntp-Posting-Host: beethoven.cs.colostate.edu Organization: C...\",\"ets Originator:  Keywords: entropy Nntp-Posting-Host: pizzabox.demon.co.uk Reply-To: Graham Toal \\u003c\\u003e ...\",\"y Patents)  (Arthur Rubin) Organization: Beckman Instruments, Inc. Nntp-Posting-Host: dsg4.dse.beckm...\",\"ood any more. Organization: TRW Systems Division, Fairfax VA Distribution: na Lines: 65   (Timothy C...\",\"nnouncement Organization: Department of Mathematical Sciences Lines: 29 Distribution: inet NNTP-Post...\",\"Chip and crypto key-escrow] Organization: InterCon Systems Corporation - Herndon, VA  USA Lines: 30 ...\",\"s Organization: Swiss Federal Institute of Technology (ETH), Zurich, CH Lines: 28  In article \\u003c1qv83...\",\" Kubo) Organization: Dept. of Math, Harvard Univ. Nntp-Posting-Host: zariski.harvard.edu Lines: 55  ...\",\"uncement Lines: 19  \\tEven more interesting: the SMTP server at csrc.ncsl.nist.gov no longer \\trecogni...\",\"hine (Was: Re: Corporate acceptance of the wiretap chip) Organization: CSRI, University of Toronto L...\",\"no good any more. Organization: ITC\\u002fUVA Community Access UNIX\\u002fInternet Project Lines: 16  In article...\",\"ap security? Organization: InterCon Systems Corporation - Herndon, VA  USA Lines: 68 Distribution: w...\",\" Organization: Center For High Perf. Computing of WPI; Marlboro Ma Lines: 35  In article \\u003c1qn1ic$\\u003e  ...\",\"cademic Computer Center \\u003c\\u003eRe: Clipper -- some new thoughts Lines: 7  The cryptographic algorythm MUS...\",\" any more. Summary: But, for all its flaws, the domino theory was right... Organization: Chinet - Pu...\",\"d any more. Organization: Center For High Perf. Computing of WPI; Marlboro Ma Distribution: na Lines...\",\" any more. Distribution: na Organization: VisiCom Laboratories, Inc., San Diego, California Lines: 1...\",\"and crypto key-escrow] Keywords: encryption, wiretap, clipper, key-escrow, Mykotronx Organization: B...\",\"plementations Reply-To:  Organization: Virus Test Center, University of Hamburg Lines: 23   (David S...\",\"f that announcement Organization: Stanford University Lines: 22  In article \\u003c\\u003e Rick Miller \\u003c\\u003e writes...\",\"on: Partnership for an America Free Drug Lines: 77  Here is a disturbing thought.  Now, we no longer...\",\"p security? Organization: CSIR, South AFrica Lines: 27 NNTP-Posting-Host: nuustak.csir.co.za X-Discl...\",\" ask for? (Re: Clipper) Lines: 19 Organization: Curtin University of Technology  In article \\u003c\\u003e,  (St...\",\" and Q&As on clipper chip encryption Organization: capriccioso X-Newsreader: TIN [version 1.1 PL6] D...\",\"tive Organization: DSI\\u002fUSCRPAC Lines: 32  In article \\u003c1r0nov$\\u003e  (Steve Brinich) writes:   \\u003e \\u003e 1. Ame...\",\"bution: usa Reply-To:  Disclaimer: This posting represents the poster's views, not necessarily those...\",\" machine (Was: Re: Corporate acceptance of the wiretap chip) Organization: Computing Research Lab Li...\",\"d any more. Organization: University of Nebraska at Omaha Distribution: na Lines: 18   (Geoffrey Kue...\",\"re hackers & spooks only Summary: (We need privacy chips for phones, not computer-bound station)_ Ar...\",\"(Tal Kubo) Distribution: inet Organization: Dept. of Math, Harvard Univ. Nntp-Posting-Host: zariski....\",\"id it Originator:  Keywords: Big Bubba Is Watching! Nntp-Posting-Host: qualcom.qualcomm.com Organiza...\",\"ard-core hackers & spooks only Nntp-Posting-Host: bistromath.mitre.org Organization: The MITRE Corpo...\",\"ood any more. Organization: Express Access Online Communications, Greenbelt, MD USA Lines: 6 Distrib...\",\"tribution: world Organization: boring Reply-To:  X-Mailer: Simple NEWS 1.90 (ka9q DIS 1.19) Lines: 2...\",\" is no good any more. Organization: Society for the conservation of momentum Distribution: na Lines:...\",\"ganization: Mail to News Gateway at Wang Labs Distribution: na Lines: 47   (Jerry Han) writes: \\u003e The...\",\"tography Organization: Yale University Lines: 21 Distribution: inet Reply-To:  NNTP-Posting-Host: mi...\",\"ata Lines: 46  \\t (Marc Anderson)  \\t\\u003eAlso.. how about a box that you plug your phone into, which woul...\",\"each machine (Was: Re: Corporate acceptance of the wiretap chip) Organization: AT&T Bell Laboratorie...\",\"Clipper Chip and crypto key-escrow] Nntp-Posting-Host: beethoven.cs.colostate.edu Organization: Colo...\",\"oso X-Newsreader: TIN [version 1.1 PL6] Lines: 11  I am testing IDEA block cipher implementations fo...\",\"r Chip and crypto key-escrow] Keywords: encryption, wiretap, clipper, key-escrow, Mykotronx Nntp-Pos...\",\" Distribution: sci Lines: 12 Organization: Networked Systems Architecture   \\tI have a bunch of quest...\",\"ood any more. Organization: Express Access Online Communications, Greenbelt, MD USA Lines: 5 Distrib...\",\"tography Patents) Nntp-Posting-Host: next4.cs.umr.edu Organization: University of Missouri - Rolla, ...\",\"for other encryption method? Originator:  Nntp-Posting-Host: eff.org Organization: The Electronic Fr...\",\"no good any more. Nntp-Posting-Host: ogmore.cs.ucla.edu Organization: UCLA, Computer Science Departm...\",\"ment and Q&As on clipper chip encryption Organization: Engineering Computer Network Distribution: na...\",\" any Nntp-Posting-Host: tidss2.asic.sc.ti.com Reply-To:  Organization: Design Automaton Div., Texas ...\",\" is us Organization: Minnesota Supercomputer Center, Minneapolis, MN Lines: 18  I agree that notifyi...\",\"tion: NETCOM On-line Communication Services (408 241-9760 guest) X-Newsreader: Tin 1.1 PL5 Lines: 41...\",\"ilable  Organization: capriccioso X-Newsreader: TIN [version 1.1 PL6] Lines: 84  *** SOURCE code to ...\",\" for hard-core hackers & spooks only Organization: DSI\\u002fUSCRPAC Lines: 39  In article \\u003c\\u003e  (Derek Atki...\",\"agement Fact Sheet News-Software: VAX\\u002fVMS VNEWS 1.41     Organization: Mission Operations and Data S...\",\"p-Posting-Host: bistromath.mitre.org Organization: The MITRE Corporation Lines: 67  In article \\u003c\\u003e  (...\",\"bilities Article-I.D.: usenet.C4qoH8.CHE Expires: Thu, 20 May 1993 00:00:00 GMT Organization: Comput...\",\"swer Organization: Michigan State University Lines: 21 NNTP-Posting-Host: scss3.cl.msu.edu X-Newsrea...\",\"ood any more. Organization: InterCon Systems Corporation - Herndon, VA  USA Lines: 35 Distribution: ...\",\"mmary: Buckets of blood pouring from peoples' heads! Organization: Kubota Pacific Computer, Inc. Lin...\",\": Harvey Mudd College, Claremont, CA 91711 Lines: 13  In article \\u003c\\u003e  (Phil Karn) writes: \\u003eIt looks l...\",\": world Organization: Georgetown University Lines: 139  The following document summarizes the Clippe...\",\"ement and Q&As on clipper chip encryption Organization: Partnership for an America Free Drug Distrib...\",\"anization: Private Computer, Totowa, NJ Lines: 21  In article \\u003c:  (Peter Trei) writes: :Judge: \\\"I gr...\",\"ood any more. Distribution: na Organization: Kendall Square Research Corp. Lines: 20   (Steve Johnso...\",\" more.  (Arthur Rubin)  \\u003c\\u003e \\u003c\\u003e Distribution: na Organization: Beckman Instruments, Inc. Nntp-Posting-...\",\"tion: The Crypt Cabal Lines: 187 Expires: 22 May 1993 04:00:07 GMT Reply-To:  NNTP-Posting-Host: pad...\",\"ative Organization: University of Iowa, Iowa City, IA, USA Lines: 43   (Philip Zimmermann) writes:  ...\",\"s Reply-To:  Organization: University of Chicago Lines: 23  In article \\u003c\\u003e  (Kenneth Ng) writes: \\u003eIn ...\",\"ert or replace it ! Reply-To:  Distribution: na Organization: Thibault & Friends Lines: 10  In artic...\",\" Organization: is a nice thing... Lines: 28  Having read the various \\\"Clipper\\\" announcements on the ...\",\"machine (Was: Re: Corporate acceptance of the wiretap chip) Organization: Harvey Mudd College, Clare...\",\"aphy Organization: University of Illinois, Dept. of Comp. Sci., Urbana, IL Lines: 18   (Tal Kubo) wr...\",\"n: The Crypt Cabal Lines: 92 Expires: 22 May 1993 04:00:07 GMT Reply-To:  NNTP-Posting-Host: pad-tha...\",\"s us X-Xxmessage-Id: \\u003c\\u003e X-Xxdate: Wed, 21 Apr 93 17:40:17 GMT Nntp-Posting-Host: l-b-johnson.eff.org...\",\"heap security? Organization: Swiss Federal Institute of Technology (ETH), Zurich, CH Lines: 19  In a...\",\"o good any more. Organization: DSI\\u002fUSCRPAC Distribution: na Lines: 26  In article \\u003c\\u003e  (Karl Barrus) ...\",\"ecrecy Reply-To:  Organization: Sun Microsystems, Inc. Lines: 38 Nntp-Posting-Host: signal.ece.clark...\",\"e Crypt Cabal Lines: 138 Expires: 22 May 1993 04:00:07 GMT Reply-To:  NNTP-Posting-Host: pad-thai.ak...\",\"aphy Reply-To:  (Paul Crowley) Organization: Edinburgh University Distribution: inet Lines: 12  Quot...\",\"rganization: University of Illinois, Dept. of Comp. Sci., Urbana, IL Lines: 42   (Andrew S Hall) wri...\",\"d any more. Organization: University of Houston Lines: 27 Distribution: na \\t\\u003c\\u003e NNTP-Posting-Host: me...\",\"any more. Article-I.D.: rwing.2091 Distribution: na Organization: Totally Unorganized Lines: 17  In ...\",\"al number, possibly fixed S1 and S2 Organization: Universitaetsrechenzentrum, Heinrich-Heine-Univers...\",\"Costs\\u002fBenefits Organization: Netcom - Online Communication Services (408 241-9760 guest) Lines: 61  ...\",\"nization: Totally Unorganized Lines: 48  In article \\u003c\\u003e  writes: \\u003c (David Sternlight) writes: \\u003c \\u003c\\u003e He...\",\"ral comments Nntp-Posting-Host: bloch.informatik.uni-kl.de Organization: University of Kaiserslauter...\",\": Citicorp Lines: 15 NNTP-Posting-Host: charon.cto.citicorp.com X-Newsreader: TIN [version 1.1 PL6] ...\",\"st: castor.se.houston.geoquest.slb.com Organization: GeoQuest System, Inc. Houston Lines: 17  In art...\",\"Data Research Associates, St. Louis MO Lines: 22  In article \\u003c\\u003e,  (Vernon Schryver) writes: \\u003e In art...\",\"Chip and crypto key-escrow] Organization: InterCon Systems Corporation - Herndon, VA  USA Lines: 34 ...\",\"otes.cus.cam.ac.uk Organization: U of Cambridge, England Lines: 25  -----BEGIN PGP SIGNED MESSAGE---...\",\"n: Stratus Computer, Software Engineering Lines: 18 NNTP-Posting-Host: ellisun.sw.stratus.com Keywor...\"],\"x\":[10.266783714294434,12.732219696044922,-4.052523612976074,-8.867326736450195,-3.509150743484497,-1.0599391460418701,-2.3983821868896484,-10.998178482055664,-3.4787540435791016,6.460593223571777,5.880955219268799,6.257569313049316,-1.2636243104934692,-9.251530647277832,5.769869327545166,2.871511697769165,-5.254195213317871,-1.9981927871704102,0.3478614091873169,-6.529821872711182,11.329140663146973,-2.314399242401123,3.9906723499298096,10.135632514953613,4.230828285217285,2.004157304763794,1.0109862089157104,-4.727141380310059,1.405599594116211,6.926379203796387,0.20067164301872253,-7.337328910827637,-13.148152351379395,19.8243408203125,0.5220306515693665,3.114320755004883,-1.4925991296768188,-6.137016773223877,4.835646152496338,-8.369543075561523,2.676544189453125,-6.405866622924805,-4.656260013580322,12.852690696716309,-0.18786290287971497,10.219882011413574,2.661616086959839,-12.612483024597168,-7.5275774002075195,-8.085982322692871,5.876389980316162,-2.7368836402893066,-18.05783462524414,2.8154239654541016,-0.2455742210149765,6.659703254699707,-1.0873624086380005,3.49812912940979,-8.283233642578125,-3.780407667160034,3.599605083465576,-1.057073712348938,-2.296036958694458,-0.12921662628650665,-12.275330543518066,-11.2620849609375,-4.324586391448975,4.207639217376709,-9.87503719329834,1.9946868419647217,1.1955960988998413,-2.2553367614746094,-8.132282257080078,-0.14404799044132233,-8.272820472717285,-0.8371906876564026,5.271821022033691,-4.483834743499756,-4.645169258117676,11.036185264587402,-0.06480205059051514,-9.172076225280762,-8.28424072265625,-3.8716132640838623,6.713278293609619,-11.031867980957031,-1.5558068752288818,-12.229546546936035,-11.21117115020752,-0.6405888795852661,1.4967076778411865,-6.568214416503906,-12.391960144042969,-12.165109634399414,-12.67096996307373,2.283761978149414,5.438854694366455,-1.0032206773757935,10.23855972290039,-4.716705322265625,13.438047409057617,-5.611180305480957,1.606091856956482,-4.244626998901367,-11.47597599029541,-5.254659175872803,-8.579954147338867,1.9946882724761963,-3.5258922576904297,7.627666473388672,-1.1341221332550049,-7.023129940032959,-12.50058364868164,-2.535060405731201,16.22747039794922,0.5501060485839844,-0.5725622177124023,-12.943718910217285,1.056249737739563,-10.015670776367188,-14.853719711303711,-10.190861701965332,-6.122480869293213,-0.7420091032981873,-5.363226890563965,-14.991080284118652,6.721311092376709,1.8421698808670044,4.494329929351807,-12.19950008392334,-0.693256676197052,-10.165833473205566,11.446603775024414,-5.518823623657227,0.07757217437028885,-1.1392587423324585,-13.132022857666016,-12.639397621154785,-4.836278438568115,-5.845953464508057,5.187523365020752,11.244145393371582,-3.371002435684204,-2.3956220149993896,3.714144229888916,-4.888000965118408,-2.6481661796569824,1.1584391593933105,4.228219985961914,-4.620652675628662],\"y\":[-21.83690071105957,-19.57140350341797,-23.683380126953125,-15.669489860534668,-27.668460845947266,-18.45404624938965,-27.08241844177246,-14.858135223388672,-35.69219970703125,-29.56022834777832,-32.93922805786133,-14.957625389099121,-8.759102821350098,-31.435014724731445,-21.681812286376953,-11.192001342773438,-20.758113861083984,-23.650047302246094,-13.336634635925293,-28.59552764892578,-27.89999008178711,-19.96851348876953,-23.999202728271484,-15.76596736907959,-32.48058319091797,-31.841463088989258,-21.987024307250977,-26.623559951782227,-30.107126235961914,-27.701961517333984,-22.64861297607422,-23.335853576660156,-27.26311683654785,-19.457304000854492,-21.400959014892578,-15.718058586120605,-25.42569923400879,-19.564373016357422,-24.144615173339844,-27.043533325195312,-22.685800552368164,-25.087915420532227,-27.884437561035156,-19.467248916625977,-25.134294509887695,-20.737966537475586,-29.29001808166504,-17.680673599243164,-22.47498321533203,-30.051746368408203,-21.3834171295166,-24.959152221679688,-18.494827270507812,-10.766429901123047,-32.83095932006836,-29.932584762573242,-15.6954927444458,-25.112565994262695,-14.46961784362793,-36.85591125488281,-15.818920135498047,-31.255319595336914,-16.53392219543457,-19.357383728027344,-29.86615562438965,-21.610980987548828,-8.55058479309082,-28.80262565612793,-11.8357515335083,-19.953479766845703,-30.2895450592041,-21.588150024414062,-12.253656387329102,-26.6131649017334,-18.530738830566406,-24.38749885559082,-15.888558387756348,-8.682806968688965,-29.69367790222168,-21.41255760192871,-31.473979949951172,-23.691423416137695,-30.23064613342285,-17.65932846069336,-27.726957321166992,-16.63099479675293,-22.81960678100586,-22.462623596191406,-17.778430938720703,-29.01363182067871,-8.669757843017578,-34.546905517578125,-11.574665069580078,-11.645724296569824,-23.036535263061523,-26.716028213500977,-29.498682022094727,-22.109521865844727,-15.469198226928711,-32.024269104003906,-21.98072624206543,-14.13459587097168,-15.286979675292969,-23.483226776123047,-16.603506088256836,-26.796480178833008,-12.71025276184082,-4.969308376312256,-28.89071273803711,-17.064184188842773,-28.478302001953125,-25.133869171142578,-28.540050506591797,-10.459704399108887,-18.597726821899414,-19.786922454833984,-21.003053665161133,-16.16737937927246,-24.084365844726562,-24.470399856567383,-26.91374397277832,-16.093589782714844,-16.572208404541016,-12.512012481689453,-20.50859260559082,-26.757667541503906,-22.97852325439453,-24.35447883605957,-28.170400619506836,-21.22624397277832,-12.331737518310547,-21.05077362060547,-21.48879051208496,-16.739444732666016,-24.594392776489258,-13.047365188598633,-23.11611557006836,-28.147043228149414,-16.634761810302734,-14.311590194702148,-32.43000793457031,-27.905689239501953,-21.86695671081543,-14.000746726989746,-22.259166717529297,-30.179153442382812,-30.792896270751953,-18.34731101989746,-18.6461238861084,-34.87509536743164],\"type\":\"scatter\"},{\"hoverinfo\":\"text\",\"marker\":{\"line\":{\"color\":\"white\",\"width\":0.5},\"size\":15},\"mode\":\"markers\",\"name\":\"Class sci.electronics\",\"opacity\":0.7,\"text\":[\"Used BMW Question ..... ???) Organization: University of Minnesota, Duluth Lines: 28 NNTP-Posting-Ho...\",\"ale:was $200, sell for $150 Organization: Case Western Reserve University, Cleveland, Ohio (USA) Lin...\",\"ization: Netcom Online Communications Services (408-241-9760 login: guest) Lines: 25   (Neal Patrick...\",\"exer for digital signals? Organization: University of Illinois at Urbana Lines: 14  As the subject s...\",\":  () Organization: Materials Research Lab Lines: 17    I would like to be able to amplify a voltage...\",\"hpfcmgw.fc.hp.com Organization: Hewlett-Packard Fort Collins Site X-Newsreader: TIN [version 1.1 PL8...\",\"tlist examples Originator:  Keywords: ACS,SPICE,simulation Organization: Harris Controls Lines: 18  ...\",\"hat is [a] \\\"Storage scope\\\" Distribution: na Organization: Medical Informatics, Pittsburgh, PA USA Li...\",\"i channel receiver system? Keywords: telemetry, receiver system Organization: National Hospitals, Ic...\",\",  Has anyone used the Requirements Analsys methodology Hatley & Pirbhai ? I am a British final year...\",\"d. Nntp-Posting-Host: silene Organization: Institut Imag, Grenoble, France Lines: 38  In article \\u003c\\u003e,...\",\"on card Organization: University at Buffalo Lines: 8 News-Software: VAX\\u002fVMS VNEWS 1.41 Nntp-Posting-...\",\"s Freeway traffic reports Organization: Michigan Technological University X-Newsreader: TIN [version...\",\"p-Posting-Host: cec1 Organization: Washington University, St. Louis MO Lines: 88  In article \\u003c\\u003e  (St...\",\" Organization: University of Auckland, New Zealand. Keywords: pattern Summary: MDA\\u002fEGA\\u002fVGA pat. gen....\",\"work?? Reply-To:  Organization: Intergraph Corporation, Huntsville AL Lines: 25  In article \\u003c\\u003e,  (Mi...\",\"e-Help! Organization: \\u002fetc\\u002forganization Lines: 26  We have a setup with with 13 polaroid transducers...\",\"m Modules Organization: HP Lake Stevens, WA Lines: 12   (Ronald W. Butts, Jr.) writes:  \\u003eI am lookin...\",\"C50 Keywords: Motorola, FPU, 68882, 68030, 33\\u002f50 MHz, problems (FPU exception) Nntp-Posting-Host: pr...\",\"et wiring.. Organization: Eastman Kodak Lines: 29  In article \\u003c\\u003e  writes: \\u003eIn article \\u003c\\u003e,  (Russ Cri...\",\"anization: The Software Engineering Institute Lines: 10   In article \\u003c\\u003e, Joseph Chiu writes:  \\u003e The ...\",\" Organization: Netcom Online Communications Services (408-241-9760 login: guest) Lines: 32  Sci.E(E)...\",\"et wiring.. Nntp-Posting-Host: techmac10.tech.mtu.edu Organization: Michigan Technological Universit...\",\"Organization: University of Cape Town X-Newsreader: TIN [version 1.1 PL8] Lines: 15   Hi there  Does...\",\": AT&T Bell Laboratories Distribution: na Lines: 14  Can anybody recommend a good, application-orien...\",\"anization: Boston Computer Society \\u002f ISIG Lines: 10  Does any one know if the 6551 is timing\\u002fpin com...\",\"32  AllMartin MccormickWhat's Exactly in a Flour  MM\\u003e (Martin McCormick) MM\\u003eOrganization: Oklahoma S...\",\"gital Nntp-Posting-Host: hacke9.dtek.chalmers.se Organization: Chalmers University of Technology, Go...\",\"ntp-Posting-Host: hprtnyc.cup.hp.com Organization: Hewlett-Packard X-Newsreader: TIN [version 1.1 PL...\",\" Organization: ACSYS, Inc. Lines: 19   For all people that are interested in every aspect of the 260...\",\"ut number to a phone Organization:  Wright State University  Lines: 12  Since I have seen various di...\",\"Organization: Megatest Corporation Lines: 23  In article \\u003c\\u003e  (Billy Quinn) writes: \\u003eI built a little...\",\"I.D.: larc.babb-060493164354 Distribution: usa Organization: SDSU - LARC Lines: 16 NNTP-Posting-Host...\",\"from two 0.047 in series?! Organization: U of Toronto Zoology Lines: 13  In article \\u003c\\u003e  (Michael Gol...\",\"c Modems, RF Modem, etc -- Best Offer Distribution: na Organization: APG-Edgewood, MD, USA Lines: 26...\",\"(Robert Ganter) Organization: Institut fuer Informatik Nntp-Posting-Host: schroeder.ifi.unibas.ch Li...\",\"OM POWERED Nntp-Posting-Host: liu.cns.nyu.edu Reply-To:  Organization: New York University Lines: 13...\",\"anization: Performance Technologies, Incorporated Lines: 12  Any info on modern 20MHZ or better dual...\",\"r Bar Needed Organization: Netcom - Online Communication Services (408 241-9760 guest) Lines: 25   I...\",\"rce? Nntp-Posting-Host: chip Reply-To:  (David Vanderbyl) Organization: MPR Teltech Ltd. Lines: 30  ...\",\"on: Boston University, Boston, MA, USA Lines: 19  In article \\u003c\\u003e  (Stephe Lewis Foskett) writes: \\u003e \\u003eI...\",\" Coordinates  (Weston R Beal) Distribution: world Organization: Utah State Univ. EE Nntp-Posting-Hos...\",\"r chip Organization: NETCOM On-line Communication Services (408 241-9760 guest) Distribution: usa Li...\",\"rade Nntp-Posting-Host: cec1 Organization: Washington University, St. Louis MO Lines: 32  In article...\",\"ntp-Posting-Host: aisun3.ai.uga.edu Organization: AI Programs, University of Georgia, Athens Lines: ...\",\"Austrailia  (BYRNES,Graham) Organization: La Trobe University In-Reply-To: 's message of Mon, 19 Apr...\",\"ur service Lines: 10 Distribution: usa NNTP-Posting-Host: hpctdkz.col.hp.com  \\u003e   Does anybody out t...\",\"cted. Lines: 31 Nntp-Posting-Host: hengill.rhi.hi.is  In \\u003c\\u003e  (Ketil Albertsen,TIH) writes:  \\u003eMay we ...\",\"? Organization: Computer Science Department at Rose-Hulman Lines: 14 NNTP-Posting-Host: g222-26.next...\",\"hie) Organization: DSG Development Eng Beckman Instruments Inc. Nntp-Posting-Host: 134.217.245.87 Li...\",\"erlin, Germany Lines: 7  Have anyone some idea about how to build a cheap, low resolution (or high :...\",\" M2321K, M2322K, Fujitsu, Microdisk (-: Organization: University of Wales, Aberystwyth Lines: 23  I ...\",\"Article-I.D.: reed.1993Apr20.230749.12821 Organization: Reed College, Portland, Oregon Lines: 36  In...\",\"55.11 Organization: Motorola Western MCU Design Center, Chandler Arizona Lines: 17  In article \\u003c\\u003e,  ...\",\"ware Nntp-Posting-Host: flux.isr.alaska.edu Organization: Geophysical Institute, Fairbanks, AK Lines...\",\"1pli7gINNi6b Organization: California Institute of Technology, Pasadena Lines: 8 NNTP-Posting-Host: ...\",\"Reply-To:  Organization: Intergraph Corporation, Huntsville AL Lines: 41  In article \\u003c\\u003e,  (Mark Zeni...\",\"GS AND JUMPER SETTINGS FOR 386SX MOTHERBOARD Keywords: JUMPER SETTINGS DIP-SWITCH SETTINGS, HELP, CO...\",\"ndustrial Research Ltd., New Zealand. NNTP-Posting-Host: grv.grace.cri.nz Lines: 37  From:\\tMX%\\\"\\\"  6-...\",\"rticle-I.D.: hippo.1993Apr16.105738.20864 Organization: Rhodes University, Grahamstown, South Africa...\",\"To:  Organization: Universitaet Hannover, Theoretische Nachrichtentechnik Lines: 41  This is for a f...\",\" (for Easter? Keywords: xmas Organization: AT&T Lines: 54   Yes, I know it's nowhere near Christmas ...\",\"cle-I.D.: shelley.1r4cucINNham Distribution: na Organization: University of Washington, Seattle Line...\",\"tlet wiring.. (the truth) Keywords: outlet Reply-To:  Organization: Univ. of Lowell CS Dept. Lines: ...\",\"nization: U of Toronto Zoology Lines: 17  In article \\u003c\\u003e  (Wayne Smith) writes: \\u003e\\u003eNo restriction was ...\",\"-fi) Organization: NASA Langley Research Center and Reptile Farm Lines: 20 NNTP-Posting-Host: grisso...\",\"eo amp chip Nntp-Posting-Host: cns9.cns.ucalgary.ca Organization: University of Calgary Lines: 13  L...\",\"y Mountain Computer Organization: Case Western Reserve University, Cleveland, Ohio (USA) Lines: 25 N...\",\"o a phone line Organization: Chalmers University of Technology Lines: 11  In article \\u003c\\u003e  (Sean Olive...\",\"ticle-I.D.: shelley.1pr91aINNikg Distribution: world Organization: University of Washington, Seattle...\",\".19930406.072523.946 Lines: 7  If you can find a copy of \\\"8088 Assembler Language Programming: The I...\",\"ne line Organization: The University of Western Australia Lines: 14 NNTP-Posting-Host: mackerel.gu.u...\",\" Nacional de I+D Lines: 24  In article \\u003c\\u003e,  (John Thomson) writes: \\u003e Joseph Chiu () wrote: \\u003e  \\u003e : An...\",\"93828.1 Organization: Lawrence Livermore National Laboratory Lines: 15 NNTP-Posting-Host: travis.lln...\",\"icle-I.D.: spk.C52I89.GEq Distribution: na Organization: Hewlett-Packard Lines: 31 X-Newsreader: TIN...\",\"sticks Organization: University of Stellenbosch, SA Lines: 8  In article \\u003c\\u003e  (David F. Newman) write...\",\" circuit ~ Organization: Helsinki University of Technology, Finland Lines: 17 \\t\\u003c\\u003e \\t\\u003c1ptolq$\\u003e NNTP-Po...\",\"ost: v9001.ntu.ac.sg Organization: Nanyang Technological University - Singapore   currently I am usi...\",\" filter ICs wanted. Organization: University of Orleans, France. Lines: 9      Hi All!     I would l...\",\"or Organization: The Inquiring Mind BBS  1 204 488-1607 Lines: 43   (Bob Myers) writes:  \\u003e \\u003e I am lo...\",\"Towers do? Organization: NRK Clinic for habitual NetNews abusers - Beltway Annex Lines: 19 Reply-To:...\",\"Posting-Host: fenian.dell.com Reply-To:  Organization: SLAMDANZ CYBRNETX Lines: 13  Anyone know a re...\",\"m a schematic -\\u003e PCB? Organization: Comp.Center (RUS), U of Stuttgart, FRG Lines: 38 NNTP-Posting-Ho...\",\"bopper2.phx.mcd.mot.com Organization: Motorola Computer Group, Tempe, Az. Distribution: usa Lines: 9...\",\" Article-I.D.: nic.1993Apr5.213718.4721 Distribution: usa Organization: Triacus Inc. Lines: 26 Nntp-...\",\"ilt battery for 3rd grade sci report Keywords: 3rd grade science report Distribution: usa Organizati...\",\"e with MC68HC16 Keywords: DRAM, HC16 Nntp-Posting-Host: wu2.wl.aecl.ca Organization: AECL Research, ...\",\"ntrollers ? Article-I.D.: stellenb.mabbot.30.0 Organization: CSIR Lines: 15 NNTP-Posting-Host: 146.6...\",\"NRK Clinic for habitual NetNews abusers - Beltway Annex Lines: 24 Reply-To:  (David Lesher) NNTP-Pos...\",\"tion: Humber College Technology Dept. Lines: 29   According to my TI databook, the pinouts for the T...\",\".ca:735344986:trsvax:288200082:000:164 Nf-trsvax.tandy.com!pauls    Apr 21 09:31:00 1993 Lines: 6   ...\",\" Department of Computer Science, University of Toronto Distribution: na Lines: 11  The subject line ...\",\"munications Systems, Melbourne, AustraliaRe: RAMs &ROMs with ALE latches (for 8051's) Lines: 28   (S...\",\"ation: Digital Equipment Corporation Lines: 31 Nntp-Posting-Host: cimill  In article \\u003c\\u003e,  (Peter Try...\",\" Organization: Northeastern Ohio Universities College of Medicine Lines: 19  If the set is direct li...\",\"rganization: Megatest Corporation Lines: 26  In article \\u003c\\u003e  (G. Stewart Beal) writes: \\u003eIn article \\u003c\\u003e...\",\" world Nntp-Posting-Host: verdi.eng.unipr.it Lines: 19  Hi, I've got a PACE MODEM , Series Four 2400...\",\" book Article-I.D.: toontown.627 Reply-To:  (Craig S. Williamson) Organization: NCR E&M Columbia, SC...\",\" Nntp-Posting-Host: storm.cfnr.colostate.edu Organization:  Colorado Concert Sound Lines: 25  In art...\",\"siemens-austria Organization: Siemens AG Oesterreich Lines: 15  Hi !!!  Is there somebody using a 56...\",\"s? Organization: Computer Science Department at Rose-Hulman Lines: 11 NNTP-Posting-Host: g222-26.nex...\",\"ganization: School of MPCE, Macquarie University, Australia. Lines: 19 Distribution: world NNTP-Post...\",\"ion: University of Washington, Seattle Lines: 2 Distribution: na NNTP-Posting-Host: hardy.u.washingt...\",\" phone line Reply-To:  \\u003cPaula Stockholm\\u003e Organization: The Northern Lights BBS, Portland, ME  * 207-...\",\"one line Organization: NASA Langley Research Center and Reptile Farm Lines: 16 NNTP-Posting-Host: gr...\",\": catv cable television tvi Organization: NCR Corporation Wichita, KS Lines: 14   (Victor Laking) wr...\",\" System 6626 BBS, Winnipeg Manitoba Canada Lines: 21            On an A\\u002fD board I've got, I'm using ...\",\"tp-Posting-Host: eigen.ee.ualberta.ca Organization: University Of Alberta, Edmonton Canada Lines: 28...\",\"n: The Inquiring Mind BBS  1 204 488-1607 Lines: 41   (Joel Kolstad) writes:  \\u003e In article \\u003c\\u003e  \\u003e \\u003e \\u003e...\",\"ion: De Montfort University, Leicester, UK Lines: 26 X-Newsreader: TIN [version 1.1 PL8]  Frank Hiel...\",\"Host: dexter.psych.umn.edu Organization: University of Minnesota Lines: 18  I have a stereo compress...\",\"n: Netcom - Online Communication Services (408 241-9760 guest) Lines: 20  In article \\u003c\\u003e  (Brian Day)...\",\"  X-Posted-InterNews  Organization: Dartmouth College, Hanover, NH Lines: 12  We are Dartmouth engin...\",\"A Langley Research Center and Reptile Farm Lines: 9 Distribution: world NNTP-Posting-Host: grissom.l...\",\"0 Organization: University of Houston Lines: 17 Distribution: world NNTP-Posting-Host: rosie.uh.edu ...\",\"Decoders  Organization: University of Canberra Lines: 9  Could someone please tell me if a 1\\u002f4 decod...\",\"S work??? Organization: Capital Area Central Texas UNIX Society, Austin, Tx Lines: 15    I understan...\",\" it work?? X-Disclaimer: Nyx is a public access Unix system run by the University \\tof Denver for the...\",\"ibution: na Nntp-Posting-Host: sun_shine.mentorg.com Organization: Mentor Graphics Keywords:  Lines:...\",\"'s Cooling Towers do? Nntp-Posting-Host: levy.fnal.gov Organization: Fermilab Computing Division Lin...\",\"Week in Toronto. Organization: S Lines: 10   Does anybody know if there is a mailing list or newsgro...\",\"nd. Nntp-Posting-Host: 211.2.1.197 Organization: Texaco Lines: 16  I had a catalog with membrane key...\",\"Lehigh University Lines: 12  Well, I'm not too sure if this would be the right place to post this, b...\",\"ds: fluorescent bulb starter neon Nntp-Posting-Host: turbo_f.seas.smu.edu Organization: SMU - School...\",\"8051's) X-Xxdate: Wed, 21 Apr 93 03:04:18 GMT Nntp-Posting-Host: dialup-slip-1-88.gw.umn.edu Organiz...\",\"ion: TRIUMF: Tri-University Meson Facility Lines: 24 Distribution: world NNTP-Posting-Host: reg.triu...\",\"rganization: NASA Langley Research Center and Reptile Farm Lines: 9 NNTP-Posting-Host: grissom.larc....\",\"s: Used BMW Question ..... ???) Organization: Netcom Online Communications Services (408-241-9760 lo...\",\"Nntp-Posting-Host: aisun1.ai.uga.edu Organization: AI Programs, University of Georgia, Athens Lines:...\",\"ization: The World Public Access UNIX, Brookline, MA Lines: 27   (Mike Donahue) writes:   \\u003eI do NOT ...\",\" many electronics Questions Organization: Michigan Technological University X-Newsreader: TIN [versi...\",\"ie University Lines: 54 Distribution: world NNTP-Posting-Host: macadam.mpce.mq.edu.au  In article \\u003c\\u003e...\",\" two 0.047 in series?! Originator:  Nntp-Posting-Host: elan.princeton.edu Organization: Princeton Un...\",\"on: The Portal System (TM) Distribution: usa Lines: 6  Sounds like the picture tube lost vacuum.  Th...\",\"n: Horizon Research, Inc. Lines: 7 Distribution: world Reply-To:  NNTP-Posting-Host: sparc28.hri.com...\",\"ply Article-I.D.: jato.1993Apr15.225326.22831 Organization: JPL Pasadena CA Lines: 25 Nntp-Posting-H...\",\"ster Polytechnic Institute Lines: 11 NNTP-Posting-Host: wpi.wpi.edu  Hey everyone, I'm new to this  ...\",\"uestion about 120VAC outlet wiring. Nntp-Posting-Host: aisun3.ai.uga.edu Organization: AI Programs, ...\",\"nization: PANIX Public Access Unix, NYC Lines: 11  There are also a couple or three places on West 4...\",\"e line Nntp-Posting-Host: churchill.columbiasc.ncr.com Organization: NCR Corp., Columbia SC Lines: 3...\",\"UT? That's a joke. Lines: 24 NNTP-Posting-Host: thing1.cc.utexas.edu  It is illegal to use anything ...\",\"ly-To: 's message of 15 Apr 93 15:02:28 Lines: 38 Organization: University of Oulu, Dept. of EE, Fin...\",\" Philosophical Question Summary: How do we preferentially amplify holes instead of electrons? Keywor...\",\"t........Nanaimo Campus)Re: Suggestions  on Audio relays ??? Organization: Malaspina College Lines: ...\",\"930406.131941.134 Lines: 3   They detect the oscillator operating in the detector. Saw a story about...\",\"ersity of Kansas Academic Computing Services Lines: 33  Thanks for the resposes as they were all goo...\",\" IR detector cards..??? Keywords: IR card  Organization: Monash University, Melb., Australia. Lines:...\",\"mputer, Marlboro Ma. Lines: 22 NNTP-Posting-Host: m21.eng.stratus.com  In article \\u003c\\u003e  (Roger A Willi...\",\"8051's) Organization: Harris Allied Broadcast Div., Quincy, IL Lines: 22   Intel also makes some nea...\",\"n: world Organization: Ozone Online Operations, Inc. - New Orleans, LA Reply-To:  (Gerald Belton)  L...\"],\"x\":[21.048969268798828,20.143033981323242,10.757801055908203,20.74326515197754,29.71731185913086,15.86896800994873,32.038536071777344,18.059602737426758,16.564674377441406,-17.57421112060547,-5.613811492919922,8.36161994934082,6.2366533279418945,11.880946159362793,24.194780349731445,8.213001251220703,12.074960708618164,17.912290573120117,27.744911193847656,-8.239409446716309,-4.163867950439453,22.074352264404297,-8.479928970336914,22.48065948486328,15.451452255249023,21.5955753326416,10.511795997619629,21.704814910888672,6.073731899261475,25.901620864868164,0.8339008092880249,15.468467712402344,6.957895278930664,-1.486057996749878,21.278911590576172,17.493709564208984,29.217557907104492,18.563026428222656,0.773582398891449,18.362266540527344,26.569625854492188,15.352218627929688,21.340747833251953,6.298594951629639,11.301384925842285,2.407787322998047,-15.788092613220215,-6.134336471557617,17.62373924255371,17.812881469726562,22.38202476501465,24.60732650756836,-6.047048091888428,12.020578384399414,16.324907302856445,24.230453491210938,-4.618659973144531,26.515867233276367,-3.6172165870666504,27.273698806762695,21.370136260986328,11.48766040802002,9.988726615905762,-7.292791366577148,9.852190017700195,28.879297256469727,19.647281646728516,27.797826766967773,0.9745444655418396,14.089816093444824,26.489665985107422,1.8702336549758911,-4.313185214996338,25.156530380249023,-9.037177085876465,27.830537796020508,-0.5347307920455933,22.491973876953125,20.666095733642578,21.055160522460938,-2.6030335426330566,18.489564895629883,31.885950088500977,-15.78170108795166,20.604475021362305,-6.445906162261963,26.261335372924805,19.051189422607422,15.528358459472656,23.54335594177246,19.255630493164062,16.055252075195312,23.58477210998535,14.721681594848633,18.91788673400879,28.216127395629883,21.842195510864258,32.073280334472656,16.054378509521484,19.12590980529785,28.050294876098633,25.730121612548828,5.583664417266846,2.367950201034546,1.3151861429214478,17.815425872802734,22.76385498046875,26.948932647705078,9.350722312927246,31.766605377197266,16.400781631469727,20.948444366455078,21.527013778686523,12.275951385498047,27.773151397705078,24.608257293701172,13.841602325439453,7.878597736358643,9.544299125671387,-2.5653204917907715,5.441294193267822,13.782885551452637,25.408231735229492,10.533377647399902,23.87808609008789,9.908147811889648,-6.661722183227539,21.037784576416016,10.824020385742188,26.64076042175293,14.942972183227539,24.62437629699707,-1.4459900856018066,18.09731674194336,26.6029109954834,15.590415000915527,25.763568878173828,-9.40157413482666,4.0677170753479,1.2243753671646118,8.776263236999512,26.652177810668945,-5.946066856384277,15.646308898925781,9.770732879638672,23.878263473510742,10.771876335144043,26.67873191833496,22.90706443786621,2.2618420124053955],\"y\":[-25.699356079101562,-3.5944478511810303,-5.475289821624756,-7.914495944976807,-1.4320324659347534,6.371819019317627,-7.80259895324707,-3.924081563949585,-5.123302936553955,-1.4032518863677979,-36.15997314453125,0.09856494516134262,-3.566526174545288,-1.9219356775283813,-5.881381034851074,-4.632343769073486,-3.7883737087249756,-7.100058078765869,-21.97297477722168,-1.894217610359192,1.4130064249038696,-3.4818766117095947,-1.9260512590408325,-2.403761386871338,-0.00587421702221036,-17.145082473754883,3.687952756881714,-13.604729652404785,-3.3802244663238525,-15.783502578735352,-0.6273856163024902,-9.79521369934082,3.6515870094299316,3.724015235900879,-12.586613655090332,-0.9713053703308105,-2.76357102394104,-4.015366077423096,-4.681586265563965,3.8326356410980225,-5.351309776306152,-5.017395496368408,-14.559749603271484,0.25366827845573425,-0.37114250659942627,1.5888715982437134,26.1104736328125,-36.65682601928711,-17.43824005126953,-17.215272903442383,-4.072555065155029,-13.16254711151123,-35.79086685180664,-12.426108360290527,-1.687013030052185,-21.22439193725586,7.354466438293457,-13.090672492980957,-7.0695343017578125,-1.2187986373901367,-7.6892876625061035,1.065044641494751,-6.627288818359375,-1.7957993745803833,-7.671601295471191,-3.231372833251953,-12.794681549072266,-13.480609893798828,-1.8818154335021973,3.2155380249023438,-9.886180877685547,-0.13305558264255524,1.5135047435760498,1.9397708177566528,5.894647598266602,-8.871663093566895,-3.595233917236328,-20.862924575805664,1.3476654291152954,-5.827881336212158,30.134443283081055,-15.459284782409668,-10.972132682800293,26.10691261291504,2.497711420059204,7.625096321105957,-18.417686462402344,-16.50132942199707,-13.157307624816895,-15.774612426757812,-10.167069435119629,30.67714500427246,-18.201475143432617,-2.3585500717163086,3.4258666038513184,-16.879140853881836,-11.85489273071289,-7.486237525939941,-9.61841106414795,-10.183987617492676,-16.89488983154297,-13.554764747619629,0.6415377855300903,-0.8397312760353088,-3.072127103805542,-0.762071430683136,-8.290130615234375,-17.930328369140625,6.3128509521484375,-11.24301815032959,-12.923561096191406,-16.043703079223633,-1.2067475318908691,-12.435200691223145,-21.978979110717773,-9.904712677001953,-6.360348224639893,-5.4695353507995605,-7.5102386474609375,30.145206451416016,2.8560783863067627,-15.805570602416992,7.5419182777404785,3.729278087615967,-18.33970069885254,-5.5452656745910645,7.723573207855225,-25.670669555664062,-4.194962024688721,-2.1025381088256836,0.4817720055580139,-9.914973258972168,3.668867588043213,4.154829502105713,-12.231569290161133,30.16366195678711,1.962559700012207,-2.035979747772217,-1.2212624549865723,-3.4715628623962402,-6.525604724884033,-5.36533784866333,2.7289106845855713,-9.55305004119873,-4.415400981903076,-21.132658004760742,-1.2739261388778687,-2.112121343612671,-18.686752319335938,-2.3970439434051514],\"type\":\"scatter\"},{\"hoverinfo\":\"text\",\"marker\":{\"line\":{\"color\":\"white\",\"width\":0.5},\"size\":15},\"mode\":\"markers\",\"name\":\"Class sci.med\",\"opacity\":0.7,\"text\":[\"rnal Article - Whiplash\\u002fCervical Pain Lines: 37 Organization: Colonial Mutual Life Australia X-Newsr...\",\"ganization: Invention Factory's BBS - New York City, NY - 212-274-8298v.32bis Reply-To:  (Jim Zisfei...\",\"rganization: The Santa Cruz Operation, Inc. Distribution: usa Lines: 18   In article \\u003c\\u003e  (Evan Hunt)...\",\"KS GREAT !!!! Organization: Omen Technology INC, Portland Rain Forest Lines: 34  In article \\u003c\\u003e  (Bet...\",\"me Organization: Sun Microsystems, Inc.  Mt. View, Ca. Lines: 18 Distribution: world Reply-To:  (Jim...\",\"nization: CS Dept, University of Texas at Austin Lines: 17 NNTP-Posting-Host: saltillo.cs.utexas.edu...\",\"weet (aspartame) Organization: S.P. Dyer Computer Consulting, Cambridge MA Lines: 30  In article \\u003c\\u003e ...\",\" Organization: The Portal System (TM)   \\u003c\\u003e \\u003c\\u003e Lines: 41  A person posted certain stuff to this newsg...\",\"-Host: drums.reasoning.com Organization: Reasoning Systems, Inc., Palo Alto, CA Lines: 11   My insur...\",\"s Organization: Computing Services Division, University of Wisconsin - Milwaukee Lines: 19 NNTP-Post...\",\"srael Hospital, Harvard Medical School, Boston Mass., USA Lines: 11 NNTP-Posting-Host: enterprise.bi...\",\"ation: Pittsburgh TRansplant Institute Lines: 41  In article \\u003c\\u003e  (Steve Heffner) writes: \\u003eA bit more...\",\"riptan) available in CA Article-I.D.: vela.1psee5$c3t Distribution: na Organization: Oakland Univers...\",\"s In-Reply-To: 's message of Tue, 6 Apr 1993 03:28:57 GMT Nntp-Posting-Host: crux3.cit.cornell.edu O...\",\"et for Crohn's (IBD) Organization: Gastroenterology - Univ. of Alabama Distribution: usa Lines: 36  ...\",\"is [Is it Lyme's?]\\\"] Organization: Lamont-Doherty Earth Observatory Lines: 50  In article \\u003c\\u003e,  (Gord...\",\"trix Networks Lines: 21   \\u003e In article \\u003c\\u003e  (Richard Silver) writes: \\u003e \\u003e \\u003e \\u003eIs there a right-eye domi...\",\"bicans: what is it?) Article-I.D.: bunyip.C5wwGz.17G Organization: Prentice Centre, University of Qu...\",\"ects Organization: George Washington University Lines: 28  In article \\u003c\\u003e  (Steve Dyer) writes: \\u003eIn a...\",\": West Virginia Network for Educational Telecomputing Lines: 11  My girlfriend is in pain from kidne...\",\"ruzio.5254 Reply-To:  Lines: 12   I have a friend who has just been diagnosed with Lupus, and I know...\",\"pathy ... tradition?) Summary: Science is not mere methodology.   Organization: University of Hawaii...\",\"tient relationship problem Organization: NETCOM On-line Communication Services (408 241-9760 guest) ...\",\"ead an Ultrasound? Organization: Dixie Communications Public Access.  The Mouth of the South. Lines:...\",\"ation: University of New Mexico, Albuquerque Lines: 27 NNTP-Posting-Host: carina.unm.edu   Gordon Ba...\",\"e of Veterinary Medicine WSU X-Newsreader: TIN [version 1.1 PL9] Lines: 45  kathleen richards () wro...\",\"ael Hospital, Harvard Medical School, Boston Mass., USA Lines: 26 NNTP-Posting-Host: enterprise.bih....\",\"Organization: U.C. Berkeley -- ERL Lines: 16 Distribution: world NNTP-Posting-Host: zion.berkeley.ed...\",\" Flying? Article-I.D.: rigel.SHAFER.93Apr6095951 Organization: NASA Dryden, Edwards, Cal. Lines: 33 ...\",\"rdon Banks) Organization: Univ. of Pittsburgh Computer Science Lines: 28  In article \\u003c\\u003e  (David Nye)...\",\" of medical terms Organization: Ecole Polytechnique Federale de Lausanne Lines: 41 NNTP-Posting-Host...\",\"p, depression Nntp-Posting-Host: bottom.magnus.acs.ohio-state.edu Organization: The Ohio State Unive...\",\"obert Allison) Organization: The National Capital Freenet Lines: 18   I have between 15 and 25 noseb...\",\"Semantic War. Organization: University of Illinois at Urbana Lines: 6  Also remember that most peopl...\",\" Banks) Organization: Univ. of Pittsburgh Computer Science Lines: 17  In article \\u003c\\u003e  (Ken Mitchum) w...\",\"Nntp-Posting-Host: wind.bellcore.com Reply-To:  Organization: Bell Communications Research Lines: 31...\",\"p-Posting-Host: aisun3.ai.uga.edu Organization: AI Programs, University of Georgia, Athens Lines: 12...\",\"ingers Article-I.D.: pitt.19424 Reply-To:  (Ken Mitchum) Organization: Univ. of Pittsburgh Computer ...\",\"al research? Organization: University of Northern Iowa Lines: 22  In article \\u003c\\u003e,  (Ken Mitchum) writ...\",\"words: gene pool; wisdom; virtue Nntp-Posting-Host: naples.med.unc.edu Organization: UNC-CH School o...\",\"ion? Organization: Center for Reliable and High-Performance Computing, University of Illinois at Urb...\",\"s: Homeopathy ... tradition?) Nntp-Posting-Host: engws5.ic.sunysb.edu Organization: State University...\",\"m.stortek.com Organization: StorageTek SW Engineering X-Newsreader: NNR\\u002fVM S_1.3.2 Lines: 53  In art...\",\"n: Acadia University Lines: 15   (James R. Skinner) writes:  \\u003e\\t \\u003e\\tI have seen a couple of postings r...\",\"ion? Organization: sdf public access Unix, Dallas TX 214\\u002f436-3281 Lines: 27  In article \\u003c\\u003e  (Andrew ...\",\" skin - problem? Article-I.D.: aio.1993Apr6.133244.14717 Distribution: sci.med Organization: Lockhee...\",\"al tradition? Reply-To:  (Gordon Banks) Organization: Univ. of Pittsburgh Computer Science Lines: 26...\",\" S.P. Dyer Computer Consulting, Cambridge MA Lines: 25  In article \\u003c\\u003e  (Robert Allison) writes: \\u003eDoe...\",\"eywords: seizures epilepsy Reply-To:  (Gordon Banks) Organization: Univ. of Pittsburgh Computer Scie...\",\"nization: University of Wisconsin Eau Claire Lines: 19  [reply to  (MD)]   \\u003eAfter many metabolic tes...\",\"ute of Theoretical and Experimental Biophysics Lines: 29 NNTP-Posting-Host: venus.iteb.serpukhov.su ...\",\"anization: University of Kuopio, Finland Lines: 10   There is this newsgroup sci.med.physics and the...\",\"AT&T Distribution: usa Keywords: San Francisco Lines: 9   \\tI was kind of half watching Street Storie...\",\"=\\u003e RoseMail Gateway (v1.70) Organization: Rose Media Inc, Toronto, Ontario. Lines: 23  L(\\u003e   (Joel B...\",\"riginator:  Nntp-Posting-Host: sasquatch Reply-To:  Organization: Clinical Diagnostics Division, Eas...\",\"-I.D.: cs.1993Apr22.055958.2377 Organization: nCUBE, Sandia Park, NM Lines: 31  In article \\u003c\\u003e  (Vida...\",\"? Reply-To:  (Betty Harvey) Organization: Carderock Division, NSWC, Bethesda, MD Lines: 30  In rec.f...\",\"cle-I.D.: pitt.19396 Reply-To:  (Gordon Banks) Organization: Univ. of Pittsburgh Computer Science Li...\",\"ation: AT&T Keywords: seizures Lines: 8  Here is the tollfree hotline for the Epilepsy Foundation of...\",\"tronet Communications Services, Dallas Tx Distribution: usa Lines: 13  I am 35 and am recovering fro...\",\"Keywords: Daypro Lines: 7  Anyone have any information on the effects\\u002forigin of oxaprozin? It's mark...\",\"ans: what is it?) Organization: University of Wisconsin Eau Claire Lines: 29  [reply to  (Jacquelin ...\",\"  (Grant Edwards) Organization: Rosemount, Inc. Lines: 41 Nntp-Posting-Host: aquarius   (Richard Ott...\",\" Reply-To:  Organization: University of Chicago Lines: 27  One thing that I haven't seen in this thr...\",\"ization: CS Dept, University of Texas at Austin Lines: 67 Distribution: inet NNTP-Posting-Host: im4u...\",\"omeopathy ... tradition?) Originator:  Nntp-Posting-Host: theseus.unx.sas.com Organization: SAS Inst...\",\"ghts from the DSM-IIIR Organization: Digital Equipment Corporation Lines: 45 NNTP-Posting-Host: DWOV...\",\"s (PDR)? Reply-To:  (Gordon Banks) Organization: Univ. of Pittsburgh Computer Science Lines: 48  In ...\",\"zation: Stratus Computer, Inc. Lines: 14 Distribution: world NNTP-Posting-Host: coyoacan.sw.stratus....\",\"omeopathy ... tradition?) Originator:  Nntp-Posting-Host: theseus.unx.sas.com Organization: SAS Inst...\",\"opathy ... tradition?) Organization: University of Rochester  In article \\u003c\\u003e  (Gary Merrill) writes: ...\",\"rdon Banks) Organization: Univ. of Pittsburgh Computer Science Lines: 22  In article \\u003c\\u003e  (daniel fed...\",\"rstition? Organization: University of Illinois at Urbana Lines: 26   (Steve Dyer) writes:  \\u003eIn artic...\",\"nks) Reply-To:  Organization: University of Chicago Lines: 12  There were a few people who responded...\",\" Organization: Locus Computing Corporation, Los Angeles, California Distribution: usa Lines: 12   Hi...\",\"To:  (Gordon Banks) Distribution: na Organization: Univ. of Pittsburgh Computer Science Lines: 19  \\u003e...\",\"ntp-Posting-Host: huey.udel.edu Organization: little scraps of paper, mostly Lines: 10   I think he ...\",\"alif State Univ\\u002fElectronic Information Services Lines: 3  Can anyone help me find any information on...\",\"e of Veterinary Medicine WSU X-Newsreader: TIN [version 1.1 PL9] Lines: 13  kathleen richards () wro...\",\"ems Organization: University of Colorado at Denver Lines: 29   \\tA friend has the following symptoms ...\",\" Organization: NASA Langley Research Center, Hampton, VA Lines: 28 Reply-To: Jason C. Austin \\u003c\\u003e NNTP...\",\"zation: Space Telescope Science Institute Distribution: na  Am I justified in being pissed off at th...\",\"ctose intolerance Organization: Gastroenterology - Univ of Alabama Lines: 19  In article \\u003c\\u003e,  (Ho Le...\",\" Robinson \\u003c\\u003eReasons for hospitals to join Internet? Lines: 8  What resources and services are availa...\",\"n: Actrix Networks Lines: 26   My 14-y-o son has the usual teenage spotty chin and greasy nose.  I b...\",\" Switzerland Lines: 21  Hello to everybody, I write here because I am kind of desperate. For about s...\",\"Gordon Banks) Organization: Univ. of Pittsburgh Computer Science Lines: 16  In article \\u003c\\u003e  (Daniel P...\",\"itt.19440 Reply-To:  (Gordon Banks) Organization: Univ. of Pittsburgh Computer Science Lines: 23  In...\",\"versity of Wisconsin Eau Claire Lines: 13  [reply to  (Gordon Banks)]   \\u003e\\u003eI believe it is illegal fo...\",\"Organization: S.P. Dyer Computer Consulting, Cambridge MA Lines: 14  In article \\u003c1qnns0$\\u003e  (Steve Po...\",\"is [Is it Lyme's?]\\\"] Reply-To:  (Gordon Banks) Organization: Univ. of Pittsburgh Computer Science Li...\",\"or? Organization: HP Colorado Springs Division Lines: 5 Distribution: na NNTP-Posting-Host: hpcspe17...\",\"KS GREAT !!!! Organization: Omen Technology INC, Portland Rain Forest Lines: 33  In article \\u003c\\u003e  (Gor...\",\" Utah State University Lines: 35  \\u003e\\u003eBetween who? Over what? I would be most interested in seeing you...\",\"icle-I.D.: cup.79700 Organization: The Portal System (TM) Lines: 36  \\u003e Probably within 50 years, a n...\",\"on Banks) Organization: Univ. of Pittsburgh Computer Science Lines: 12  In article \\u003c\\u003e  (John E. Rodw...\",\"rriage Organization: worldbank.org Lines: 17        Following a series of miscarriages, my wife was ...\",\"cle-I.D.: pitt.19422 Reply-To:  (Ken Mitchum) Organization: Univ. of Pittsburgh Computer Science Lin...\",\"since last month [monthly posting] Supersedes: \\u003ctyping-injury-faq\\u002f\\u003e Organization: University of Cali...\",\" Vasomotor Rhinitis Organization: University of Pittsburgh Lines: 21  In article \\u003c1r1t1a$\\u003e  writes: ...\",\" Albicans: what is it?) Nntp-Posting-Host: magnusug.magnus.acs.ohio-state.edu Organization: The Ohio...\",\": world Organization: Invention Factory's BBS - New York City, NY - 212-274-8298v.32bis Reply-To:  (...\",\"er Corporation Nntp-Posting-Host: condor.encore.com Lines: 20  A bit more than a year ago, a hernia ...\",\"ewsj.1993Apr6.161858.12132 Distribution: na Organization: AT&T Lines: 15  In article \\u003c\\u003e,  writes: \\u003e ...\",\"blue.7936 Lines: 23 X-Newsreader: TIN [version 1.1 PL8]  David Nye () wrote: : [reply to  (ron roth)...\",\"ines: 43 Nntp-Posting-Host: vms.ocom.okstate.edu Organization: OSU College of Osteopathic Medicine  ...\",\"n? Lines: 12   To:  (Alex Milshteyn)   AM\\u003e Having said that, i might add, that in MHO, MSG does not ...\",\": The Old Frog's Almanac, Nanaimo, B.C. Keywords: Bates method Summary: Proven a hoax long ago Lines...\",\"Sybase, Inc. Lines: 18  My mom has just been diagnosed with cystic breast disease -- a big relief, a...\",\"National Accelerator Laboratory, Batavia IL Lines: 14 Distribution: world NNTP-Posting-Host: adcs01....\",\"sa Organization: Beth Israel Hospital, Harvard Medical School, Boston Mass., USA Lines: 15 NNTP-Post...\",\"core, Piscataway, NJ Lines: 14  In article \\u003c\\u003e  (Gordon Banks) writes: \\u003eIn article \\u003c\\u003e  (Richard Silve...\",\"ry: Kaiser has been doing it for a while Article-I.D.: pegasus.1993Apr22.221508.10196 Organization: ...\",\"anization: Lehigh University Lines: 22  The following 4 addresses are on the LymeNet mailing list, b...\",\"Host: vms.ocom.okstate.edu Organization: OSU College of Osteopathic Medicine Distribution: usa  In a...\",\" UM Anesthesiology Lines: 21 Distribution: world NNTP-Posting-Host: 141.214.86.38 X-UserAgent: Nunti...\",\"t current trends in diabetes. Lines: 63 Organization: The Information Deli - via Netcom \\u002f San Jose, ...\",\"rganization: The World Public Access UNIX, Brookline, MA Lines: 10   Some recent postings remind me ...\",\"es Organization: Hitachi Computer Products, OSSD division Lines: 16 NNTP-Posting-Host: duca.hi.com  ...\",\"eet (aspartame) Organization: University of Vermont -- Division of EMBA Computer Facility Lines: 21 ...\",\"? Keywords: cancer Organization: Digital Equipment Corporation Lines: 13   What does a lack of taste...\",\"ization: Carleton University, Ottawa, Canada Lines: 44  In article \\u003c\\u003e  (Gong Tong) writes: \\u003eIn artic...\",\"n: Department of Computer Science, UWO, Canada Keywords: volvulus Nntp-Posting-Host: berfert.csd.uwo...\",\"ationship problem Distribution: world Organization: Invention Factory's BBS - New York City, NY - 21...\",\"icle-I.D.: oregon.21APR199316170714 Distribution: world Organization: University of Oregon Lines: 14...\",\"sity of Wisconsin Eau Claire Lines: 15  [reply to  (ron roth)]   \\u003eWhile you're right that the S vert...\",\"anks) Organization: Univ. of Pittsburgh Computer Science Lines: 18  In article \\u003c\\u003e  (John Werner) wri...\",\" Organization: University of Pittsburgh Lines: 14  In article \\u003c\\u003e  (Fiberman) writes: :Is erythromyci...\",\"ion: McDonnell Douglas Aerospace Lines: 20 Distribution: world NNTP-Posting-Host: q5020598.mdc.com  ...\",\"s [Is it Lyme's?]\\\"] Article-I.D.: pitt.19421 Reply-To:  (Ken Mitchum) Organization: Univ. of Pittsbu...\",\"22 X-Newsreader: Tin 1.1 PL5  Sharon Paulson () wrote: :  {much deleted] :  :  : The fact that this ...\",\"g's Almanac, Nanaimo, B.C. Keywords: advice needed Summary: thanx for the comeback Lines: 7  Hello ,...\",\"'s message of Mon, 12 Apr 1993 21:02:31 GMT Nntp-Posting-Host: kyanite Organization: Telesciences CO...\",\"I.D.: pitt.19423 Reply-To:  (Ken Mitchum) Organization: Univ. of Pittsburgh Computer Science Lines: ...\",\"anization: Virginia's Public Education Network (Radford) Lines: 13  Thanks for all your assistance. ...\",\"zation: NASA Langley Research Center, Hampton VA, USA Lines: 48 \\t\\u003c\\u003e \\u003c\\u003e NNTP-Posting-Host: cmb00.larc...\",\"ERT-CONNECT -- Public Access UNIX Lines: 15   can anyone give me more information regarding endometr...\",\"r:  Organization: Citibank IBISM Lines: 11    has any one heard of a sedative called \\\"Rhoepnol\\\"? Mad...\",\"ngstown State University Lines: 5 NNTP-Posting-Host: ysub.ysu.edu  Does the Proventil inhaler for as...\",\"P-Posting-Host: fred.bbn.com   (ron roth) writes:  |JB\\u003e   (Ella I Baff) writes: |JB\\u003e   |JB\\u003e    Ron R...\",\"nline Communication Services (408 241-9760 guest) Lines: 7  In article \\u003c\\u003e  (Gordon Banks) writes: \\u003ew...\",\"yer Computer Consulting, Cambridge MA  In article \\u003c\\u003e  (Craig MacDonald) writes: \\u003e\\u003e  It may be extrem...\",\" slit operation Article-I.D.: pegasus.1993Apr22.221111.9678 Organization: Pegasus,  Honolulu Lines: ...\",\"zation: NASA Langley Research Center, Hampton VA, USA Lines: 52 \\t\\u003c\\u003e NNTP-Posting-Host: cmb00.larc.na...\",\" Nntp-Posting-Host: sdcmvs.mvs.sas.com Organization: SAS Institute Inc. Lines: 16  In article \\u003c\\u003e,  (...\",\"ization: Carleton University, Ottawa, Canada Lines: 43  In article \\u003c\\u003e  (David Thomas) writes:  \\u003e\\u003eIn ...\",\"T !!!! Organization: Express Access Public Access UNIX, Greenbelt, Maryland USA Lines: 58 NNTP-Posti...\",\"zation: NASA Langley Research Center, Hampton VA, USA Lines: 53 NNTP-Posting-Host: cmb00.larc.nasa.g...\",\"zation: Unocal Corporation Lines: 20  Living things maintain small electric fields to (1) enhance ce...\",\"formix Software, Inc. Lines: 11  In article \\u003c\\u003e  (Dick King) writes: \\u003e \\u003eI recall reading somewhere, d...\"],\"x\":[-28.27952766418457,-34.10359191894531,-23.852869033813477,-32.18370056152344,-33.56215286254883,-17.56775665283203,-30.138492584228516,-19.51217269897461,-24.958511352539062,-35.49162673950195,-35.146575927734375,-35.35187530517578,-39.16581726074219,-37.77764892578125,-32.5728874206543,-30.124677658081055,-13.744872093200684,-32.612335205078125,-35.568607330322266,-25.908864974975586,-34.769203186035156,-18.595979690551758,-27.722721099853516,-24.443077087402344,-32.822532653808594,-32.93304443359375,-37.46352005004883,-24.981159210205078,-17.9213924407959,-24.883586883544922,-22.95043182373047,-37.798927307128906,-39.397491455078125,-4.755529880523682,-30.406658172607422,-24.731884002685547,-29.095746994018555,-23.061777114868164,-32.44574737548828,-19.756118774414062,-25.860366821289062,-15.497118949890137,-8.321889877319336,-33.986602783203125,-25.44169044494629,-36.66926193237305,-25.80097198486328,-39.66404342651367,-28.688220977783203,-29.32749366760254,-21.613920211791992,-23.570886611938477,-26.510419845581055,-14.59074878692627,-25.863162994384766,-35.69180679321289,-26.22243881225586,-37.09524154663086,-27.795312881469727,-35.917808532714844,-38.073001861572266,-20.732824325561523,-9.97152328491211,-33.50995635986328,-17.904497146606445,-14.536025047302246,-27.26609992980957,-28.933744430541992,-8.12448787689209,-15.867132186889648,-18.920764923095703,-34.014713287353516,-22.171358108520508,-29.722454071044922,-17.887128829956055,-32.45681381225586,-10.135902404785156,-34.07312774658203,-32.927085876464844,-36.991485595703125,-25.45620346069336,-28.754507064819336,-30.731849670410156,-23.61026382446289,-37.471649169921875,-36.230125427246094,-18.725486755371094,-21.05583381652832,-25.488311767578125,-22.616411209106445,-30.96243667602539,-27.417936325073242,-31.684432983398438,-23.73259925842285,-19.552032470703125,-32.65999984741211,-31.310670852661133,-28.684955596923828,2.494988441467285,-38.6446533203125,-31.439102172851562,-31.271665573120117,-35.38775634765625,-23.032785415649414,-21.278928756713867,-25.768095016479492,-24.52345085144043,-13.059918403625488,-28.309537887573242,-33.94935607910156,-35.97563552856445,-14.486702919006348,-25.346607208251953,-4.444394588470459,-32.55270004272461,-25.089998245239258,-23.722187042236328,-25.68341827392578,-28.102148056030273,-30.222145080566406,-27.396202087402344,-27.077051162719727,-29.892892837524414,-27.84286880493164,-10.356084823608398,-21.38707160949707,-16.888595581054688,-34.99655532836914,-38.248809814453125,-29.683862686157227,-29.618579864501953,1.264449119567871,-14.060498237609863,-29.901042938232422,-38.188209533691406,-28.07223129272461,-28.183034896850586,-36.1493034362793,-38.92036819458008,-14.681198120117188,-18.795944213867188,-35.761959075927734,-36.10247802734375,-28.01528549194336,-28.724430084228516,-25.488752365112305,-32.169918060302734,-29.526248931884766,-10.085082054138184,-23.660654067993164],\"y\":[6.5138163566589355,17.261144638061523,20.40364646911621,24.79662322998047,7.780708312988281,-9.480883598327637,19.091611862182617,-9.272624969482422,-0.5716381072998047,13.621917724609375,4.3619704246521,-3.63301420211792,12.98620891571045,11.582805633544922,21.263999938964844,1.4196033477783203,7.8981547355651855,6.123331546783447,13.663544654846191,7.300970554351807,7.505284786224365,12.197978019714355,-1.4396065473556519,-2.605498790740967,24.921585083007812,1.0265785455703735,17.49195098876953,17.147808074951172,19.431154251098633,-4.959600448608398,-0.3480711877346039,14.612725257873535,6.072768211364746,15.579955101013184,4.069417476654053,18.355131149291992,14.265737533569336,7.326521873474121,8.204461097717285,-7.691728591918945,17.798189163208008,13.672316551208496,14.410406112670898,10.912410736083984,19.854488372802734,6.705175876617432,5.133807182312012,6.217839241027832,11.213650703430176,11.738754272460938,3.238476276397705,2.2110135555267334,1.0069594383239746,2.019437789916992,24.12640953063965,17.89705467224121,18.93362808227539,12.448801040649414,10.437921524047852,1.1675536632537842,9.945119857788086,11.256001472473145,12.365073204040527,21.392642974853516,11.951226234436035,15.434907913208008,12.270225524902344,-0.7250860929489136,14.471966743469238,14.055282592773438,12.58091926574707,13.484342575073242,16.81123924255371,6.052469253540039,24.785341262817383,4.5923357009887695,14.764477729797363,10.796797752380371,1.049431562423706,15.357909202575684,24.384567260742188,-1.9915540218353271,21.125234603881836,-0.40864288806915283,6.767218589782715,16.14248275756836,8.764808654785156,11.387868881225586,-4.875429630279541,16.637897491455078,1.0268704891204834,0.4237855076789856,25.737590789794922,18.06365203857422,-9.321856498718262,13.449958801269531,8.94257926940918,2.731060266494751,10.033361434936523,7.850532054901123,6.214065074920654,11.704172134399414,-3.689664125442505,11.219422340393066,6.869171619415283,5.09667444229126,19.457609176635742,12.513348579406738,4.69921875,17.180700302124023,1.2062041759490967,7.658059120178223,1.842790961265564,-6.6249799728393555,21.199872970581055,-5.3526177406311035,2.6480958461761475,23.768022537231445,2.562580108642578,19.0947322845459,21.07720184326172,18.477994918823242,10.245245933532715,-0.7507343888282776,13.920183181762695,6.884359836578369,8.136280059814453,4.549473285675049,13.411733627319336,1.157080888748169,14.564030647277832,9.73377513885498,7.548116683959961,9.31832218170166,5.357717514038086,15.1383695602417,7.752442359924316,9.801136016845703,8.451672554016113,2.1025431156158447,-8.647419929504395,11.582708358764648,-4.641769886016846,16.202213287353516,10.878621101379395,18.7676944732666,24.04891586303711,15.170129776000977,12.132843017578125,14.648097038269043],\"type\":\"scatter\"},{\"hoverinfo\":\"text\",\"marker\":{\"line\":{\"color\":\"white\",\"width\":0.5},\"size\":15},\"mode\":\"markers\",\"name\":\"Class sci.space\",\"opacity\":0.7,\"text\":[\"ation: NASA Langley Research Center Lines: 7 Distribution: world Reply-To:  (CLAUDIO OLIVEIRA EGALON...\",\"ce? Organization: Texas Instruments Inc Lines: 16  In \\u003c\\u003e  (Dillon Pyron) writes:   \\u003eThere are actual...\",\" Space Launcer Organization: Boeing AI Center, Huntsville, AL Lines: 22  In reference to the limits ...\",\"zation: University of Washington Lines: 33 NNTP-Posting-Host: stein2.u.washington.edu   (Doug Loss) ...\",\"on: Netcom - Online Communication Services (408 241-9760 guest) Lines: 23  In article \\u003c\\u003e  (kevin mar...\",\"ining. Nntp-Posting-Host: 128.158.30.103 Reply-To:  (G. Patrick Molloy) Organization: NASA\\u002fMSFC Line...\",\" Beacons! In-Reply-To: 's message of 21 Apr 93 08:15:55 GMT Nntp-Posting-Host: leo-gw Organization: ...\",\"n: Boeing AI Center, Huntsville, AL Lines: 39  I have before me a pertinent report from the United S...\",\"niv. of Florida CIS Dept. Lines: 17 Distribution: world NNTP-Posting-Host: beach.cis.ufl.edu   Is an...\",\"o Update - 04\\u002f22\\u002f93) Organization: U of Toronto Zoology Lines: 17  In article \\u003c\\u003e  (Alan Carter) writ...\",\"on to first year-long moon residents? Organization: Texas Instruments Inc Lines: 22  In \\u003c\\u003e  (Allen W...\",\"decentralize & automate functions Keywords: space station, constellation Article-I.D.: techbook.C51z...\",\" not give $1G) Organization: MDSSC Lines: 32  In article \\u003c\\u003e,  (Layne Cook) writes: \\u003e All of this tal...\",\"ief Resigns for Health Reasons Organization: NASA Lewis Research Center \\u002f Cleveland, Ohio Lines: 30 ...\",\"of the future. Organization: University of Western Ontario, London Nntp-Posting-Host: prism.engrg.uw...\",\"on: Jet Propulsion Laboratory Lines: 16 Distribution: world NNTP-Posting-Host: kelvin.jpl.nasa.gov N...\",\"tion: RIP Organization: Univ. of Southwestern Louisiana Lines: 43   (Brian Yamauchi) writes:  \\u003eAny c...\",\"press Access Online Communications USA Lines: 30 NNTP-Posting-Host: access.digex.net  In article \\u003c\\u003e ...\",\"93 Organization: Express Access Online Communications, Greenbelt, MD USA Lines: 33 Distribution: wor...\",\" University of South Australia Lines: 5  Does anyone know how to size cold gas roll control thruster...\",\"eral Systems Co. Software Services               IBM, Federal Systems Co. Software Services Disclaim...\",\"rwarded by Space Digest Organization: [via International Space University] Original-Sender:  Distrib...\",\"ed News-Software: VAX\\u002fVMS VNEWS 1.41     Nntp-Posting-Host: tm0006.lerc.nasa.gov Organization: NASA ...\",\" do it. Organization: SED, Stanford Telecom, Reston, VA 22090 Lines: 16  In article \\u003c\\u003e  writes: \\u003eThi...\",\"oards (was Re: Vandalizing the sky.) Organization: LLNL Lines: 96 Distribution: world NNTP-Posting-H...\",\" Organization: Express Access Online Communications USA Lines: 23 Distribution: world NNTP-Posting-H...\",\"ization: Brunel University, West London, UK Lines: 26  \\u003c\\u003e  writes:  \\u003eSo some of my ideas are a bit o...\",\" Moon first? Nntp-Posting-Host: unseen1.acns.nwu.edu Organization: Northwestern University, Evanston...\",\"unding Cuts. Organization: California Polytechnic State University, San Luis Obispo Lines: 51  Why d...\",\"-Xxmessage-Id: \\u003c\\u003e X-Xxdate: Fri, 16 Apr 93 06:33:17 GMT Organization: Simon Fraser University X-User...\",\"ng Cuts. Organization: Jet Propulsion Laboratory Lines: 15 Distribution: world NNTP-Posting-Host: ke...\",\" with the ears!) Organization: California Polytechnic State University, San Luis Obispo Lines: 31  \\u003e...\",\"es on the moon Organization: Lick Observatory\\u002fUCO Lines: 42 \\t\\u003c\\u003e \\t\\u003c\\u003e NNTP-Posting-Host: topaz.ucsc.ed...\",\"t year-lo Organization: ARCO Oil and Gas Company Lines: 44   (Craig Keithley) writes: \\u003e \\u003e All in all...\",\"TO type stuff from a shareholder perspective. Organization: Netcom Online Communications Services (4...\",\"ned Lunar Exploration. May 7 Crystal City Organization: Fermi National Accelerator Laboratory Lines:...\",\" Space Launcer Organization: Boeing AI Center, Huntsville, AL Lines: 72   Okay, lets get the record ...\",\"Jet Propulsion Laboratory Lines: 79 Distribution: world NNTP-Posting-Host: kelvin.jpl.nasa.gov News-...\",\"x (was:*Doppelganger*) Organization: NASA Langley Research Center Lines: 14 Distribution: world Repl...\",\"3.124722.1 Organization: University of Alaska Fairbanks Lines: 11 Nntp-Posting-Host: acad3.alaska.ed...\",\"e \\u003c\\u003eRe: Apollo Training in Iceland Distribution: sci Lines: 10  The Apollo astronauts also trained a...\",\"ss Access Online Communications USA Lines: 20 NNTP-Posting-Host: access.digex.net  In article \\u003c\\u003e  (G...\",\"akala BBS (ClanZen Radio Network) Sunnyvale, CA +1-408-734-2289 Lines: 20   (Doug Mohney) writes:  \\u003e...\",\"Access Online Communications USA Lines: 9 NNTP-Posting-Host: access.digex.net Keywords: food  dillon...\",\"cs Supersedes: \\u003c\\u003e Organization: University of North Carolina, Chapel Hill Lines: 95 Distribution: wo...\",\"ization: Express Access Online Communications USA Lines: 25 NNTP-Posting-Host: access.digex.net  In ...\",\"cle on Federal R&D Organization: Fermi National Accelerator Laboratory Lines: 24 NNTP-Posting-Host: ...\",\"uttle Keywords: Space Shuttle, Orbital Elements, Keplerian Nntp-Posting-Host: scgraph.afit.af.mil Or...\",\"on \\u003c\\u003eRe: Gamma Ray Bursters. Where are they?  \\u003c\\u003e Lines: 8  If all of these things have been detected...\",\"n residents? Article-I.D.: aurora.1993Apr19.130503.1 Organization: University of Alaska Fairbanks Li...\",\"g-Host: cc_sysk Organization: Coventry University Lines: 31  In article \\u003c\\u003e Callec Dradja \\u003c\\u003e writes: ...\",\" 7  Crystal City Organization: Express Access Online Communications, Greenbelt MD USA Lines: 9 Distr...\",\"ronto Zoology Lines: 18  In article \\u003c1raejd$\\u003e  (Pat) writes: \\u003ewhat ever happened to the hypothesis  ...\",\" 04\\u002f22\\u002f93) Organization: Express Access Online Communications USA Lines: 20 NNTP-Posting-Host: acces...\",\"n residents? Article-I.D.: aurora.1993Apr20.141137.1 Organization: University of Alaska Fairbanks Li...\",\"U of Toronto Zoology Lines: 24  In article \\u003c\\u003e  (Don Schiewer) writes: \\u003eWhat is the deal with life on...\",\"pdate - 04\\u002f22\\u002f93) Organization: Jet Propulsion Laboratory Lines: 22 Distribution: world NNTP-Posting...\",\"ound Jupiter? Article-I.D.: srl03.pgf.734063192 Organization: Univ. of Southwestern Louisiana Lines:...\",\" object found? X-Added: Forwarded by Space Digest Organization: [via International Space University]...\",\"e: Vulcan? No, not Spock or Haphaestus) Organization: Fermi National Accelerator Laboratory Lines: 2...\",\"od Article-I.D.: news.1pscc6INNebg Organization: Organization?  You must be kidding. Lines: 35 NNTP-...\",\": University of Denver, Dept. of Math & Comp. Sci. Lines: 114    ARIANESPACE FLIGHT 56  (Flight V.56...\",\"d Lines: 25 Nntp-Posting-Host: skndiv.dseg.ti.com Reply-To:  Organization: TI\\u002fDSEG VAX Support   In ...\",\"ploration. May 7 Crystal City Organization: NASA Ames Research Center Distribution: na Lines: 14   (...\",\"ation: Worcester Polytechnic Institute, Worcester, MA 01609-2280 Lines: 11 NNTP-Posting-Host: wpi.wp...\",\"lboards (was Re: Vandalizing the sky.) Organization: stanford Lines: 38  In article \\u003c\\u003e,  (Brian Yama...\",\"tion: University of Denver, Dept. of Math & Comp. Sci. Lines: 22   And one of my profs is the chief ...\",\"on \\u003c\\u003eRe: What if the USSR had reached the Moon first?  \\u003c\\u003e \\u003c\\u003e  \\u003c\\u003e \\u003c\\u003e  \\u003c\\u003e \\u003c\\u003e Lines: 38  In article \\u003c\\u003e,...\",\"ronto Zoology Lines: 31  In article \\u003c\\u003e  (fred j mccall 575-3539) writes: \\u003e\\u003e\\u003e(given that I've heard t...\",\"SME? X-Added: Forwarded by Space Digest Organization: [via International Space University] Original-...\",\"No, not Spock or Haphaestus) Article-I.D.: mojo.1qkn6rINNett Reply-To:  Distribution: world Organiza...\",\"g. Organization: U of Toronto Zoology Lines: 22  In article \\u003c\\u003e  writes: \\u003eHere is a way to get the co...\",\"oration. May 7 Crystal City Distribution: na Organization: University of Illinois at Urbana Lines: 1...\",\"Nntp-Posting-Host: acad3.alaska.edu Organization: University of Alaska Fairbanks  In article \\u003c\\u003e,  (D...\",\" Organization: [via International Space University] Original-Sender:  Distribution: sci Lines: 14   ...\",\"Organization: Texas Instruments Inc Distribution: na Lines: 35  In \\u003c\\u003e  (Elijah Millgram) writes:   \\u003e...\",\"es on the moon Organization: Lick Observatory\\u002fUCO Lines: 26 \\t\\u003c\\u003e\\t\\u003c\\u003e\\t\\u003c\\u003e,\\u003c\\u003e \\t\\u003c\\u003e NNTP-Posting-Host: topa...\",\"ds: DC-X Nntp-Posting-Host: husc8.harvard.edu Lines: 17       I've been following discussions about ...\",\"ation: Express Access Online Communications USA Lines: 25 NNTP-Posting-Host: access.digex.net  In ar...\",\", why? Organization: Apple Computer, Inc. Lines: 44  In article \\u003c\\u003e,  (Henry Spencer) wrote: \\u003e  \\u003e The...\",\"tion: U of Toronto Zoology Lines: 21  In article \\u003c\\u003e  (Steve Collins) writes: \\u003eThe difficulties of a ...\",\"y Space Digest Organization: [via International Space University] Original-Sender:  Distribution: sc...\",\"Jupiter? Organization: SoftQuad Inc., Toronto, Canada Lines: 20   \\u003e \\u003e \\u003e Also, peri[jove]s of Gehrels...\",\"ation: U of Toronto Zoology Lines: 21  In article \\u003c\\u003e  (CLAUDIO OLIVEIRA EGALON) writes: \\u003e\\u003e there is ...\",\"ne 5 Distribution: sci Organization: Goddard Space Flight Center - Robotics Lab Lines: 26 News-Softw...\",\"eply-To: 's message of Sat, 17 Apr 1993 12: 52:09 GMT Organization: National Radio Astronomy Observa...\",\"d by Space Digest Organization: [via International Space University] Original-Sender:  Distribution:...\",\"b Space Station?) Article-I.D.: iti.1993Apr6.124456.14123 Organization: Evil Geniuses for a Better T...\",\"ion: University of Central Florida Lines: 19  I posted this over in sci.astro, but it didn't make it...\",\" Alternative #4 Organization: NASA\\u002fJSC\\u002fGM2, Space Shuttle Program Office  X-Newsreader: TIN [version...\",\"uestions list Supersedes: \\u003c\\u003e Organization: University of North Carolina, Chapel Hill Lines: 36 Distr...\",\"t year-long moon residents? Organization: Alpha Science Computer Network, Denver, Co. Lines: 5  The ...\",\"University of Texas at Austin Computation Center Lines: 20 Distribution: world NNTP-Posting-Host: ga...\",\"ting-Host: well.sf.ca.us Organization: Whole Earth 'Lectronic Link Lines: 29   The difficulties of a...\",\"tronaut) Organization: Statistics, Pure & Applied Mathematics, University of Adelaide Lines: 25  In ...\",\"ng for a little research help [ addendum] Organization: Dynamic Graphics Inc. Lines: 10 Distribution...\",\"ganization: Worcester Polytechnic Institute Lines: 15 NNTP-Posting-Host: bigwpi.wpi.edu    Hello eve...\",\"n: U of Toronto Zoology Lines: 21  In article \\u003c\\u003e  (David M. Palmer) writes: \\u003e\\u003eorbiting billboard... ...\",\"e Moon first? Reply-To:  (Gary Coffman) Organization: Destructive Testing Systems Lines: 63  In arti...\",\"nization: University of Western Ontario, London Nntp-Posting-Host: prism.engrg.uwo.ca Lines: 15  In ...\",\" not give $1G) Organization: University of Illinois at Urbana Lines: 42   (Keith Mancus) writes:  \\u003e ...\",\"n: Jet Propulsion Laboratory Lines: 113 Distribution: world NNTP-Posting-Host: kelvin.jpl.nasa.gov K...\",\"ound Jupiter? Organization: Univ. of Southwestern Louisiana Lines: 28   (Mark Brader) writes:   \\u003eTha...\",\"ess Access Online Communications USA Lines: 18 NNTP-Posting-Host: access.digex.net  In article \\u003c1r6f...\",\"eles, CA X-Added: Forwarded by Space Digest Organization: [via International Space University] Origi...\",\"oon Organization: University of Rochester Lines: 38  In article \\u003c\\u003e  (Gary Coffman) writes:   \\u003e be th...\",\" Organization: NASA\\u002fGSFC Greenbelt Maryland Lines: 13  A brief political\\u002fcultural item.  Radio stati...\",\"uter Aided Design Lab, U. of Maryland College Park Lines: 13 Reply-To:  NNTP-Posting-Host: queen.eng...\",\" Forwarded by Space Digest Mmdf-Warning: Parse error in original version of preceding line at VACATI...\",\"T BY ETHER TWIST Reply-To:  Organization: Tektronix, Inc., Beaverton,  OR. Lines: 31   ----- News sa...\",\"cess.1psghn$s7r Organization: Express Access Online Communications USA Lines: 19 NNTP-Posting-Host: ...\",\"st year-long moon residents? Organization: U of Toronto Zoology Lines: 15  In article \\u003c\\u003e  (Allen W. ...\",\"cago Organization: Motorola Distribution: usa Nntp-Posting-Host: 145.1.146.43 Lines: 59  I am postin...\",\"o... Article-I.D.: aurora.1993Apr23.000021.1 Organization: University of Alaska Fairbanks Lines: 55 ...\",\"icle-I.D.: aurora.1993Apr25.150437.1 Organization: University of Alaska Fairbanks Lines: 28 Nntp-Pos...\",\"1 Nntp-Posting-Host: skndiv.dseg.ti.com Reply-To:  Organization: TI\\u002fDSEG VAX Support   In article \\u003c\\u003e...\",\"ganization: Jet Propulsion Laboratory Lines: 23 Distribution: world NNTP-Posting-Host: kelvin.jpl.na...\",\"ribution: na Organization: Space Telescope Science Institute Lines: 42  In article \\u003c\\u003e,   (Victor Lak...\",\" Feb 23 1993 Lines: 27  Mark Prado    \\u003ePlease go just one step further: \\u003eHow has the word \\\"Clementin...\",\": aurora.1993Apr5.185700.1 Organization: University of Alaska Fairbanks Lines: 21 Nntp-Posting-Host:...\",\"ss Online Communications USA Lines: 20 Distribution: sci NNTP-Posting-Host: access.digex.net    I am...\",\"zation: UTexas Mail-to-News Gateway Lines: 37 NNTP-Posting-Host: cs.utexas.edu  In article \\u003c1raee7$\\u003e...\",\"light Test Organization: Texas Instruments Inc Lines: 14  In \\u003c\\u003e  writes:  \\u003eSince the DC-X is to take...\",\"k or Haphaestus Organization: NASA Langley Research Center Lines: 16 Distribution: world Reply-To:  ...\",\"d for 11 Days Organization: U of Toronto Zoology Lines: 35  In article \\u003c1rd1g0$\\u003e  (Pat) writes: \\u003eHow...\",\"rganization: Fermi National Accelerator Laboratory Lines: 56 NNTP-Posting-Host: fnalf.fnal.gov  In a...\",\" not give $1G) Organization: MDSSC Lines: 60   (Josh Hopkins) writes: \\u003e (Keith Mancus) writes: \\u003e\\u003e (L...\",\"ator:  Reply-To:  (Mitch) Organization: North Carolina State University, Project Eos Lines: 21   Hi ...\",\" netnews Organization: The Trystro System (617) 625-7155 v.32\\u002fv.42bis Lines: 27  In article \\u003c\\u003e mwm+@...\",\" Article-I.D.: rave.1psogpINNksq Reply-To:  (CLAUDIO OLIVEIRA EGALON) Distribution: world Organizati...\",\"Feb 23 1993 Lines: 81  Brian Yamauchi asks: [Regarding orbital billboards...] \\u003eAnd does anyone have ...\",\" TWIST  (Ross Smith) Distribution: world Organization: Muppet Labs Lines: 27  In article \\u003c\\u003e  (fred j...\",\"g? Organization: NASA Langley Research Center Lines: 13 Distribution: world Reply-To:  (CLAUDIO OLIV...\",\": 's message of Wed, 21 Apr 93 16:28:00 GMT Originator:  Nntp-Posting-Host: snow.fox.cs.cmu.edu Orga...\",\"xpress Access Online Communications USA Lines: 9 NNTP-Posting-Host: access.digex.net  In article \\u003c\\u003e ...\",\"nding Cuts. Organization: University of Virginia Lines: 13  In article \\u003c1r6aqr$\\u003e  (Pat) writes: #The...\",\"ion: California Institute of Technology, Pasadena Lines: 39 NNTP-Posting-Host: alumni.caltech.edu   ...\",\"uter Aided Design Lab, U. of Maryland College Park Lines: 22 Reply-To:  NNTP-Posting-Host: queen.eng...\",\" Organization: Space Telescope Science Institute, Baltimore MD Lines: 14  Another fish to check out ...\",\" NASA\\u002fMSFC Lines: 40   (Dennis Newkirk) writes: The Centaur is controlled technology.. State Dept wi...\",\"ntp-Posting-Host: ngis.geod.emr.ca Organization: Dept. of Energy, Mines, and Resources, Ottawa Lines...\",\"osting-Host: ugl-gw.uvic.ca Organization: University of Victoria, Victoria, BC, Canada Lines: 33  In...\",\"n: Science Applications Int'l Corp.\\u002fSan Diego Lines: 111        Ethnocentric USian that I am, I've a...\",\"osting-Host: sor.cs.colostate.edu Organization: Colorado State University -=- Computer Science Dept....\",\"ion: Inland Steel Company, East Chicago, IN Nntp-Posting-Host: pa881a Nntp-Posting-User: schiewer Li...\",\"cess Online Communications USA Lines: 15 NNTP-Posting-Host: access.digex.net   Well thank you dennis...\",\"ting-Host: nucleus.ps.uci.edu Organization: University of California, Irvine Lines: 30  Actually, th...\",\"axy.29034 Organization: University of California, Riverside Lines: 82 Nntp-Posting-Host: guitar.ucr....\",\"ie Organization: Trinity College Dublin Lines: 11  I need as much information about Cosmos 2238 and ...\",\"Russian Space Cooperation Organization: NASA\\u002fGSFC Greenbelt Maryland Lines: 23  Reported yesterday i...\"],\"x\":[2.974372625350952,-3.6677300930023193,3.976686477661133,-13.95126724243164,6.645753383636475,25.392288208007812,13.584672927856445,10.64731216430664,9.064489364624023,8.43576431274414,20.5411434173584,13.641413688659668,19.82147216796875,14.411641120910645,21.91645622253418,20.263343811035156,6.054239273071289,8.732024192810059,22.090370178222656,26.9475040435791,11.802313804626465,12.659880638122559,14.277955055236816,13.724900245666504,18.802879333496094,5.731210708618164,-14.91286849975586,22.017261505126953,15.771079063415527,1.3450734615325928,15.604351043701172,-1.8789998292922974,25.15446662902832,20.691112518310547,14.210810661315918,12.371607780456543,1.7861374616622925,7.885159969329834,10.207732200622559,11.524541854858398,9.562331199645996,4.742591381072998,15.947286605834961,-22.00383758544922,-3.4623265266418457,17.25761604309082,15.195892333984375,8.647200584411621,3.593355417251587,21.156675338745117,-14.374462127685547,11.125054359436035,0.7113506197929382,6.973267555236816,21.33035659790039,-5.813953876495361,8.533127784729004,5.420492172241211,2.6547834873199463,-1.3984454870224,-21.27871322631836,10.436156272888184,-21.422256469726562,11.167123794555664,8.09396743774414,19.220333099365234,-2.1026687622070312,22.37100601196289,11.718222618103027,2.7830748558044434,-1.2204798460006714,25.65165901184082,11.690023422241211,17.434450149536133,-0.5401929020881653,6.095333576202393,23.847673416137695,21.470916748046875,25.9584903717041,19.09600067138672,15.257747650146484,1.9258908033370972,4.778643608093262,21.34466552734375,8.986470222473145,5.22601318359375,5.859963893890381,15.42961311340332,6.756787300109863,2.026820421218872,3.3120646476745605,22.183429718017578,2.01147723197937,15.095630645751953,10.255473136901855,23.061330795288086,8.100889205932617,6.122915744781494,22.125864028930664,20.701295852661133,19.340259552001953,7.799368381500244,4.6593241691589355,5.566011428833008,10.179462432861328,24.370468139648438,17.115907669067383,18.17790412902832,5.3136067390441895,-1.774672508239746,-14.763358116149902,20.33457374572754,7.882380485534668,24.57394027709961,19.988004684448242,12.414963722229004,3.4314913749694824,-1.9202396869659424,3.3341073989868164,14.525887489318848,5.671918869018555,0.7868850827217102,21.429059982299805,-2.1801023483276367,13.061025619506836,7.67732048034668,19.517337799072266,5.8688249588012695,3.9235408306121826,6.709420680999756,17.74836540222168,-0.7736704349517822,21.48996925354004,17.837522506713867,-3.599249839782715,15.24629020690918,6.274343013763428,17.150522232055664,2.9883999824523926,12.087491989135742,17.397815704345703,-0.4317745566368103,7.505688190460205,1.1472641229629517,-5.794133186340332,12.126907348632812,4.126052379608154,-0.3975956439971924,8.283665657043457,14.29983901977539],\"y\":[17.416358947753906,11.686673164367676,31.77158546447754,19.369380950927734,17.743953704833984,17.42927360534668,-5.345681667327881,14.235496520996094,12.878787994384766,25.413753509521484,18.732547760009766,14.204724311828613,22.240812301635742,10.702720642089844,7.303133964538574,26.285350799560547,-11.092397689819336,-10.317373275756836,17.457447052001953,2.892484664916992,8.469151496887207,15.558897018432617,11.34787368774414,12.502161979675293,13.097930908203125,23.07343101501465,13.264967918395996,23.537376403808594,23.978191375732422,20.327116012573242,23.78870964050293,22.923015594482422,22.964445114135742,20.784563064575195,15.1199369430542,20.69346809387207,30.624317169189453,21.84158706665039,29.204238891601562,12.318421363830566,19.380821228027344,-8.267925262451172,18.606334686279297,23.051435470581055,15.591212272644043,16.11466407775879,7.140789985656738,10.030009269714355,20.018291473388672,19.87470245361328,19.219512939453125,19.113401412963867,23.99752426147461,24.83529281616211,18.948570251464844,19.40194320678711,25.319435119628906,22.899499893188477,22.846960067749023,19.723596572875977,23.700489044189453,16.42412757873535,23.452226638793945,19.438371658325195,12.493600845336914,13.328298568725586,8.424691200256348,21.793834686279297,8.61188793182373,30.80019187927246,19.302146911621094,16.228487014770508,20.09803581237793,17.428306579589844,12.88480281829834,7.089137077331543,20.003820419311523,8.980352401733398,16.979053497314453,19.603429794311523,28.332990646362305,14.53465461730957,21.247135162353516,26.55478286743164,15.25379753112793,12.070510864257812,14.72669792175293,19.063831329345703,19.46507453918457,5.749362468719482,10.4950590133667,19.591772079467773,5.695867538452148,28.10340118408203,29.41259765625,-1.7437477111816406,10.535265922546387,30.404861450195312,22.110416412353516,13.129968643188477,22.215087890625,24.159133911132812,20.856094360351562,17.040977478027344,21.063318252563477,22.68130111694336,11.128552436828613,17.989748001098633,14.059395790100098,15.126214027404785,19.49088478088379,18.10921287536621,13.543905258178711,17.832494735717773,20.473661422729492,7.054248809814453,22.32248878479004,23.035003662109375,25.021656036376953,-4.650965690612793,6.570674896240234,21.231618881225586,9.349839210510254,21.098356246948242,27.638011932373047,17.46802520751953,22.834693908691406,11.111109733581543,12.981820106506348,7.858654499053955,12.518041610717773,14.50247859954834,26.691164016723633,20.97314453125,11.663796424865723,22.731781005859375,30.367464065551758,17.921592712402344,17.25487518310547,24.97368812561035,13.031708717346191,13.914618492126465,-7.2027907371521,19.632776260375977,19.409055709838867,25.073787689208984,31.21217155456543,15.988740921020508,15.387575149536133,13.191936492919922],\"type\":\"scatter\"}],                        {\"height\":800,\"hovermode\":\"closest\",\"template\":{\"data\":{\"barpolar\":[{\"marker\":{\"line\":{\"color\":\"#E5ECF6\",\"width\":0.5},\"pattern\":{\"fillmode\":\"overlay\",\"size\":10,\"solidity\":0.2}},\"type\":\"barpolar\"}],\"bar\":[{\"error_x\":{\"color\":\"#2a3f5f\"},\"error_y\":{\"color\":\"#2a3f5f\"},\"marker\":{\"line\":{\"color\":\"#E5ECF6\",\"width\":0.5},\"pattern\":{\"fillmode\":\"overlay\",\"size\":10,\"solidity\":0.2}},\"type\":\"bar\"}],\"carpet\":[{\"aaxis\":{\"endlinecolor\":\"#2a3f5f\",\"gridcolor\":\"white\",\"linecolor\":\"white\",\"minorgridcolor\":\"white\",\"startlinecolor\":\"#2a3f5f\"},\"baxis\":{\"endlinecolor\":\"#2a3f5f\",\"gridcolor\":\"white\",\"linecolor\":\"white\",\"minorgridcolor\":\"white\",\"startlinecolor\":\"#2a3f5f\"},\"type\":\"carpet\"}],\"choropleth\":[{\"colorbar\":{\"outlinewidth\":0,\"ticks\":\"\"},\"type\":\"choropleth\"}],\"contourcarpet\":[{\"colorbar\":{\"outlinewidth\":0,\"ticks\":\"\"},\"type\":\"contourcarpet\"}],\"contour\":[{\"colorbar\":{\"outlinewidth\":0,\"ticks\":\"\"},\"colorscale\":[[0.0,\"#0d0887\"],[0.1111111111111111,\"#46039f\"],[0.2222222222222222,\"#7201a8\"],[0.3333333333333333,\"#9c179e\"],[0.4444444444444444,\"#bd3786\"],[0.5555555555555556,\"#d8576b\"],[0.6666666666666666,\"#ed7953\"],[0.7777777777777778,\"#fb9f3a\"],[0.8888888888888888,\"#fdca26\"],[1.0,\"#f0f921\"]],\"type\":\"contour\"}],\"heatmapgl\":[{\"colorbar\":{\"outlinewidth\":0,\"ticks\":\"\"},\"colorscale\":[[0.0,\"#0d0887\"],[0.1111111111111111,\"#46039f\"],[0.2222222222222222,\"#7201a8\"],[0.3333333333333333,\"#9c179e\"],[0.4444444444444444,\"#bd3786\"],[0.5555555555555556,\"#d8576b\"],[0.6666666666666666,\"#ed7953\"],[0.7777777777777778,\"#fb9f3a\"],[0.8888888888888888,\"#fdca26\"],[1.0,\"#f0f921\"]],\"type\":\"heatmapgl\"}],\"heatmap\":[{\"colorbar\":{\"outlinewidth\":0,\"ticks\":\"\"},\"colorscale\":[[0.0,\"#0d0887\"],[0.1111111111111111,\"#46039f\"],[0.2222222222222222,\"#7201a8\"],[0.3333333333333333,\"#9c179e\"],[0.4444444444444444,\"#bd3786\"],[0.5555555555555556,\"#d8576b\"],[0.6666666666666666,\"#ed7953\"],[0.7777777777777778,\"#fb9f3a\"],[0.8888888888888888,\"#fdca26\"],[1.0,\"#f0f921\"]],\"type\":\"heatmap\"}],\"histogram2dcontour\":[{\"colorbar\":{\"outlinewidth\":0,\"ticks\":\"\"},\"colorscale\":[[0.0,\"#0d0887\"],[0.1111111111111111,\"#46039f\"],[0.2222222222222222,\"#7201a8\"],[0.3333333333333333,\"#9c179e\"],[0.4444444444444444,\"#bd3786\"],[0.5555555555555556,\"#d8576b\"],[0.6666666666666666,\"#ed7953\"],[0.7777777777777778,\"#fb9f3a\"],[0.8888888888888888,\"#fdca26\"],[1.0,\"#f0f921\"]],\"type\":\"histogram2dcontour\"}],\"histogram2d\":[{\"colorbar\":{\"outlinewidth\":0,\"ticks\":\"\"},\"colorscale\":[[0.0,\"#0d0887\"],[0.1111111111111111,\"#46039f\"],[0.2222222222222222,\"#7201a8\"],[0.3333333333333333,\"#9c179e\"],[0.4444444444444444,\"#bd3786\"],[0.5555555555555556,\"#d8576b\"],[0.6666666666666666,\"#ed7953\"],[0.7777777777777778,\"#fb9f3a\"],[0.8888888888888888,\"#fdca26\"],[1.0,\"#f0f921\"]],\"type\":\"histogram2d\"}],\"histogram\":[{\"marker\":{\"pattern\":{\"fillmode\":\"overlay\",\"size\":10,\"solidity\":0.2}},\"type\":\"histogram\"}],\"mesh3d\":[{\"colorbar\":{\"outlinewidth\":0,\"ticks\":\"\"},\"type\":\"mesh3d\"}],\"parcoords\":[{\"line\":{\"colorbar\":{\"outlinewidth\":0,\"ticks\":\"\"}},\"type\":\"parcoords\"}],\"pie\":[{\"automargin\":true,\"type\":\"pie\"}],\"scatter3d\":[{\"line\":{\"colorbar\":{\"outlinewidth\":0,\"ticks\":\"\"}},\"marker\":{\"colorbar\":{\"outlinewidth\":0,\"ticks\":\"\"}},\"type\":\"scatter3d\"}],\"scattercarpet\":[{\"marker\":{\"colorbar\":{\"outlinewidth\":0,\"ticks\":\"\"}},\"type\":\"scattercarpet\"}],\"scattergeo\":[{\"marker\":{\"colorbar\":{\"outlinewidth\":0,\"ticks\":\"\"}},\"type\":\"scattergeo\"}],\"scattergl\":[{\"marker\":{\"colorbar\":{\"outlinewidth\":0,\"ticks\":\"\"}},\"type\":\"scattergl\"}],\"scattermapbox\":[{\"marker\":{\"colorbar\":{\"outlinewidth\":0,\"ticks\":\"\"}},\"type\":\"scattermapbox\"}],\"scatterpolargl\":[{\"marker\":{\"colorbar\":{\"outlinewidth\":0,\"ticks\":\"\"}},\"type\":\"scatterpolargl\"}],\"scatterpolar\":[{\"marker\":{\"colorbar\":{\"outlinewidth\":0,\"ticks\":\"\"}},\"type\":\"scatterpolar\"}],\"scatter\":[{\"fillpattern\":{\"fillmode\":\"overlay\",\"size\":10,\"solidity\":0.2},\"type\":\"scatter\"}],\"scatterternary\":[{\"marker\":{\"colorbar\":{\"outlinewidth\":0,\"ticks\":\"\"}},\"type\":\"scatterternary\"}],\"surface\":[{\"colorbar\":{\"outlinewidth\":0,\"ticks\":\"\"},\"colorscale\":[[0.0,\"#0d0887\"],[0.1111111111111111,\"#46039f\"],[0.2222222222222222,\"#7201a8\"],[0.3333333333333333,\"#9c179e\"],[0.4444444444444444,\"#bd3786\"],[0.5555555555555556,\"#d8576b\"],[0.6666666666666666,\"#ed7953\"],[0.7777777777777778,\"#fb9f3a\"],[0.8888888888888888,\"#fdca26\"],[1.0,\"#f0f921\"]],\"type\":\"surface\"}],\"table\":[{\"cells\":{\"fill\":{\"color\":\"#EBF0F8\"},\"line\":{\"color\":\"white\"}},\"header\":{\"fill\":{\"color\":\"#C8D4E3\"},\"line\":{\"color\":\"white\"}},\"type\":\"table\"}]},\"layout\":{\"annotationdefaults\":{\"arrowcolor\":\"#2a3f5f\",\"arrowhead\":0,\"arrowwidth\":1},\"autotypenumbers\":\"strict\",\"coloraxis\":{\"colorbar\":{\"outlinewidth\":0,\"ticks\":\"\"}},\"colorscale\":{\"diverging\":[[0,\"#8e0152\"],[0.1,\"#c51b7d\"],[0.2,\"#de77ae\"],[0.3,\"#f1b6da\"],[0.4,\"#fde0ef\"],[0.5,\"#f7f7f7\"],[0.6,\"#e6f5d0\"],[0.7,\"#b8e186\"],[0.8,\"#7fbc41\"],[0.9,\"#4d9221\"],[1,\"#276419\"]],\"sequential\":[[0.0,\"#0d0887\"],[0.1111111111111111,\"#46039f\"],[0.2222222222222222,\"#7201a8\"],[0.3333333333333333,\"#9c179e\"],[0.4444444444444444,\"#bd3786\"],[0.5555555555555556,\"#d8576b\"],[0.6666666666666666,\"#ed7953\"],[0.7777777777777778,\"#fb9f3a\"],[0.8888888888888888,\"#fdca26\"],[1.0,\"#f0f921\"]],\"sequentialminus\":[[0.0,\"#0d0887\"],[0.1111111111111111,\"#46039f\"],[0.2222222222222222,\"#7201a8\"],[0.3333333333333333,\"#9c179e\"],[0.4444444444444444,\"#bd3786\"],[0.5555555555555556,\"#d8576b\"],[0.6666666666666666,\"#ed7953\"],[0.7777777777777778,\"#fb9f3a\"],[0.8888888888888888,\"#fdca26\"],[1.0,\"#f0f921\"]]},\"colorway\":[\"#636efa\",\"#EF553B\",\"#00cc96\",\"#ab63fa\",\"#FFA15A\",\"#19d3f3\",\"#FF6692\",\"#B6E880\",\"#FF97FF\",\"#FECB52\"],\"font\":{\"color\":\"#2a3f5f\"},\"geo\":{\"bgcolor\":\"white\",\"lakecolor\":\"white\",\"landcolor\":\"#E5ECF6\",\"showlakes\":true,\"showland\":true,\"subunitcolor\":\"white\"},\"hoverlabel\":{\"align\":\"left\"},\"hovermode\":\"closest\",\"mapbox\":{\"style\":\"light\"},\"paper_bgcolor\":\"white\",\"plot_bgcolor\":\"#E5ECF6\",\"polar\":{\"angularaxis\":{\"gridcolor\":\"white\",\"linecolor\":\"white\",\"ticks\":\"\"},\"bgcolor\":\"#E5ECF6\",\"radialaxis\":{\"gridcolor\":\"white\",\"linecolor\":\"white\",\"ticks\":\"\"}},\"scene\":{\"xaxis\":{\"backgroundcolor\":\"#E5ECF6\",\"gridcolor\":\"white\",\"gridwidth\":2,\"linecolor\":\"white\",\"showbackground\":true,\"ticks\":\"\",\"zerolinecolor\":\"white\"},\"yaxis\":{\"backgroundcolor\":\"#E5ECF6\",\"gridcolor\":\"white\",\"gridwidth\":2,\"linecolor\":\"white\",\"showbackground\":true,\"ticks\":\"\",\"zerolinecolor\":\"white\"},\"zaxis\":{\"backgroundcolor\":\"#E5ECF6\",\"gridcolor\":\"white\",\"gridwidth\":2,\"linecolor\":\"white\",\"showbackground\":true,\"ticks\":\"\",\"zerolinecolor\":\"white\"}},\"shapedefaults\":{\"line\":{\"color\":\"#2a3f5f\"}},\"ternary\":{\"aaxis\":{\"gridcolor\":\"white\",\"linecolor\":\"white\",\"ticks\":\"\"},\"baxis\":{\"gridcolor\":\"white\",\"linecolor\":\"white\",\"ticks\":\"\"},\"bgcolor\":\"#E5ECF6\",\"caxis\":{\"gridcolor\":\"white\",\"linecolor\":\"white\",\"ticks\":\"\"}},\"title\":{\"x\":0.05},\"xaxis\":{\"automargin\":true,\"gridcolor\":\"white\",\"linecolor\":\"white\",\"ticks\":\"\",\"title\":{\"standoff\":15},\"zerolinecolor\":\"white\",\"zerolinewidth\":2},\"yaxis\":{\"automargin\":true,\"gridcolor\":\"white\",\"linecolor\":\"white\",\"ticks\":\"\",\"title\":{\"standoff\":15},\"zerolinecolor\":\"white\",\"zerolinewidth\":2}}},\"title\":{\"text\":\"Embedding Plot with Class Labels\"},\"width\":1200,\"xaxis\":{\"showgrid\":false,\"showticklabels\":false,\"zeroline\":false},\"yaxis\":{\"showgrid\":false,\"showticklabels\":false,\"zeroline\":false}},                        {\"displayModeBar\": false, \"responsive\": true}                    ).then(function(){\n",
       "                            \n",
       "var gd = document.getElementById('4ad786b7-7d76-4bcb-8c16-2c85828dd976');\n",
       "var x = new MutationObserver(function (mutations, observer) {{\n",
       "        var display = window.getComputedStyle(gd).display;\n",
       "        if (!display || display === 'none') {{\n",
       "            console.log([gd, 'removed!']);\n",
       "            Plotly.purge(gd);\n",
       "            observer.disconnect();\n",
       "        }}\n",
       "}});\n",
       "\n",
       "// Listen for the removal of the full notebook cells\n",
       "var notebookContainer = gd.closest('#notebook-container');\n",
       "if (notebookContainer) {{\n",
       "    x.observe(notebookContainer, {childList: true});\n",
       "}}\n",
       "\n",
       "// Listen for the clearing of the current output cell\n",
       "var outputEl = gd.closest('.output');\n",
       "if (outputEl) {{\n",
       "    x.observe(outputEl, {childList: true});\n",
       "}}\n",
       "\n",
       "                        })                };                });            </script>        </div>"
      ]
     },
     "metadata": {},
     "output_type": "display_data"
    }
   ],
   "source": [
    "X = np.vstack(df['SBERT_embedding'].values)\n",
    "\n",
    "tsne = TSNE(n_components=2)\n",
    "X_tsne = tsne.fit_transform(X)\n",
    "\n",
    "hover_plot(X_tsne, df)"
   ]
  },
  {
   "cell_type": "markdown",
   "metadata": {},
   "source": [
    "T-sne does come with the disadvantage of lost interpretability"
   ]
  },
  {
   "cell_type": "markdown",
   "metadata": {},
   "source": [
    "## Extra Exercises\n",
    "\n",
    "Try UMAP - this is likely the most commonly used in practice as it has the best performance, but is rather complicated.\n",
    "\n",
    "Perform k-means on this two dimensional plot and do your own test/train split to see how effective this embedding method is."
   ]
  },
  {
   "cell_type": "code",
   "execution_count": null,
   "metadata": {},
   "outputs": [],
   "source": []
  },
  {
   "cell_type": "code",
   "execution_count": null,
   "metadata": {},
   "outputs": [],
   "source": []
  }
 ],
 "metadata": {
  "kernelspec": {
   "display_name": ".venv",
   "language": "python",
   "name": "python3"
  },
  "language_info": {
   "codemirror_mode": {
    "name": "ipython",
    "version": 3
   },
   "file_extension": ".py",
   "mimetype": "text/x-python",
   "name": "python",
   "nbconvert_exporter": "python",
   "pygments_lexer": "ipython3",
   "version": "3.12.4"
  }
 },
 "nbformat": 4,
 "nbformat_minor": 2
}
